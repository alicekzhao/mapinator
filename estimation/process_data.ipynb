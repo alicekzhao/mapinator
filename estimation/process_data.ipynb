{
 "cells": [
  {
   "cell_type": "code",
   "execution_count": 1,
   "id": "0e58673e-f3d0-4176-976e-2b488679db2f",
   "metadata": {},
   "outputs": [
    {
     "data": {
      "text/plain": [
       "get_data (generic function with 1 method)"
      ]
     },
     "execution_count": 1,
     "metadata": {},
     "output_type": "execute_result"
    }
   ],
   "source": [
    "using JSON, HTTP\n",
    "function get_data(url)\n",
    "    resp = HTTP.get(url);\n",
    "    es = String(resp.body)\n",
    "    return placements = JSON.parse(es)\n",
    "end"
   ]
  },
  {
   "cell_type": "code",
   "execution_count": 2,
   "id": "d08eb45a-0d9c-441e-8dae-66883a16857d",
   "metadata": {},
   "outputs": [],
   "source": [
    "url = \"https://support.econjobmarket.org/api/placement_data\"\n",
    "placements = get_data(url);"
   ]
  },
  {
   "cell_type": "code",
   "execution_count": 3,
   "id": "180f64bc-6f8e-418d-a50a-0baad1e83e78",
   "metadata": {},
   "outputs": [
    {
     "data": {
      "text/plain": [
       "Dict{String, Any} with 17 entries:\n",
       "  \"to_shortname\"          => \"Public Policy, Univ of Michigan\"\n",
       "  \"to_name\"               => \"University of Michigan\"\n",
       "  \"to_department\"         => \"Gerald R Ford School of Public Policy\"\n",
       "  \"name\"                  => \"Health; Education; Welfare\"\n",
       "  \"category_id\"           => 20\n",
       "  \"from_shortname\"        => \"Economics, Univ of Maryland\"\n",
       "  \"to_oid\"                => 1351\n",
       "  \"recruiter_type\"        => 4\n",
       "  \"description\"           => \"Academic organization (other than econ, business,…\n",
       "  \"from_oid\"              => \"20\"\n",
       "  \"position_name\"         => \"Post-Doc\"\n",
       "  \"year\"                  => 2010\n",
       "  \"aid\"                   => 4881\n",
       "  \"to_institution_id\"     => 4173\n",
       "  \"postype\"               => 6\n",
       "  \"from_institution_id\"   => \"13\"\n",
       "  \"from_institution_name\" => \"University of Maryland\""
      ]
     },
     "execution_count": 3,
     "metadata": {},
     "output_type": "execute_result"
    }
   ],
   "source": [
    "placements[1000]"
   ]
  },
  {
   "cell_type": "code",
   "execution_count": 17,
   "id": "81143ca5-cc38-4cf2-82b6-464d8791b6f8",
   "metadata": {},
   "outputs": [
    {
     "data": {
      "text/plain": [
       "process_data (generic function with 1 method)"
      ]
     },
     "execution_count": 17,
     "metadata": {},
     "output_type": "execute_result"
    }
   ],
   "source": [
    "function process_data(YEAR_INTERVAL, placements)\n",
    "    i = 0\n",
    "    oid_mapping = Dict{}()\n",
    "    institution_mapping = Dict{}()\n",
    "    academic = Set{}()\n",
    "    academic_to = Set{}()\n",
    "    academic_builder = Set{}()\n",
    "    sink_builder = Set{}()\n",
    "        #if in(parse(Int64, placement[\"year\"]), YEAR_INTERVAL)\n",
    "    for placement in placements\n",
    "            if in(placement[\"year\"], YEAR_INTERVAL)\n",
    "            push!(academic, placement[\"from_institution_name\"])\n",
    "            if placement[\"position_name\"] == \"Assistant Professor\"\n",
    "                    push!(academic_to, placement[\"to_name\"])\n",
    "            end\n",
    "            oid_mapping[placement[\"from_oid\"]] = placement[\"from_institution_id\"]\n",
    "            oid_mapping[placement[\"to_oid\"]] = placement[\"to_institution_id\"]\n",
    "            institution_mapping[placement[\"from_institution_id\"]] = placement[\"from_institution_name\"]\n",
    "            institution_mapping[placement[\"to_institution_id\"]] = placement[\"to_name\"]\n",
    "            if placement[\"postype\"] == 1\n",
    "                push!(academic_builder, placement)\n",
    "            else\n",
    "                push!(sink_builder, placement)\n",
    "            end\n",
    "        end\n",
    "    end\n",
    " println(\"Debug: \", length(placements), \" returned from api\")\n",
    "    println(\"Debug: \", length(academic_builder), \" academic placements\")\n",
    "    println(\"Debug: \", length(sink_builder), \" sinks\")\n",
    "    println(\"Debug: \", length(academic_builder)+length(sink_builder), \" in all\")\n",
    "        \n",
    "    tch_sink = Set{}() # sink of teaching universities that do not graduate PhDs\n",
    "    for key in academic_to\n",
    "        if !(key in academic)\n",
    "            push!(tch_sink, key)\n",
    "        end\n",
    "    end\n",
    "\n",
    "\n",
    "    acd_sink = Set{}()\n",
    "    gov_sink = Set{}()\n",
    "    pri_sink = Set{}()\n",
    "    postdoc = Set{}()\n",
    "    lecturer = Set{}()\n",
    "    for outcome in sink_builder\n",
    "        # CODE global academic, other_placements, pri_sink, gov_sink, acd_sink\n",
    "        if outcome[\"recruiter_type\"] in [6, 7]\n",
    "            # private sector: for and not for profit\n",
    "            push!(pri_sink, string(outcome[\"to_name\"], \" (private sector)\"))\n",
    "        elseif outcome[\"recruiter_type\"] == 5\n",
    "            # government institution\n",
    "            push!(gov_sink, string(outcome[\"to_name\"], \" (public sector)\"))\n",
    "        elseif outcome[\"postype\"] == 6\n",
    "            #postdoc\n",
    "            push!(postdoc, string(outcome[\"to_name\"], \" (postdoc)\"))\n",
    "        elseif outcome[\"postype\"] in [5, 7]\n",
    "            #postdoc\n",
    "            push!(lecturer, string(outcome[\"to_name\"], \" (lecturer)\"))\n",
    "        else\n",
    "            # everything else including terminal academic positions\n",
    "            push!(acd_sink, string(outcome[\"to_name\"], \" (academic sink)\"))\n",
    "        end\n",
    "    end\n",
    "    return academic_builder, sink_builder, academic, acd_sink, gov_sink, pri_sink, tch_sink, postdoc, lecturer, institution_mapping\n",
    "end\n"
   ]
  },
  {
   "cell_type": "code",
   "execution_count": 15,
   "id": "49bc48a3-bc98-4ef6-a3e3-04c14f0dd352",
   "metadata": {},
   "outputs": [
    {
     "data": {
      "text/plain": [
       "name_to_oid (generic function with 1 method)"
      ]
     },
     "execution_count": 15,
     "metadata": {},
     "output_type": "execute_result"
    }
   ],
   "source": [
    "function name_to_oid(name, institution_mapping)\n",
    "    ## returns an institution_id\n",
    "    for (key, value) in institution_mapping\n",
    "        if value == name\n",
    "            return key\n",
    "        end\n",
    "    end\n",
    "    return \"not found\"\n",
    "end"
   ]
  },
  {
   "cell_type": "code",
   "execution_count": 19,
   "id": "e1308687-7cb4-4b3e-8e3b-2f918b2f6fa5",
   "metadata": {},
   "outputs": [
    {
     "name": "stdout",
     "output_type": "stream",
     "text": [
      "Debug: 14876 returned from api\n",
      "Debug: 6036 academic placements\n",
      "Debug: 6163 sinks\n",
      "Debug: 12199 in all\n"
     ]
    }
   ],
   "source": [
    "YEAR_INTERVAL = 2010:2020\n",
    "academic_builder, sink_builder, academic, acd_sink, gov_sink, pri_sink, tch_sink, postdoc, lecturer, institution_mapping = process_data(YEAR_INTERVAL, placements);"
   ]
  },
  {
   "cell_type": "code",
   "execution_count": 20,
   "id": "dd513211-1f4f-4d7a-8a8e-aed0728c6e1b",
   "metadata": {},
   "outputs": [
    {
     "name": "stdout",
     "output_type": "stream",
     "text": [
      "6036 total assistant professor outcomes\n",
      "6163 other outcomes\n",
      "12199 total outcomes\n",
      "479 Other academic institutions\n",
      "142 Government institutions\n",
      "179 Private Sector institutions\n",
      "583 Teaching institutions\n",
      "459 Institutions hiring postdocs\n",
      "331 Institutions hiring sessionals\n"
     ]
    }
   ],
   "source": [
    "println(length(academic_builder), \" total assistant professor outcomes\")\n",
    "    println(length(sink_builder), \" other outcomes\")\n",
    "    sample_size = length(academic_builder)+length(sink_builder)\n",
    "    println(sample_size, \" total outcomes\")\n",
    "println(length(acd_sink), \" Other academic institutions\")\n",
    "println(length(gov_sink), \" Government institutions\")\n",
    "println(length(pri_sink), \" Private Sector institutions\")\n",
    "println(length(tch_sink), \" Teaching institutions\")\n",
    "println(length(postdoc), \" Institutions hiring postdocs\")\n",
    "println(length(lecturer), \" Institutions hiring sessionals\")"
   ]
  },
  {
   "cell_type": "code",
   "execution_count": 21,
   "id": "1e085252-63d3-4c20-90f8-8156ad6813c9",
   "metadata": {},
   "outputs": [
    {
     "data": {
      "text/plain": [
       "\"57\""
      ]
     },
     "execution_count": 21,
     "metadata": {},
     "output_type": "execute_result"
    }
   ],
   "source": [
    "name_to_oid(\"University of British Columbia\", institution_mapping)"
   ]
  },
  {
   "cell_type": "code",
   "execution_count": 22,
   "id": "74ed81f7-cbea-4090-a77d-1b083535bfd3",
   "metadata": {},
   "outputs": [
    {
     "data": {
      "text/plain": [
       "Set{Any} with 688 elements:\n",
       "  \"Indian Statistical Institute, Delhi\"\n",
       "  \"Eastern Kentucky University\"\n",
       "  \"Indian Institute of Technology, Indore\"\n",
       "  \"Peking University\"\n",
       "  \"University of Jammu\"\n",
       "  \"Indiana Institute of Technology\"\n",
       "  \"Rutgers University, Newark\"\n",
       "  \"University of Cologne\"\n",
       "  \"Technische Universität Dresden\"\n",
       "  \"Université de Toulon\"\n",
       "  \"Leiden University\"\n",
       "  \"University of Dundee\"\n",
       "  \"University of Leicester\"\n",
       "  \"London Business School\"\n",
       "  \"University of Bergen\"\n",
       "  \"Università degli Studi di Napoli Federico II\"\n",
       "  \"University of Waikato\"\n",
       "  \"University of Zurich\"\n",
       "  \"University of Rhode Island\"\n",
       "  \"Universidad Rey Juan Carlos\"\n",
       "  \"Ca' Foscari University Venice\"\n",
       "  \"Kurukshetra University\"\n",
       "  \"EDHEC Business School\"\n",
       "  \"Institute of Technology Sligo\"\n",
       "  \"University of St Andrews\"\n",
       "  ⋮ "
      ]
     },
     "execution_count": 22,
     "metadata": {},
     "output_type": "execute_result"
    }
   ],
   "source": [
    "academic"
   ]
  }
 ],
 "metadata": {
  "kernelspec": {
   "display_name": "Julia 1.8.5",
   "language": "julia",
   "name": "julia-1.8"
  },
  "language_info": {
   "file_extension": ".jl",
   "mimetype": "application/julia",
   "name": "julia",
   "version": "1.8.5"
  }
 },
 "nbformat": 4,
 "nbformat_minor": 5
}
