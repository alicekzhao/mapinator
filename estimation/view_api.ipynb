{
 "cells": [
  {
   "cell_type": "code",
   "execution_count": 1,
   "metadata": {},
   "outputs": [
    {
     "data": {
      "text/plain": [
       "Main.SBM"
      ]
     },
     "metadata": {},
     "output_type": "display_data"
    }
   ],
   "source": [
    "include(\"type_allocation_base.jl\")"
   ]
  },
  {
   "attachments": {},
   "cell_type": "markdown",
   "metadata": {},
   "source": [
    "We parse the data from the APIs beforehand so our analysis uses the same datasets each time:"
   ]
  },
  {
   "cell_type": "code",
   "execution_count": 2,
   "metadata": {},
   "outputs": [
    {
     "data": {
      "text/plain": [
       "839-element Vector{Any}:\n",
       " Dict{String, Any}(\"name\" => \"Harvard University\", \"institution_id\" => 350, \"type\" => 1)\n",
       " Dict{String, Any}(\"name\" => \"COMSATS University Islamabad\", \"institution_id\" => 1197, \"type\" => 5)\n",
       " Dict{String, Any}(\"name\" => \"Florida State University\", \"institution_id\" => 324, \"type\" => 3)\n",
       " Dict{String, Any}(\"name\" => \"Thammasat University\", \"institution_id\" => 3576, \"type\" => 5)\n",
       " Dict{String, Any}(\"name\" => \"Heinrich Heine University Dusseldorf\", \"institution_id\" => 1258, \"type\" => 5)\n",
       " Dict{String, Any}(\"name\" => \"University of Portsmouth\", \"institution_id\" => 1981, \"type\" => 5)\n",
       " Dict{String, Any}(\"name\" => \"Deakin University\", \"institution_id\" => 1818, \"type\" => 4)\n",
       " Dict{String, Any}(\"name\" => \"Université de Picardie Jules Verne\", \"institution_id\" => 3591, \"type\" => 5)\n",
       " Dict{String, Any}(\"name\" => \"Jinan University\", \"institution_id\" => 902, \"type\" => 4)\n",
       " Dict{String, Any}(\"name\" => \"University of Iowa\", \"institution_id\" => 1542, \"type\" => 3)\n",
       " ⋮\n",
       " Dict{String, Any}(\"name\" => \"Brunel University London\", \"institution_id\" => 1732, \"type\" => 5)\n",
       " Dict{String, Any}(\"name\" => \"Fordham University\", \"institution_id\" => 1494, \"type\" => 4)\n",
       " Dict{String, Any}(\"name\" => \"Özyeğin University\", \"institution_id\" => 330, \"type\" => 4)\n",
       " Dict{String, Any}(\"name\" => \"SKEMA Business School\", \"institution_id\" => 384, \"type\" => 5)\n",
       " Dict{String, Any}(\"name\" => \"University of British Columbia\", \"institution_id\" => 57, \"type\" => 2)\n",
       " Dict{String, Any}(\"name\" => \"Nanjing University of Aeronautics and Astronautics\", \"institution_id\" => 3437, \"type\" => 5)\n",
       " Dict{String, Any}(\"name\" => \"Taylor's University\", \"institution_id\" => 1955, \"type\" => 5)\n",
       " Dict{String, Any}(\"name\" => \"Sabancı University\", \"institution_id\" => 914, \"type\" => 4)\n",
       " Dict{String, Any}(\"name\" => \"Concordia University\", \"institution_id\" => 140, \"type\" => 3)"
      ]
     },
     "metadata": {},
     "output_type": "display_data"
    }
   ],
   "source": [
    "to_from = SBM.fetch_api(\"placement_data\")\n",
    "tier_data = SBM.fetch_api(\"academic_tiers\")"
   ]
  },
  {
   "attachments": {},
   "cell_type": "markdown",
   "metadata": {},
   "source": [
    "We can then inspect a particular year interval:"
   ]
  },
  {
   "cell_type": "code",
   "execution_count": 3,
   "metadata": {
    "tags": []
   },
   "outputs": [
    {
     "data": {
      "text/plain": [
       "10×6 Matrix{Float64}:\n",
       " 2.73356     0.163558    0.0262085   0.00366013   0.00051713   0.0196078\n",
       " 1.02582     0.220702    0.0294615   0.00455285   0.000750469  0.0406504\n",
       " 0.4106      0.158416    0.0324478   0.00466447   0.000565771  0.039604\n",
       " 0.129673    0.0753388   0.0181738   0.0045037    0.000429792  0.0148148\n",
       " 0.00361991  0.00396676  0.00174083  0.000771673  0.000468542  0.0014652\n",
       " 0.137255    0.0203252   0.00660066  0.0          0.0          0.0555556\n",
       " 0.255754    0.0827147   0.0232458   0.00570048   0.00129001   0.00724638\n",
       " 0.204172    0.0692002   0.0169813   0.00351421   0.000715564  0.0106589\n",
       " 0.19281     0.0468001   0.0107049   0.00216524   0.000413262  0.0042735\n",
       " 0.0168381   0.00942433  0.00361112  0.00101644   0.000241463  0.0013702"
      ]
     },
     "metadata": {},
     "output_type": "display_data"
    }
   ],
   "source": [
    "SBM.api_to_adjacency(to_from, tier_data, 2003:2025)"
   ]
  },
  {
   "attachments": {},
   "cell_type": "markdown",
   "metadata": {},
   "source": [
    "Or an individual year:"
   ]
  },
  {
   "cell_type": "code",
   "execution_count": 4,
   "metadata": {},
   "outputs": [
    {
     "data": {
      "text/plain": [
       "10×6 Matrix{Float64}:\n",
       " 0.256055   0.0157819    0.00258565  0.0          0.0          0.0\n",
       " 0.0688666  0.0243902    0.00294827  0.000641849  0.000277162  0.00609756\n",
       " 0.0413704  0.0166175    0.00301896  0.000674764  0.0004995    0.00274725\n",
       " 0.0118679  0.00663243   0.00202429  0.000692521  0.000199362  0.00438596\n",
       " 0.0013369  0.000277162  0.00024975  0.0          0.00103306   0.0\n",
       " 0.0147059  0.0          0.00274725  0.0          0.0          0.0625\n",
       " 0.0588235  0.0167683    0.0116758   0.00109649   0.00142045   0.0\n",
       " 0.0493697  0.0200348    0.00510204  0.00093985   0.00121753   0.00446429\n",
       " 0.061309   0.014428     0.00278595  0.000864838  0.000800256  0.0\n",
       " 0.0075149  0.00542602   0.0019848   0.000850143  0.000500601  0.00220264"
      ]
     },
     "metadata": {},
     "output_type": "display_data"
    }
   ],
   "source": [
    "SBM.api_to_adjacency(to_from, tier_data, 2018)"
   ]
  },
  {
   "cell_type": "code",
   "execution_count": 5,
   "metadata": {},
   "outputs": [
    {
     "data": {
      "text/plain": [
       "10×6 Matrix{Float64}:\n",
       " 0.110727    0.010043     0.00189753   0.0          0.0          0.0\n",
       " 0.0573888   0.0124926    0.00262261   0.000336417  0.000353482  0.0243902\n",
       " 0.0215054   0.00970365   0.00265927   0.000889878  0.000233754  0.0107527\n",
       " 0.00811359  0.00420521   0.00111235   0.000856124  0.000349825  0.0\n",
       " 0.0         0.000176741  0.000311672  0.000149925  0.00031506   0.0\n",
       " 0.0294118   0.0          0.0          0.0          0.0          0.0\n",
       " 0.0588235   0.0300188    0.00909843   0.00106101   0.00278707   0.0\n",
       " 0.0438842   0.0178087    0.00512033   0.0014231    0.000920175  0.0\n",
       " 0.0492846   0.0105471    0.00479512   0.00139795   0.00117509   0.0\n",
       " 0.00617781  0.00361956   0.00159572   0.000944733  0.00043015   0.00342466"
      ]
     },
     "metadata": {},
     "output_type": "display_data"
    }
   ],
   "source": [
    "SBM.api_to_adjacency(to_from, tier_data, 2021)"
   ]
  },
  {
   "attachments": {},
   "cell_type": "markdown",
   "metadata": {},
   "source": [
    "Or a discontinuous sequence of years:"
   ]
  },
  {
   "cell_type": "code",
   "execution_count": 6,
   "metadata": {},
   "outputs": [
    {
     "data": {
      "text/plain": [
       "10×6 Matrix{Float64}:\n",
       " 0.598616     0.0401722   0.0104834    0.00290886   0.000291206  0.0294118\n",
       " 0.243902     0.0618679   0.0106255    0.00147414   0.000603719  0.00609756\n",
       " 0.110658     0.0461241   0.010097     0.00195844   0.000343104  0.0148515\n",
       " 0.031351     0.0186277   0.0051681    0.0023246    0.000244805  0.00274725\n",
       " 0.000291206  0.00120744  0.000735222  0.000190404  0.000612685  0.00123762\n",
       " 0.0147059    0.00609756  0.00247525   0.0          0.0          0.0625\n",
       " 0.113122     0.0459662   0.0110434    0.00528318   0.00114242   0.0\n",
       " 0.0786199    0.0330675   0.00847296   0.00243026   0.000856816  0.00240385\n",
       " 0.100698     0.0266639   0.0062091    0.00162973   0.000293673  0.00847458\n",
       " 0.00906159   0.00710055  0.00280485   0.00105443   0.000316677  0.00130548"
      ]
     },
     "metadata": {},
     "output_type": "display_data"
    }
   ],
   "source": [
    "SBM.api_to_adjacency(to_from, tier_data, [2016, 2014, 2019])"
   ]
  }
 ],
 "metadata": {
  "kernelspec": {
   "display_name": "Julia 1.8.5",
   "language": "julia",
   "name": "julia-1.8"
  },
  "language_info": {
   "file_extension": ".jl",
   "mimetype": "application/julia",
   "name": "julia",
   "version": "1.8.5"
  },
  "widgets": {
   "application/vnd.jupyter.widget-state+json": {
    "state": {},
    "version_major": 2,
    "version_minor": 0
   }
  }
 },
 "nbformat": 4,
 "nbformat_minor": 4
}
