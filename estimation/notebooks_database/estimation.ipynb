{
 "cells": [
  {
   "cell_type": "markdown",
   "id": "796e36f9-7d13-4d62-8bd9-4720741b6f4c",
   "metadata": {},
   "source": [
    "# Value Estimation\n",
    "\n",
    "James Yu, 30 November 2021 modified by mike to use db"
   ]
  },
  {
   "cell_type": "markdown",
   "id": "4909edc4-5377-4f8c-b910-7463e6cd5810",
   "metadata": {},
   "source": [
    "## VERSION: $n$, $m$ fixed, ratios endogenous"
   ]
  },
  {
   "cell_type": "code",
   "execution_count": 1,
   "id": "d42967d0-6637-471a-a889-278e389a00e9",
   "metadata": {},
   "outputs": [
    {
     "data": {
      "text/plain": [
       "Dict{String, String} with 5 entries:\n",
       "  \"4\" => \"4\"\n",
       "  \"1\" => \"3\"\n",
       "  \"5\" => \"5\"\n",
       "  \"2\" => \"2\"\n",
       "  \"3\" => \"1\""
      ]
     },
     "execution_count": 1,
     "metadata": {},
     "output_type": "execute_result"
    }
   ],
   "source": [
    "INSTALL_PACKAGES = false   # change this to true if you are running this notebook for the first time\n",
    "YEAR_INTERVAL = 2018:2019  # change this to select the years of data to include in the estimation\n",
    "NUMBER_OF_TYPES = 4        # change this to select the number of types to classify academic departments into\n",
    "NUMBER_OF_SINKS = 1        # change this to 4 to use individual sink types\n",
    "NUMBER_OF_ROWS = NUMBER_OF_TYPES + NUMBER_OF_SINKS\n",
    "TOTAL_DISTRIBUTIONS = NUMBER_OF_ROWS\n",
    "# change this the index is the type as saved by the categorization progam, the value is the tier that type represents\n",
    "# at the time of writing this has to be set manually using the dict o in the type allocation notebook\n",
    "# this version 2021-12-22\n",
    "type_to_tier = Dict(\"1\" => \"3\",\"2\" =>\"2\",\"3\"=>\"1\",\"4\"=>\"4\",\"5\"=>\"5\")"
   ]
  },
  {
   "cell_type": "code",
   "execution_count": 2,
   "id": "bac676cc-dc81-4c85-8c66-454257adaded",
   "metadata": {},
   "outputs": [],
   "source": [
    "import Pkg\n",
    "for package in [\"BlackBoxOptim\", \"Distributions\", \"ForwardDiff\", \"JSON\", \"Optim\", \"Quadrature\", \"StatsPlots\",\n",
    "    \"DotEnv\",\"MySQL\",\"DBInterface\",\"Tables\",\"HTTP\", \"JSON\"]\n",
    "    if INSTALL_PACKAGES\n",
    "        Pkg.add(package)\n",
    "    end\n",
    "end\n",
    "using BlackBoxOptim, Distributions, ForwardDiff, JSON, Optim, Quadrature, StatsPlots, DotEnv, MySQL, DBInterface, Tables, HTTP, JSON"
   ]
  },
  {
   "cell_type": "markdown",
   "id": "5759a29c-30ca-4123-9262-e8605513db29",
   "metadata": {},
   "source": [
    "The data in this notebook comes from [https://support.microeconomics.ca/api/placement_data](https://support.microeconomics.ca). The type allocation that is used is the one given by [https://support.econjobmarket.org/api/academic_tiers](https://support.econjobmarket.org/api/academic_tiers)"
   ]
  },
  {
   "cell_type": "code",
   "execution_count": 3,
   "id": "d14d5ea0-39ad-4918-9f5c-26cb7315a9a3",
   "metadata": {},
   "outputs": [
    {
     "name": "stdout",
     "output_type": "stream",
     "text": [
      "9824\n"
     ]
    }
   ],
   "source": [
    "url = \"https://support.econjobmarket.org/api/placement_data\";\n",
    "function get_data(url)\n",
    "    resp = HTTP.get(url);\n",
    "    es = String(resp.body)\n",
    "    return placements = JSON.parse(es)\n",
    "end\n",
    "#Reads the data from HTTP URL\n",
    "placements = get_data(url);\n",
    "placements = unique(placements);\n",
    "println(length(placements))"
   ]
  },
  {
   "cell_type": "markdown",
   "id": "77493d3c-ef26-48b1-b4be-a185ec412366",
   "metadata": {},
   "source": [
    "The next step is to fetch the ranking data"
   ]
  },
  {
   "cell_type": "code",
   "execution_count": 4,
   "id": "6cbe0408-aee4-45ab-952d-c6e26721cf15",
   "metadata": {},
   "outputs": [],
   "source": [
    "url = \"https://support.econjobmarket.org/api/academic_tiers\"\n",
    "types = get_data(url);\n"
   ]
  },
  {
   "cell_type": "code",
   "execution_count": 5,
   "id": "ade6f135-0a3a-4495-9b56-90e0299eb961",
   "metadata": {},
   "outputs": [
    {
     "data": {
      "text/plain": [
       "Dict{String, Any} with 5 entries:\n",
       "  \"shortname\"      => \"Mathematics, University of Oslo\"\n",
       "  \"oid\"            => \"3810\"\n",
       "  \"name\"           => \"University of Oslo\"\n",
       "  \"institution_id\" => \"578\"\n",
       "  \"type\"           => \"1\""
      ]
     },
     "execution_count": 5,
     "metadata": {},
     "output_type": "execute_result"
    }
   ],
   "source": [
    "types[1]"
   ]
  },
  {
   "cell_type": "markdown",
   "id": "72cf0749-020e-44bb-a878-1992fd82fba1",
   "metadata": {},
   "source": [
    "Now we can create the adjacency matrix from the placement data using the type allocation in types  Each institution is associated with many organizations.  Organizations can have multiple type assignments if their placements have different postypes.  This function collects all the types that are assigned to an oid"
   ]
  },
  {
   "cell_type": "code",
   "execution_count": 6,
   "id": "2fe036ed-b234-4d23-a7b2-5618bb7b632d",
   "metadata": {},
   "outputs": [
    {
     "data": {
      "text/plain": [
       "recruiter_types (generic function with 1 method)"
      ]
     },
     "execution_count": 6,
     "metadata": {},
     "output_type": "execute_result"
    }
   ],
   "source": [
    "    function recruiter_types(oid, types)\n",
    "        all_types = Set{String}()\n",
    "        for t in types\n",
    "            if t[\"oid\"] == oid\n",
    "                push!(all_types, t[\"type\"])\n",
    "            end\n",
    "        end\n",
    "        return all_types\n",
    "    end"
   ]
  },
  {
   "cell_type": "code",
   "execution_count": 7,
   "id": "208afac7-90a3-4cf4-8c9f-053cefa70f77",
   "metadata": {},
   "outputs": [
    {
     "data": {
      "text/plain": [
       "get_tiers (generic function with 1 method)"
      ]
     },
     "execution_count": 7,
     "metadata": {},
     "output_type": "execute_result"
    }
   ],
   "source": [
    "# extract the tiers of the from_oid and to_oid\n",
    "# type_to tier is the dict that specifies which tier to use for each type\n",
    "# type_to_tier is set at the beginning of this notebook\n",
    "function get_tiers(placement, type_to_tier, types)\n",
    "    from_tier = false\n",
    "    from_oid = String\n",
    "    to_tier = false\n",
    "    to_oid = String\n",
    "    for t in types\n",
    "        if t[\"oid\"] == placement[\"from_oid\"]\n",
    "                #from_tier= type_to_tier[string(minimum(recruiter_types(t[\"oid\"], types)))]\n",
    "            from_tier = type_to_tier[minimum(recruiter_types(t[\"oid\"], types))]\n",
    "            from_oid = t[\"oid\"]\n",
    "        end\n",
    "        if t[\"oid\"] == placement[\"to_oid\"]\n",
    "            if placement[\"postype\"] == \"1\"\n",
    "                to_tier = type_to_tier[minimum(recruiter_types(t[\"oid\"], types))]\n",
    "            else\n",
    "                to_tier = type_to_tier[maximum(recruiter_types(t[\"oid\"], types))]\n",
    "            end\n",
    "            to_oid = t[\"oid\"]\n",
    "        end\n",
    "    end\n",
    "    return from_tier, to_tier\n",
    "end      \n",
    "    "
   ]
  },
  {
   "cell_type": "code",
   "execution_count": 10,
   "id": "1bcaae0a-4531-4e99-8b57-e8ddc4604814",
   "metadata": {},
   "outputs": [
    {
     "data": {
      "text/plain": [
       "5×4 Matrix{Int64}:\n",
       " 0  0  0  0\n",
       " 0  0  0  0\n",
       " 0  0  0  0\n",
       " 0  0  0  0\n",
       " 0  0  0  0"
      ]
     },
     "execution_count": 10,
     "metadata": {},
     "output_type": "execute_result"
    }
   ],
   "source": [
    "placement_rates = zeros(Int64, (NUMBER_OF_ROWS, NUMBER_OF_TYPES))\n"
   ]
  },
  {
   "cell_type": "code",
   "execution_count": 12,
   "id": "2c61534c-3909-4215-ba4a-71500628d13d",
   "metadata": {},
   "outputs": [
    {
     "name": "stdout",
     "output_type": "stream",
     "text": [
      "[125 20 16 0; 102 70 31 3; 186 200 130 11; 15 42 25 18; 401 398 366 127]\n"
     ]
    }
   ],
   "source": [
    "n = 1\n",
    "for p in placements\n",
    "    if !in(parse(Int64,p[\"year\"]), YEAR_INTERVAL)\n",
    "        continue\n",
    "    end\n",
    "\n",
    "    from_type,  to_type = get_tiers(p, type_to_tier, types)\n",
    "    if from_type == false\n",
    "        println(\"Warning from_type is missing from \", n, \" where from id is \", p[\"from_oid\"])\n",
    "        println(p)\n",
    "        continue\n",
    "    end\n",
    "    if to_type == false\n",
    "        println(\"Warning to_type is missing from  \", n, \" where to_oid is \" , p[\"to_oid\"])\n",
    "        println(p)\n",
    "        continue\n",
    "    end\n",
    "    #println(parse(Int64,to_type),\" \", parse(Int64, from_type))\n",
    "    #println(placement_rates[parse(Int64,to_type), parse(Int64, from_type)],\" \",n)\n",
    "    placement_rates[parse(Int64,to_type), parse(Int64, from_type)] += 1\n",
    "    n += 1\n",
    "end\n",
    "#for i in 1:TOTAL_DISTRIBUTIONS, j in 1:NUMBER_OF_TYPES\n",
    "#    placement_rates[order[i], order[j]] = est_mat[i, j]\n",
    "#end\n",
    "println(placement_rates)"
   ]
  },
  {
   "cell_type": "code",
   "execution_count": 14,
   "id": "b8aeca36-cb97-4bba-aa47-79589ea7bbfe",
   "metadata": {},
   "outputs": [
    {
     "data": {
      "text/plain": [
       "5×4 Matrix{Int64}:\n",
       " 125   20   16    0\n",
       " 102   70   31    3\n",
       " 186  200  130   11\n",
       "  15   42   25   18\n",
       " 401  398  366  127"
      ]
     },
     "execution_count": 14,
     "metadata": {},
     "output_type": "execute_result"
    }
   ],
   "source": [
    "placement_rates"
   ]
  },
  {
   "cell_type": "code",
   "execution_count": 15,
   "id": "e791a4b6-9336-4a19-98af-f5ae0e976c2c",
   "metadata": {},
   "outputs": [
    {
     "data": {
      "text/plain": [
       "2286"
      ]
     },
     "execution_count": 15,
     "metadata": {},
     "output_type": "execute_result"
    }
   ],
   "source": [
    "sum(placement_rates)"
   ]
  },
  {
   "cell_type": "markdown",
   "id": "331ed4bb-6aed-42bd-bd0a-1691b861ae1f",
   "metadata": {},
   "source": [
    "To verify that this is ordered properly, we can check symmetric indices:"
   ]
  },
  {
   "cell_type": "code",
   "execution_count": 16,
   "id": "39e39ec0-65b6-40a5-b0cd-585d7bb85590",
   "metadata": {},
   "outputs": [
    {
     "name": "stdout",
     "output_type": "stream",
     "text": [
      "Check Complete\n"
     ]
    }
   ],
   "source": [
    "for i in 1:NUMBER_OF_TYPES, j in 1:NUMBER_OF_TYPES\n",
    "    if i > j # not a diagonal and only check once\n",
    "        if placement_rates[i, j] <= placement_rates[j, i]\n",
    "            println(\"FAULT: hiring \", i, \" with graduating \", j, \": downward rate: \", placement_rates[i, j], \", upward rate: \", placement_rates[j, i])\n",
    "        end\n",
    "    end\n",
    "end\n",
    "println(\"Check Complete\")"
   ]
  },
  {
   "cell_type": "markdown",
   "id": "62b20b7b-4a72-4e66-9dff-21b6d2be2c3d",
   "metadata": {},
   "source": [
    "If everything worked fine, there should be no faults in this cell. If there are, change the order in the cell with the explicit order."
   ]
  },
  {
   "cell_type": "markdown",
   "id": "6aa76b35-33b4-4840-aaff-dcd75906eec5",
   "metadata": {},
   "source": [
    "Next, we construct a numerical global minimizer for the chi-squared metric of differences between the above placement rates and a set of theoretically-predicted rates given by values $v_i$ and offer distributions $F_i(x)$. "
   ]
  },
  {
   "cell_type": "markdown",
   "id": "1a36db82-66ca-49bd-9c2c-754c1e06d9a4",
   "metadata": {},
   "source": [
    "We start by constructing the equations which give the theoretical probabilities. Each uses the same notation and indices as in the theory. For $F_i(x)$, we use the two-parameter truncated normal distribution with support on $[0, 1]$."
   ]
  },
  {
   "cell_type": "code",
   "execution_count": 17,
   "id": "e55a068b-c2f3-4809-83a3-d08878019881",
   "metadata": {},
   "outputs": [
    {
     "data": {
      "text/plain": [
       "h_it_ (generic function with 1 method)"
      ]
     },
     "execution_count": 17,
     "metadata": {},
     "output_type": "execute_result"
    }
   ],
   "source": [
    "# define p_vec as\n",
    "# [v2/v1 v3/v2 v4/v3 mu1 mu2 mu3 mu4 mus sg1 sg2 sg3 sg4 sgs]\n",
    "# let T = 4\n",
    "# let S = 1\n",
    "# then p_vec[i + T - 1] = p_vec[i + 3] for i:1..5 gives mu\n",
    "# then p_vec[i + T - 1 + T + S] = p_vec[i + 3 + 5] for i:1..5 gives sigma\n",
    "# then p_vec[i] for i:1..3 gives vi/vj\n",
    "\n",
    "# truncated normal: https://juliastats.org/Distributions.jl/stable/truncate/#Distributions.TruncatedNormal\n",
    "\n",
    "function pi_t_(pi_t_minus_1, v_ratio_t, m_t_minus_1, m_t, n)\n",
    "    return pi_t_minus_1 / (pi_t_minus_1 + ((v_ratio_t ^ (1 / (n - 1))) * m_t_minus_1 / m_t))\n",
    "end\n",
    "\n",
    "function F_x_t_(Fx_t_minus_1, pi_t, m_t, v_ratio_t, n)\n",
    "    return Fx_t_minus_1 - ((m_t / pi_t) * (1 - (v_ratio_t ^ (1 / (n - 1)))))\n",
    "end\n",
    "\n",
    "function f_i_x_t_(x, p_vec, i, T, S)\n",
    "    return pdf(TruncatedNormal(p_vec[i + T - 1], p_vec[i + T - 1 + T + S], 0, 1), x)\n",
    "end\n",
    "\n",
    "function F_(x, p_vec, n_vec, n, T, S)\n",
    "    return sum([(n_vec[i] / n) * cdf(TruncatedNormal(p_vec[i + T - 1], p_vec[i + T - 1 + T + S], 0, 1), x) for i in 1:T+S])\n",
    "end\n",
    "\n",
    "function Q_ts_(Fx, Fx_vec, pi_vec, m_vec, n, t, s)\n",
    "    # pi_vec = [1, pi2, pi3, ...]\n",
    "    # Fx_vec = [1, Fx1, Fx2, ...]\n",
    "    # Fx_vec[s] = F(x_{s-1})\n",
    "    target = ((Fx_vec[s] - Fx) * pi_vec[t] * prod([(1.0 - pi_vec[i]) for i in t+1:s]) / m_vec[t]) \n",
    "    subtractor = sum([(Fx_vec[k] - Fx_vec[k + 1]) * pi_vec[t] * prod([(1.0 - pi_vec[i]) for i in t+1:k]) / m_vec[t] for k in t:s-1])\n",
    "    return (1.0 - target - subtractor) ^ (n - 1.0)\n",
    "end\n",
    "\n",
    "# numerical integration docs: https://juliapackages.com/p/quadrature\n",
    "function h_it_(p_vec, pi_vec, Fx_vec, m_vec, n_vec, x_vec, n, T, S, i, t)\n",
    "    # x_vec = [x0, x1, x2, ...]\n",
    "    # x_vec[s] = x_{s-1}\n",
    "    return sum([pi_vec[t] * prod([(1.0 - pi_vec[j]) for j in t+1:s]) * solve(QuadratureProblem((x, p) -> Q_ts_(F_(x, p, n_vec, n, T, S), Fx_vec, pi_vec, m_vec, n, t, s) * f_i_x_t_(x, p, i, T, S), x_vec[s + 1], x_vec[s], p_vec), HCubatureJL())[1] for s in t:T])\n",
    "end"
   ]
  },
  {
   "cell_type": "markdown",
   "id": "9fa331b1-981b-462f-ac5a-6a215be58817",
   "metadata": {},
   "source": [
    "Finally, the chi-square estimator is constructed using the theoretical equations and the observed data."
   ]
  },
  {
   "cell_type": "code",
   "execution_count": 18,
   "id": "cf5effe7-ae24-478b-a447-7eeaa2bfdc1c",
   "metadata": {
    "tags": []
   },
   "outputs": [
    {
     "name": "stdout",
     "output_type": "stream",
     "text": [
      "Starting optimization with optimizer DiffEvoOpt{FitPopulation{Float64}, RadiusLimitedSelector, BlackBoxOptim.AdaptiveDiffEvoRandBin{3}, RandomBound{ContinuousRectSearchSpace}}\n",
      "0.00 secs, 0 evals, 0 steps\n",
      "10.00 secs, 5013 evals, 4925 steps, improv/step: 0.221 (last = 0.2207), fitness=180.052960874\n",
      "20.03 secs, 9188 evals, 9096 steps, improv/step: 0.178 (last = 0.1266), fitness=86.262796977\n",
      "30.03 secs, 12530 evals, 12419 steps, improv/step: 0.166 (last = 0.1360), fitness=75.367308450\n",
      "40.03 secs, 15190 evals, 15071 steps, improv/step: 0.161 (last = 0.1380), fitness=63.480022266\n",
      "50.03 secs, 17983 evals, 17860 steps, improv/step: 0.158 (last = 0.1420), fitness=56.430334858\n",
      "60.04 secs, 20838 evals, 20715 steps, improv/step: 0.156 (last = 0.1405), fitness=54.236644334\n",
      "70.04 secs, 23616 evals, 23493 steps, improv/step: 0.151 (last = 0.1177), fitness=53.629130845\n",
      "80.04 secs, 26497 evals, 26374 steps, improv/step: 0.150 (last = 0.1381), fitness=53.390267941\n",
      "90.04 secs, 29335 evals, 29212 steps, improv/step: 0.150 (last = 0.1473), fitness=53.302678074\n",
      "100.04 secs, 32180 evals, 32057 steps, improv/step: 0.149 (last = 0.1469), fitness=53.242403193\n",
      "110.04 secs, 34989 evals, 34867 steps, improv/step: 0.150 (last = 0.1562), fitness=53.164118705\n",
      "120.04 secs, 37744 evals, 37622 steps, improv/step: 0.149 (last = 0.1401), fitness=53.127089223\n",
      "130.04 secs, 40473 evals, 40351 steps, improv/step: 0.148 (last = 0.1337), fitness=53.099880274\n",
      "140.06 secs, 43180 evals, 43059 steps, improv/step: 0.149 (last = 0.1584), fitness=53.083615551\n",
      "150.06 secs, 45830 evals, 45709 steps, improv/step: 0.149 (last = 0.1528), fitness=53.072445164\n",
      "160.07 secs, 48438 evals, 48318 steps, improv/step: 0.148 (last = 0.1368), fitness=53.066589189\n",
      "170.07 secs, 51013 evals, 50894 steps, improv/step: 0.147 (last = 0.1246), fitness=53.063652528\n",
      "180.07 secs, 53549 evals, 53430 steps, improv/step: 0.147 (last = 0.1447), fitness=53.060734476\n",
      "190.08 secs, 56069 evals, 55951 steps, improv/step: 0.147 (last = 0.1416), fitness=53.058844129\n",
      "200.08 secs, 58594 evals, 58476 steps, improv/step: 0.147 (last = 0.1410), fitness=53.056627022\n",
      "210.08 secs, 61057 evals, 60940 steps, improv/step: 0.146 (last = 0.1351), fitness=53.052750105\n",
      "220.09 secs, 63555 evals, 63438 steps, improv/step: 0.145 (last = 0.1181), fitness=53.048628994\n",
      "230.09 secs, 66030 evals, 65914 steps, improv/step: 0.144 (last = 0.1074), fitness=53.046857052\n",
      "240.09 secs, 68484 evals, 68368 steps, improv/step: 0.142 (last = 0.1051), fitness=53.043893984\n",
      "250.09 secs, 70848 evals, 70732 steps, improv/step: 0.141 (last = 0.1007), fitness=53.042108059\n",
      "260.09 secs, 73118 evals, 73003 steps, improv/step: 0.140 (last = 0.1101), fitness=53.039204298\n",
      "270.10 secs, 75258 evals, 75144 steps, improv/step: 0.139 (last = 0.0967), fitness=53.037393670\n",
      "280.12 secs, 77480 evals, 77366 steps, improv/step: 0.138 (last = 0.1278), fitness=53.035690835\n",
      "290.12 secs, 79618 evals, 79504 steps, improv/step: 0.138 (last = 0.1118), fitness=53.034973633\n",
      "300.12 secs, 81631 evals, 81517 steps, improv/step: 0.138 (last = 0.1321), fitness=53.033804910\n",
      "310.13 secs, 83540 evals, 83426 steps, improv/step: 0.137 (last = 0.1231), fitness=53.033295840\n",
      "320.13 secs, 85245 evals, 85132 steps, improv/step: 0.136 (last = 0.0950), fitness=53.032924760\n",
      "330.13 secs, 86835 evals, 86722 steps, improv/step: 0.136 (last = 0.1182), fitness=53.032510337\n",
      "340.14 secs, 88345 evals, 88232 steps, improv/step: 0.136 (last = 0.1338), fitness=53.032252976\n",
      "350.14 secs, 89909 evals, 89796 steps, improv/step: 0.136 (last = 0.1503), fitness=53.031972027\n",
      "360.14 secs, 91529 evals, 91416 steps, improv/step: 0.136 (last = 0.1389), fitness=53.031524330\n",
      "370.15 secs, 93234 evals, 93122 steps, improv/step: 0.136 (last = 0.1272), fitness=53.031285365\n",
      "380.15 secs, 94950 evals, 94838 steps, improv/step: 0.136 (last = 0.1434), fitness=53.030607502\n",
      "390.16 secs, 96714 evals, 96603 steps, improv/step: 0.136 (last = 0.1354), fitness=53.029485700\n",
      "400.16 secs, 98518 evals, 98408 steps, improv/step: 0.136 (last = 0.1186), fitness=53.029019930\n",
      "\n",
      "Optimization stopped after 99891 steps and 408.49 seconds\n",
      "Termination reason: Max number of function evaluations (100000) reached\n",
      "Steps per second = 244.54\n",
      "Function evals per second = 244.81\n",
      "Improvements/step = Inf\n",
      "Total function evaluations = 100001\n",
      "\n",
      "\n",
      "Best candidate found: [0.744275, 0.908022, 0.844069, 0.58858, 0.514387, 0.488145, 0.0686738, 0.0330105, 0.124224, 0.0515952, 0.0418768, 0.0143107, 0.274515, 171.296, 232.065, 607.796, 203.216, 1983.01, 1809.79, 1888.62, 1586.51, 531.516]\n",
      "\n",
      "Fitness: 53.028542410\n",
      "\n"
     ]
    },
    {
     "data": {
      "text/plain": [
       "22-element Vector{Float64}:\n",
       "    0.7442751870387673\n",
       "    0.9080218570032345\n",
       "    0.8440692962894609\n",
       "    0.5885796800329717\n",
       "    0.5143874140822092\n",
       "    0.48814504892464994\n",
       "    0.06867379500401215\n",
       "    0.03301045458464233\n",
       "    0.12422406717207865\n",
       "    0.051595182112537843\n",
       "    0.04187682464494525\n",
       "    0.014310708947576297\n",
       "    0.2745150508337838\n",
       "  171.29613820998705\n",
       "  232.06476488812206\n",
       "  607.7955697702158\n",
       "  203.21593480854534\n",
       " 1983.0107669225051\n",
       " 1809.7887643958557\n",
       " 1888.6193498019718\n",
       " 1586.509909510406\n",
       "  531.5155986203827"
      ]
     },
     "execution_count": 18,
     "metadata": {},
     "output_type": "execute_result"
    }
   ],
   "source": [
    "# at one point this method was based on \n",
    "# https://discourse.julialang.org/t/a-hacky-guide-to-using-automatic-differentiation-in-nested-optimization-problems/39123\n",
    "# though has since evolved to not use autodifferentiation in the outer optimizer, which turns out to be faster\n",
    "\n",
    "# optimization reference: https://julianlsolvers.github.io/Optim.jl/stable/#user/minimization/\n",
    "# this reference also references the global minimizer used for the outer optimizer: \n",
    "# https://github.com/robertfeldt/BlackBoxOptim.jl\n",
    "function chisquare(p_vec, T, S, placements, years, start_n, start_m)\n",
    "    n_vec = p_vec[start_n:start_n+T+S-1]\n",
    "    m_vec = p_vec[start_m:start_m+T-1]\n",
    "    n = 1550\n",
    "    m = 1700\n",
    "    n_vec = n * n_vec / sum(n_vec)\n",
    "    m_vec = m * m_vec / sum(m_vec)\n",
    "    pi_vec = ones(T)\n",
    "    Fx_vec = ones(T)\n",
    "    for t in 2:T\n",
    "        pi_vec[t] = pi_t_(pi_vec[t - 1], p_vec[t - 1], m_vec[t - 1], m_vec[t], n) \n",
    "        # note pi_vec = [pi1 = 1, pi2, pi3, pi4] but Fx_vec = [Fx0 = 1, Fx1, Fx2, Fx3] \n",
    "        Fx_vec[t] = F_x_t_(Fx_vec[t - 1], pi_vec[t - 1], m_vec[t - 1], p_vec[t - 1], n)\n",
    "    end\n",
    "    \n",
    "    x_vec = ones(T + 1) # x_vec = [x0 = 1, x1, x2, x3, x4 = 0]\n",
    "    x_vec[T + 1] = 0.0\n",
    "    for i in 1:T-1\n",
    "        packet = optimize(x -> (F_(x[1], p_vec, n_vec, n, T, S) - (Fx_vec[i] - ((m_vec[i] / pi_vec[i]) * (1.0 - (p_vec[i] ^ (1.0 / (n - 1.0))))))) ^ 2, [0.0], [1.0], [0.5], Fminbox(LBFGS()); autodiff = :forward)\n",
    "        x_vec[i + 1] = Optim.minimizer(packet)[1] # there is no simple closed-form for F^{-1}(x) so this numerically computes x1, x2, x3\n",
    "    end\n",
    "    \n",
    "    objective = 0.0\n",
    "    for i in 1:size(placements)[1], t in 1:size(placements)[2]\n",
    "        mean = n_vec[i] * years * h_it_(p_vec, pi_vec, Fx_vec, m_vec, n_vec, x_vec, n, T, S, i, t)\n",
    "        objective += (placements[i, t] - mean) ^ 2 / mean\n",
    "    end\n",
    "    \n",
    "    return objective\n",
    "end\n",
    "\n",
    "# upper bound on the value ratios, which should all be less than 1\n",
    "# if any ratio turns out to be 1.0 or close to it at optimality, this could indicate that a lower tier has a higher value than a higher one\n",
    "upper = [1.0 for i in 1:NUMBER_OF_TYPES-1] \n",
    "\n",
    "# upper bound on the mu parameter of truncated normal, which is strictly within [0, 1] as the mean is greater than mu in truncated normal\n",
    "append!(upper, [1.0 for i in 1:NUMBER_OF_ROWS])\n",
    "\n",
    "# reasonable upper bound on the sigma parameter of truncated normal\n",
    "# if any parameter estimate is close to this at optimality, make the upper bound higher\n",
    "append!(upper, [10.0 for i in 1:NUMBER_OF_ROWS])\n",
    "\n",
    "# n_i\n",
    "start_n = length(upper) + 1\n",
    "append!(upper, [2000.0 for i in 1:NUMBER_OF_TYPES+NUMBER_OF_SINKS])\n",
    "\n",
    "# m_i\n",
    "start_m = length(upper) + 1\n",
    "append!(upper, [2000.0 for i in 1:NUMBER_OF_TYPES])\n",
    "\n",
    "# all lower bounds are zero as these should be positive parameters\n",
    "res = bboptimize(p -> chisquare(p, NUMBER_OF_TYPES, NUMBER_OF_SINKS, placement_rates, Float64(length(YEAR_INTERVAL)), start_n, start_m), SearchRange = [(0.0, upper[i]) for i in 1:length(upper)], MaxFuncEvals = 100000, TraceInterval = 10)\n",
    "sol = best_candidate(res)"
   ]
  },
  {
   "cell_type": "markdown",
   "id": "ec01957f-b8e5-4ad4-b9d9-7ab7a7a362e5",
   "metadata": {},
   "source": [
    "Given the estimate for the global minimum, we can print out some summary metrics:"
   ]
  },
  {
   "cell_type": "code",
   "execution_count": 20,
   "id": "04e9de6b-1b7c-4687-abe7-1983557507e1",
   "metadata": {},
   "outputs": [
    {
     "name": "stdout",
     "output_type": "stream",
     "text": [
      "pi_1 = 1.0\n",
      "pi_2 = 0.4860499804501174\n",
      "pi_3 = 0.2838688983807772\n",
      "pi_4 = 0.09679385198397915\n",
      "\n",
      "x_0 = 1.0 (error: 0.0)\n",
      "x_1 = 0.23583039275571727 (error: 1.072468362222402e-17)\n",
      "x_2 = 0.16876557147942683 (error: 6.812200501687264e-19)\n",
      "x_3 = 0.0663033127532454 (error: 2.9888853042927195e-24)\n",
      "x_4 = 0.0 (error: 0.0)\n",
      "\n",
      "F(x_0) = 1.0\n",
      "F(x_1) = 0.9553455924522081\n",
      "F(x_2) = 0.9052782777270049\n",
      "F(x_3) = 0.608258023584878\n",
      "\n",
      "objective value = 54.37258120784341\n",
      "\n",
      "estimated n_i = [82.0, 109.0, 295.0, 106.0, 959.0]\n",
      "estimated m_i = [565.0, 534.0, 436.0, 165.0]\n",
      "\n",
      "estimated Q_t(x_s) (rows are offer value from high to low, columns are type in increasing type index:\n",
      "[1.0, 1.0, 1.0, 1.0]\n",
      "[0.8848, 1.0, 1.0, 1.0]\n",
      "[0.8245, 0.9319, 1.0, 1.0]\n",
      "[0.611, 0.6906, 0.7411, 1.0]\n",
      "\n",
      "estimated h_it:\n",
      "[0.6705, 0.1291, 0.0661, 0.0094]\n",
      "[0.412, 0.2743, 0.1334, 0.0107]\n",
      "[0.282, 0.2893, 0.1976, 0.0163]\n",
      "[0.1272, 0.136, 0.119, 0.0606]\n",
      "[0.178, 0.1903, 0.1665, 0.0594]\n",
      "\n",
      "estimated placement rates:\n",
      "[109.4858, 21.0814, 10.7922, 1.5291]\n",
      "[89.8, 59.7984, 29.0768, 2.3427]\n",
      "[166.5382, 170.8656, 116.7259, 9.6363]\n",
      "[26.8483, 28.6966, 25.1134, 12.7938]\n",
      "[341.2364, 364.7276, 319.158, 113.8034]\n",
      "\n",
      "actual placement rates:\n",
      "[125, 20, 16, 0]\n",
      "[102, 70, 31, 3]\n",
      "[186, 200, 130, 11]\n",
      "[15, 42, 25, 18]\n",
      "[401, 398, 366, 127]\n",
      "\n",
      "difference between estimated and actual placement rates:\n",
      "[-15.5142, 1.0814, -5.2078, 1.5291]\n",
      "[-12.2, -10.2016, -1.9232, -0.6573]\n",
      "[-19.4618, -29.1344, -13.2741, -1.3637]\n",
      "[11.8483, -13.3034, 0.1134, -5.2062]\n",
      "[-59.7636, -33.2724, -46.842, -13.1966]\n",
      "\n",
      "chi-square p-value\n",
      "2.344224826478225e-7\n"
     ]
    }
   ],
   "source": [
    "function print_metrics(p_vec, m_vec, n_vec, n, T, S, placements, years)\n",
    "    n = 1550\n",
    "    m = 1700\n",
    "    n_vec = n * n_vec / sum(n_vec)\n",
    "    m_vec = m * m_vec / sum(m_vec)\n",
    "    pi_vec = ones(T)\n",
    "    Fx_vec = ones(T)\n",
    "    for t in 2:T\n",
    "        pi_vec[t] = pi_t_(pi_vec[t - 1], p_vec[t - 1], m_vec[t - 1], m_vec[t], n) \n",
    "        # note pi_vec = [pi1 = 1, pi2, pi3, pi4] but Fx_vec = [Fx0 = 1, Fx1, Fx2, Fx3] \n",
    "        Fx_vec[t] = F_x_t_(Fx_vec[t - 1], pi_vec[t - 1], m_vec[t - 1], p_vec[t - 1], n)\n",
    "    end\n",
    "    \n",
    "    x_vec = ones(T + 1) # x_vec = [x0 = 1, x1, x2, x3, x4 = 0]\n",
    "    x_vec[T + 1] = 0.0\n",
    "    min_vec = zeros(T + 1)\n",
    "    for i in 1:T-1\n",
    "        packet = optimize(x -> (F_(x[1], p_vec, n_vec, n, T, S) - (Fx_vec[i] - ((m_vec[i] / pi_vec[i]) * (1.0 - (p_vec[i] ^ (1.0 / (n - 1.0))))))) ^ 2, [0.0], [1.0], [0.5], Fminbox(LBFGS()); autodiff = :forward)\n",
    "        x_vec[i + 1] = Optim.minimizer(packet)[1] # there is no simple closed-form for F^{-1}(x) so this numerically computes x1, x2, x3\n",
    "        min_vec[i + 1] = Optim.minimum(packet)[1]\n",
    "    end\n",
    "    \n",
    "    objective = 0.0\n",
    "    q_matrix = zeros((T, T))\n",
    "    h_matrix = zeros(size(placements))\n",
    "    nh_matrix = zeros(size(placements))\n",
    "    for i in 1:size(placements)[1], t in 1:size(placements)[2]\n",
    "        h_for_matrix = h_it_(p_vec, pi_vec, Fx_vec, m_vec, n_vec, x_vec, n, T, S, i, t)\n",
    "        mean = n_vec[i] * years * h_for_matrix\n",
    "        h_matrix[i, t] = h_for_matrix\n",
    "        nh_matrix[i, t] = mean\n",
    "        objective += (placements[i, t] - mean) ^ 2 / mean\n",
    "    end\n",
    "    \n",
    "    for s in 1:T, t in 1:T\n",
    "        q_for_matrix = Q_ts_(F_(x_vec[s], p_vec, n_vec, n, T, S), Fx_vec, pi_vec, m_vec, n, t, s)\n",
    "        q_matrix[s, t] = q_for_matrix\n",
    "    end\n",
    "\n",
    "    for i in 1:T\n",
    "        println(\"pi_\", i, \" = \", pi_vec[i])\n",
    "    end\n",
    "    println()\n",
    "    for i in 1:T+1\n",
    "        println(\"x_\", i - 1, \" = \", x_vec[i], \" (error: \", min_vec[i], \")\")\n",
    "    end\n",
    "    println()\n",
    "    for i in 1:T\n",
    "        println(\"F(x_\", i - 1, \") = \", Fx_vec[i])\n",
    "    end\n",
    "    println()\n",
    "    println(\"objective value = \", objective)\n",
    "    println()\n",
    "    println(\"estimated n_i = \", round.(n_vec))\n",
    "    println(\"estimated m_i = \", round.(m_vec))\n",
    "    println()\n",
    "    println(\"estimated Q_t(x_s) (rows are offer value from high to low, columns are type in increasing type index:\")\n",
    "    for i in 1:size(q_matrix)[1]\n",
    "        println(round.(q_matrix[i, :], digits = 4))\n",
    "    end\n",
    "    println()\n",
    "    println(\"estimated h_it:\")\n",
    "    for i in 1:size(h_matrix)[1]\n",
    "        println(round.(h_matrix[i, :], digits = 4))\n",
    "    end\n",
    "    println()\n",
    "    println(\"estimated placement rates:\")\n",
    "    for i in 1:size(nh_matrix)[1]\n",
    "        println(round.(nh_matrix[i, :], digits = 4))\n",
    "    end\n",
    "    println()\n",
    "    println(\"actual placement rates:\")\n",
    "    for i in 1:size(placement_rates)[1]\n",
    "        println(placement_rates[i, :])\n",
    "    end\n",
    "    println()\n",
    "    println(\"difference between estimated and actual placement rates:\")\n",
    "    for i in 1:size(placement_rates)[1]\n",
    "        println(round.(nh_matrix[i, :] - placement_rates[i, :], digits = 4))\n",
    "    end\n",
    "    println()\n",
    "    println(\"chi-square p-value\")\n",
    "    println(1 - cdf(Chisq((size(placement_rates)[1] - 1) * (size(placement_rates)[2] - 1)), objective))\n",
    "end\n",
    "\n",
    "n_vec = sol[start_n:start_n+NUMBER_OF_ROWS-1]\n",
    "m_vec = sol[start_m:start_m+NUMBER_OF_TYPES-1]\n",
    "n = sum(n_vec)\n",
    "print_metrics(sol, m_vec, n_vec, n, NUMBER_OF_TYPES, NUMBER_OF_SINKS, placement_rates, Float64(length(YEAR_INTERVAL)))"
   ]
  },
  {
   "cell_type": "markdown",
   "id": "2d24438e-28ec-40ab-b1e1-7c19156f53bb",
   "metadata": {},
   "source": [
    "The estimated value ratios:"
   ]
  },
  {
   "cell_type": "code",
   "execution_count": 21,
   "id": "28910c74-1a50-45a6-9474-360a2ec71d8d",
   "metadata": {},
   "outputs": [
    {
     "name": "stdout",
     "output_type": "stream",
     "text": [
      "v_2/v_1 = 0.8848032977086637\n",
      "v_3/v_2 = 0.931898318535847\n",
      "v_4/v_3 = 0.74105430092373\n"
     ]
    }
   ],
   "source": [
    "for i in 1:NUMBER_OF_TYPES-1\n",
    "    println(\"v_\", i + 1, \"/v_\", i, \" = \", sol[i])\n",
    "end"
   ]
  },
  {
   "cell_type": "markdown",
   "id": "b5b1ac34-7e51-43be-a6fb-0cd008bc2b23",
   "metadata": {},
   "source": [
    "If we let $v_1 = 1$, then we get:"
   ]
  },
  {
   "cell_type": "code",
   "execution_count": 23,
   "id": "ce3a566a-2c52-4b8c-8996-6b69db847997",
   "metadata": {},
   "outputs": [
    {
     "name": "stdout",
     "output_type": "stream",
     "text": [
      "v1: 1\n",
      "v2: 0.8848032977086637\n",
      "v3: 0.8245467053696762\n",
      "v4: 0.6110338823266902\n"
     ]
    }
   ],
   "source": [
    "v_base = 1\n",
    "for i in 1:NUMBER_OF_TYPES\n",
    "    println(\"v\", i, \": \", v_base)\n",
    "    if i != NUMBER_OF_TYPES\n",
    "        v_base = sol[i] * v_base\n",
    "    end\n",
    "end"
   ]
  },
  {
   "cell_type": "code",
   "execution_count": 24,
   "id": "3b45f274-c1cb-43c4-a261-f1c1231e0b13",
   "metadata": {},
   "outputs": [
    {
     "name": "stdout",
     "output_type": "stream",
     "text": [
      "mean for type 1: 0.3270040511656989\n",
      "stddev for type 1: 0.23415847071505486\n",
      "\n",
      "mean for type 2: 0.1574397125124894\n",
      "stddev for type 2: 0.080223909692066\n",
      "\n",
      "mean for type 3: 0.11251194982418182\n",
      "stddev for type 3: 0.05271122156967269\n",
      "\n",
      "mean for type 4: 0.00988581417350142\n",
      "stddev for type 4: 0.005157136563499312\n",
      "\n",
      "mean for sink: 0.04508595172865681\n",
      "stddev for sink: 0.026903702596868254\n"
     ]
    }
   ],
   "source": [
    "for select_type in 1:NUMBER_OF_TYPES\n",
    "    println(\"mean for type \", select_type, \": \", mean(TruncatedNormal(sol[NUMBER_OF_TYPES-1+select_type], sol[NUMBER_OF_TYPES-1+select_type+TOTAL_DISTRIBUTIONS], 0, 1)))\n",
    "    println(\"stddev for type \", select_type, \": \", std(TruncatedNormal(sol[NUMBER_OF_TYPES-1+select_type], sol[NUMBER_OF_TYPES-1+select_type+TOTAL_DISTRIBUTIONS], 0, 1)))\n",
    "    println()\n",
    "end\n",
    "println(\"mean for sink: \", mean(TruncatedNormal(sol[NUMBER_OF_TYPES-1+TOTAL_DISTRIBUTIONS], sol[NUMBER_OF_TYPES-1+TOTAL_DISTRIBUTIONS+TOTAL_DISTRIBUTIONS], 0, 1)))\n",
    "println(\"stddev for sink: \", std(TruncatedNormal(sol[NUMBER_OF_TYPES-1+TOTAL_DISTRIBUTIONS], sol[NUMBER_OF_TYPES-1+TOTAL_DISTRIBUTIONS+TOTAL_DISTRIBUTIONS], 0, 1)))"
   ]
  },
  {
   "cell_type": "markdown",
   "id": "969f392a-19e7-478c-bc24-502316b251b2",
   "metadata": {},
   "source": [
    "Finally, we can plot the CDFs and PDFs of the distributions:"
   ]
  },
  {
   "cell_type": "code",
   "execution_count": 25,
   "id": "bbb6de6b-48b0-4531-826a-898ca43d29bb",
   "metadata": {},
   "outputs": [
    {
     "data": {
      "image/svg+xml": [
       "<?xml version=\"1.0\" encoding=\"utf-8\"?>\n",
       "<svg xmlns=\"http://www.w3.org/2000/svg\" xmlns:xlink=\"http://www.w3.org/1999/xlink\" width=\"600\" height=\"400\" viewBox=\"0 0 2400 1600\">\n",
       "<defs>\n",
       "  <clipPath id=\"clip760\">\n",
       "    <rect x=\"0\" y=\"0\" width=\"2400\" height=\"1600\"/>\n",
       "  </clipPath>\n",
       "</defs>\n",
       "<path clip-path=\"url(#clip760)\" d=\"\n",
       "M0 1600 L2400 1600 L2400 0 L0 0  Z\n",
       "  \" fill=\"#ffffff\" fill-rule=\"evenodd\" fill-opacity=\"1\"/>\n",
       "<defs>\n",
       "  <clipPath id=\"clip761\">\n",
       "    <rect x=\"480\" y=\"0\" width=\"1681\" height=\"1600\"/>\n",
       "  </clipPath>\n",
       "</defs>\n",
       "<path clip-path=\"url(#clip760)\" d=\"\n",
       "M249.542 1423.18 L2352.76 1423.18 L2352.76 123.472 L249.542 123.472  Z\n",
       "  \" fill=\"#ffffff\" fill-rule=\"evenodd\" fill-opacity=\"1\"/>\n",
       "<defs>\n",
       "  <clipPath id=\"clip762\">\n",
       "    <rect x=\"249\" y=\"123\" width=\"2104\" height=\"1301\"/>\n",
       "  </clipPath>\n",
       "</defs>\n",
       "<polyline clip-path=\"url(#clip762)\" style=\"stroke:#000000; stroke-linecap:butt; stroke-linejoin:round; stroke-width:2; stroke-opacity:0.1; fill:none\" points=\"\n",
       "  309.067,1423.18 309.067,123.472 \n",
       "  \"/>\n",
       "<polyline clip-path=\"url(#clip762)\" style=\"stroke:#000000; stroke-linecap:butt; stroke-linejoin:round; stroke-width:2; stroke-opacity:0.1; fill:none\" points=\"\n",
       "  805.108,1423.18 805.108,123.472 \n",
       "  \"/>\n",
       "<polyline clip-path=\"url(#clip762)\" style=\"stroke:#000000; stroke-linecap:butt; stroke-linejoin:round; stroke-width:2; stroke-opacity:0.1; fill:none\" points=\"\n",
       "  1301.15,1423.18 1301.15,123.472 \n",
       "  \"/>\n",
       "<polyline clip-path=\"url(#clip762)\" style=\"stroke:#000000; stroke-linecap:butt; stroke-linejoin:round; stroke-width:2; stroke-opacity:0.1; fill:none\" points=\"\n",
       "  1797.19,1423.18 1797.19,123.472 \n",
       "  \"/>\n",
       "<polyline clip-path=\"url(#clip762)\" style=\"stroke:#000000; stroke-linecap:butt; stroke-linejoin:round; stroke-width:2; stroke-opacity:0.1; fill:none\" points=\"\n",
       "  2293.23,1423.18 2293.23,123.472 \n",
       "  \"/>\n",
       "<polyline clip-path=\"url(#clip760)\" style=\"stroke:#000000; stroke-linecap:butt; stroke-linejoin:round; stroke-width:4; stroke-opacity:1; fill:none\" points=\"\n",
       "  249.542,1423.18 2352.76,1423.18 \n",
       "  \"/>\n",
       "<polyline clip-path=\"url(#clip760)\" style=\"stroke:#000000; stroke-linecap:butt; stroke-linejoin:round; stroke-width:4; stroke-opacity:1; fill:none\" points=\"\n",
       "  309.067,1423.18 309.067,1404.28 \n",
       "  \"/>\n",
       "<polyline clip-path=\"url(#clip760)\" style=\"stroke:#000000; stroke-linecap:butt; stroke-linejoin:round; stroke-width:4; stroke-opacity:1; fill:none\" points=\"\n",
       "  805.108,1423.18 805.108,1404.28 \n",
       "  \"/>\n",
       "<polyline clip-path=\"url(#clip760)\" style=\"stroke:#000000; stroke-linecap:butt; stroke-linejoin:round; stroke-width:4; stroke-opacity:1; fill:none\" points=\"\n",
       "  1301.15,1423.18 1301.15,1404.28 \n",
       "  \"/>\n",
       "<polyline clip-path=\"url(#clip760)\" style=\"stroke:#000000; stroke-linecap:butt; stroke-linejoin:round; stroke-width:4; stroke-opacity:1; fill:none\" points=\"\n",
       "  1797.19,1423.18 1797.19,1404.28 \n",
       "  \"/>\n",
       "<polyline clip-path=\"url(#clip760)\" style=\"stroke:#000000; stroke-linecap:butt; stroke-linejoin:round; stroke-width:4; stroke-opacity:1; fill:none\" points=\"\n",
       "  2293.23,1423.18 2293.23,1404.28 \n",
       "  \"/>\n",
       "<path clip-path=\"url(#clip760)\" d=\"M271.37 1454.1 Q267.759 1454.1 265.931 1457.66 Q264.125 1461.2 264.125 1468.33 Q264.125 1475.44 265.931 1479.01 Q267.759 1482.55 271.37 1482.55 Q275.005 1482.55 276.81 1479.01 Q278.639 1475.44 278.639 1468.33 Q278.639 1461.2 276.81 1457.66 Q275.005 1454.1 271.37 1454.1 M271.37 1450.39 Q277.181 1450.39 280.236 1455 Q283.315 1459.58 283.315 1468.33 Q283.315 1477.06 280.236 1481.67 Q277.181 1486.25 271.37 1486.25 Q265.56 1486.25 262.482 1481.67 Q259.426 1477.06 259.426 1468.33 Q259.426 1459.58 262.482 1455 Q265.56 1450.39 271.37 1450.39 Z\" fill=\"#000000\" fill-rule=\"evenodd\" fill-opacity=\"1\" /><path clip-path=\"url(#clip760)\" d=\"M291.532 1479.7 L296.417 1479.7 L296.417 1485.58 L291.532 1485.58 L291.532 1479.7 Z\" fill=\"#000000\" fill-rule=\"evenodd\" fill-opacity=\"1\" /><path clip-path=\"url(#clip760)\" d=\"M316.602 1454.1 Q312.991 1454.1 311.162 1457.66 Q309.356 1461.2 309.356 1468.33 Q309.356 1475.44 311.162 1479.01 Q312.991 1482.55 316.602 1482.55 Q320.236 1482.55 322.041 1479.01 Q323.87 1475.44 323.87 1468.33 Q323.87 1461.2 322.041 1457.66 Q320.236 1454.1 316.602 1454.1 M316.602 1450.39 Q322.412 1450.39 325.467 1455 Q328.546 1459.58 328.546 1468.33 Q328.546 1477.06 325.467 1481.67 Q322.412 1486.25 316.602 1486.25 Q310.791 1486.25 307.713 1481.67 Q304.657 1477.06 304.657 1468.33 Q304.657 1459.58 307.713 1455 Q310.791 1450.39 316.602 1450.39 Z\" fill=\"#000000\" fill-rule=\"evenodd\" fill-opacity=\"1\" /><path clip-path=\"url(#clip760)\" d=\"M346.764 1454.1 Q343.152 1454.1 341.324 1457.66 Q339.518 1461.2 339.518 1468.33 Q339.518 1475.44 341.324 1479.01 Q343.152 1482.55 346.764 1482.55 Q350.398 1482.55 352.203 1479.01 Q354.032 1475.44 354.032 1468.33 Q354.032 1461.2 352.203 1457.66 Q350.398 1454.1 346.764 1454.1 M346.764 1450.39 Q352.574 1450.39 355.629 1455 Q358.708 1459.58 358.708 1468.33 Q358.708 1477.06 355.629 1481.67 Q352.574 1486.25 346.764 1486.25 Q340.953 1486.25 337.875 1481.67 Q334.819 1477.06 334.819 1468.33 Q334.819 1459.58 337.875 1455 Q340.953 1450.39 346.764 1450.39 Z\" fill=\"#000000\" fill-rule=\"evenodd\" fill-opacity=\"1\" /><path clip-path=\"url(#clip760)\" d=\"M767.909 1454.1 Q764.298 1454.1 762.469 1457.66 Q760.664 1461.2 760.664 1468.33 Q760.664 1475.44 762.469 1479.01 Q764.298 1482.55 767.909 1482.55 Q771.543 1482.55 773.349 1479.01 Q775.178 1475.44 775.178 1468.33 Q775.178 1461.2 773.349 1457.66 Q771.543 1454.1 767.909 1454.1 M767.909 1450.39 Q773.719 1450.39 776.775 1455 Q779.853 1459.58 779.853 1468.33 Q779.853 1477.06 776.775 1481.67 Q773.719 1486.25 767.909 1486.25 Q762.099 1486.25 759.02 1481.67 Q755.965 1477.06 755.965 1468.33 Q755.965 1459.58 759.02 1455 Q762.099 1450.39 767.909 1450.39 Z\" fill=\"#000000\" fill-rule=\"evenodd\" fill-opacity=\"1\" /><path clip-path=\"url(#clip760)\" d=\"M788.071 1479.7 L792.955 1479.7 L792.955 1485.58 L788.071 1485.58 L788.071 1479.7 Z\" fill=\"#000000\" fill-rule=\"evenodd\" fill-opacity=\"1\" /><path clip-path=\"url(#clip760)\" d=\"M807.168 1481.64 L823.487 1481.64 L823.487 1485.58 L801.543 1485.58 L801.543 1481.64 Q804.205 1478.89 808.788 1474.26 Q813.395 1469.61 814.576 1468.27 Q816.821 1465.74 817.7 1464.01 Q818.603 1462.25 818.603 1460.56 Q818.603 1457.8 816.659 1456.07 Q814.738 1454.33 811.636 1454.33 Q809.437 1454.33 806.983 1455.09 Q804.552 1455.86 801.775 1457.41 L801.775 1452.69 Q804.599 1451.55 807.052 1450.97 Q809.506 1450.39 811.543 1450.39 Q816.913 1450.39 820.108 1453.08 Q823.302 1455.77 823.302 1460.26 Q823.302 1462.39 822.492 1464.31 Q821.705 1466.2 819.599 1468.8 Q819.02 1469.47 815.918 1472.69 Q812.816 1475.88 807.168 1481.64 Z\" fill=\"#000000\" fill-rule=\"evenodd\" fill-opacity=\"1\" /><path clip-path=\"url(#clip760)\" d=\"M833.349 1451.02 L851.705 1451.02 L851.705 1454.96 L837.631 1454.96 L837.631 1463.43 Q838.649 1463.08 839.668 1462.92 Q840.686 1462.73 841.705 1462.73 Q847.492 1462.73 850.872 1465.9 Q854.251 1469.08 854.251 1474.49 Q854.251 1480.07 850.779 1483.17 Q847.307 1486.25 840.987 1486.25 Q838.811 1486.25 836.543 1485.88 Q834.298 1485.51 831.89 1484.77 L831.89 1480.07 Q833.974 1481.2 836.196 1481.76 Q838.418 1482.32 840.895 1482.32 Q844.899 1482.32 847.237 1480.21 Q849.575 1478.1 849.575 1474.49 Q849.575 1470.88 847.237 1468.77 Q844.899 1466.67 840.895 1466.67 Q839.02 1466.67 837.145 1467.08 Q835.293 1467.5 833.349 1468.38 L833.349 1451.02 Z\" fill=\"#000000\" fill-rule=\"evenodd\" fill-opacity=\"1\" /><path clip-path=\"url(#clip760)\" d=\"M1263.45 1454.1 Q1259.84 1454.1 1258.01 1457.66 Q1256.21 1461.2 1256.21 1468.33 Q1256.21 1475.44 1258.01 1479.01 Q1259.84 1482.55 1263.45 1482.55 Q1267.09 1482.55 1268.89 1479.01 Q1270.72 1475.44 1270.72 1468.33 Q1270.72 1461.2 1268.89 1457.66 Q1267.09 1454.1 1263.45 1454.1 M1263.45 1450.39 Q1269.26 1450.39 1272.32 1455 Q1275.4 1459.58 1275.4 1468.33 Q1275.4 1477.06 1272.32 1481.67 Q1269.26 1486.25 1263.45 1486.25 Q1257.64 1486.25 1254.56 1481.67 Q1251.51 1477.06 1251.51 1468.33 Q1251.51 1459.58 1254.56 1455 Q1257.64 1450.39 1263.45 1450.39 Z\" fill=\"#000000\" fill-rule=\"evenodd\" fill-opacity=\"1\" /><path clip-path=\"url(#clip760)\" d=\"M1283.61 1479.7 L1288.5 1479.7 L1288.5 1485.58 L1283.61 1485.58 L1283.61 1479.7 Z\" fill=\"#000000\" fill-rule=\"evenodd\" fill-opacity=\"1\" /><path clip-path=\"url(#clip760)\" d=\"M1298.73 1451.02 L1317.09 1451.02 L1317.09 1454.96 L1303.01 1454.96 L1303.01 1463.43 Q1304.03 1463.08 1305.05 1462.92 Q1306.07 1462.73 1307.09 1462.73 Q1312.87 1462.73 1316.25 1465.9 Q1319.63 1469.08 1319.63 1474.49 Q1319.63 1480.07 1316.16 1483.17 Q1312.69 1486.25 1306.37 1486.25 Q1304.19 1486.25 1301.92 1485.88 Q1299.68 1485.51 1297.27 1484.77 L1297.27 1480.07 Q1299.35 1481.2 1301.58 1481.76 Q1303.8 1482.32 1306.28 1482.32 Q1310.28 1482.32 1312.62 1480.21 Q1314.96 1478.1 1314.96 1474.49 Q1314.96 1470.88 1312.62 1468.77 Q1310.28 1466.67 1306.28 1466.67 Q1304.4 1466.67 1302.53 1467.08 Q1300.67 1467.5 1298.73 1468.38 L1298.73 1451.02 Z\" fill=\"#000000\" fill-rule=\"evenodd\" fill-opacity=\"1\" /><path clip-path=\"url(#clip760)\" d=\"M1338.85 1454.1 Q1335.23 1454.1 1333.41 1457.66 Q1331.6 1461.2 1331.6 1468.33 Q1331.6 1475.44 1333.41 1479.01 Q1335.23 1482.55 1338.85 1482.55 Q1342.48 1482.55 1344.29 1479.01 Q1346.11 1475.44 1346.11 1468.33 Q1346.11 1461.2 1344.29 1457.66 Q1342.48 1454.1 1338.85 1454.1 M1338.85 1450.39 Q1344.66 1450.39 1347.71 1455 Q1350.79 1459.58 1350.79 1468.33 Q1350.79 1477.06 1347.71 1481.67 Q1344.66 1486.25 1338.85 1486.25 Q1333.04 1486.25 1329.96 1481.67 Q1326.9 1477.06 1326.9 1468.33 Q1326.9 1459.58 1329.96 1455 Q1333.04 1450.39 1338.85 1450.39 Z\" fill=\"#000000\" fill-rule=\"evenodd\" fill-opacity=\"1\" /><path clip-path=\"url(#clip760)\" d=\"M1759.99 1454.1 Q1756.38 1454.1 1754.55 1457.66 Q1752.75 1461.2 1752.75 1468.33 Q1752.75 1475.44 1754.55 1479.01 Q1756.38 1482.55 1759.99 1482.55 Q1763.63 1482.55 1765.43 1479.01 Q1767.26 1475.44 1767.26 1468.33 Q1767.26 1461.2 1765.43 1457.66 Q1763.63 1454.1 1759.99 1454.1 M1759.99 1450.39 Q1765.8 1450.39 1768.86 1455 Q1771.94 1459.58 1771.94 1468.33 Q1771.94 1477.06 1768.86 1481.67 Q1765.8 1486.25 1759.99 1486.25 Q1754.18 1486.25 1751.1 1481.67 Q1748.05 1477.06 1748.05 1468.33 Q1748.05 1459.58 1751.1 1455 Q1754.18 1450.39 1759.99 1450.39 Z\" fill=\"#000000\" fill-rule=\"evenodd\" fill-opacity=\"1\" /><path clip-path=\"url(#clip760)\" d=\"M1780.15 1479.7 L1785.04 1479.7 L1785.04 1485.58 L1780.15 1485.58 L1780.15 1479.7 Z\" fill=\"#000000\" fill-rule=\"evenodd\" fill-opacity=\"1\" /><path clip-path=\"url(#clip760)\" d=\"M1794.04 1451.02 L1816.26 1451.02 L1816.26 1453.01 L1803.72 1485.58 L1798.83 1485.58 L1810.64 1454.96 L1794.04 1454.96 L1794.04 1451.02 Z\" fill=\"#000000\" fill-rule=\"evenodd\" fill-opacity=\"1\" /><path clip-path=\"url(#clip760)\" d=\"M1825.43 1451.02 L1843.79 1451.02 L1843.79 1454.96 L1829.71 1454.96 L1829.71 1463.43 Q1830.73 1463.08 1831.75 1462.92 Q1832.77 1462.73 1833.79 1462.73 Q1839.57 1462.73 1842.95 1465.9 Q1846.33 1469.08 1846.33 1474.49 Q1846.33 1480.07 1842.86 1483.17 Q1839.39 1486.25 1833.07 1486.25 Q1830.89 1486.25 1828.62 1485.88 Q1826.38 1485.51 1823.97 1484.77 L1823.97 1480.07 Q1826.06 1481.2 1828.28 1481.76 Q1830.5 1482.32 1832.98 1482.32 Q1836.98 1482.32 1839.32 1480.21 Q1841.66 1478.1 1841.66 1474.49 Q1841.66 1470.88 1839.32 1468.77 Q1836.98 1466.67 1832.98 1466.67 Q1831.1 1466.67 1829.23 1467.08 Q1827.38 1467.5 1825.43 1468.38 L1825.43 1451.02 Z\" fill=\"#000000\" fill-rule=\"evenodd\" fill-opacity=\"1\" /><path clip-path=\"url(#clip760)\" d=\"M2245.3 1481.64 L2252.94 1481.64 L2252.94 1455.28 L2244.63 1456.95 L2244.63 1452.69 L2252.9 1451.02 L2257.57 1451.02 L2257.57 1481.64 L2265.21 1481.64 L2265.21 1485.58 L2245.3 1485.58 L2245.3 1481.64 Z\" fill=\"#000000\" fill-rule=\"evenodd\" fill-opacity=\"1\" /><path clip-path=\"url(#clip760)\" d=\"M2274.65 1479.7 L2279.54 1479.7 L2279.54 1485.58 L2274.65 1485.58 L2274.65 1479.7 Z\" fill=\"#000000\" fill-rule=\"evenodd\" fill-opacity=\"1\" /><path clip-path=\"url(#clip760)\" d=\"M2299.72 1454.1 Q2296.11 1454.1 2294.28 1457.66 Q2292.48 1461.2 2292.48 1468.33 Q2292.48 1475.44 2294.28 1479.01 Q2296.11 1482.55 2299.72 1482.55 Q2303.36 1482.55 2305.16 1479.01 Q2306.99 1475.44 2306.99 1468.33 Q2306.99 1461.2 2305.16 1457.66 Q2303.36 1454.1 2299.72 1454.1 M2299.72 1450.39 Q2305.53 1450.39 2308.59 1455 Q2311.67 1459.58 2311.67 1468.33 Q2311.67 1477.06 2308.59 1481.67 Q2305.53 1486.25 2299.72 1486.25 Q2293.91 1486.25 2290.84 1481.67 Q2287.78 1477.06 2287.78 1468.33 Q2287.78 1459.58 2290.84 1455 Q2293.91 1450.39 2299.72 1450.39 Z\" fill=\"#000000\" fill-rule=\"evenodd\" fill-opacity=\"1\" /><path clip-path=\"url(#clip760)\" d=\"M2329.89 1454.1 Q2326.27 1454.1 2324.45 1457.66 Q2322.64 1461.2 2322.64 1468.33 Q2322.64 1475.44 2324.45 1479.01 Q2326.27 1482.55 2329.89 1482.55 Q2333.52 1482.55 2335.33 1479.01 Q2337.15 1475.44 2337.15 1468.33 Q2337.15 1461.2 2335.33 1457.66 Q2333.52 1454.1 2329.89 1454.1 M2329.89 1450.39 Q2335.7 1450.39 2338.75 1455 Q2341.83 1459.58 2341.83 1468.33 Q2341.83 1477.06 2338.75 1481.67 Q2335.7 1486.25 2329.89 1486.25 Q2324.08 1486.25 2321 1481.67 Q2317.94 1477.06 2317.94 1468.33 Q2317.94 1459.58 2321 1455 Q2324.08 1450.39 2329.89 1450.39 Z\" fill=\"#000000\" fill-rule=\"evenodd\" fill-opacity=\"1\" /><path clip-path=\"url(#clip760)\" d=\"M1145.32 1536.5 Q1140.61 1536.5 1137.87 1540.19 Q1135.13 1543.85 1135.13 1550.25 Q1135.13 1556.65 1137.84 1560.34 Q1140.57 1564 1145.32 1564 Q1150 1564 1152.73 1560.31 Q1155.47 1556.62 1155.47 1550.25 Q1155.47 1543.92 1152.73 1540.23 Q1150 1536.5 1145.32 1536.5 M1145.32 1531.54 Q1152.96 1531.54 1157.32 1536.5 Q1161.68 1541.47 1161.68 1550.25 Q1161.68 1559 1157.32 1564 Q1152.96 1568.97 1145.32 1568.97 Q1137.65 1568.97 1133.29 1564 Q1128.96 1559 1128.96 1550.25 Q1128.96 1541.47 1133.29 1536.5 Q1137.65 1531.54 1145.32 1531.54 Z\" fill=\"#000000\" fill-rule=\"evenodd\" fill-opacity=\"1\" /><path clip-path=\"url(#clip760)\" d=\"M1189.43 1518.52 L1189.43 1523.39 L1183.83 1523.39 Q1180.68 1523.39 1179.44 1524.66 Q1178.23 1525.93 1178.23 1529.24 L1178.23 1532.4 L1187.87 1532.4 L1187.87 1536.95 L1178.23 1536.95 L1178.23 1568.04 L1172.34 1568.04 L1172.34 1536.95 L1166.74 1536.95 L1166.74 1532.4 L1172.34 1532.4 L1172.34 1529.91 Q1172.34 1523.96 1175.11 1521.26 Q1177.88 1518.52 1183.89 1518.52 L1189.43 1518.52 Z\" fill=\"#000000\" fill-rule=\"evenodd\" fill-opacity=\"1\" /><path clip-path=\"url(#clip760)\" d=\"M1212.38 1518.52 L1212.38 1523.39 L1206.78 1523.39 Q1203.63 1523.39 1202.39 1524.66 Q1201.18 1525.93 1201.18 1529.24 L1201.18 1532.4 L1210.82 1532.4 L1210.82 1536.95 L1201.18 1536.95 L1201.18 1568.04 L1195.29 1568.04 L1195.29 1536.95 L1189.69 1536.95 L1189.69 1532.4 L1195.29 1532.4 L1195.29 1529.91 Q1195.29 1523.96 1198.06 1521.26 Q1200.83 1518.52 1206.84 1518.52 L1212.38 1518.52 Z\" fill=\"#000000\" fill-rule=\"evenodd\" fill-opacity=\"1\" /><path clip-path=\"url(#clip760)\" d=\"M1247.77 1548.76 L1247.77 1551.62 L1220.85 1551.62 Q1221.23 1557.67 1224.47 1560.85 Q1227.75 1564 1233.58 1564 Q1236.95 1564 1240.1 1563.17 Q1243.28 1562.35 1246.4 1560.69 L1246.4 1566.23 Q1243.25 1567.57 1239.94 1568.27 Q1236.63 1568.97 1233.23 1568.97 Q1224.7 1568.97 1219.7 1564 Q1214.73 1559.04 1214.73 1550.57 Q1214.73 1541.82 1219.45 1536.69 Q1224.19 1531.54 1232.21 1531.54 Q1239.4 1531.54 1243.57 1536.18 Q1247.77 1540.8 1247.77 1548.76 M1241.92 1547.04 Q1241.85 1542.23 1239.21 1539.37 Q1236.6 1536.5 1232.27 1536.5 Q1227.37 1536.5 1224.41 1539.27 Q1221.48 1542.04 1221.04 1547.07 L1241.92 1547.04 Z\" fill=\"#000000\" fill-rule=\"evenodd\" fill-opacity=\"1\" /><path clip-path=\"url(#clip760)\" d=\"M1278.04 1537.87 Q1277.05 1537.3 1275.88 1537.04 Q1274.73 1536.76 1273.33 1536.76 Q1268.37 1536.76 1265.69 1540 Q1263.05 1543.22 1263.05 1549.27 L1263.05 1568.04 L1257.16 1568.04 L1257.16 1532.4 L1263.05 1532.4 L1263.05 1537.93 Q1264.9 1534.69 1267.86 1533.13 Q1270.82 1531.54 1275.05 1531.54 Q1275.65 1531.54 1276.39 1531.63 Q1277.12 1531.7 1278.01 1531.85 L1278.04 1537.87 Z\" fill=\"#000000\" fill-rule=\"evenodd\" fill-opacity=\"1\" /><path clip-path=\"url(#clip760)\" d=\"M1300.7 1532.4 L1306.91 1532.4 L1318.05 1562.31 L1329.19 1532.4 L1335.4 1532.4 L1322.03 1568.04 L1314.07 1568.04 L1300.7 1532.4 Z\" fill=\"#000000\" fill-rule=\"evenodd\" fill-opacity=\"1\" /><path clip-path=\"url(#clip760)\" d=\"M1359.68 1550.12 Q1352.58 1550.12 1349.85 1551.75 Q1347.11 1553.37 1347.11 1557.29 Q1347.11 1560.4 1349.15 1562.25 Q1351.22 1564.07 1354.75 1564.07 Q1359.62 1564.07 1362.55 1560.63 Q1365.51 1557.16 1365.51 1551.43 L1365.51 1550.12 L1359.68 1550.12 M1371.36 1547.71 L1371.36 1568.04 L1365.51 1568.04 L1365.51 1562.63 Q1363.5 1565.88 1360.51 1567.44 Q1357.52 1568.97 1353.19 1568.97 Q1347.71 1568.97 1344.47 1565.91 Q1341.25 1562.82 1341.25 1557.67 Q1341.25 1551.65 1345.26 1548.6 Q1349.31 1545.54 1357.29 1545.54 L1365.51 1545.54 L1365.51 1544.97 Q1365.51 1540.93 1362.83 1538.73 Q1360.19 1536.5 1355.38 1536.5 Q1352.33 1536.5 1349.43 1537.23 Q1346.54 1537.97 1343.86 1539.43 L1343.86 1534.02 Q1347.08 1532.78 1350.1 1532.17 Q1353.12 1531.54 1355.99 1531.54 Q1363.72 1531.54 1367.54 1535.55 Q1371.36 1539.56 1371.36 1547.71 Z\" fill=\"#000000\" fill-rule=\"evenodd\" fill-opacity=\"1\" /><path clip-path=\"url(#clip760)\" d=\"M1383.43 1518.52 L1389.28 1518.52 L1389.28 1568.04 L1383.43 1568.04 L1383.43 1518.52 Z\" fill=\"#000000\" fill-rule=\"evenodd\" fill-opacity=\"1\" /><path clip-path=\"url(#clip760)\" d=\"M1400.93 1553.98 L1400.93 1532.4 L1406.79 1532.4 L1406.79 1553.75 Q1406.79 1558.81 1408.76 1561.36 Q1410.73 1563.87 1414.68 1563.87 Q1419.42 1563.87 1422.16 1560.85 Q1424.93 1557.83 1424.93 1552.61 L1424.93 1532.4 L1430.79 1532.4 L1430.79 1568.04 L1424.93 1568.04 L1424.93 1562.57 Q1422.8 1565.82 1419.96 1567.41 Q1417.16 1568.97 1413.44 1568.97 Q1407.3 1568.97 1404.11 1565.15 Q1400.93 1561.33 1400.93 1553.98 M1415.67 1531.54 L1415.67 1531.54 Z\" fill=\"#000000\" fill-rule=\"evenodd\" fill-opacity=\"1\" /><path clip-path=\"url(#clip760)\" d=\"M1473.34 1548.76 L1473.34 1551.62 L1446.41 1551.62 Q1446.8 1557.67 1450.04 1560.85 Q1453.32 1564 1459.15 1564 Q1462.52 1564 1465.67 1563.17 Q1468.85 1562.35 1471.97 1560.69 L1471.97 1566.23 Q1468.82 1567.57 1465.51 1568.27 Q1462.2 1568.97 1458.8 1568.97 Q1450.27 1568.97 1445.27 1564 Q1440.3 1559.04 1440.3 1550.57 Q1440.3 1541.82 1445.01 1536.69 Q1449.76 1531.54 1457.78 1531.54 Q1464.97 1531.54 1469.14 1536.18 Q1473.34 1540.8 1473.34 1548.76 M1467.48 1547.04 Q1467.42 1542.23 1464.78 1539.37 Q1462.17 1536.5 1457.84 1536.5 Q1452.94 1536.5 1449.98 1539.27 Q1447.05 1542.04 1446.61 1547.07 L1467.48 1547.04 Z\" fill=\"#000000\" fill-rule=\"evenodd\" fill-opacity=\"1\" /><polyline clip-path=\"url(#clip762)\" style=\"stroke:#000000; stroke-linecap:butt; stroke-linejoin:round; stroke-width:2; stroke-opacity:0.1; fill:none\" points=\"\n",
       "  249.542,1386.4 2352.76,1386.4 \n",
       "  \"/>\n",
       "<polyline clip-path=\"url(#clip762)\" style=\"stroke:#000000; stroke-linecap:butt; stroke-linejoin:round; stroke-width:2; stroke-opacity:0.1; fill:none\" points=\"\n",
       "  249.542,1079.86 2352.76,1079.86 \n",
       "  \"/>\n",
       "<polyline clip-path=\"url(#clip762)\" style=\"stroke:#000000; stroke-linecap:butt; stroke-linejoin:round; stroke-width:2; stroke-opacity:0.1; fill:none\" points=\"\n",
       "  249.542,773.326 2352.76,773.326 \n",
       "  \"/>\n",
       "<polyline clip-path=\"url(#clip762)\" style=\"stroke:#000000; stroke-linecap:butt; stroke-linejoin:round; stroke-width:2; stroke-opacity:0.1; fill:none\" points=\"\n",
       "  249.542,466.791 2352.76,466.791 \n",
       "  \"/>\n",
       "<polyline clip-path=\"url(#clip762)\" style=\"stroke:#000000; stroke-linecap:butt; stroke-linejoin:round; stroke-width:2; stroke-opacity:0.1; fill:none\" points=\"\n",
       "  249.542,160.256 2352.76,160.256 \n",
       "  \"/>\n",
       "<polyline clip-path=\"url(#clip760)\" style=\"stroke:#000000; stroke-linecap:butt; stroke-linejoin:round; stroke-width:4; stroke-opacity:1; fill:none\" points=\"\n",
       "  249.542,1423.18 249.542,123.472 \n",
       "  \"/>\n",
       "<polyline clip-path=\"url(#clip760)\" style=\"stroke:#000000; stroke-linecap:butt; stroke-linejoin:round; stroke-width:4; stroke-opacity:1; fill:none\" points=\"\n",
       "  249.542,1386.4 268.44,1386.4 \n",
       "  \"/>\n",
       "<polyline clip-path=\"url(#clip760)\" style=\"stroke:#000000; stroke-linecap:butt; stroke-linejoin:round; stroke-width:4; stroke-opacity:1; fill:none\" points=\"\n",
       "  249.542,1079.86 268.44,1079.86 \n",
       "  \"/>\n",
       "<polyline clip-path=\"url(#clip760)\" style=\"stroke:#000000; stroke-linecap:butt; stroke-linejoin:round; stroke-width:4; stroke-opacity:1; fill:none\" points=\"\n",
       "  249.542,773.326 268.44,773.326 \n",
       "  \"/>\n",
       "<polyline clip-path=\"url(#clip760)\" style=\"stroke:#000000; stroke-linecap:butt; stroke-linejoin:round; stroke-width:4; stroke-opacity:1; fill:none\" points=\"\n",
       "  249.542,466.791 268.44,466.791 \n",
       "  \"/>\n",
       "<polyline clip-path=\"url(#clip760)\" style=\"stroke:#000000; stroke-linecap:butt; stroke-linejoin:round; stroke-width:4; stroke-opacity:1; fill:none\" points=\"\n",
       "  249.542,160.256 268.44,160.256 \n",
       "  \"/>\n",
       "<path clip-path=\"url(#clip760)\" d=\"M126.205 1372.19 Q122.593 1372.19 120.765 1375.76 Q118.959 1379.3 118.959 1386.43 Q118.959 1393.54 120.765 1397.1 Q122.593 1400.64 126.205 1400.64 Q129.839 1400.64 131.644 1397.1 Q133.473 1393.54 133.473 1386.43 Q133.473 1379.3 131.644 1375.76 Q129.839 1372.19 126.205 1372.19 M126.205 1368.49 Q132.015 1368.49 135.07 1373.1 Q138.149 1377.68 138.149 1386.43 Q138.149 1395.16 135.07 1399.76 Q132.015 1404.35 126.205 1404.35 Q120.394 1404.35 117.316 1399.76 Q114.26 1395.16 114.26 1386.43 Q114.26 1377.68 117.316 1373.1 Q120.394 1368.49 126.205 1368.49 Z\" fill=\"#000000\" fill-rule=\"evenodd\" fill-opacity=\"1\" /><path clip-path=\"url(#clip760)\" d=\"M146.366 1397.8 L151.251 1397.8 L151.251 1403.68 L146.366 1403.68 L146.366 1397.8 Z\" fill=\"#000000\" fill-rule=\"evenodd\" fill-opacity=\"1\" /><path clip-path=\"url(#clip760)\" d=\"M171.436 1372.19 Q167.825 1372.19 165.996 1375.76 Q164.19 1379.3 164.19 1386.43 Q164.19 1393.54 165.996 1397.1 Q167.825 1400.64 171.436 1400.64 Q175.07 1400.64 176.876 1397.1 Q178.704 1393.54 178.704 1386.43 Q178.704 1379.3 176.876 1375.76 Q175.07 1372.19 171.436 1372.19 M171.436 1368.49 Q177.246 1368.49 180.301 1373.1 Q183.38 1377.68 183.38 1386.43 Q183.38 1395.16 180.301 1399.76 Q177.246 1404.35 171.436 1404.35 Q165.626 1404.35 162.547 1399.76 Q159.491 1395.16 159.491 1386.43 Q159.491 1377.68 162.547 1373.1 Q165.626 1368.49 171.436 1368.49 Z\" fill=\"#000000\" fill-rule=\"evenodd\" fill-opacity=\"1\" /><path clip-path=\"url(#clip760)\" d=\"M201.598 1372.19 Q197.987 1372.19 196.158 1375.76 Q194.352 1379.3 194.352 1386.43 Q194.352 1393.54 196.158 1397.1 Q197.987 1400.64 201.598 1400.64 Q205.232 1400.64 207.037 1397.1 Q208.866 1393.54 208.866 1386.43 Q208.866 1379.3 207.037 1375.76 Q205.232 1372.19 201.598 1372.19 M201.598 1368.49 Q207.408 1368.49 210.463 1373.1 Q213.542 1377.68 213.542 1386.43 Q213.542 1395.16 210.463 1399.76 Q207.408 1404.35 201.598 1404.35 Q195.787 1404.35 192.709 1399.76 Q189.653 1395.16 189.653 1386.43 Q189.653 1377.68 192.709 1373.1 Q195.787 1368.49 201.598 1368.49 Z\" fill=\"#000000\" fill-rule=\"evenodd\" fill-opacity=\"1\" /><path clip-path=\"url(#clip760)\" d=\"M127.2 1065.66 Q123.589 1065.66 121.76 1069.22 Q119.955 1072.77 119.955 1079.9 Q119.955 1087 121.76 1090.57 Q123.589 1094.11 127.2 1094.11 Q130.834 1094.11 132.64 1090.57 Q134.468 1087 134.468 1079.9 Q134.468 1072.77 132.64 1069.22 Q130.834 1065.66 127.2 1065.66 M127.2 1061.96 Q133.01 1061.96 136.066 1066.56 Q139.144 1071.15 139.144 1079.9 Q139.144 1088.62 136.066 1093.23 Q133.01 1097.81 127.2 1097.81 Q121.39 1097.81 118.311 1093.23 Q115.256 1088.62 115.256 1079.9 Q115.256 1071.15 118.311 1066.56 Q121.39 1061.96 127.2 1061.96 Z\" fill=\"#000000\" fill-rule=\"evenodd\" fill-opacity=\"1\" /><path clip-path=\"url(#clip760)\" d=\"M147.362 1091.26 L152.246 1091.26 L152.246 1097.14 L147.362 1097.14 L147.362 1091.26 Z\" fill=\"#000000\" fill-rule=\"evenodd\" fill-opacity=\"1\" /><path clip-path=\"url(#clip760)\" d=\"M166.459 1093.21 L182.778 1093.21 L182.778 1097.14 L160.834 1097.14 L160.834 1093.21 Q163.496 1090.45 168.079 1085.82 Q172.686 1081.17 173.866 1079.83 Q176.112 1077.3 176.991 1075.57 Q177.894 1073.81 177.894 1072.12 Q177.894 1069.36 175.95 1067.63 Q174.028 1065.89 170.927 1065.89 Q168.727 1065.89 166.274 1066.65 Q163.843 1067.42 161.065 1068.97 L161.065 1064.25 Q163.89 1063.11 166.343 1062.53 Q168.797 1061.96 170.834 1061.96 Q176.204 1061.96 179.399 1064.64 Q182.593 1067.33 182.593 1071.82 Q182.593 1073.95 181.783 1075.87 Q180.996 1077.77 178.889 1080.36 Q178.311 1081.03 175.209 1084.25 Q172.107 1087.44 166.459 1093.21 Z\" fill=\"#000000\" fill-rule=\"evenodd\" fill-opacity=\"1\" /><path clip-path=\"url(#clip760)\" d=\"M192.639 1062.58 L210.996 1062.58 L210.996 1066.52 L196.922 1066.52 L196.922 1074.99 Q197.94 1074.64 198.959 1074.48 Q199.977 1074.29 200.996 1074.29 Q206.783 1074.29 210.162 1077.47 Q213.542 1080.64 213.542 1086.05 Q213.542 1091.63 210.07 1094.73 Q206.598 1097.81 200.278 1097.81 Q198.102 1097.81 195.834 1097.44 Q193.588 1097.07 191.181 1096.33 L191.181 1091.63 Q193.264 1092.77 195.487 1093.32 Q197.709 1093.88 200.186 1093.88 Q204.19 1093.88 206.528 1091.77 Q208.866 1089.66 208.866 1086.05 Q208.866 1082.44 206.528 1080.34 Q204.19 1078.23 200.186 1078.23 Q198.311 1078.23 196.436 1078.65 Q194.584 1079.06 192.639 1079.94 L192.639 1062.58 Z\" fill=\"#000000\" fill-rule=\"evenodd\" fill-opacity=\"1\" /><path clip-path=\"url(#clip760)\" d=\"M126.205 759.125 Q122.593 759.125 120.765 762.689 Q118.959 766.231 118.959 773.361 Q118.959 780.467 120.765 784.032 Q122.593 787.574 126.205 787.574 Q129.839 787.574 131.644 784.032 Q133.473 780.467 133.473 773.361 Q133.473 766.231 131.644 762.689 Q129.839 759.125 126.205 759.125 M126.205 755.421 Q132.015 755.421 135.07 760.027 Q138.149 764.611 138.149 773.361 Q138.149 782.088 135.07 786.694 Q132.015 791.277 126.205 791.277 Q120.394 791.277 117.316 786.694 Q114.26 782.088 114.26 773.361 Q114.26 764.611 117.316 760.027 Q120.394 755.421 126.205 755.421 Z\" fill=\"#000000\" fill-rule=\"evenodd\" fill-opacity=\"1\" /><path clip-path=\"url(#clip760)\" d=\"M146.366 784.726 L151.251 784.726 L151.251 790.606 L146.366 790.606 L146.366 784.726 Z\" fill=\"#000000\" fill-rule=\"evenodd\" fill-opacity=\"1\" /><path clip-path=\"url(#clip760)\" d=\"M161.482 756.046 L179.839 756.046 L179.839 759.981 L165.765 759.981 L165.765 768.453 Q166.783 768.106 167.802 767.944 Q168.82 767.759 169.839 767.759 Q175.626 767.759 179.005 770.93 Q182.385 774.101 182.385 779.518 Q182.385 785.097 178.913 788.199 Q175.44 791.277 169.121 791.277 Q166.945 791.277 164.677 790.907 Q162.431 790.537 160.024 789.796 L160.024 785.097 Q162.107 786.231 164.329 786.787 Q166.552 787.342 169.028 787.342 Q173.033 787.342 175.371 785.236 Q177.709 783.129 177.709 779.518 Q177.709 775.907 175.371 773.801 Q173.033 771.694 169.028 771.694 Q167.153 771.694 165.278 772.111 Q163.427 772.527 161.482 773.407 L161.482 756.046 Z\" fill=\"#000000\" fill-rule=\"evenodd\" fill-opacity=\"1\" /><path clip-path=\"url(#clip760)\" d=\"M201.598 759.125 Q197.987 759.125 196.158 762.689 Q194.352 766.231 194.352 773.361 Q194.352 780.467 196.158 784.032 Q197.987 787.574 201.598 787.574 Q205.232 787.574 207.037 784.032 Q208.866 780.467 208.866 773.361 Q208.866 766.231 207.037 762.689 Q205.232 759.125 201.598 759.125 M201.598 755.421 Q207.408 755.421 210.463 760.027 Q213.542 764.611 213.542 773.361 Q213.542 782.088 210.463 786.694 Q207.408 791.277 201.598 791.277 Q195.787 791.277 192.709 786.694 Q189.653 782.088 189.653 773.361 Q189.653 764.611 192.709 760.027 Q195.787 755.421 201.598 755.421 Z\" fill=\"#000000\" fill-rule=\"evenodd\" fill-opacity=\"1\" /><path clip-path=\"url(#clip760)\" d=\"M127.2 452.59 Q123.589 452.59 121.76 456.155 Q119.955 459.696 119.955 466.826 Q119.955 473.932 121.76 477.497 Q123.589 481.039 127.2 481.039 Q130.834 481.039 132.64 477.497 Q134.468 473.932 134.468 466.826 Q134.468 459.696 132.64 456.155 Q130.834 452.59 127.2 452.59 M127.2 448.886 Q133.01 448.886 136.066 453.493 Q139.144 458.076 139.144 466.826 Q139.144 475.553 136.066 480.159 Q133.01 484.742 127.2 484.742 Q121.39 484.742 118.311 480.159 Q115.256 475.553 115.256 466.826 Q115.256 458.076 118.311 453.493 Q121.39 448.886 127.2 448.886 Z\" fill=\"#000000\" fill-rule=\"evenodd\" fill-opacity=\"1\" /><path clip-path=\"url(#clip760)\" d=\"M147.362 478.192 L152.246 478.192 L152.246 484.071 L147.362 484.071 L147.362 478.192 Z\" fill=\"#000000\" fill-rule=\"evenodd\" fill-opacity=\"1\" /><path clip-path=\"url(#clip760)\" d=\"M161.251 449.511 L183.473 449.511 L183.473 451.502 L170.927 484.071 L166.042 484.071 L177.848 453.446 L161.251 453.446 L161.251 449.511 Z\" fill=\"#000000\" fill-rule=\"evenodd\" fill-opacity=\"1\" /><path clip-path=\"url(#clip760)\" d=\"M192.639 449.511 L210.996 449.511 L210.996 453.446 L196.922 453.446 L196.922 461.918 Q197.94 461.571 198.959 461.409 Q199.977 461.224 200.996 461.224 Q206.783 461.224 210.162 464.395 Q213.542 467.567 213.542 472.983 Q213.542 478.562 210.07 481.664 Q206.598 484.742 200.278 484.742 Q198.102 484.742 195.834 484.372 Q193.588 484.002 191.181 483.261 L191.181 478.562 Q193.264 479.696 195.487 480.252 Q197.709 480.807 200.186 480.807 Q204.19 480.807 206.528 478.701 Q208.866 476.594 208.866 472.983 Q208.866 469.372 206.528 467.266 Q204.19 465.159 200.186 465.159 Q198.311 465.159 196.436 465.576 Q194.584 465.993 192.639 466.872 L192.639 449.511 Z\" fill=\"#000000\" fill-rule=\"evenodd\" fill-opacity=\"1\" /><path clip-path=\"url(#clip760)\" d=\"M117.015 173.601 L124.654 173.601 L124.654 147.236 L116.343 148.902 L116.343 144.643 L124.607 142.976 L129.283 142.976 L129.283 173.601 L136.922 173.601 L136.922 177.536 L117.015 177.536 L117.015 173.601 Z\" fill=\"#000000\" fill-rule=\"evenodd\" fill-opacity=\"1\" /><path clip-path=\"url(#clip760)\" d=\"M146.366 171.657 L151.251 171.657 L151.251 177.536 L146.366 177.536 L146.366 171.657 Z\" fill=\"#000000\" fill-rule=\"evenodd\" fill-opacity=\"1\" /><path clip-path=\"url(#clip760)\" d=\"M171.436 146.055 Q167.825 146.055 165.996 149.62 Q164.19 153.161 164.19 160.291 Q164.19 167.397 165.996 170.962 Q167.825 174.504 171.436 174.504 Q175.07 174.504 176.876 170.962 Q178.704 167.397 178.704 160.291 Q178.704 153.161 176.876 149.62 Q175.07 146.055 171.436 146.055 M171.436 142.351 Q177.246 142.351 180.301 146.958 Q183.38 151.541 183.38 160.291 Q183.38 169.018 180.301 173.624 Q177.246 178.208 171.436 178.208 Q165.626 178.208 162.547 173.624 Q159.491 169.018 159.491 160.291 Q159.491 151.541 162.547 146.958 Q165.626 142.351 171.436 142.351 Z\" fill=\"#000000\" fill-rule=\"evenodd\" fill-opacity=\"1\" /><path clip-path=\"url(#clip760)\" d=\"M201.598 146.055 Q197.987 146.055 196.158 149.62 Q194.352 153.161 194.352 160.291 Q194.352 167.397 196.158 170.962 Q197.987 174.504 201.598 174.504 Q205.232 174.504 207.037 170.962 Q208.866 167.397 208.866 160.291 Q208.866 153.161 207.037 149.62 Q205.232 146.055 201.598 146.055 M201.598 142.351 Q207.408 142.351 210.463 146.958 Q213.542 151.541 213.542 160.291 Q213.542 169.018 210.463 173.624 Q207.408 178.208 201.598 178.208 Q195.787 178.208 192.709 173.624 Q189.653 169.018 189.653 160.291 Q189.653 151.541 192.709 146.958 Q195.787 142.351 201.598 142.351 Z\" fill=\"#000000\" fill-rule=\"evenodd\" fill-opacity=\"1\" /><path clip-path=\"url(#clip760)\" d=\"M16.4842 987.23 L16.4842 959.921 L21.895 959.921 L21.895 980.8 L35.8996 980.8 L35.8996 961.958 L41.3104 961.958 L41.3104 980.8 L64.0042 980.8 L64.0042 987.23 L16.4842 987.23 Z\" fill=\"#000000\" fill-rule=\"evenodd\" fill-opacity=\"1\" /><path clip-path=\"url(#clip760)\" d=\"M14.5426 935.922 Q21.8632 940.187 29.0246 942.256 Q36.186 944.325 43.5384 944.325 Q50.8908 944.325 58.1159 942.256 Q65.3091 940.155 72.5979 935.922 L72.5979 941.015 Q65.1182 945.789 57.8931 948.176 Q50.668 950.531 43.5384 950.531 Q36.4406 950.531 29.2474 948.176 Q22.0542 945.821 14.5426 941.015 L14.5426 935.922 Z\" fill=\"#000000\" fill-rule=\"evenodd\" fill-opacity=\"1\" /><path clip-path=\"url(#clip760)\" d=\"M32.4621 910.746 Q32.4621 915.456 36.1542 918.194 Q39.8145 920.931 46.212 920.931 Q52.6095 920.931 56.3017 918.225 Q59.9619 915.488 59.9619 910.746 Q59.9619 906.067 56.2698 903.33 Q52.5777 900.592 46.212 900.592 Q39.8781 900.592 36.186 903.33 Q32.4621 906.067 32.4621 910.746 M27.4968 910.746 Q27.4968 903.107 32.4621 898.746 Q37.4273 894.386 46.212 894.386 Q54.9649 894.386 59.9619 898.746 Q64.9272 903.107 64.9272 910.746 Q64.9272 918.416 59.9619 922.777 Q54.9649 927.106 46.212 927.106 Q37.4273 927.106 32.4621 922.777 Q27.4968 918.416 27.4968 910.746 Z\" fill=\"#000000\" fill-rule=\"evenodd\" fill-opacity=\"1\" /><path clip-path=\"url(#clip760)\" d=\"M14.479 866.631 L19.3487 866.631 L19.3487 872.233 Q19.3487 875.384 20.6219 876.625 Q21.895 877.835 25.2052 877.835 L28.3562 877.835 L28.3562 868.191 L32.9077 868.191 L32.9077 877.835 L64.0042 877.835 L64.0042 883.723 L32.9077 883.723 L32.9077 889.325 L28.3562 889.325 L28.3562 883.723 L25.8736 883.723 Q19.9216 883.723 17.2162 880.954 Q14.479 878.185 14.479 872.169 L14.479 866.631 Z\" fill=\"#000000\" fill-rule=\"evenodd\" fill-opacity=\"1\" /><path clip-path=\"url(#clip760)\" d=\"M14.479 843.683 L19.3487 843.683 L19.3487 849.285 Q19.3487 852.436 20.6219 853.677 Q21.895 854.887 25.2052 854.887 L28.3562 854.887 L28.3562 845.243 L32.9077 845.243 L32.9077 854.887 L64.0042 854.887 L64.0042 860.775 L32.9077 860.775 L32.9077 866.377 L28.3562 866.377 L28.3562 860.775 L25.8736 860.775 Q19.9216 860.775 17.2162 858.006 Q14.479 855.237 14.479 849.221 L14.479 843.683 Z\" fill=\"#000000\" fill-rule=\"evenodd\" fill-opacity=\"1\" /><path clip-path=\"url(#clip760)\" d=\"M44.7161 808.29 L47.5806 808.29 L47.5806 835.217 Q53.6281 834.835 56.8109 831.588 Q59.9619 828.31 59.9619 822.485 Q59.9619 819.111 59.1344 815.96 Q58.3069 812.777 56.6518 809.658 L62.1899 809.658 Q63.5267 812.809 64.227 816.119 Q64.9272 819.43 64.9272 822.835 Q64.9272 831.365 59.9619 836.362 Q54.9967 841.328 46.5303 841.328 Q37.7774 841.328 32.6531 836.617 Q27.4968 831.875 27.4968 823.854 Q27.4968 816.661 32.1438 812.491 Q36.7589 808.29 44.7161 808.29 M42.9973 814.146 Q38.1912 814.21 35.3266 816.852 Q32.4621 819.461 32.4621 823.79 Q32.4621 828.692 35.2312 831.652 Q38.0002 834.58 43.0292 835.026 L42.9973 814.146 Z\" fill=\"#000000\" fill-rule=\"evenodd\" fill-opacity=\"1\" /><path clip-path=\"url(#clip760)\" d=\"M33.8307 778.021 Q33.2578 779.007 33.0032 780.185 Q32.7167 781.331 32.7167 782.731 Q32.7167 787.697 35.9632 790.37 Q39.1779 793.012 45.2253 793.012 L64.0042 793.012 L64.0042 798.9 L28.3562 798.9 L28.3562 793.012 L33.8944 793.012 Q30.6479 791.166 29.0883 788.206 Q27.4968 785.246 27.4968 781.013 Q27.4968 780.408 27.5923 779.676 Q27.656 778.944 27.8151 778.053 L33.8307 778.021 Z\" fill=\"#000000\" fill-rule=\"evenodd\" fill-opacity=\"1\" /><path clip-path=\"url(#clip760)\" d=\"M28.3562 755.359 L28.3562 749.152 L58.275 738.012 L28.3562 726.872 L28.3562 720.666 L64.0042 734.034 L64.0042 741.991 L28.3562 755.359 Z\" fill=\"#000000\" fill-rule=\"evenodd\" fill-opacity=\"1\" /><path clip-path=\"url(#clip760)\" d=\"M46.0847 696.381 Q46.0847 703.478 47.7079 706.216 Q49.3312 708.953 53.2461 708.953 Q56.3653 708.953 58.2114 706.916 Q60.0256 704.847 60.0256 701.314 Q60.0256 696.444 56.5881 693.516 Q53.1188 690.556 47.3897 690.556 L46.0847 690.556 L46.0847 696.381 M43.6657 684.699 L64.0042 684.699 L64.0042 690.556 L58.5933 690.556 Q61.8398 692.561 63.3994 695.553 Q64.9272 698.545 64.9272 702.874 Q64.9272 708.348 61.8716 711.595 Q58.7843 714.809 53.6281 714.809 Q47.6125 714.809 44.5569 710.799 Q41.5014 706.757 41.5014 698.768 L41.5014 690.556 L40.9285 690.556 Q36.8862 690.556 34.6901 693.229 Q32.4621 695.871 32.4621 700.677 Q32.4621 703.733 33.1941 706.629 Q33.9262 709.526 35.3903 712.199 L29.9795 712.199 Q28.7381 708.985 28.1334 705.961 Q27.4968 702.937 27.4968 700.073 Q27.4968 692.338 31.5072 688.519 Q35.5176 684.699 43.6657 684.699 Z\" fill=\"#000000\" fill-rule=\"evenodd\" fill-opacity=\"1\" /><path clip-path=\"url(#clip760)\" d=\"M14.479 672.636 L14.479 666.78 L64.0042 666.78 L64.0042 672.636 L14.479 672.636 Z\" fill=\"#000000\" fill-rule=\"evenodd\" fill-opacity=\"1\" /><path clip-path=\"url(#clip760)\" d=\"M49.9359 655.131 L28.3562 655.131 L28.3562 649.274 L49.7131 649.274 Q54.7739 649.274 57.3202 647.301 Q59.8346 645.328 59.8346 641.381 Q59.8346 636.638 56.8109 633.901 Q53.7872 631.132 48.5673 631.132 L28.3562 631.132 L28.3562 625.276 L64.0042 625.276 L64.0042 631.132 L58.5296 631.132 Q61.7762 633.265 63.3676 636.097 Q64.9272 638.898 64.9272 642.622 Q64.9272 648.765 61.1078 651.948 Q57.2883 655.131 49.9359 655.131 M27.4968 640.394 L27.4968 640.394 Z\" fill=\"#000000\" fill-rule=\"evenodd\" fill-opacity=\"1\" /><path clip-path=\"url(#clip760)\" d=\"M44.7161 582.721 L47.5806 582.721 L47.5806 609.648 Q53.6281 609.266 56.8109 606.019 Q59.9619 602.741 59.9619 596.916 Q59.9619 593.543 59.1344 590.391 Q58.3069 587.209 56.6518 584.089 L62.1899 584.089 Q63.5267 587.24 64.227 590.551 Q64.9272 593.861 64.9272 597.266 Q64.9272 605.796 59.9619 610.794 Q54.9967 615.759 46.5303 615.759 Q37.7774 615.759 32.6531 611.048 Q27.4968 606.306 27.4968 598.285 Q27.4968 591.092 32.1438 586.922 Q36.7589 582.721 44.7161 582.721 M42.9973 588.577 Q38.1912 588.641 35.3266 591.283 Q32.4621 593.893 32.4621 598.221 Q32.4621 603.123 35.2312 606.083 Q38.0002 609.011 43.0292 609.457 L42.9973 588.577 Z\" fill=\"#000000\" fill-rule=\"evenodd\" fill-opacity=\"1\" /><path clip-path=\"url(#clip760)\" d=\"M14.5426 574.032 L14.5426 568.939 Q22.0542 564.165 29.2474 561.809 Q36.4406 559.422 43.5384 559.422 Q50.668 559.422 57.8931 561.809 Q65.1182 564.165 72.5979 568.939 L72.5979 574.032 Q65.3091 569.798 58.1159 567.73 Q50.8908 565.629 43.5384 565.629 Q36.186 565.629 29.0246 567.73 Q21.8632 569.798 14.5426 574.032 Z\" fill=\"#000000\" fill-rule=\"evenodd\" fill-opacity=\"1\" /><path clip-path=\"url(#clip760)\" d=\"M1064.66 16.7545 L1064.66 25.383 Q1060.53 21.5346 1055.83 19.6307 Q1051.17 17.7268 1045.9 17.7268 Q1035.53 17.7268 1030.02 24.0867 Q1024.51 30.4061 1024.51 42.3968 Q1024.51 54.3469 1030.02 60.7069 Q1035.53 67.0263 1045.9 67.0263 Q1051.17 67.0263 1055.83 65.1223 Q1060.53 63.2184 1064.66 59.3701 L1064.66 67.9175 Q1060.36 70.8341 1055.54 72.2924 Q1050.76 73.7508 1045.42 73.7508 Q1031.68 73.7508 1023.78 65.3654 Q1015.88 56.9395 1015.88 42.3968 Q1015.88 27.8135 1023.78 19.4281 Q1031.68 11.0023 1045.42 11.0023 Q1050.84 11.0023 1055.62 12.4606 Q1060.44 13.8784 1064.66 16.7545 Z\" fill=\"#000000\" fill-rule=\"evenodd\" fill-opacity=\"1\" /><path clip-path=\"url(#clip760)\" d=\"M1085.48 18.8205 L1085.48 65.8515 L1095.36 65.8515 Q1107.88 65.8515 1113.67 60.1802 Q1119.51 54.509 1119.51 42.2752 Q1119.51 30.1225 1113.67 24.4918 Q1107.88 18.8205 1095.36 18.8205 L1085.48 18.8205 M1077.3 12.096 L1094.11 12.096 Q1111.69 12.096 1119.91 19.4281 Q1128.13 26.7198 1128.13 42.2752 Q1128.13 57.9117 1119.87 65.2439 Q1111.61 72.576 1094.11 72.576 L1077.3 72.576 L1077.3 12.096 Z\" fill=\"#000000\" fill-rule=\"evenodd\" fill-opacity=\"1\" /><path clip-path=\"url(#clip760)\" d=\"M1141.18 12.096 L1175.94 12.096 L1175.94 18.9825 L1149.36 18.9825 L1149.36 36.8065 L1173.34 36.8065 L1173.34 43.6931 L1149.36 43.6931 L1149.36 72.576 L1141.18 72.576 L1141.18 12.096 Z\" fill=\"#000000\" fill-rule=\"evenodd\" fill-opacity=\"1\" /><path clip-path=\"url(#clip760)\" d=\"M1217.5 28.5427 L1217.5 35.5912 Q1214.34 33.9709 1210.94 33.1607 Q1207.53 32.3505 1203.89 32.3505 Q1198.34 32.3505 1195.54 34.0519 Q1192.79 35.7533 1192.79 39.156 Q1192.79 41.7486 1194.77 43.2475 Q1196.76 44.7058 1202.75 46.0426 L1205.3 46.6097 Q1213.24 48.3111 1216.57 51.4303 Q1219.93 54.509 1219.93 60.0587 Q1219.93 66.3781 1214.91 70.0644 Q1209.92 73.7508 1201.17 73.7508 Q1197.53 73.7508 1193.56 73.0216 Q1189.63 72.3329 1185.25 70.9151 L1185.25 63.2184 Q1189.38 65.3654 1193.39 66.4591 Q1197.41 67.5124 1201.33 67.5124 Q1206.6 67.5124 1209.44 65.73 Q1212.27 63.9071 1212.27 60.6258 Q1212.27 57.5877 1210.21 55.9673 Q1208.18 54.3469 1201.25 52.8481 L1198.66 52.2405 Q1191.73 50.7821 1188.66 47.7845 Q1185.58 44.7463 1185.58 39.4801 Q1185.58 33.0797 1190.11 29.5959 Q1194.65 26.1121 1203 26.1121 Q1207.13 26.1121 1210.77 26.7198 Q1214.42 27.3274 1217.5 28.5427 Z\" fill=\"#000000\" fill-rule=\"evenodd\" fill-opacity=\"1\" /><path clip-path=\"url(#clip760)\" d=\"M1275.75 32.4315 Q1269.75 32.4315 1266.27 37.1306 Q1262.79 41.7891 1262.79 49.9314 Q1262.79 58.0738 1266.23 62.7728 Q1269.71 67.4314 1275.75 67.4314 Q1281.7 67.4314 1285.19 62.7323 Q1288.67 58.0333 1288.67 49.9314 Q1288.67 41.8701 1285.19 37.1711 Q1281.7 32.4315 1275.75 32.4315 M1275.75 26.1121 Q1285.47 26.1121 1291.02 32.4315 Q1296.57 38.7509 1296.57 49.9314 Q1296.57 61.0714 1291.02 67.4314 Q1285.47 73.7508 1275.75 73.7508 Q1265.99 73.7508 1260.44 67.4314 Q1254.93 61.0714 1254.93 49.9314 Q1254.93 38.7509 1260.44 32.4315 Q1265.99 26.1121 1275.75 26.1121 Z\" fill=\"#000000\" fill-rule=\"evenodd\" fill-opacity=\"1\" /><path clip-path=\"url(#clip760)\" d=\"M1331.9 9.54393 L1331.9 15.7418 L1324.77 15.7418 Q1320.76 15.7418 1319.18 17.3622 Q1317.64 18.9825 1317.64 23.1955 L1317.64 27.2059 L1329.91 27.2059 L1329.91 32.9987 L1317.64 32.9987 L1317.64 72.576 L1310.14 72.576 L1310.14 32.9987 L1303.01 32.9987 L1303.01 27.2059 L1310.14 27.2059 L1310.14 24.0462 Q1310.14 16.471 1313.67 13.0277 Q1317.19 9.54393 1324.85 9.54393 L1331.9 9.54393 Z\" fill=\"#000000\" fill-rule=\"evenodd\" fill-opacity=\"1\" /><path clip-path=\"url(#clip760)\" d=\"M1356.44 12.096 L1407.61 12.096 L1407.61 18.9825 L1386.14 18.9825 L1386.14 72.576 L1377.91 72.576 L1377.91 18.9825 L1356.44 18.9825 L1356.44 12.096 Z\" fill=\"#000000\" fill-rule=\"evenodd\" fill-opacity=\"1\" /><path clip-path=\"url(#clip760)\" d=\"M1421.14 76.7889 Q1417.98 84.8907 1414.98 87.3618 Q1411.98 89.8329 1406.96 89.8329 L1401 89.8329 L1401 83.5945 L1405.38 83.5945 Q1408.46 83.5945 1410.16 82.1361 Q1411.86 80.6778 1413.93 75.2496 L1415.26 71.8468 L1396.91 27.2059 L1404.81 27.2059 L1418.99 62.6918 L1433.17 27.2059 L1441.07 27.2059 L1421.14 76.7889 Z\" fill=\"#000000\" fill-rule=\"evenodd\" fill-opacity=\"1\" /><path clip-path=\"url(#clip760)\" d=\"M1458.57 65.7705 L1458.57 89.8329 L1451.07 89.8329 L1451.07 27.2059 L1458.57 27.2059 L1458.57 34.0924 Q1460.92 30.0415 1464.48 28.0971 Q1468.09 26.1121 1473.07 26.1121 Q1481.33 26.1121 1486.48 32.6746 Q1491.66 39.2371 1491.66 49.9314 Q1491.66 60.6258 1486.48 67.1883 Q1481.33 73.7508 1473.07 73.7508 Q1468.09 73.7508 1464.48 71.8063 Q1460.92 69.8214 1458.57 65.7705 M1483.93 49.9314 Q1483.93 41.7081 1480.52 37.0496 Q1477.16 32.3505 1471.25 32.3505 Q1465.33 32.3505 1461.93 37.0496 Q1458.57 41.7081 1458.57 49.9314 Q1458.57 58.1548 1461.93 62.8538 Q1465.33 67.5124 1471.25 67.5124 Q1477.16 67.5124 1480.52 62.8538 Q1483.93 58.1548 1483.93 49.9314 Z\" fill=\"#000000\" fill-rule=\"evenodd\" fill-opacity=\"1\" /><path clip-path=\"url(#clip760)\" d=\"M1542.83 48.0275 L1542.83 51.6733 L1508.56 51.6733 Q1509.04 59.3701 1513.17 63.421 Q1517.35 67.4314 1524.76 67.4314 Q1529.05 67.4314 1533.06 66.3781 Q1537.11 65.3249 1541.08 63.2184 L1541.08 70.267 Q1537.07 71.9684 1532.86 72.8596 Q1528.65 73.7508 1524.31 73.7508 Q1513.46 73.7508 1507.1 67.4314 Q1500.78 61.1119 1500.78 50.3365 Q1500.78 39.1965 1506.77 32.6746 Q1512.81 26.1121 1523.02 26.1121 Q1532.17 26.1121 1537.48 32.0264 Q1542.83 37.9003 1542.83 48.0275 M1535.37 45.84 Q1535.29 39.7232 1531.93 36.0774 Q1528.61 32.4315 1523.1 32.4315 Q1516.86 32.4315 1513.09 35.9558 Q1509.37 39.4801 1508.8 45.8805 L1535.37 45.84 Z\" fill=\"#000000\" fill-rule=\"evenodd\" fill-opacity=\"1\" /><path clip-path=\"url(#clip760)\" d=\"M1583.98 28.5427 L1583.98 35.5912 Q1580.82 33.9709 1577.42 33.1607 Q1574.02 32.3505 1570.37 32.3505 Q1564.82 32.3505 1562.03 34.0519 Q1559.27 35.7533 1559.27 39.156 Q1559.27 41.7486 1561.26 43.2475 Q1563.24 44.7058 1569.24 46.0426 L1571.79 46.6097 Q1579.73 48.3111 1583.05 51.4303 Q1586.41 54.509 1586.41 60.0587 Q1586.41 66.3781 1581.39 70.0644 Q1576.41 73.7508 1567.66 73.7508 Q1564.01 73.7508 1560.04 73.0216 Q1556.11 72.3329 1551.74 70.9151 L1551.74 63.2184 Q1555.87 65.3654 1559.88 66.4591 Q1563.89 67.5124 1567.82 67.5124 Q1573.09 67.5124 1575.92 65.73 Q1578.76 63.9071 1578.76 60.6258 Q1578.76 57.5877 1576.69 55.9673 Q1574.67 54.3469 1567.74 52.8481 L1565.15 52.2405 Q1558.22 50.7821 1555.14 47.7845 Q1552.06 44.7463 1552.06 39.4801 Q1552.06 33.0797 1556.6 29.5959 Q1561.14 26.1121 1569.48 26.1121 Q1573.61 26.1121 1577.26 26.7198 Q1580.9 27.3274 1583.98 28.5427 Z\" fill=\"#000000\" fill-rule=\"evenodd\" fill-opacity=\"1\" /><polyline clip-path=\"url(#clip762)\" style=\"stroke:#009af9; stroke-linecap:butt; stroke-linejoin:round; stroke-width:4; stroke-opacity:1; fill:none\" points=\"\n",
       "  309.067,1386.4 328.444,1363.75 507.612,1156.43 615.285,1036.04 706.321,938.328 805.211,837.557 896.379,750.434 994.121,663.879 1107.36,573.095 1208,501.276 \n",
       "  1296.25,445.184 1392.47,391.207 1489.26,344.149 1596.27,300.026 1698.09,265.093 1803.96,235.279 1893.07,214.717 2001.88,194.463 2104.16,179.552 2268.01,162.312 \n",
       "  2293.23,160.256 \n",
       "  \"/>\n",
       "<polyline clip-path=\"url(#clip762)\" style=\"stroke:#e26f46; stroke-linecap:butt; stroke-linejoin:round; stroke-width:4; stroke-opacity:1; fill:none\" points=\"\n",
       "  309.067,1386.4 313.911,1382.8 318.755,1379.04 323.6,1375.11 328.444,1371 350.84,1349.62 373.236,1323.97 395.632,1293.72 418.028,1258.59 440.424,1218.46 \n",
       "  462.82,1173.35 485.216,1123.45 507.612,1069.13 534.53,998.798 561.448,924.171 588.367,846.81 615.285,768.461 660.803,638.772 706.321,519.542 731.043,461.475 \n",
       "  755.766,409.019 780.488,362.554 805.211,322.195 828.003,290.296 850.795,263.242 873.587,240.677 896.379,222.166 945.25,193.904 994.121,177.346 1050.74,167.407 \n",
       "  1107.36,162.979 1208,160.643 1296.25,160.311 1392.47,160.261 1489.26,160.257 1596.27,160.256 1698.09,160.256 1803.96,160.256 1893.07,160.256 2001.88,160.256 \n",
       "  2104.16,160.256 2268.01,160.256 2293.23,160.256 \n",
       "  \"/>\n",
       "<polyline clip-path=\"url(#clip762)\" style=\"stroke:#3da44d; stroke-linecap:butt; stroke-linejoin:round; stroke-width:4; stroke-opacity:1; fill:none\" points=\"\n",
       "  309.067,1386.4 313.911,1382.88 318.755,1379.07 323.6,1374.94 328.444,1370.47 350.84,1344.96 373.236,1310.14 395.632,1264.5 418.028,1207 440.424,1137.4 \n",
       "  462.82,1056.45 485.216,965.982 507.612,868.831 534.53,748.319 561.448,630.188 588.367,520.869 615.285,425.364 638.044,357.621 660.803,302.397 683.562,259.197 \n",
       "  706.321,226.767 731.043,201.754 755.766,185.065 780.488,174.458 805.211,168.036 850.795,162.538 896.379,160.83 994.121,160.274 1107.36,160.256 1208,160.256 \n",
       "  1296.25,160.256 1392.47,160.256 1489.26,160.256 1596.27,160.256 1698.09,160.256 1803.96,160.256 1893.07,160.256 2001.88,160.256 2104.16,160.256 2268.01,160.256 \n",
       "  2293.23,160.256 \n",
       "  \"/>\n",
       "<polyline clip-path=\"url(#clip762)\" style=\"stroke:#c271d2; stroke-linecap:butt; stroke-linejoin:round; stroke-width:4; stroke-opacity:1; fill:none\" points=\"\n",
       "  309.067,1386.4 311.489,1350.03 313.911,1301.42 316.333,1239.24 318.755,1163.18 321.178,1074.17 323.6,974.549 324.811,921.837 326.022,867.895 327.233,813.307 \n",
       "  328.444,758.676 331.243,635.528 334.043,522.209 335.443,470.954 336.842,423.941 338.242,381.456 339.642,343.631 341.042,310.451 342.441,281.777 343.841,257.362 \n",
       "  345.241,236.881 348.04,206.171 350.84,186.373 353.639,174.346 356.439,167.46 359.238,163.744 362.038,161.855 367.637,160.54 373.236,160.297 395.632,160.256 \n",
       "  418.028,160.256 462.82,160.256 507.612,160.256 561.448,160.256 615.285,160.256 660.803,160.256 706.321,160.256 805.211,160.256 896.379,160.256 994.121,160.256 \n",
       "  1107.36,160.256 1208,160.256 1296.25,160.256 1392.47,160.256 1489.26,160.256 1596.27,160.256 1698.09,160.256 1803.96,160.256 1893.07,160.256 2001.88,160.256 \n",
       "  2104.16,160.256 2268.01,160.256 2293.23,160.256 \n",
       "  \"/>\n",
       "<polyline clip-path=\"url(#clip762)\" style=\"stroke:#ac8d18; stroke-linecap:butt; stroke-linejoin:round; stroke-width:4; stroke-opacity:1; fill:none\" points=\"\n",
       "  309.067,1386.4 313.911,1363.31 318.755,1338.36 323.6,1311.53 328.444,1282.86 339.642,1209.75 350.84,1127.97 362.038,1039.12 373.236,945.373 384.434,849.316 \n",
       "  395.632,753.726 406.83,661.342 418.028,574.631 429.226,495.589 440.424,425.616 451.622,365.456 462.82,315.225 474.018,274.491 485.216,242.412 496.414,217.877 \n",
       "  507.612,199.653 521.071,184.364 534.53,174.461 547.989,168.312 561.448,164.652 588.367,161.42 615.285,160.519 660.803,160.271 706.321,160.257 805.211,160.256 \n",
       "  896.379,160.256 994.121,160.256 1107.36,160.256 1208,160.256 1296.25,160.256 1392.47,160.256 1489.26,160.256 1596.27,160.256 1698.09,160.256 1803.96,160.256 \n",
       "  1893.07,160.256 2001.88,160.256 2104.16,160.256 2268.01,160.256 2293.23,160.256 \n",
       "  \"/>\n",
       "<path clip-path=\"url(#clip760)\" d=\"\n",
       "M1897.36 477.836 L2282.65 477.836 L2282.65 166.796 L1897.36 166.796  Z\n",
       "  \" fill=\"#ffffff\" fill-rule=\"evenodd\" fill-opacity=\"1\"/>\n",
       "<polyline clip-path=\"url(#clip760)\" style=\"stroke:#000000; stroke-linecap:butt; stroke-linejoin:round; stroke-width:4; stroke-opacity:1; fill:none\" points=\"\n",
       "  1897.36,477.836 2282.65,477.836 2282.65,166.796 1897.36,166.796 1897.36,477.836 \n",
       "  \"/>\n",
       "<polyline clip-path=\"url(#clip760)\" style=\"stroke:#009af9; stroke-linecap:butt; stroke-linejoin:round; stroke-width:4; stroke-opacity:1; fill:none\" points=\"\n",
       "  1920.73,218.636 2060.95,218.636 \n",
       "  \"/>\n",
       "<path clip-path=\"url(#clip760)\" d=\"M2084.31 201.356 L2113.55 201.356 L2113.55 205.291 L2101.28 205.291 L2101.28 235.916 L2096.58 235.916 L2096.58 205.291 L2084.31 205.291 L2084.31 201.356 Z\" fill=\"#000000\" fill-rule=\"evenodd\" fill-opacity=\"1\" /><path clip-path=\"url(#clip760)\" d=\"M2121.28 238.323 Q2119.48 242.953 2117.76 244.365 Q2116.05 245.777 2113.18 245.777 L2109.78 245.777 L2109.78 242.212 L2112.28 242.212 Q2114.04 242.212 2115.01 241.379 Q2115.98 240.545 2117.16 237.443 L2117.93 235.499 L2107.44 209.99 L2111.95 209.99 L2120.05 230.268 L2128.16 209.99 L2132.67 209.99 L2121.28 238.323 Z\" fill=\"#000000\" fill-rule=\"evenodd\" fill-opacity=\"1\" /><path clip-path=\"url(#clip760)\" d=\"M2142.67 232.027 L2142.67 245.777 L2138.39 245.777 L2138.39 209.99 L2142.67 209.99 L2142.67 213.925 Q2144.01 211.61 2146.05 210.499 Q2148.11 209.365 2150.96 209.365 Q2155.68 209.365 2158.62 213.115 Q2161.58 216.865 2161.58 222.976 Q2161.58 229.087 2158.62 232.837 Q2155.68 236.587 2150.96 236.587 Q2148.11 236.587 2146.05 235.476 Q2144.01 234.342 2142.67 232.027 M2157.16 222.976 Q2157.16 218.277 2155.22 215.615 Q2153.3 212.93 2149.92 212.93 Q2146.54 212.93 2144.59 215.615 Q2142.67 218.277 2142.67 222.976 Q2142.67 227.675 2144.59 230.36 Q2146.54 233.022 2149.92 233.022 Q2153.3 233.022 2155.22 230.36 Q2157.16 227.675 2157.16 222.976 Z\" fill=\"#000000\" fill-rule=\"evenodd\" fill-opacity=\"1\" /><path clip-path=\"url(#clip760)\" d=\"M2190.82 221.888 L2190.82 223.971 L2171.24 223.971 Q2171.51 228.369 2173.87 230.684 Q2176.26 232.976 2180.49 232.976 Q2182.95 232.976 2185.24 232.374 Q2187.55 231.772 2189.82 230.569 L2189.82 234.596 Q2187.53 235.568 2185.12 236.078 Q2182.72 236.587 2180.24 236.587 Q2174.04 236.587 2170.4 232.976 Q2166.79 229.365 2166.79 223.207 Q2166.79 216.842 2170.22 213.115 Q2173.67 209.365 2179.5 209.365 Q2184.73 209.365 2187.76 212.745 Q2190.82 216.101 2190.82 221.888 M2186.56 220.638 Q2186.51 217.143 2184.59 215.059 Q2182.69 212.976 2179.55 212.976 Q2175.98 212.976 2173.83 214.99 Q2171.7 217.004 2171.37 220.661 L2186.56 220.638 Z\" fill=\"#000000\" fill-rule=\"evenodd\" fill-opacity=\"1\" /><path clip-path=\"url(#clip760)\" d=\"M2214.29 231.981 L2221.93 231.981 L2221.93 205.615 L2213.62 207.282 L2213.62 203.022 L2221.88 201.356 L2226.56 201.356 L2226.56 231.981 L2234.2 231.981 L2234.2 235.916 L2214.29 235.916 L2214.29 231.981 Z\" fill=\"#000000\" fill-rule=\"evenodd\" fill-opacity=\"1\" /><polyline clip-path=\"url(#clip760)\" style=\"stroke:#e26f46; stroke-linecap:butt; stroke-linejoin:round; stroke-width:4; stroke-opacity:1; fill:none\" points=\"\n",
       "  1920.73,270.476 2060.95,270.476 \n",
       "  \"/>\n",
       "<path clip-path=\"url(#clip760)\" d=\"M2084.31 253.196 L2113.55 253.196 L2113.55 257.131 L2101.28 257.131 L2101.28 287.756 L2096.58 287.756 L2096.58 257.131 L2084.31 257.131 L2084.31 253.196 Z\" fill=\"#000000\" fill-rule=\"evenodd\" fill-opacity=\"1\" /><path clip-path=\"url(#clip760)\" d=\"M2121.28 290.163 Q2119.48 294.793 2117.76 296.205 Q2116.05 297.617 2113.18 297.617 L2109.78 297.617 L2109.78 294.052 L2112.28 294.052 Q2114.04 294.052 2115.01 293.219 Q2115.98 292.385 2117.16 289.283 L2117.93 287.339 L2107.44 261.83 L2111.95 261.83 L2120.05 282.108 L2128.16 261.83 L2132.67 261.83 L2121.28 290.163 Z\" fill=\"#000000\" fill-rule=\"evenodd\" fill-opacity=\"1\" /><path clip-path=\"url(#clip760)\" d=\"M2142.67 283.867 L2142.67 297.617 L2138.39 297.617 L2138.39 261.83 L2142.67 261.83 L2142.67 265.765 Q2144.01 263.45 2146.05 262.339 Q2148.11 261.205 2150.96 261.205 Q2155.68 261.205 2158.62 264.955 Q2161.58 268.705 2161.58 274.816 Q2161.58 280.927 2158.62 284.677 Q2155.68 288.427 2150.96 288.427 Q2148.11 288.427 2146.05 287.316 Q2144.01 286.182 2142.67 283.867 M2157.16 274.816 Q2157.16 270.117 2155.22 267.455 Q2153.3 264.77 2149.92 264.77 Q2146.54 264.77 2144.59 267.455 Q2142.67 270.117 2142.67 274.816 Q2142.67 279.515 2144.59 282.2 Q2146.54 284.862 2149.92 284.862 Q2153.3 284.862 2155.22 282.2 Q2157.16 279.515 2157.16 274.816 Z\" fill=\"#000000\" fill-rule=\"evenodd\" fill-opacity=\"1\" /><path clip-path=\"url(#clip760)\" d=\"M2190.82 273.728 L2190.82 275.811 L2171.24 275.811 Q2171.51 280.209 2173.87 282.524 Q2176.26 284.816 2180.49 284.816 Q2182.95 284.816 2185.24 284.214 Q2187.55 283.612 2189.82 282.409 L2189.82 286.436 Q2187.53 287.408 2185.12 287.918 Q2182.72 288.427 2180.24 288.427 Q2174.04 288.427 2170.4 284.816 Q2166.79 281.205 2166.79 275.047 Q2166.79 268.682 2170.22 264.955 Q2173.67 261.205 2179.5 261.205 Q2184.73 261.205 2187.76 264.585 Q2190.82 267.941 2190.82 273.728 M2186.56 272.478 Q2186.51 268.983 2184.59 266.899 Q2182.69 264.816 2179.55 264.816 Q2175.98 264.816 2173.83 266.83 Q2171.7 268.844 2171.37 272.501 L2186.56 272.478 Z\" fill=\"#000000\" fill-rule=\"evenodd\" fill-opacity=\"1\" /><path clip-path=\"url(#clip760)\" d=\"M2217.51 283.821 L2233.83 283.821 L2233.83 287.756 L2211.88 287.756 L2211.88 283.821 Q2214.55 281.066 2219.13 276.436 Q2223.73 271.784 2224.92 270.441 Q2227.16 267.918 2228.04 266.182 Q2228.94 264.423 2228.94 262.733 Q2228.94 259.978 2227 258.242 Q2225.08 256.506 2221.98 256.506 Q2219.78 256.506 2217.32 257.27 Q2214.89 258.034 2212.11 259.585 L2212.11 254.862 Q2214.94 253.728 2217.39 253.149 Q2219.85 252.571 2221.88 252.571 Q2227.25 252.571 2230.45 255.256 Q2233.64 257.941 2233.64 262.432 Q2233.64 264.561 2232.83 266.483 Q2232.04 268.381 2229.94 270.973 Q2229.36 271.645 2226.26 274.862 Q2223.16 278.057 2217.51 283.821 Z\" fill=\"#000000\" fill-rule=\"evenodd\" fill-opacity=\"1\" /><polyline clip-path=\"url(#clip760)\" style=\"stroke:#3da44d; stroke-linecap:butt; stroke-linejoin:round; stroke-width:4; stroke-opacity:1; fill:none\" points=\"\n",
       "  1920.73,322.316 2060.95,322.316 \n",
       "  \"/>\n",
       "<path clip-path=\"url(#clip760)\" d=\"M2084.31 305.036 L2113.55 305.036 L2113.55 308.971 L2101.28 308.971 L2101.28 339.596 L2096.58 339.596 L2096.58 308.971 L2084.31 308.971 L2084.31 305.036 Z\" fill=\"#000000\" fill-rule=\"evenodd\" fill-opacity=\"1\" /><path clip-path=\"url(#clip760)\" d=\"M2121.28 342.003 Q2119.48 346.633 2117.76 348.045 Q2116.05 349.457 2113.18 349.457 L2109.78 349.457 L2109.78 345.892 L2112.28 345.892 Q2114.04 345.892 2115.01 345.059 Q2115.98 344.225 2117.16 341.123 L2117.93 339.179 L2107.44 313.67 L2111.95 313.67 L2120.05 333.948 L2128.16 313.67 L2132.67 313.67 L2121.28 342.003 Z\" fill=\"#000000\" fill-rule=\"evenodd\" fill-opacity=\"1\" /><path clip-path=\"url(#clip760)\" d=\"M2142.67 335.707 L2142.67 349.457 L2138.39 349.457 L2138.39 313.67 L2142.67 313.67 L2142.67 317.605 Q2144.01 315.29 2146.05 314.179 Q2148.11 313.045 2150.96 313.045 Q2155.68 313.045 2158.62 316.795 Q2161.58 320.545 2161.58 326.656 Q2161.58 332.767 2158.62 336.517 Q2155.68 340.267 2150.96 340.267 Q2148.11 340.267 2146.05 339.156 Q2144.01 338.022 2142.67 335.707 M2157.16 326.656 Q2157.16 321.957 2155.22 319.295 Q2153.3 316.61 2149.92 316.61 Q2146.54 316.61 2144.59 319.295 Q2142.67 321.957 2142.67 326.656 Q2142.67 331.355 2144.59 334.04 Q2146.54 336.702 2149.92 336.702 Q2153.3 336.702 2155.22 334.04 Q2157.16 331.355 2157.16 326.656 Z\" fill=\"#000000\" fill-rule=\"evenodd\" fill-opacity=\"1\" /><path clip-path=\"url(#clip760)\" d=\"M2190.82 325.568 L2190.82 327.651 L2171.24 327.651 Q2171.51 332.049 2173.87 334.364 Q2176.26 336.656 2180.49 336.656 Q2182.95 336.656 2185.24 336.054 Q2187.55 335.452 2189.82 334.249 L2189.82 338.276 Q2187.53 339.248 2185.12 339.758 Q2182.72 340.267 2180.24 340.267 Q2174.04 340.267 2170.4 336.656 Q2166.79 333.045 2166.79 326.887 Q2166.79 320.522 2170.22 316.795 Q2173.67 313.045 2179.5 313.045 Q2184.73 313.045 2187.76 316.425 Q2190.82 319.781 2190.82 325.568 M2186.56 324.318 Q2186.51 320.823 2184.59 318.739 Q2182.69 316.656 2179.55 316.656 Q2175.98 316.656 2173.83 318.67 Q2171.7 320.684 2171.37 324.341 L2186.56 324.318 Z\" fill=\"#000000\" fill-rule=\"evenodd\" fill-opacity=\"1\" /><path clip-path=\"url(#clip760)\" d=\"M2227.65 320.962 Q2231 321.679 2232.88 323.948 Q2234.78 326.216 2234.78 329.549 Q2234.78 334.665 2231.26 337.466 Q2227.74 340.267 2221.26 340.267 Q2219.08 340.267 2216.77 339.827 Q2214.48 339.411 2212.02 338.554 L2212.02 334.04 Q2213.97 335.174 2216.28 335.753 Q2218.6 336.332 2221.12 336.332 Q2225.52 336.332 2227.81 334.596 Q2230.12 332.86 2230.12 329.549 Q2230.12 326.494 2227.97 324.781 Q2225.84 323.045 2222.02 323.045 L2217.99 323.045 L2217.99 319.202 L2222.21 319.202 Q2225.66 319.202 2227.48 317.837 Q2229.31 316.448 2229.31 313.855 Q2229.31 311.193 2227.42 309.781 Q2225.54 308.346 2222.02 308.346 Q2220.1 308.346 2217.9 308.763 Q2215.7 309.179 2213.06 310.059 L2213.06 305.892 Q2215.73 305.151 2218.04 304.781 Q2220.38 304.411 2222.44 304.411 Q2227.76 304.411 2230.86 306.841 Q2233.97 309.249 2233.97 313.369 Q2233.97 316.239 2232.32 318.23 Q2230.68 320.198 2227.65 320.962 Z\" fill=\"#000000\" fill-rule=\"evenodd\" fill-opacity=\"1\" /><polyline clip-path=\"url(#clip760)\" style=\"stroke:#c271d2; stroke-linecap:butt; stroke-linejoin:round; stroke-width:4; stroke-opacity:1; fill:none\" points=\"\n",
       "  1920.73,374.156 2060.95,374.156 \n",
       "  \"/>\n",
       "<path clip-path=\"url(#clip760)\" d=\"M2084.31 356.876 L2113.55 356.876 L2113.55 360.811 L2101.28 360.811 L2101.28 391.436 L2096.58 391.436 L2096.58 360.811 L2084.31 360.811 L2084.31 356.876 Z\" fill=\"#000000\" fill-rule=\"evenodd\" fill-opacity=\"1\" /><path clip-path=\"url(#clip760)\" d=\"M2121.28 393.843 Q2119.48 398.473 2117.76 399.885 Q2116.05 401.297 2113.18 401.297 L2109.78 401.297 L2109.78 397.732 L2112.28 397.732 Q2114.04 397.732 2115.01 396.899 Q2115.98 396.065 2117.16 392.963 L2117.93 391.019 L2107.44 365.51 L2111.95 365.51 L2120.05 385.788 L2128.16 365.51 L2132.67 365.51 L2121.28 393.843 Z\" fill=\"#000000\" fill-rule=\"evenodd\" fill-opacity=\"1\" /><path clip-path=\"url(#clip760)\" d=\"M2142.67 387.547 L2142.67 401.297 L2138.39 401.297 L2138.39 365.51 L2142.67 365.51 L2142.67 369.445 Q2144.01 367.13 2146.05 366.019 Q2148.11 364.885 2150.96 364.885 Q2155.68 364.885 2158.62 368.635 Q2161.58 372.385 2161.58 378.496 Q2161.58 384.607 2158.62 388.357 Q2155.68 392.107 2150.96 392.107 Q2148.11 392.107 2146.05 390.996 Q2144.01 389.862 2142.67 387.547 M2157.16 378.496 Q2157.16 373.797 2155.22 371.135 Q2153.3 368.45 2149.92 368.45 Q2146.54 368.45 2144.59 371.135 Q2142.67 373.797 2142.67 378.496 Q2142.67 383.195 2144.59 385.88 Q2146.54 388.542 2149.92 388.542 Q2153.3 388.542 2155.22 385.88 Q2157.16 383.195 2157.16 378.496 Z\" fill=\"#000000\" fill-rule=\"evenodd\" fill-opacity=\"1\" /><path clip-path=\"url(#clip760)\" d=\"M2190.82 377.408 L2190.82 379.491 L2171.24 379.491 Q2171.51 383.889 2173.87 386.204 Q2176.26 388.496 2180.49 388.496 Q2182.95 388.496 2185.24 387.894 Q2187.55 387.292 2189.82 386.089 L2189.82 390.116 Q2187.53 391.088 2185.12 391.598 Q2182.72 392.107 2180.24 392.107 Q2174.04 392.107 2170.4 388.496 Q2166.79 384.885 2166.79 378.727 Q2166.79 372.362 2170.22 368.635 Q2173.67 364.885 2179.5 364.885 Q2184.73 364.885 2187.76 368.265 Q2190.82 371.621 2190.82 377.408 M2186.56 376.158 Q2186.51 372.663 2184.59 370.579 Q2182.69 368.496 2179.55 368.496 Q2175.98 368.496 2173.83 370.51 Q2171.7 372.524 2171.37 376.181 L2186.56 376.158 Z\" fill=\"#000000\" fill-rule=\"evenodd\" fill-opacity=\"1\" /><path clip-path=\"url(#clip760)\" d=\"M2226.33 360.95 L2214.52 379.399 L2226.33 379.399 L2226.33 360.95 M2225.1 356.876 L2230.98 356.876 L2230.98 379.399 L2235.91 379.399 L2235.91 383.288 L2230.98 383.288 L2230.98 391.436 L2226.33 391.436 L2226.33 383.288 L2210.73 383.288 L2210.73 378.774 L2225.1 356.876 Z\" fill=\"#000000\" fill-rule=\"evenodd\" fill-opacity=\"1\" /><polyline clip-path=\"url(#clip760)\" style=\"stroke:#ac8d18; stroke-linecap:butt; stroke-linejoin:round; stroke-width:4; stroke-opacity:1; fill:none\" points=\"\n",
       "  1920.73,425.996 2060.95,425.996 \n",
       "  \"/>\n",
       "<path clip-path=\"url(#clip760)\" d=\"M2106.56 409.85 L2106.56 414.41 Q2103.9 413.137 2101.54 412.512 Q2099.18 411.887 2096.98 411.887 Q2093.16 411.887 2091.07 413.368 Q2089.01 414.85 2089.01 417.581 Q2089.01 419.873 2090.38 421.054 Q2091.77 422.211 2095.61 422.929 L2098.43 423.507 Q2103.67 424.503 2106.14 427.026 Q2108.64 429.526 2108.64 433.739 Q2108.64 438.762 2105.26 441.354 Q2101.91 443.947 2095.4 443.947 Q2092.95 443.947 2090.17 443.391 Q2087.42 442.836 2084.45 441.748 L2084.45 436.933 Q2087.3 438.53 2090.03 439.341 Q2092.76 440.151 2095.4 440.151 Q2099.41 440.151 2101.58 438.577 Q2103.76 437.003 2103.76 434.086 Q2103.76 431.54 2102.18 430.104 Q2100.63 428.669 2097.07 427.952 L2094.22 427.396 Q2088.99 426.355 2086.65 424.132 Q2084.31 421.91 2084.31 417.952 Q2084.31 413.368 2087.53 410.73 Q2090.77 408.091 2096.44 408.091 Q2098.87 408.091 2101.4 408.531 Q2103.92 408.97 2106.56 409.85 Z\" fill=\"#000000\" fill-rule=\"evenodd\" fill-opacity=\"1\" /><path clip-path=\"url(#clip760)\" d=\"M2115.75 417.35 L2120.01 417.35 L2120.01 443.276 L2115.75 443.276 L2115.75 417.35 M2115.75 407.257 L2120.01 407.257 L2120.01 412.651 L2115.75 412.651 L2115.75 407.257 Z\" fill=\"#000000\" fill-rule=\"evenodd\" fill-opacity=\"1\" /><path clip-path=\"url(#clip760)\" d=\"M2150.47 427.628 L2150.47 443.276 L2146.21 443.276 L2146.21 427.767 Q2146.21 424.086 2144.78 422.257 Q2143.34 420.429 2140.47 420.429 Q2137.02 420.429 2135.03 422.628 Q2133.04 424.827 2133.04 428.623 L2133.04 443.276 L2128.76 443.276 L2128.76 417.35 L2133.04 417.35 L2133.04 421.378 Q2134.57 419.04 2136.63 417.882 Q2138.71 416.725 2141.42 416.725 Q2145.89 416.725 2148.18 419.503 Q2150.47 422.257 2150.47 427.628 Z\" fill=\"#000000\" fill-rule=\"evenodd\" fill-opacity=\"1\" /><path clip-path=\"url(#clip760)\" d=\"M2158.8 407.257 L2163.09 407.257 L2163.09 428.53 L2175.8 417.35 L2181.24 417.35 L2167.49 429.479 L2181.81 443.276 L2176.26 443.276 L2163.09 430.614 L2163.09 443.276 L2158.8 443.276 L2158.8 407.257 Z\" fill=\"#000000\" fill-rule=\"evenodd\" fill-opacity=\"1\" /><path clip-path=\"url(#clip760)\" d=\"M2202.9 439.341 L2210.54 439.341 L2210.54 412.975 L2202.23 414.642 L2202.23 410.382 L2210.49 408.716 L2215.17 408.716 L2215.17 439.341 L2222.81 439.341 L2222.81 443.276 L2202.9 443.276 L2202.9 439.341 Z\" fill=\"#000000\" fill-rule=\"evenodd\" fill-opacity=\"1\" /></svg>\n"
      ]
     },
     "execution_count": 25,
     "metadata": {},
     "output_type": "execute_result"
    }
   ],
   "source": [
    "# https://github.com/JuliaPlots/StatsPlots.jl/blob/master/README.md\n",
    "# https://docs.juliaplots.org/latest/tutorial/\n",
    "\n",
    "select_type = 1\n",
    "cdfs = plot(TruncatedNormal(sol[NUMBER_OF_TYPES-1+select_type], sol[NUMBER_OF_TYPES-1+select_type+TOTAL_DISTRIBUTIONS], 0, 1), func = cdf, title = \"CDFs of Types\", label = \"Type 1\")\n",
    "for select_type in 2:NUMBER_OF_TYPES # academic types\n",
    "    plot!(cdfs, TruncatedNormal(sol[NUMBER_OF_TYPES-1+select_type], sol[NUMBER_OF_TYPES-1+select_type+TOTAL_DISTRIBUTIONS], 0, 1), func = cdf, label = string(\"Type \", select_type))\n",
    "end\n",
    "\n",
    "for select_type in NUMBER_OF_TYPES+1:TOTAL_DISTRIBUTIONS # sinks\n",
    "    plot!(cdfs, TruncatedNormal(sol[NUMBER_OF_TYPES-1+select_type], sol[NUMBER_OF_TYPES-1+select_type+TOTAL_DISTRIBUTIONS], 0, 1), func = cdf, label = string(\"Sink \", select_type - NUMBER_OF_TYPES))\n",
    "end\n",
    "xlabel!(cdfs, \"offer value\")\n",
    "ylabel!(cdfs, \"F(offer value)\")\n",
    "cdfs"
   ]
  },
  {
   "cell_type": "code",
   "execution_count": 26,
   "id": "3b703d3c-ded3-4e09-9555-6962c5f016c8",
   "metadata": {},
   "outputs": [
    {
     "data": {
      "image/svg+xml": [
       "<?xml version=\"1.0\" encoding=\"utf-8\"?>\n",
       "<svg xmlns=\"http://www.w3.org/2000/svg\" xmlns:xlink=\"http://www.w3.org/1999/xlink\" width=\"600\" height=\"400\" viewBox=\"0 0 2400 1600\">\n",
       "<defs>\n",
       "  <clipPath id=\"clip800\">\n",
       "    <rect x=\"0\" y=\"0\" width=\"2400\" height=\"1600\"/>\n",
       "  </clipPath>\n",
       "</defs>\n",
       "<path clip-path=\"url(#clip800)\" d=\"\n",
       "M0 1600 L2400 1600 L2400 0 L0 0  Z\n",
       "  \" fill=\"#ffffff\" fill-rule=\"evenodd\" fill-opacity=\"1\"/>\n",
       "<defs>\n",
       "  <clipPath id=\"clip801\">\n",
       "    <rect x=\"480\" y=\"0\" width=\"1681\" height=\"1600\"/>\n",
       "  </clipPath>\n",
       "</defs>\n",
       "<path clip-path=\"url(#clip800)\" d=\"\n",
       "M205.121 1423.18 L2352.76 1423.18 L2352.76 123.472 L205.121 123.472  Z\n",
       "  \" fill=\"#ffffff\" fill-rule=\"evenodd\" fill-opacity=\"1\"/>\n",
       "<defs>\n",
       "  <clipPath id=\"clip802\">\n",
       "    <rect x=\"205\" y=\"123\" width=\"2149\" height=\"1301\"/>\n",
       "  </clipPath>\n",
       "</defs>\n",
       "<polyline clip-path=\"url(#clip802)\" style=\"stroke:#000000; stroke-linecap:butt; stroke-linejoin:round; stroke-width:2; stroke-opacity:0.1; fill:none\" points=\"\n",
       "  265.903,1423.18 265.903,123.472 \n",
       "  \"/>\n",
       "<polyline clip-path=\"url(#clip802)\" style=\"stroke:#000000; stroke-linecap:butt; stroke-linejoin:round; stroke-width:2; stroke-opacity:0.1; fill:none\" points=\"\n",
       "  772.421,1423.18 772.421,123.472 \n",
       "  \"/>\n",
       "<polyline clip-path=\"url(#clip802)\" style=\"stroke:#000000; stroke-linecap:butt; stroke-linejoin:round; stroke-width:2; stroke-opacity:0.1; fill:none\" points=\"\n",
       "  1278.94,1423.18 1278.94,123.472 \n",
       "  \"/>\n",
       "<polyline clip-path=\"url(#clip802)\" style=\"stroke:#000000; stroke-linecap:butt; stroke-linejoin:round; stroke-width:2; stroke-opacity:0.1; fill:none\" points=\"\n",
       "  1785.46,1423.18 1785.46,123.472 \n",
       "  \"/>\n",
       "<polyline clip-path=\"url(#clip802)\" style=\"stroke:#000000; stroke-linecap:butt; stroke-linejoin:round; stroke-width:2; stroke-opacity:0.1; fill:none\" points=\"\n",
       "  2291.97,1423.18 2291.97,123.472 \n",
       "  \"/>\n",
       "<polyline clip-path=\"url(#clip800)\" style=\"stroke:#000000; stroke-linecap:butt; stroke-linejoin:round; stroke-width:4; stroke-opacity:1; fill:none\" points=\"\n",
       "  205.121,1423.18 2352.76,1423.18 \n",
       "  \"/>\n",
       "<polyline clip-path=\"url(#clip800)\" style=\"stroke:#000000; stroke-linecap:butt; stroke-linejoin:round; stroke-width:4; stroke-opacity:1; fill:none\" points=\"\n",
       "  265.903,1423.18 265.903,1404.28 \n",
       "  \"/>\n",
       "<polyline clip-path=\"url(#clip800)\" style=\"stroke:#000000; stroke-linecap:butt; stroke-linejoin:round; stroke-width:4; stroke-opacity:1; fill:none\" points=\"\n",
       "  772.421,1423.18 772.421,1404.28 \n",
       "  \"/>\n",
       "<polyline clip-path=\"url(#clip800)\" style=\"stroke:#000000; stroke-linecap:butt; stroke-linejoin:round; stroke-width:4; stroke-opacity:1; fill:none\" points=\"\n",
       "  1278.94,1423.18 1278.94,1404.28 \n",
       "  \"/>\n",
       "<polyline clip-path=\"url(#clip800)\" style=\"stroke:#000000; stroke-linecap:butt; stroke-linejoin:round; stroke-width:4; stroke-opacity:1; fill:none\" points=\"\n",
       "  1785.46,1423.18 1785.46,1404.28 \n",
       "  \"/>\n",
       "<polyline clip-path=\"url(#clip800)\" style=\"stroke:#000000; stroke-linecap:butt; stroke-linejoin:round; stroke-width:4; stroke-opacity:1; fill:none\" points=\"\n",
       "  2291.97,1423.18 2291.97,1404.28 \n",
       "  \"/>\n",
       "<path clip-path=\"url(#clip800)\" d=\"M228.207 1454.1 Q224.595 1454.1 222.767 1457.66 Q220.961 1461.2 220.961 1468.33 Q220.961 1475.44 222.767 1479.01 Q224.595 1482.55 228.207 1482.55 Q231.841 1482.55 233.646 1479.01 Q235.475 1475.44 235.475 1468.33 Q235.475 1461.2 233.646 1457.66 Q231.841 1454.1 228.207 1454.1 M228.207 1450.39 Q234.017 1450.39 237.072 1455 Q240.151 1459.58 240.151 1468.33 Q240.151 1477.06 237.072 1481.67 Q234.017 1486.25 228.207 1486.25 Q222.396 1486.25 219.318 1481.67 Q216.262 1477.06 216.262 1468.33 Q216.262 1459.58 219.318 1455 Q222.396 1450.39 228.207 1450.39 Z\" fill=\"#000000\" fill-rule=\"evenodd\" fill-opacity=\"1\" /><path clip-path=\"url(#clip800)\" d=\"M248.368 1479.7 L253.253 1479.7 L253.253 1485.58 L248.368 1485.58 L248.368 1479.7 Z\" fill=\"#000000\" fill-rule=\"evenodd\" fill-opacity=\"1\" /><path clip-path=\"url(#clip800)\" d=\"M273.438 1454.1 Q269.827 1454.1 267.998 1457.66 Q266.192 1461.2 266.192 1468.33 Q266.192 1475.44 267.998 1479.01 Q269.827 1482.55 273.438 1482.55 Q277.072 1482.55 278.878 1479.01 Q280.706 1475.44 280.706 1468.33 Q280.706 1461.2 278.878 1457.66 Q277.072 1454.1 273.438 1454.1 M273.438 1450.39 Q279.248 1450.39 282.303 1455 Q285.382 1459.58 285.382 1468.33 Q285.382 1477.06 282.303 1481.67 Q279.248 1486.25 273.438 1486.25 Q267.628 1486.25 264.549 1481.67 Q261.493 1477.06 261.493 1468.33 Q261.493 1459.58 264.549 1455 Q267.628 1450.39 273.438 1450.39 Z\" fill=\"#000000\" fill-rule=\"evenodd\" fill-opacity=\"1\" /><path clip-path=\"url(#clip800)\" d=\"M303.6 1454.1 Q299.989 1454.1 298.16 1457.66 Q296.354 1461.2 296.354 1468.33 Q296.354 1475.44 298.16 1479.01 Q299.989 1482.55 303.6 1482.55 Q307.234 1482.55 309.039 1479.01 Q310.868 1475.44 310.868 1468.33 Q310.868 1461.2 309.039 1457.66 Q307.234 1454.1 303.6 1454.1 M303.6 1450.39 Q309.41 1450.39 312.465 1455 Q315.544 1459.58 315.544 1468.33 Q315.544 1477.06 312.465 1481.67 Q309.41 1486.25 303.6 1486.25 Q297.789 1486.25 294.711 1481.67 Q291.655 1477.06 291.655 1468.33 Q291.655 1459.58 294.711 1455 Q297.789 1450.39 303.6 1450.39 Z\" fill=\"#000000\" fill-rule=\"evenodd\" fill-opacity=\"1\" /><path clip-path=\"url(#clip800)\" d=\"M735.222 1454.1 Q731.611 1454.1 729.782 1457.66 Q727.977 1461.2 727.977 1468.33 Q727.977 1475.44 729.782 1479.01 Q731.611 1482.55 735.222 1482.55 Q738.856 1482.55 740.662 1479.01 Q742.49 1475.44 742.49 1468.33 Q742.49 1461.2 740.662 1457.66 Q738.856 1454.1 735.222 1454.1 M735.222 1450.39 Q741.032 1450.39 744.088 1455 Q747.166 1459.58 747.166 1468.33 Q747.166 1477.06 744.088 1481.67 Q741.032 1486.25 735.222 1486.25 Q729.412 1486.25 726.333 1481.67 Q723.278 1477.06 723.278 1468.33 Q723.278 1459.58 726.333 1455 Q729.412 1450.39 735.222 1450.39 Z\" fill=\"#000000\" fill-rule=\"evenodd\" fill-opacity=\"1\" /><path clip-path=\"url(#clip800)\" d=\"M755.384 1479.7 L760.268 1479.7 L760.268 1485.58 L755.384 1485.58 L755.384 1479.7 Z\" fill=\"#000000\" fill-rule=\"evenodd\" fill-opacity=\"1\" /><path clip-path=\"url(#clip800)\" d=\"M774.481 1481.64 L790.8 1481.64 L790.8 1485.58 L768.856 1485.58 L768.856 1481.64 Q771.518 1478.89 776.101 1474.26 Q780.708 1469.61 781.888 1468.27 Q784.134 1465.74 785.013 1464.01 Q785.916 1462.25 785.916 1460.56 Q785.916 1457.8 783.972 1456.07 Q782.05 1454.33 778.949 1454.33 Q776.749 1454.33 774.296 1455.09 Q771.865 1455.86 769.087 1457.41 L769.087 1452.69 Q771.912 1451.55 774.365 1450.97 Q776.819 1450.39 778.856 1450.39 Q784.226 1450.39 787.421 1453.08 Q790.615 1455.77 790.615 1460.26 Q790.615 1462.39 789.805 1464.31 Q789.018 1466.2 786.911 1468.8 Q786.333 1469.47 783.231 1472.69 Q780.129 1475.88 774.481 1481.64 Z\" fill=\"#000000\" fill-rule=\"evenodd\" fill-opacity=\"1\" /><path clip-path=\"url(#clip800)\" d=\"M800.661 1451.02 L819.018 1451.02 L819.018 1454.96 L804.944 1454.96 L804.944 1463.43 Q805.962 1463.08 806.981 1462.92 Q807.999 1462.73 809.018 1462.73 Q814.805 1462.73 818.184 1465.9 Q821.564 1469.08 821.564 1474.49 Q821.564 1480.07 818.092 1483.17 Q814.62 1486.25 808.3 1486.25 Q806.124 1486.25 803.856 1485.88 Q801.61 1485.51 799.203 1484.77 L799.203 1480.07 Q801.286 1481.2 803.509 1481.76 Q805.731 1482.32 808.208 1482.32 Q812.212 1482.32 814.55 1480.21 Q816.888 1478.1 816.888 1474.49 Q816.888 1470.88 814.55 1468.77 Q812.212 1466.67 808.208 1466.67 Q806.333 1466.67 804.458 1467.08 Q802.606 1467.5 800.661 1468.38 L800.661 1451.02 Z\" fill=\"#000000\" fill-rule=\"evenodd\" fill-opacity=\"1\" /><path clip-path=\"url(#clip800)\" d=\"M1241.24 1454.1 Q1237.63 1454.1 1235.8 1457.66 Q1234 1461.2 1234 1468.33 Q1234 1475.44 1235.8 1479.01 Q1237.63 1482.55 1241.24 1482.55 Q1244.88 1482.55 1246.68 1479.01 Q1248.51 1475.44 1248.51 1468.33 Q1248.51 1461.2 1246.68 1457.66 Q1244.88 1454.1 1241.24 1454.1 M1241.24 1450.39 Q1247.05 1450.39 1250.11 1455 Q1253.19 1459.58 1253.19 1468.33 Q1253.19 1477.06 1250.11 1481.67 Q1247.05 1486.25 1241.24 1486.25 Q1235.43 1486.25 1232.35 1481.67 Q1229.3 1477.06 1229.3 1468.33 Q1229.3 1459.58 1232.35 1455 Q1235.43 1450.39 1241.24 1450.39 Z\" fill=\"#000000\" fill-rule=\"evenodd\" fill-opacity=\"1\" /><path clip-path=\"url(#clip800)\" d=\"M1261.4 1479.7 L1266.29 1479.7 L1266.29 1485.58 L1261.4 1485.58 L1261.4 1479.7 Z\" fill=\"#000000\" fill-rule=\"evenodd\" fill-opacity=\"1\" /><path clip-path=\"url(#clip800)\" d=\"M1276.52 1451.02 L1294.88 1451.02 L1294.88 1454.96 L1280.8 1454.96 L1280.8 1463.43 Q1281.82 1463.08 1282.84 1462.92 Q1283.86 1462.73 1284.88 1462.73 Q1290.66 1462.73 1294.04 1465.9 Q1297.42 1469.08 1297.42 1474.49 Q1297.42 1480.07 1293.95 1483.17 Q1290.48 1486.25 1284.16 1486.25 Q1281.98 1486.25 1279.71 1485.88 Q1277.47 1485.51 1275.06 1484.77 L1275.06 1480.07 Q1277.14 1481.2 1279.37 1481.76 Q1281.59 1482.32 1284.07 1482.32 Q1288.07 1482.32 1290.41 1480.21 Q1292.75 1478.1 1292.75 1474.49 Q1292.75 1470.88 1290.41 1468.77 Q1288.07 1466.67 1284.07 1466.67 Q1282.19 1466.67 1280.32 1467.08 Q1278.46 1467.5 1276.52 1468.38 L1276.52 1451.02 Z\" fill=\"#000000\" fill-rule=\"evenodd\" fill-opacity=\"1\" /><path clip-path=\"url(#clip800)\" d=\"M1316.63 1454.1 Q1313.02 1454.1 1311.2 1457.66 Q1309.39 1461.2 1309.39 1468.33 Q1309.39 1475.44 1311.2 1479.01 Q1313.02 1482.55 1316.63 1482.55 Q1320.27 1482.55 1322.07 1479.01 Q1323.9 1475.44 1323.9 1468.33 Q1323.9 1461.2 1322.07 1457.66 Q1320.27 1454.1 1316.63 1454.1 M1316.63 1450.39 Q1322.45 1450.39 1325.5 1455 Q1328.58 1459.58 1328.58 1468.33 Q1328.58 1477.06 1325.5 1481.67 Q1322.45 1486.25 1316.63 1486.25 Q1310.82 1486.25 1307.75 1481.67 Q1304.69 1477.06 1304.69 1468.33 Q1304.69 1459.58 1307.75 1455 Q1310.82 1450.39 1316.63 1450.39 Z\" fill=\"#000000\" fill-rule=\"evenodd\" fill-opacity=\"1\" /><path clip-path=\"url(#clip800)\" d=\"M1748.26 1454.1 Q1744.65 1454.1 1742.82 1457.66 Q1741.01 1461.2 1741.01 1468.33 Q1741.01 1475.44 1742.82 1479.01 Q1744.65 1482.55 1748.26 1482.55 Q1751.89 1482.55 1753.7 1479.01 Q1755.53 1475.44 1755.53 1468.33 Q1755.53 1461.2 1753.7 1457.66 Q1751.89 1454.1 1748.26 1454.1 M1748.26 1450.39 Q1754.07 1450.39 1757.12 1455 Q1760.2 1459.58 1760.2 1468.33 Q1760.2 1477.06 1757.12 1481.67 Q1754.07 1486.25 1748.26 1486.25 Q1742.45 1486.25 1739.37 1481.67 Q1736.31 1477.06 1736.31 1468.33 Q1736.31 1459.58 1739.37 1455 Q1742.45 1450.39 1748.26 1450.39 Z\" fill=\"#000000\" fill-rule=\"evenodd\" fill-opacity=\"1\" /><path clip-path=\"url(#clip800)\" d=\"M1768.42 1479.7 L1773.3 1479.7 L1773.3 1485.58 L1768.42 1485.58 L1768.42 1479.7 Z\" fill=\"#000000\" fill-rule=\"evenodd\" fill-opacity=\"1\" /><path clip-path=\"url(#clip800)\" d=\"M1782.31 1451.02 L1804.53 1451.02 L1804.53 1453.01 L1791.98 1485.58 L1787.1 1485.58 L1798.91 1454.96 L1782.31 1454.96 L1782.31 1451.02 Z\" fill=\"#000000\" fill-rule=\"evenodd\" fill-opacity=\"1\" /><path clip-path=\"url(#clip800)\" d=\"M1813.7 1451.02 L1832.05 1451.02 L1832.05 1454.96 L1817.98 1454.96 L1817.98 1463.43 Q1819 1463.08 1820.02 1462.92 Q1821.03 1462.73 1822.05 1462.73 Q1827.84 1462.73 1831.22 1465.9 Q1834.6 1469.08 1834.6 1474.49 Q1834.6 1480.07 1831.13 1483.17 Q1827.65 1486.25 1821.34 1486.25 Q1819.16 1486.25 1816.89 1485.88 Q1814.65 1485.51 1812.24 1484.77 L1812.24 1480.07 Q1814.32 1481.2 1816.54 1481.76 Q1818.77 1482.32 1821.24 1482.32 Q1825.25 1482.32 1827.59 1480.21 Q1829.92 1478.1 1829.92 1474.49 Q1829.92 1470.88 1827.59 1468.77 Q1825.25 1466.67 1821.24 1466.67 Q1819.37 1466.67 1817.49 1467.08 Q1815.64 1467.5 1813.7 1468.38 L1813.7 1451.02 Z\" fill=\"#000000\" fill-rule=\"evenodd\" fill-opacity=\"1\" /><path clip-path=\"url(#clip800)\" d=\"M2244.05 1481.64 L2251.68 1481.64 L2251.68 1455.28 L2243.37 1456.95 L2243.37 1452.69 L2251.64 1451.02 L2256.31 1451.02 L2256.31 1481.64 L2263.95 1481.64 L2263.95 1485.58 L2244.05 1485.58 L2244.05 1481.64 Z\" fill=\"#000000\" fill-rule=\"evenodd\" fill-opacity=\"1\" /><path clip-path=\"url(#clip800)\" d=\"M2273.4 1479.7 L2278.28 1479.7 L2278.28 1485.58 L2273.4 1485.58 L2273.4 1479.7 Z\" fill=\"#000000\" fill-rule=\"evenodd\" fill-opacity=\"1\" /><path clip-path=\"url(#clip800)\" d=\"M2298.47 1454.1 Q2294.86 1454.1 2293.03 1457.66 Q2291.22 1461.2 2291.22 1468.33 Q2291.22 1475.44 2293.03 1479.01 Q2294.86 1482.55 2298.47 1482.55 Q2302.1 1482.55 2303.91 1479.01 Q2305.74 1475.44 2305.74 1468.33 Q2305.74 1461.2 2303.91 1457.66 Q2302.1 1454.1 2298.47 1454.1 M2298.47 1450.39 Q2304.28 1450.39 2307.33 1455 Q2310.41 1459.58 2310.41 1468.33 Q2310.41 1477.06 2307.33 1481.67 Q2304.28 1486.25 2298.47 1486.25 Q2292.66 1486.25 2289.58 1481.67 Q2286.52 1477.06 2286.52 1468.33 Q2286.52 1459.58 2289.58 1455 Q2292.66 1450.39 2298.47 1450.39 Z\" fill=\"#000000\" fill-rule=\"evenodd\" fill-opacity=\"1\" /><path clip-path=\"url(#clip800)\" d=\"M2328.63 1454.1 Q2325.02 1454.1 2323.19 1457.66 Q2321.38 1461.2 2321.38 1468.33 Q2321.38 1475.44 2323.19 1479.01 Q2325.02 1482.55 2328.63 1482.55 Q2332.26 1482.55 2334.07 1479.01 Q2335.9 1475.44 2335.9 1468.33 Q2335.9 1461.2 2334.07 1457.66 Q2332.26 1454.1 2328.63 1454.1 M2328.63 1450.39 Q2334.44 1450.39 2337.49 1455 Q2340.57 1459.58 2340.57 1468.33 Q2340.57 1477.06 2337.49 1481.67 Q2334.44 1486.25 2328.63 1486.25 Q2322.82 1486.25 2319.74 1481.67 Q2316.68 1477.06 2316.68 1468.33 Q2316.68 1459.58 2319.74 1455 Q2322.82 1450.39 2328.63 1450.39 Z\" fill=\"#000000\" fill-rule=\"evenodd\" fill-opacity=\"1\" /><path clip-path=\"url(#clip800)\" d=\"M1123.11 1536.5 Q1118.4 1536.5 1115.66 1540.19 Q1112.92 1543.85 1112.92 1550.25 Q1112.92 1556.65 1115.63 1560.34 Q1118.36 1564 1123.11 1564 Q1127.78 1564 1130.52 1560.31 Q1133.26 1556.62 1133.26 1550.25 Q1133.26 1543.92 1130.52 1540.23 Q1127.78 1536.5 1123.11 1536.5 M1123.11 1531.54 Q1130.74 1531.54 1135.11 1536.5 Q1139.47 1541.47 1139.47 1550.25 Q1139.47 1559 1135.11 1564 Q1130.74 1568.97 1123.11 1568.97 Q1115.44 1568.97 1111.07 1564 Q1106.75 1559 1106.75 1550.25 Q1106.75 1541.47 1111.07 1536.5 Q1115.44 1531.54 1123.11 1531.54 Z\" fill=\"#000000\" fill-rule=\"evenodd\" fill-opacity=\"1\" /><path clip-path=\"url(#clip800)\" d=\"M1167.22 1518.52 L1167.22 1523.39 L1161.62 1523.39 Q1158.47 1523.39 1157.23 1524.66 Q1156.02 1525.93 1156.02 1529.24 L1156.02 1532.4 L1165.66 1532.4 L1165.66 1536.95 L1156.02 1536.95 L1156.02 1568.04 L1150.13 1568.04 L1150.13 1536.95 L1144.53 1536.95 L1144.53 1532.4 L1150.13 1532.4 L1150.13 1529.91 Q1150.13 1523.96 1152.9 1521.26 Q1155.67 1518.52 1161.68 1518.52 L1167.22 1518.52 Z\" fill=\"#000000\" fill-rule=\"evenodd\" fill-opacity=\"1\" /><path clip-path=\"url(#clip800)\" d=\"M1190.17 1518.52 L1190.17 1523.39 L1184.57 1523.39 Q1181.42 1523.39 1180.17 1524.66 Q1178.97 1525.93 1178.97 1529.24 L1178.97 1532.4 L1188.61 1532.4 L1188.61 1536.95 L1178.97 1536.95 L1178.97 1568.04 L1173.08 1568.04 L1173.08 1536.95 L1167.47 1536.95 L1167.47 1532.4 L1173.08 1532.4 L1173.08 1529.91 Q1173.08 1523.96 1175.85 1521.26 Q1178.61 1518.52 1184.63 1518.52 L1190.17 1518.52 Z\" fill=\"#000000\" fill-rule=\"evenodd\" fill-opacity=\"1\" /><path clip-path=\"url(#clip800)\" d=\"M1225.56 1548.76 L1225.56 1551.62 L1198.64 1551.62 Q1199.02 1557.67 1202.26 1560.85 Q1205.54 1564 1211.37 1564 Q1214.74 1564 1217.89 1563.17 Q1221.07 1562.35 1224.19 1560.69 L1224.19 1566.23 Q1221.04 1567.57 1217.73 1568.27 Q1214.42 1568.97 1211.02 1568.97 Q1202.49 1568.97 1197.49 1564 Q1192.52 1559.04 1192.52 1550.57 Q1192.52 1541.82 1197.23 1536.69 Q1201.98 1531.54 1210 1531.54 Q1217.19 1531.54 1221.36 1536.18 Q1225.56 1540.8 1225.56 1548.76 M1219.71 1547.04 Q1219.64 1542.23 1217 1539.37 Q1214.39 1536.5 1210.06 1536.5 Q1205.16 1536.5 1202.2 1539.27 Q1199.27 1542.04 1198.83 1547.07 L1219.71 1547.04 Z\" fill=\"#000000\" fill-rule=\"evenodd\" fill-opacity=\"1\" /><path clip-path=\"url(#clip800)\" d=\"M1255.83 1537.87 Q1254.84 1537.3 1253.67 1537.04 Q1252.52 1536.76 1251.12 1536.76 Q1246.16 1536.76 1243.48 1540 Q1240.84 1543.22 1240.84 1549.27 L1240.84 1568.04 L1234.95 1568.04 L1234.95 1532.4 L1240.84 1532.4 L1240.84 1537.93 Q1242.69 1534.69 1245.65 1533.13 Q1248.61 1531.54 1252.84 1531.54 Q1253.44 1531.54 1254.18 1531.63 Q1254.91 1531.7 1255.8 1531.85 L1255.83 1537.87 Z\" fill=\"#000000\" fill-rule=\"evenodd\" fill-opacity=\"1\" /><path clip-path=\"url(#clip800)\" d=\"M1278.49 1532.4 L1284.7 1532.4 L1295.84 1562.31 L1306.98 1532.4 L1313.19 1532.4 L1299.82 1568.04 L1291.86 1568.04 L1278.49 1532.4 Z\" fill=\"#000000\" fill-rule=\"evenodd\" fill-opacity=\"1\" /><path clip-path=\"url(#clip800)\" d=\"M1337.47 1550.12 Q1330.37 1550.12 1327.64 1551.75 Q1324.9 1553.37 1324.9 1557.29 Q1324.9 1560.4 1326.94 1562.25 Q1329 1564.07 1332.54 1564.07 Q1337.41 1564.07 1340.34 1560.63 Q1343.3 1557.16 1343.3 1551.43 L1343.3 1550.12 L1337.47 1550.12 M1349.15 1547.71 L1349.15 1568.04 L1343.3 1568.04 L1343.3 1562.63 Q1341.29 1565.88 1338.3 1567.44 Q1335.31 1568.97 1330.98 1568.97 Q1325.5 1568.97 1322.26 1565.91 Q1319.04 1562.82 1319.04 1557.67 Q1319.04 1551.65 1323.05 1548.6 Q1327.1 1545.54 1335.08 1545.54 L1343.3 1545.54 L1343.3 1544.97 Q1343.3 1540.93 1340.62 1538.73 Q1337.98 1536.5 1333.17 1536.5 Q1330.12 1536.5 1327.22 1537.23 Q1324.33 1537.97 1321.65 1539.43 L1321.65 1534.02 Q1324.87 1532.78 1327.89 1532.17 Q1330.91 1531.54 1333.78 1531.54 Q1341.51 1531.54 1345.33 1535.55 Q1349.15 1539.56 1349.15 1547.71 Z\" fill=\"#000000\" fill-rule=\"evenodd\" fill-opacity=\"1\" /><path clip-path=\"url(#clip800)\" d=\"M1361.22 1518.52 L1367.07 1518.52 L1367.07 1568.04 L1361.22 1568.04 L1361.22 1518.52 Z\" fill=\"#000000\" fill-rule=\"evenodd\" fill-opacity=\"1\" /><path clip-path=\"url(#clip800)\" d=\"M1378.72 1553.98 L1378.72 1532.4 L1384.58 1532.4 L1384.58 1553.75 Q1384.58 1558.81 1386.55 1561.36 Q1388.52 1563.87 1392.47 1563.87 Q1397.21 1563.87 1399.95 1560.85 Q1402.72 1557.83 1402.72 1552.61 L1402.72 1532.4 L1408.58 1532.4 L1408.58 1568.04 L1402.72 1568.04 L1402.72 1562.57 Q1400.59 1565.82 1397.75 1567.41 Q1394.95 1568.97 1391.23 1568.97 Q1385.09 1568.97 1381.9 1565.15 Q1378.72 1561.33 1378.72 1553.98 M1393.46 1531.54 L1393.46 1531.54 Z\" fill=\"#000000\" fill-rule=\"evenodd\" fill-opacity=\"1\" /><path clip-path=\"url(#clip800)\" d=\"M1451.13 1548.76 L1451.13 1551.62 L1424.2 1551.62 Q1424.59 1557.67 1427.83 1560.85 Q1431.11 1564 1436.94 1564 Q1440.31 1564 1443.46 1563.17 Q1446.64 1562.35 1449.76 1560.69 L1449.76 1566.23 Q1446.61 1567.57 1443.3 1568.27 Q1439.99 1568.97 1436.59 1568.97 Q1428.06 1568.97 1423.06 1564 Q1418.09 1559.04 1418.09 1550.57 Q1418.09 1541.82 1422.8 1536.69 Q1427.55 1531.54 1435.57 1531.54 Q1442.76 1531.54 1446.93 1536.18 Q1451.13 1540.8 1451.13 1548.76 M1445.27 1547.04 Q1445.21 1542.23 1442.57 1539.37 Q1439.96 1536.5 1435.63 1536.5 Q1430.73 1536.5 1427.77 1539.27 Q1424.84 1542.04 1424.39 1547.07 L1445.27 1547.04 Z\" fill=\"#000000\" fill-rule=\"evenodd\" fill-opacity=\"1\" /><polyline clip-path=\"url(#clip802)\" style=\"stroke:#000000; stroke-linecap:butt; stroke-linejoin:round; stroke-width:2; stroke-opacity:0.1; fill:none\" points=\"\n",
       "  205.121,1386.4 2352.76,1386.4 \n",
       "  \"/>\n",
       "<polyline clip-path=\"url(#clip802)\" style=\"stroke:#000000; stroke-linecap:butt; stroke-linejoin:round; stroke-width:2; stroke-opacity:0.1; fill:none\" points=\"\n",
       "  205.121,1050.95 2352.76,1050.95 \n",
       "  \"/>\n",
       "<polyline clip-path=\"url(#clip802)\" style=\"stroke:#000000; stroke-linecap:butt; stroke-linejoin:round; stroke-width:2; stroke-opacity:0.1; fill:none\" points=\"\n",
       "  205.121,715.501 2352.76,715.501 \n",
       "  \"/>\n",
       "<polyline clip-path=\"url(#clip802)\" style=\"stroke:#000000; stroke-linecap:butt; stroke-linejoin:round; stroke-width:2; stroke-opacity:0.1; fill:none\" points=\"\n",
       "  205.121,380.053 2352.76,380.053 \n",
       "  \"/>\n",
       "<polyline clip-path=\"url(#clip800)\" style=\"stroke:#000000; stroke-linecap:butt; stroke-linejoin:round; stroke-width:4; stroke-opacity:1; fill:none\" points=\"\n",
       "  205.121,1423.18 205.121,123.472 \n",
       "  \"/>\n",
       "<polyline clip-path=\"url(#clip800)\" style=\"stroke:#000000; stroke-linecap:butt; stroke-linejoin:round; stroke-width:4; stroke-opacity:1; fill:none\" points=\"\n",
       "  205.121,1386.4 224.019,1386.4 \n",
       "  \"/>\n",
       "<polyline clip-path=\"url(#clip800)\" style=\"stroke:#000000; stroke-linecap:butt; stroke-linejoin:round; stroke-width:4; stroke-opacity:1; fill:none\" points=\"\n",
       "  205.121,1050.95 224.019,1050.95 \n",
       "  \"/>\n",
       "<polyline clip-path=\"url(#clip800)\" style=\"stroke:#000000; stroke-linecap:butt; stroke-linejoin:round; stroke-width:4; stroke-opacity:1; fill:none\" points=\"\n",
       "  205.121,715.501 224.019,715.501 \n",
       "  \"/>\n",
       "<polyline clip-path=\"url(#clip800)\" style=\"stroke:#000000; stroke-linecap:butt; stroke-linejoin:round; stroke-width:4; stroke-opacity:1; fill:none\" points=\"\n",
       "  205.121,380.053 224.019,380.053 \n",
       "  \"/>\n",
       "<path clip-path=\"url(#clip800)\" d=\"M157.177 1372.19 Q153.566 1372.19 151.737 1375.76 Q149.931 1379.3 149.931 1386.43 Q149.931 1393.54 151.737 1397.1 Q153.566 1400.64 157.177 1400.64 Q160.811 1400.64 162.616 1397.1 Q164.445 1393.54 164.445 1386.43 Q164.445 1379.3 162.616 1375.76 Q160.811 1372.19 157.177 1372.19 M157.177 1368.49 Q162.987 1368.49 166.042 1373.1 Q169.121 1377.68 169.121 1386.43 Q169.121 1395.16 166.042 1399.76 Q162.987 1404.35 157.177 1404.35 Q151.366 1404.35 148.288 1399.76 Q145.232 1395.16 145.232 1386.43 Q145.232 1377.68 148.288 1373.1 Q151.366 1368.49 157.177 1368.49 Z\" fill=\"#000000\" fill-rule=\"evenodd\" fill-opacity=\"1\" /><path clip-path=\"url(#clip800)\" d=\"M121.043 1064.29 L137.362 1064.29 L137.362 1068.23 L115.418 1068.23 L115.418 1064.29 Q118.08 1061.54 122.663 1056.91 Q127.269 1052.26 128.45 1050.91 Q130.695 1048.39 131.575 1046.65 Q132.478 1044.9 132.478 1043.21 Q132.478 1040.45 130.533 1038.71 Q128.612 1036.98 125.51 1036.98 Q123.311 1036.98 120.857 1037.74 Q118.427 1038.51 115.649 1040.06 L115.649 1035.33 Q118.473 1034.2 120.927 1033.62 Q123.38 1033.04 125.418 1033.04 Q130.788 1033.04 133.982 1035.73 Q137.177 1038.41 137.177 1042.9 Q137.177 1045.03 136.367 1046.96 Q135.579 1048.85 133.473 1051.45 Q132.894 1052.12 129.792 1055.33 Q126.691 1058.53 121.043 1064.29 Z\" fill=\"#000000\" fill-rule=\"evenodd\" fill-opacity=\"1\" /><path clip-path=\"url(#clip800)\" d=\"M157.177 1036.75 Q153.566 1036.75 151.737 1040.31 Q149.931 1043.85 149.931 1050.98 Q149.931 1058.09 151.737 1061.65 Q153.566 1065.2 157.177 1065.2 Q160.811 1065.2 162.616 1061.65 Q164.445 1058.09 164.445 1050.98 Q164.445 1043.85 162.616 1040.31 Q160.811 1036.75 157.177 1036.75 M157.177 1033.04 Q162.987 1033.04 166.042 1037.65 Q169.121 1042.23 169.121 1050.98 Q169.121 1059.71 166.042 1064.32 Q162.987 1068.9 157.177 1068.9 Q151.366 1068.9 148.288 1064.32 Q145.232 1059.71 145.232 1050.98 Q145.232 1042.23 148.288 1037.65 Q151.366 1033.04 157.177 1033.04 Z\" fill=\"#000000\" fill-rule=\"evenodd\" fill-opacity=\"1\" /><path clip-path=\"url(#clip800)\" d=\"M129.862 702.295 L118.056 720.744 L129.862 720.744 L129.862 702.295 M128.635 698.221 L134.515 698.221 L134.515 720.744 L139.445 720.744 L139.445 724.633 L134.515 724.633 L134.515 732.781 L129.862 732.781 L129.862 724.633 L114.26 724.633 L114.26 720.119 L128.635 698.221 Z\" fill=\"#000000\" fill-rule=\"evenodd\" fill-opacity=\"1\" /><path clip-path=\"url(#clip800)\" d=\"M157.177 701.299 Q153.566 701.299 151.737 704.864 Q149.931 708.406 149.931 715.536 Q149.931 722.642 151.737 726.207 Q153.566 729.748 157.177 729.748 Q160.811 729.748 162.616 726.207 Q164.445 722.642 164.445 715.536 Q164.445 708.406 162.616 704.864 Q160.811 701.299 157.177 701.299 M157.177 697.596 Q162.987 697.596 166.042 702.202 Q169.121 706.786 169.121 715.536 Q169.121 724.262 166.042 728.869 Q162.987 733.452 157.177 733.452 Q151.366 733.452 148.288 728.869 Q145.232 724.262 145.232 715.536 Q145.232 706.786 148.288 702.202 Q151.366 697.596 157.177 697.596 Z\" fill=\"#000000\" fill-rule=\"evenodd\" fill-opacity=\"1\" /><path clip-path=\"url(#clip800)\" d=\"M127.593 378.19 Q124.445 378.19 122.593 380.343 Q120.765 382.495 120.765 386.245 Q120.765 389.972 122.593 392.148 Q124.445 394.301 127.593 394.301 Q130.742 394.301 132.57 392.148 Q134.422 389.972 134.422 386.245 Q134.422 382.495 132.57 380.343 Q130.742 378.19 127.593 378.19 M136.876 363.537 L136.876 367.796 Q135.117 366.963 133.311 366.523 Q131.529 366.084 129.769 366.084 Q125.14 366.084 122.686 369.208 Q120.255 372.333 119.908 378.653 Q121.274 376.639 123.334 375.574 Q125.394 374.486 127.871 374.486 Q133.08 374.486 136.089 377.658 Q139.121 380.806 139.121 386.245 Q139.121 391.569 135.973 394.787 Q132.825 398.005 127.593 398.005 Q121.598 398.005 118.427 393.421 Q115.256 388.815 115.256 380.088 Q115.256 371.894 119.144 367.033 Q123.033 362.148 129.584 362.148 Q131.343 362.148 133.126 362.496 Q134.931 362.843 136.876 363.537 Z\" fill=\"#000000\" fill-rule=\"evenodd\" fill-opacity=\"1\" /><path clip-path=\"url(#clip800)\" d=\"M157.177 365.852 Q153.566 365.852 151.737 369.417 Q149.931 372.958 149.931 380.088 Q149.931 387.195 151.737 390.759 Q153.566 394.301 157.177 394.301 Q160.811 394.301 162.616 390.759 Q164.445 387.195 164.445 380.088 Q164.445 372.958 162.616 369.417 Q160.811 365.852 157.177 365.852 M157.177 362.148 Q162.987 362.148 166.042 366.755 Q169.121 371.338 169.121 380.088 Q169.121 388.815 166.042 393.421 Q162.987 398.005 157.177 398.005 Q151.366 398.005 148.288 393.421 Q145.232 388.815 145.232 380.088 Q145.232 371.338 148.288 366.755 Q151.366 362.148 157.177 362.148 Z\" fill=\"#000000\" fill-rule=\"evenodd\" fill-opacity=\"1\" /><path clip-path=\"url(#clip800)\" d=\"M14.479 959.714 L19.3487 959.714 L19.3487 965.316 Q19.3487 968.467 20.6219 969.708 Q21.895 970.918 25.2052 970.918 L28.3562 970.918 L28.3562 961.273 L32.9077 961.273 L32.9077 970.918 L64.0042 970.918 L64.0042 976.806 L32.9077 976.806 L32.9077 982.408 L28.3562 982.408 L28.3562 976.806 L25.8736 976.806 Q19.9216 976.806 17.2162 974.037 Q14.479 971.268 14.479 965.252 L14.479 959.714 Z\" fill=\"#000000\" fill-rule=\"evenodd\" fill-opacity=\"1\" /><path clip-path=\"url(#clip800)\" d=\"M14.5426 940.744 Q21.8632 945.009 29.0246 947.078 Q36.186 949.147 43.5384 949.147 Q50.8908 949.147 58.1159 947.078 Q65.3091 944.977 72.5979 940.744 L72.5979 945.837 Q65.1182 950.611 57.8931 952.998 Q50.668 955.353 43.5384 955.353 Q36.4406 955.353 29.2474 952.998 Q22.0542 950.643 14.5426 945.837 L14.5426 940.744 Z\" fill=\"#000000\" fill-rule=\"evenodd\" fill-opacity=\"1\" /><path clip-path=\"url(#clip800)\" d=\"M32.4621 915.568 Q32.4621 920.278 36.1542 923.016 Q39.8145 925.753 46.212 925.753 Q52.6095 925.753 56.3017 923.047 Q59.9619 920.31 59.9619 915.568 Q59.9619 910.889 56.2698 908.152 Q52.5777 905.414 46.212 905.414 Q39.8781 905.414 36.186 908.152 Q32.4621 910.889 32.4621 915.568 M27.4968 915.568 Q27.4968 907.929 32.4621 903.568 Q37.4273 899.208 46.212 899.208 Q54.9649 899.208 59.9619 903.568 Q64.9272 907.929 64.9272 915.568 Q64.9272 923.238 59.9619 927.599 Q54.9649 931.928 46.212 931.928 Q37.4273 931.928 32.4621 927.599 Q27.4968 923.238 27.4968 915.568 Z\" fill=\"#000000\" fill-rule=\"evenodd\" fill-opacity=\"1\" /><path clip-path=\"url(#clip800)\" d=\"M14.479 871.453 L19.3487 871.453 L19.3487 877.055 Q19.3487 880.206 20.6219 881.448 Q21.895 882.657 25.2052 882.657 L28.3562 882.657 L28.3562 873.013 L32.9077 873.013 L32.9077 882.657 L64.0042 882.657 L64.0042 888.545 L32.9077 888.545 L32.9077 894.147 L28.3562 894.147 L28.3562 888.545 L25.8736 888.545 Q19.9216 888.545 17.2162 885.776 Q14.479 883.007 14.479 876.992 L14.479 871.453 Z\" fill=\"#000000\" fill-rule=\"evenodd\" fill-opacity=\"1\" /><path clip-path=\"url(#clip800)\" d=\"M14.479 848.505 L19.3487 848.505 L19.3487 854.107 Q19.3487 857.258 20.6219 858.499 Q21.895 859.709 25.2052 859.709 L28.3562 859.709 L28.3562 850.065 L32.9077 850.065 L32.9077 859.709 L64.0042 859.709 L64.0042 865.597 L32.9077 865.597 L32.9077 871.199 L28.3562 871.199 L28.3562 865.597 L25.8736 865.597 Q19.9216 865.597 17.2162 862.828 Q14.479 860.059 14.479 854.043 L14.479 848.505 Z\" fill=\"#000000\" fill-rule=\"evenodd\" fill-opacity=\"1\" /><path clip-path=\"url(#clip800)\" d=\"M44.7161 813.112 L47.5806 813.112 L47.5806 840.039 Q53.6281 839.657 56.8109 836.41 Q59.9619 833.132 59.9619 827.307 Q59.9619 823.933 59.1344 820.782 Q58.3069 817.599 56.6518 814.48 L62.1899 814.48 Q63.5267 817.631 64.227 820.941 Q64.9272 824.252 64.9272 827.657 Q64.9272 836.187 59.9619 841.184 Q54.9967 846.15 46.5303 846.15 Q37.7774 846.15 32.6531 841.439 Q27.4968 836.697 27.4968 828.676 Q27.4968 821.483 32.1438 817.313 Q36.7589 813.112 44.7161 813.112 M42.9973 818.968 Q38.1912 819.032 35.3266 821.674 Q32.4621 824.283 32.4621 828.612 Q32.4621 833.514 35.2312 836.474 Q38.0002 839.402 43.0292 839.848 L42.9973 818.968 Z\" fill=\"#000000\" fill-rule=\"evenodd\" fill-opacity=\"1\" /><path clip-path=\"url(#clip800)\" d=\"M33.8307 782.843 Q33.2578 783.829 33.0032 785.007 Q32.7167 786.153 32.7167 787.553 Q32.7167 792.519 35.9632 795.192 Q39.1779 797.834 45.2253 797.834 L64.0042 797.834 L64.0042 803.722 L28.3562 803.722 L28.3562 797.834 L33.8944 797.834 Q30.6479 795.988 29.0883 793.028 Q27.4968 790.068 27.4968 785.835 Q27.4968 785.23 27.5923 784.498 Q27.656 783.766 27.8151 782.875 L33.8307 782.843 Z\" fill=\"#000000\" fill-rule=\"evenodd\" fill-opacity=\"1\" /><path clip-path=\"url(#clip800)\" d=\"M28.3562 760.181 L28.3562 753.974 L58.275 742.834 L28.3562 731.694 L28.3562 725.488 L64.0042 738.856 L64.0042 746.813 L28.3562 760.181 Z\" fill=\"#000000\" fill-rule=\"evenodd\" fill-opacity=\"1\" /><path clip-path=\"url(#clip800)\" d=\"M46.0847 701.203 Q46.0847 708.3 47.7079 711.038 Q49.3312 713.775 53.2461 713.775 Q56.3653 713.775 58.2114 711.738 Q60.0256 709.669 60.0256 706.136 Q60.0256 701.266 56.5881 698.338 Q53.1188 695.378 47.3897 695.378 L46.0847 695.378 L46.0847 701.203 M43.6657 689.521 L64.0042 689.521 L64.0042 695.378 L58.5933 695.378 Q61.8398 697.383 63.3994 700.375 Q64.9272 703.367 64.9272 707.696 Q64.9272 713.17 61.8716 716.417 Q58.7843 719.631 53.6281 719.631 Q47.6125 719.631 44.5569 715.621 Q41.5014 711.579 41.5014 703.59 L41.5014 695.378 L40.9285 695.378 Q36.8862 695.378 34.6901 698.052 Q32.4621 700.693 32.4621 705.499 Q32.4621 708.555 33.1941 711.451 Q33.9262 714.348 35.3903 717.021 L29.9795 717.021 Q28.7381 713.807 28.1334 710.783 Q27.4968 707.759 27.4968 704.895 Q27.4968 697.16 31.5072 693.341 Q35.5176 689.521 43.6657 689.521 Z\" fill=\"#000000\" fill-rule=\"evenodd\" fill-opacity=\"1\" /><path clip-path=\"url(#clip800)\" d=\"M14.479 677.458 L14.479 671.602 L64.0042 671.602 L64.0042 677.458 L14.479 677.458 Z\" fill=\"#000000\" fill-rule=\"evenodd\" fill-opacity=\"1\" /><path clip-path=\"url(#clip800)\" d=\"M49.9359 659.953 L28.3562 659.953 L28.3562 654.096 L49.7131 654.096 Q54.7739 654.096 57.3202 652.123 Q59.8346 650.15 59.8346 646.203 Q59.8346 641.46 56.8109 638.723 Q53.7872 635.954 48.5673 635.954 L28.3562 635.954 L28.3562 630.098 L64.0042 630.098 L64.0042 635.954 L58.5296 635.954 Q61.7762 638.087 63.3676 640.919 Q64.9272 643.72 64.9272 647.444 Q64.9272 653.587 61.1078 656.77 Q57.2883 659.953 49.9359 659.953 M27.4968 645.216 L27.4968 645.216 Z\" fill=\"#000000\" fill-rule=\"evenodd\" fill-opacity=\"1\" /><path clip-path=\"url(#clip800)\" d=\"M44.7161 587.543 L47.5806 587.543 L47.5806 614.47 Q53.6281 614.088 56.8109 610.841 Q59.9619 607.563 59.9619 601.738 Q59.9619 598.365 59.1344 595.214 Q58.3069 592.031 56.6518 588.911 L62.1899 588.911 Q63.5267 592.062 64.227 595.373 Q64.9272 598.683 64.9272 602.088 Q64.9272 610.619 59.9619 615.616 Q54.9967 620.581 46.5303 620.581 Q37.7774 620.581 32.6531 615.87 Q27.4968 611.128 27.4968 603.107 Q27.4968 595.914 32.1438 591.744 Q36.7589 587.543 44.7161 587.543 M42.9973 593.399 Q38.1912 593.463 35.3266 596.105 Q32.4621 598.715 32.4621 603.043 Q32.4621 607.945 35.2312 610.905 Q38.0002 613.833 43.0292 614.279 L42.9973 593.399 Z\" fill=\"#000000\" fill-rule=\"evenodd\" fill-opacity=\"1\" /><path clip-path=\"url(#clip800)\" d=\"M14.5426 578.854 L14.5426 573.761 Q22.0542 568.987 29.2474 566.631 Q36.4406 564.244 43.5384 564.244 Q50.668 564.244 57.8931 566.631 Q65.1182 568.987 72.5979 573.761 L72.5979 578.854 Q65.3091 574.62 58.1159 572.552 Q50.8908 570.451 43.5384 570.451 Q36.186 570.451 29.0246 572.552 Q21.8632 574.62 14.5426 578.854 Z\" fill=\"#000000\" fill-rule=\"evenodd\" fill-opacity=\"1\" /><path clip-path=\"url(#clip800)\" d=\"M1007.55 18.8205 L1007.55 41.5461 L1017.84 41.5461 Q1023.55 41.5461 1026.67 38.5889 Q1029.79 35.6318 1029.79 30.163 Q1029.79 24.7348 1026.67 21.7777 Q1023.55 18.8205 1017.84 18.8205 L1007.55 18.8205 M999.365 12.096 L1017.84 12.096 Q1028.01 12.096 1033.19 16.714 Q1038.42 21.2916 1038.42 30.163 Q1038.42 39.1155 1033.19 43.6931 Q1028.01 48.2706 1017.84 48.2706 L1007.55 48.2706 L1007.55 72.576 L999.365 72.576 L999.365 12.096 Z\" fill=\"#000000\" fill-rule=\"evenodd\" fill-opacity=\"1\" /><path clip-path=\"url(#clip800)\" d=\"M1057.58 18.8205 L1057.58 65.8515 L1067.46 65.8515 Q1079.98 65.8515 1085.77 60.1802 Q1091.6 54.509 1091.6 42.2752 Q1091.6 30.1225 1085.77 24.4918 Q1079.98 18.8205 1067.46 18.8205 L1057.58 18.8205 M1049.39 12.096 L1066.21 12.096 Q1083.79 12.096 1092.01 19.4281 Q1100.23 26.7198 1100.23 42.2752 Q1100.23 57.9117 1091.97 65.2439 Q1083.71 72.576 1066.21 72.576 L1049.39 72.576 L1049.39 12.096 Z\" fill=\"#000000\" fill-rule=\"evenodd\" fill-opacity=\"1\" /><path clip-path=\"url(#clip800)\" d=\"M1113.28 12.096 L1148.03 12.096 L1148.03 18.9825 L1121.46 18.9825 L1121.46 36.8065 L1145.44 36.8065 L1145.44 43.6931 L1121.46 43.6931 L1121.46 72.576 L1113.28 72.576 L1113.28 12.096 Z\" fill=\"#000000\" fill-rule=\"evenodd\" fill-opacity=\"1\" /><path clip-path=\"url(#clip800)\" d=\"M1189.6 28.5427 L1189.6 35.5912 Q1186.44 33.9709 1183.03 33.1607 Q1179.63 32.3505 1175.98 32.3505 Q1170.43 32.3505 1167.64 34.0519 Q1164.89 35.7533 1164.89 39.156 Q1164.89 41.7486 1166.87 43.2475 Q1168.86 44.7058 1174.85 46.0426 L1177.4 46.6097 Q1185.34 48.3111 1188.66 51.4303 Q1192.03 54.509 1192.03 60.0587 Q1192.03 66.3781 1187 70.0644 Q1182.02 73.7508 1173.27 73.7508 Q1169.62 73.7508 1165.65 73.0216 Q1161.73 72.3329 1157.35 70.9151 L1157.35 63.2184 Q1161.48 65.3654 1165.49 66.4591 Q1169.5 67.5124 1173.43 67.5124 Q1178.7 67.5124 1181.53 65.73 Q1184.37 63.9071 1184.37 60.6258 Q1184.37 57.5877 1182.3 55.9673 Q1180.28 54.3469 1173.35 52.8481 L1170.76 52.2405 Q1163.83 50.7821 1160.75 47.7845 Q1157.67 44.7463 1157.67 39.4801 Q1157.67 33.0797 1162.21 29.5959 Q1166.75 26.1121 1175.09 26.1121 Q1179.23 26.1121 1182.87 26.7198 Q1186.52 27.3274 1189.6 28.5427 Z\" fill=\"#000000\" fill-rule=\"evenodd\" fill-opacity=\"1\" /><path clip-path=\"url(#clip800)\" d=\"M1247.85 32.4315 Q1241.85 32.4315 1238.37 37.1306 Q1234.88 41.7891 1234.88 49.9314 Q1234.88 58.0738 1238.33 62.7728 Q1241.81 67.4314 1247.85 67.4314 Q1253.8 67.4314 1257.29 62.7323 Q1260.77 58.0333 1260.77 49.9314 Q1260.77 41.8701 1257.29 37.1711 Q1253.8 32.4315 1247.85 32.4315 M1247.85 26.1121 Q1257.57 26.1121 1263.12 32.4315 Q1268.67 38.7509 1268.67 49.9314 Q1268.67 61.0714 1263.12 67.4314 Q1257.57 73.7508 1247.85 73.7508 Q1238.09 73.7508 1232.54 67.4314 Q1227.03 61.0714 1227.03 49.9314 Q1227.03 38.7509 1232.54 32.4315 Q1238.09 26.1121 1247.85 26.1121 Z\" fill=\"#000000\" fill-rule=\"evenodd\" fill-opacity=\"1\" /><path clip-path=\"url(#clip800)\" d=\"M1303.99 9.54393 L1303.99 15.7418 L1296.86 15.7418 Q1292.85 15.7418 1291.27 17.3622 Q1289.73 18.9825 1289.73 23.1955 L1289.73 27.2059 L1302.01 27.2059 L1302.01 32.9987 L1289.73 32.9987 L1289.73 72.576 L1282.24 72.576 L1282.24 32.9987 L1275.11 32.9987 L1275.11 27.2059 L1282.24 27.2059 L1282.24 24.0462 Q1282.24 16.471 1285.76 13.0277 Q1289.29 9.54393 1296.94 9.54393 L1303.99 9.54393 Z\" fill=\"#000000\" fill-rule=\"evenodd\" fill-opacity=\"1\" /><path clip-path=\"url(#clip800)\" d=\"M1328.54 12.096 L1379.7 12.096 L1379.7 18.9825 L1358.23 18.9825 L1358.23 72.576 L1350.01 72.576 L1350.01 18.9825 L1328.54 18.9825 L1328.54 12.096 Z\" fill=\"#000000\" fill-rule=\"evenodd\" fill-opacity=\"1\" /><path clip-path=\"url(#clip800)\" d=\"M1393.23 76.7889 Q1390.07 84.8907 1387.08 87.3618 Q1384.08 89.8329 1379.06 89.8329 L1373.1 89.8329 L1373.1 83.5945 L1377.48 83.5945 Q1380.56 83.5945 1382.26 82.1361 Q1383.96 80.6778 1386.02 75.2496 L1387.36 71.8468 L1369.01 27.2059 L1376.91 27.2059 L1391.09 62.6918 L1405.27 27.2059 L1413.17 27.2059 L1393.23 76.7889 Z\" fill=\"#000000\" fill-rule=\"evenodd\" fill-opacity=\"1\" /><path clip-path=\"url(#clip800)\" d=\"M1430.67 65.7705 L1430.67 89.8329 L1423.17 89.8329 L1423.17 27.2059 L1430.67 27.2059 L1430.67 34.0924 Q1433.01 30.0415 1436.58 28.0971 Q1440.18 26.1121 1445.17 26.1121 Q1453.43 26.1121 1458.58 32.6746 Q1463.76 39.2371 1463.76 49.9314 Q1463.76 60.6258 1458.58 67.1883 Q1453.43 73.7508 1445.17 73.7508 Q1440.18 73.7508 1436.58 71.8063 Q1433.01 69.8214 1430.67 65.7705 M1456.02 49.9314 Q1456.02 41.7081 1452.62 37.0496 Q1449.26 32.3505 1443.34 32.3505 Q1437.43 32.3505 1434.03 37.0496 Q1430.67 41.7081 1430.67 49.9314 Q1430.67 58.1548 1434.03 62.8538 Q1437.43 67.5124 1443.34 67.5124 Q1449.26 67.5124 1452.62 62.8538 Q1456.02 58.1548 1456.02 49.9314 Z\" fill=\"#000000\" fill-rule=\"evenodd\" fill-opacity=\"1\" /><path clip-path=\"url(#clip800)\" d=\"M1514.92 48.0275 L1514.92 51.6733 L1480.65 51.6733 Q1481.14 59.3701 1485.27 63.421 Q1489.44 67.4314 1496.86 67.4314 Q1501.15 67.4314 1505.16 66.3781 Q1509.21 65.3249 1513.18 63.2184 L1513.18 70.267 Q1509.17 71.9684 1504.96 72.8596 Q1500.75 73.7508 1496.41 73.7508 Q1485.55 73.7508 1479.19 67.4314 Q1472.88 61.1119 1472.88 50.3365 Q1472.88 39.1965 1478.87 32.6746 Q1484.91 26.1121 1495.11 26.1121 Q1504.27 26.1121 1509.58 32.0264 Q1514.92 37.9003 1514.92 48.0275 M1507.47 45.84 Q1507.39 39.7232 1504.03 36.0774 Q1500.71 32.4315 1495.2 32.4315 Q1488.96 32.4315 1485.19 35.9558 Q1481.46 39.4801 1480.9 45.8805 L1507.47 45.84 Z\" fill=\"#000000\" fill-rule=\"evenodd\" fill-opacity=\"1\" /><path clip-path=\"url(#clip800)\" d=\"M1556.08 28.5427 L1556.08 35.5912 Q1552.92 33.9709 1549.52 33.1607 Q1546.12 32.3505 1542.47 32.3505 Q1536.92 32.3505 1534.13 34.0519 Q1531.37 35.7533 1531.37 39.156 Q1531.37 41.7486 1533.36 43.2475 Q1535.34 44.7058 1541.34 46.0426 L1543.89 46.6097 Q1551.83 48.3111 1555.15 51.4303 Q1558.51 54.509 1558.51 60.0587 Q1558.51 66.3781 1553.49 70.0644 Q1548.51 73.7508 1539.76 73.7508 Q1536.11 73.7508 1532.14 73.0216 Q1528.21 72.3329 1523.84 70.9151 L1523.84 63.2184 Q1527.97 65.3654 1531.98 66.4591 Q1535.99 67.5124 1539.92 67.5124 Q1545.18 67.5124 1548.02 65.73 Q1550.86 63.9071 1550.86 60.6258 Q1550.86 57.5877 1548.79 55.9673 Q1546.76 54.3469 1539.84 52.8481 L1537.24 52.2405 Q1530.32 50.7821 1527.24 47.7845 Q1524.16 44.7463 1524.16 39.4801 Q1524.16 33.0797 1528.7 29.5959 Q1533.23 26.1121 1541.58 26.1121 Q1545.71 26.1121 1549.36 26.7198 Q1553 27.3274 1556.08 28.5427 Z\" fill=\"#000000\" fill-rule=\"evenodd\" fill-opacity=\"1\" /><polyline clip-path=\"url(#clip802)\" style=\"stroke:#009af9; stroke-linecap:butt; stroke-linejoin:round; stroke-width:4; stroke-opacity:1; fill:none\" points=\"\n",
       "  265.903,1354.68 275.796,1354.68 285.689,1354.68 377.166,1354.93 468.642,1355.52 523.615,1356.03 578.588,1356.65 625.068,1357.25 671.547,1357.92 772.526,1359.6 \n",
       "  865.62,1361.35 965.426,1363.39 1081.06,1365.89 1183.82,1368.16 1273.94,1370.12 1372.19,1372.2 1471.02,1374.18 1580.29,1376.2 1684.26,1377.94 1792.36,1379.53 \n",
       "  1883.37,1380.71 1994.47,1381.94 2098.91,1382.91 2266.22,1384.11 2291.97,1384.26 \n",
       "  \"/>\n",
       "<polyline clip-path=\"url(#clip802)\" style=\"stroke:#e26f46; stroke-linecap:butt; stroke-linejoin:round; stroke-width:4; stroke-opacity:1; fill:none\" points=\"\n",
       "  265.903,1366.71 270.85,1365.79 275.796,1364.85 280.743,1363.88 285.689,1362.89 331.427,1352.59 377.166,1340.81 400.035,1334.72 422.904,1328.77 445.773,1323.15 \n",
       "  468.642,1318.1 482.385,1315.42 496.128,1313.07 509.872,1311.08 523.615,1309.49 537.358,1308.32 551.102,1307.59 564.845,1307.32 578.588,1307.51 590.208,1308.02 \n",
       "  601.828,1308.86 613.448,1310 625.068,1311.45 636.688,1313.17 648.307,1315.15 659.927,1317.36 671.547,1319.78 696.792,1325.63 722.037,1332.05 747.281,1338.74 \n",
       "  772.526,1345.42 795.8,1351.36 819.073,1356.93 842.346,1362.03 865.62,1366.58 890.571,1370.81 915.523,1374.37 940.475,1377.3 965.426,1379.64 994.335,1381.73 \n",
       "  1023.24,1383.25 1052.15,1384.33 1081.06,1385.07 1132.44,1385.83 1183.82,1386.18 1228.88,1386.31 1273.94,1386.36 1372.19,1386.39 1471.02,1386.4 1580.29,1386.4 \n",
       "  1684.26,1386.4 1792.36,1386.4 1883.37,1386.4 1994.47,1386.4 2098.91,1386.4 2266.22,1386.4 2291.97,1386.4 \n",
       "  \"/>\n",
       "<polyline clip-path=\"url(#clip802)\" style=\"stroke:#3da44d; stroke-linecap:butt; stroke-linejoin:round; stroke-width:4; stroke-opacity:1; fill:none\" points=\"\n",
       "  265.903,1367.51 270.85,1365.89 275.796,1364.16 280.743,1362.33 285.689,1360.41 297.124,1355.56 308.558,1350.18 319.993,1344.28 331.427,1337.91 354.296,1324.04 \n",
       "  377.166,1309.34 388.6,1302.01 400.035,1294.91 411.469,1288.2 422.904,1282.05 434.338,1276.61 445.773,1272.05 457.207,1268.48 468.642,1266.01 475.513,1265.08 \n",
       "  482.385,1264.59 489.257,1264.54 496.128,1264.93 503,1265.76 509.872,1267.01 516.743,1268.68 523.615,1270.74 537.358,1275.96 551.102,1282.45 564.845,1289.98 \n",
       "  578.588,1298.24 601.828,1313.08 625.068,1327.89 636.688,1334.94 648.307,1341.61 659.927,1347.81 671.547,1353.49 684.169,1359.05 696.792,1363.94 709.414,1368.18 \n",
       "  722.037,1371.8 734.659,1374.84 747.281,1377.36 759.904,1379.41 772.526,1381.07 795.8,1383.26 819.073,1384.63 842.346,1385.44 865.62,1385.9 965.426,1386.38 \n",
       "  1081.06,1386.4 1183.82,1386.4 1273.94,1386.4 1372.19,1386.4 1471.02,1386.4 1580.29,1386.4 1684.26,1386.4 1792.36,1386.4 1883.37,1386.4 1994.47,1386.4 \n",
       "  2098.91,1386.4 2266.22,1386.4 2291.97,1386.4 \n",
       "  \"/>\n",
       "<polyline clip-path=\"url(#clip802)\" style=\"stroke:#c271d2; stroke-linecap:butt; stroke-linejoin:round; stroke-width:4; stroke-opacity:1; fill:none\" points=\"\n",
       "  265.903,1040.84 268.376,913.426 270.85,767.285 273.323,611.353 275.796,458.485 277.033,387.938 278.269,323.945 279.506,268.391 280.743,222.982 281.979,189.158 \n",
       "  283.216,168.017 283.834,162.437 284.453,160.256 284.762,160.447 285.071,161.492 285.38,163.389 285.689,166.134 287.119,189.639 288.548,230.052 289.977,285.625 \n",
       "  291.407,354.026 292.836,432.497 294.265,518.041 295.695,607.604 297.124,698.261 298.553,787.357 299.982,872.631 301.412,952.284 302.841,1025.01 304.27,1090.01 \n",
       "  305.7,1146.91 307.129,1195.74 308.558,1236.87 309.988,1270.86 311.417,1298.44 312.846,1320.43 314.276,1337.65 317.134,1360.94 319.993,1373.88 325.71,1383.86 \n",
       "  331.427,1385.99 342.862,1386.39 354.296,1386.4 365.731,1386.4 377.166,1386.4 422.904,1386.4 468.642,1386.4 523.615,1386.4 578.588,1386.4 625.068,1386.4 \n",
       "  671.547,1386.4 772.526,1386.4 865.62,1386.4 965.426,1386.4 1081.06,1386.4 1183.82,1386.4 1273.94,1386.4 1372.19,1386.4 1471.02,1386.4 1580.29,1386.4 \n",
       "  1684.26,1386.4 1792.36,1386.4 1883.37,1386.4 1994.47,1386.4 2098.91,1386.4 2266.22,1386.4 2291.97,1386.4 \n",
       "  \"/>\n",
       "<polyline clip-path=\"url(#clip802)\" style=\"stroke:#ac8d18; stroke-linecap:butt; stroke-linejoin:round; stroke-width:4; stroke-opacity:1; fill:none\" points=\"\n",
       "  265.903,1262.24 268.376,1257.05 270.85,1251.83 273.323,1246.59 275.796,1241.35 278.269,1236.11 280.743,1230.9 283.216,1225.73 285.689,1220.62 297.124,1198.16 \n",
       "  308.558,1178.83 314.276,1170.82 319.993,1164.14 325.71,1158.92 331.427,1155.28 337.145,1153.29 342.862,1153.01 348.579,1154.43 354.296,1157.52 360.014,1162.23 \n",
       "  365.731,1168.44 371.448,1176.02 377.166,1184.83 388.6,1205.37 400.035,1228.52 411.469,1252.69 422.904,1276.43 434.338,1298.56 445.773,1318.27 457.207,1335.08 \n",
       "  468.642,1348.86 475.513,1355.73 482.385,1361.6 489.257,1366.56 496.128,1370.7 509.872,1376.87 523.615,1380.85 537.358,1383.31 551.102,1384.74 564.845,1385.55 \n",
       "  578.588,1385.98 625.068,1386.37 671.547,1386.39 772.526,1386.4 865.62,1386.4 965.426,1386.4 1081.06,1386.4 1183.82,1386.4 1273.94,1386.4 1372.19,1386.4 \n",
       "  1471.02,1386.4 1580.29,1386.4 1684.26,1386.4 1792.36,1386.4 1883.37,1386.4 1994.47,1386.4 2098.91,1386.4 2266.22,1386.4 2291.97,1386.4 \n",
       "  \"/>\n",
       "<path clip-path=\"url(#clip800)\" d=\"\n",
       "M1890.95 477.836 L2281.17 477.836 L2281.17 166.796 L1890.95 166.796  Z\n",
       "  \" fill=\"#ffffff\" fill-rule=\"evenodd\" fill-opacity=\"1\"/>\n",
       "<polyline clip-path=\"url(#clip800)\" style=\"stroke:#000000; stroke-linecap:butt; stroke-linejoin:round; stroke-width:4; stroke-opacity:1; fill:none\" points=\"\n",
       "  1890.95,477.836 2281.17,477.836 2281.17,166.796 1890.95,166.796 1890.95,477.836 \n",
       "  \"/>\n",
       "<polyline clip-path=\"url(#clip800)\" style=\"stroke:#009af9; stroke-linecap:butt; stroke-linejoin:round; stroke-width:4; stroke-opacity:1; fill:none\" points=\"\n",
       "  1914.81,218.636 2057.98,218.636 \n",
       "  \"/>\n",
       "<path clip-path=\"url(#clip800)\" d=\"M2081.85 201.356 L2111.08 201.356 L2111.08 205.291 L2098.81 205.291 L2098.81 235.916 L2094.11 235.916 L2094.11 205.291 L2081.85 205.291 L2081.85 201.356 Z\" fill=\"#000000\" fill-rule=\"evenodd\" fill-opacity=\"1\" /><path clip-path=\"url(#clip800)\" d=\"M2118.81 238.323 Q2117.01 242.953 2115.3 244.365 Q2113.58 245.777 2110.71 245.777 L2107.31 245.777 L2107.31 242.212 L2109.81 242.212 Q2111.57 242.212 2112.54 241.379 Q2113.51 240.545 2114.69 237.443 L2115.46 235.499 L2104.97 209.99 L2109.49 209.99 L2117.59 230.268 L2125.69 209.99 L2130.2 209.99 L2118.81 238.323 Z\" fill=\"#000000\" fill-rule=\"evenodd\" fill-opacity=\"1\" /><path clip-path=\"url(#clip800)\" d=\"M2140.2 232.027 L2140.2 245.777 L2135.92 245.777 L2135.92 209.99 L2140.2 209.99 L2140.2 213.925 Q2141.55 211.61 2143.58 210.499 Q2145.64 209.365 2148.49 209.365 Q2153.21 209.365 2156.15 213.115 Q2159.11 216.865 2159.11 222.976 Q2159.11 229.087 2156.15 232.837 Q2153.21 236.587 2148.49 236.587 Q2145.64 236.587 2143.58 235.476 Q2141.55 234.342 2140.2 232.027 M2154.69 222.976 Q2154.69 218.277 2152.75 215.615 Q2150.83 212.93 2147.45 212.93 Q2144.07 212.93 2142.12 215.615 Q2140.2 218.277 2140.2 222.976 Q2140.2 227.675 2142.12 230.36 Q2144.07 233.022 2147.45 233.022 Q2150.83 233.022 2152.75 230.36 Q2154.69 227.675 2154.69 222.976 Z\" fill=\"#000000\" fill-rule=\"evenodd\" fill-opacity=\"1\" /><path clip-path=\"url(#clip800)\" d=\"M2188.35 221.888 L2188.35 223.971 L2168.77 223.971 Q2169.05 228.369 2171.41 230.684 Q2173.79 232.976 2178.03 232.976 Q2180.48 232.976 2182.77 232.374 Q2185.09 231.772 2187.36 230.569 L2187.36 234.596 Q2185.06 235.568 2182.66 236.078 Q2180.25 236.587 2177.77 236.587 Q2171.57 236.587 2167.93 232.976 Q2164.32 229.365 2164.32 223.207 Q2164.32 216.842 2167.75 213.115 Q2171.2 209.365 2177.03 209.365 Q2182.26 209.365 2185.29 212.745 Q2188.35 216.101 2188.35 221.888 M2184.09 220.638 Q2184.04 217.143 2182.12 215.059 Q2180.23 212.976 2177.08 212.976 Q2173.51 212.976 2171.36 214.99 Q2169.23 217.004 2168.91 220.661 L2184.09 220.638 Z\" fill=\"#000000\" fill-rule=\"evenodd\" fill-opacity=\"1\" /><path clip-path=\"url(#clip800)\" d=\"M2211.82 231.981 L2219.46 231.981 L2219.46 205.615 L2211.15 207.282 L2211.15 203.022 L2219.42 201.356 L2224.09 201.356 L2224.09 231.981 L2231.73 231.981 L2231.73 235.916 L2211.82 235.916 L2211.82 231.981 Z\" fill=\"#000000\" fill-rule=\"evenodd\" fill-opacity=\"1\" /><polyline clip-path=\"url(#clip800)\" style=\"stroke:#e26f46; stroke-linecap:butt; stroke-linejoin:round; stroke-width:4; stroke-opacity:1; fill:none\" points=\"\n",
       "  1914.81,270.476 2057.98,270.476 \n",
       "  \"/>\n",
       "<path clip-path=\"url(#clip800)\" d=\"M2081.85 253.196 L2111.08 253.196 L2111.08 257.131 L2098.81 257.131 L2098.81 287.756 L2094.11 287.756 L2094.11 257.131 L2081.85 257.131 L2081.85 253.196 Z\" fill=\"#000000\" fill-rule=\"evenodd\" fill-opacity=\"1\" /><path clip-path=\"url(#clip800)\" d=\"M2118.81 290.163 Q2117.01 294.793 2115.3 296.205 Q2113.58 297.617 2110.71 297.617 L2107.31 297.617 L2107.31 294.052 L2109.81 294.052 Q2111.57 294.052 2112.54 293.219 Q2113.51 292.385 2114.69 289.283 L2115.46 287.339 L2104.97 261.83 L2109.49 261.83 L2117.59 282.108 L2125.69 261.83 L2130.2 261.83 L2118.81 290.163 Z\" fill=\"#000000\" fill-rule=\"evenodd\" fill-opacity=\"1\" /><path clip-path=\"url(#clip800)\" d=\"M2140.2 283.867 L2140.2 297.617 L2135.92 297.617 L2135.92 261.83 L2140.2 261.83 L2140.2 265.765 Q2141.55 263.45 2143.58 262.339 Q2145.64 261.205 2148.49 261.205 Q2153.21 261.205 2156.15 264.955 Q2159.11 268.705 2159.11 274.816 Q2159.11 280.927 2156.15 284.677 Q2153.21 288.427 2148.49 288.427 Q2145.64 288.427 2143.58 287.316 Q2141.55 286.182 2140.2 283.867 M2154.69 274.816 Q2154.69 270.117 2152.75 267.455 Q2150.83 264.77 2147.45 264.77 Q2144.07 264.77 2142.12 267.455 Q2140.2 270.117 2140.2 274.816 Q2140.2 279.515 2142.12 282.2 Q2144.07 284.862 2147.45 284.862 Q2150.83 284.862 2152.75 282.2 Q2154.69 279.515 2154.69 274.816 Z\" fill=\"#000000\" fill-rule=\"evenodd\" fill-opacity=\"1\" /><path clip-path=\"url(#clip800)\" d=\"M2188.35 273.728 L2188.35 275.811 L2168.77 275.811 Q2169.05 280.209 2171.41 282.524 Q2173.79 284.816 2178.03 284.816 Q2180.48 284.816 2182.77 284.214 Q2185.09 283.612 2187.36 282.409 L2187.36 286.436 Q2185.06 287.408 2182.66 287.918 Q2180.25 288.427 2177.77 288.427 Q2171.57 288.427 2167.93 284.816 Q2164.32 281.205 2164.32 275.047 Q2164.32 268.682 2167.75 264.955 Q2171.2 261.205 2177.03 261.205 Q2182.26 261.205 2185.29 264.585 Q2188.35 267.941 2188.35 273.728 M2184.09 272.478 Q2184.04 268.983 2182.12 266.899 Q2180.23 264.816 2177.08 264.816 Q2173.51 264.816 2171.36 266.83 Q2169.23 268.844 2168.91 272.501 L2184.09 272.478 Z\" fill=\"#000000\" fill-rule=\"evenodd\" fill-opacity=\"1\" /><path clip-path=\"url(#clip800)\" d=\"M2215.04 283.821 L2231.36 283.821 L2231.36 287.756 L2209.42 287.756 L2209.42 283.821 Q2212.08 281.066 2216.66 276.436 Q2221.27 271.784 2222.45 270.441 Q2224.69 267.918 2225.57 266.182 Q2226.48 264.423 2226.48 262.733 Q2226.48 259.978 2224.53 258.242 Q2222.61 256.506 2219.51 256.506 Q2217.31 256.506 2214.85 257.27 Q2212.42 258.034 2209.65 259.585 L2209.65 254.862 Q2212.47 253.728 2214.92 253.149 Q2217.38 252.571 2219.42 252.571 Q2224.79 252.571 2227.98 255.256 Q2231.17 257.941 2231.17 262.432 Q2231.17 264.561 2230.36 266.483 Q2229.58 268.381 2227.47 270.973 Q2226.89 271.645 2223.79 274.862 Q2220.69 278.057 2215.04 283.821 Z\" fill=\"#000000\" fill-rule=\"evenodd\" fill-opacity=\"1\" /><polyline clip-path=\"url(#clip800)\" style=\"stroke:#3da44d; stroke-linecap:butt; stroke-linejoin:round; stroke-width:4; stroke-opacity:1; fill:none\" points=\"\n",
       "  1914.81,322.316 2057.98,322.316 \n",
       "  \"/>\n",
       "<path clip-path=\"url(#clip800)\" d=\"M2081.85 305.036 L2111.08 305.036 L2111.08 308.971 L2098.81 308.971 L2098.81 339.596 L2094.11 339.596 L2094.11 308.971 L2081.85 308.971 L2081.85 305.036 Z\" fill=\"#000000\" fill-rule=\"evenodd\" fill-opacity=\"1\" /><path clip-path=\"url(#clip800)\" d=\"M2118.81 342.003 Q2117.01 346.633 2115.3 348.045 Q2113.58 349.457 2110.71 349.457 L2107.31 349.457 L2107.31 345.892 L2109.81 345.892 Q2111.57 345.892 2112.54 345.059 Q2113.51 344.225 2114.69 341.123 L2115.46 339.179 L2104.97 313.67 L2109.49 313.67 L2117.59 333.948 L2125.69 313.67 L2130.2 313.67 L2118.81 342.003 Z\" fill=\"#000000\" fill-rule=\"evenodd\" fill-opacity=\"1\" /><path clip-path=\"url(#clip800)\" d=\"M2140.2 335.707 L2140.2 349.457 L2135.92 349.457 L2135.92 313.67 L2140.2 313.67 L2140.2 317.605 Q2141.55 315.29 2143.58 314.179 Q2145.64 313.045 2148.49 313.045 Q2153.21 313.045 2156.15 316.795 Q2159.11 320.545 2159.11 326.656 Q2159.11 332.767 2156.15 336.517 Q2153.21 340.267 2148.49 340.267 Q2145.64 340.267 2143.58 339.156 Q2141.55 338.022 2140.2 335.707 M2154.69 326.656 Q2154.69 321.957 2152.75 319.295 Q2150.83 316.61 2147.45 316.61 Q2144.07 316.61 2142.12 319.295 Q2140.2 321.957 2140.2 326.656 Q2140.2 331.355 2142.12 334.04 Q2144.07 336.702 2147.45 336.702 Q2150.83 336.702 2152.75 334.04 Q2154.69 331.355 2154.69 326.656 Z\" fill=\"#000000\" fill-rule=\"evenodd\" fill-opacity=\"1\" /><path clip-path=\"url(#clip800)\" d=\"M2188.35 325.568 L2188.35 327.651 L2168.77 327.651 Q2169.05 332.049 2171.41 334.364 Q2173.79 336.656 2178.03 336.656 Q2180.48 336.656 2182.77 336.054 Q2185.09 335.452 2187.36 334.249 L2187.36 338.276 Q2185.06 339.248 2182.66 339.758 Q2180.25 340.267 2177.77 340.267 Q2171.57 340.267 2167.93 336.656 Q2164.32 333.045 2164.32 326.887 Q2164.32 320.522 2167.75 316.795 Q2171.2 313.045 2177.03 313.045 Q2182.26 313.045 2185.29 316.425 Q2188.35 319.781 2188.35 325.568 M2184.09 324.318 Q2184.04 320.823 2182.12 318.739 Q2180.23 316.656 2177.08 316.656 Q2173.51 316.656 2171.36 318.67 Q2169.23 320.684 2168.91 324.341 L2184.09 324.318 Z\" fill=\"#000000\" fill-rule=\"evenodd\" fill-opacity=\"1\" /><path clip-path=\"url(#clip800)\" d=\"M2225.18 320.962 Q2228.54 321.679 2230.41 323.948 Q2232.31 326.216 2232.31 329.549 Q2232.31 334.665 2228.79 337.466 Q2225.27 340.267 2218.79 340.267 Q2216.61 340.267 2214.3 339.827 Q2212.01 339.411 2209.55 338.554 L2209.55 334.04 Q2211.5 335.174 2213.81 335.753 Q2216.13 336.332 2218.65 336.332 Q2223.05 336.332 2225.34 334.596 Q2227.66 332.86 2227.66 329.549 Q2227.66 326.494 2225.5 324.781 Q2223.37 323.045 2219.55 323.045 L2215.53 323.045 L2215.53 319.202 L2219.74 319.202 Q2223.19 319.202 2225.02 317.837 Q2226.85 316.448 2226.85 313.855 Q2226.85 311.193 2224.95 309.781 Q2223.07 308.346 2219.55 308.346 Q2217.63 308.346 2215.43 308.763 Q2213.23 309.179 2210.6 310.059 L2210.6 305.892 Q2213.26 305.151 2215.57 304.781 Q2217.91 304.411 2219.97 304.411 Q2225.29 304.411 2228.4 306.841 Q2231.5 309.249 2231.5 313.369 Q2231.5 316.239 2229.85 318.23 Q2228.21 320.198 2225.18 320.962 Z\" fill=\"#000000\" fill-rule=\"evenodd\" fill-opacity=\"1\" /><polyline clip-path=\"url(#clip800)\" style=\"stroke:#c271d2; stroke-linecap:butt; stroke-linejoin:round; stroke-width:4; stroke-opacity:1; fill:none\" points=\"\n",
       "  1914.81,374.156 2057.98,374.156 \n",
       "  \"/>\n",
       "<path clip-path=\"url(#clip800)\" d=\"M2081.85 356.876 L2111.08 356.876 L2111.08 360.811 L2098.81 360.811 L2098.81 391.436 L2094.11 391.436 L2094.11 360.811 L2081.85 360.811 L2081.85 356.876 Z\" fill=\"#000000\" fill-rule=\"evenodd\" fill-opacity=\"1\" /><path clip-path=\"url(#clip800)\" d=\"M2118.81 393.843 Q2117.01 398.473 2115.3 399.885 Q2113.58 401.297 2110.71 401.297 L2107.31 401.297 L2107.31 397.732 L2109.81 397.732 Q2111.57 397.732 2112.54 396.899 Q2113.51 396.065 2114.69 392.963 L2115.46 391.019 L2104.97 365.51 L2109.49 365.51 L2117.59 385.788 L2125.69 365.51 L2130.2 365.51 L2118.81 393.843 Z\" fill=\"#000000\" fill-rule=\"evenodd\" fill-opacity=\"1\" /><path clip-path=\"url(#clip800)\" d=\"M2140.2 387.547 L2140.2 401.297 L2135.92 401.297 L2135.92 365.51 L2140.2 365.51 L2140.2 369.445 Q2141.55 367.13 2143.58 366.019 Q2145.64 364.885 2148.49 364.885 Q2153.21 364.885 2156.15 368.635 Q2159.11 372.385 2159.11 378.496 Q2159.11 384.607 2156.15 388.357 Q2153.21 392.107 2148.49 392.107 Q2145.64 392.107 2143.58 390.996 Q2141.55 389.862 2140.2 387.547 M2154.69 378.496 Q2154.69 373.797 2152.75 371.135 Q2150.83 368.45 2147.45 368.45 Q2144.07 368.45 2142.12 371.135 Q2140.2 373.797 2140.2 378.496 Q2140.2 383.195 2142.12 385.88 Q2144.07 388.542 2147.45 388.542 Q2150.83 388.542 2152.75 385.88 Q2154.69 383.195 2154.69 378.496 Z\" fill=\"#000000\" fill-rule=\"evenodd\" fill-opacity=\"1\" /><path clip-path=\"url(#clip800)\" d=\"M2188.35 377.408 L2188.35 379.491 L2168.77 379.491 Q2169.05 383.889 2171.41 386.204 Q2173.79 388.496 2178.03 388.496 Q2180.48 388.496 2182.77 387.894 Q2185.09 387.292 2187.36 386.089 L2187.36 390.116 Q2185.06 391.088 2182.66 391.598 Q2180.25 392.107 2177.77 392.107 Q2171.57 392.107 2167.93 388.496 Q2164.32 384.885 2164.32 378.727 Q2164.32 372.362 2167.75 368.635 Q2171.2 364.885 2177.03 364.885 Q2182.26 364.885 2185.29 368.265 Q2188.35 371.621 2188.35 377.408 M2184.09 376.158 Q2184.04 372.663 2182.12 370.579 Q2180.23 368.496 2177.08 368.496 Q2173.51 368.496 2171.36 370.51 Q2169.23 372.524 2168.91 376.181 L2184.09 376.158 Z\" fill=\"#000000\" fill-rule=\"evenodd\" fill-opacity=\"1\" /><path clip-path=\"url(#clip800)\" d=\"M2223.86 360.95 L2212.05 379.399 L2223.86 379.399 L2223.86 360.95 M2222.63 356.876 L2228.51 356.876 L2228.51 379.399 L2233.44 379.399 L2233.44 383.288 L2228.51 383.288 L2228.51 391.436 L2223.86 391.436 L2223.86 383.288 L2208.26 383.288 L2208.26 378.774 L2222.63 356.876 Z\" fill=\"#000000\" fill-rule=\"evenodd\" fill-opacity=\"1\" /><polyline clip-path=\"url(#clip800)\" style=\"stroke:#ac8d18; stroke-linecap:butt; stroke-linejoin:round; stroke-width:4; stroke-opacity:1; fill:none\" points=\"\n",
       "  1914.81,425.996 2057.98,425.996 \n",
       "  \"/>\n",
       "<path clip-path=\"url(#clip800)\" d=\"M2104.09 409.85 L2104.09 414.41 Q2101.43 413.137 2099.07 412.512 Q2096.71 411.887 2094.51 411.887 Q2090.69 411.887 2088.61 413.368 Q2086.55 414.85 2086.55 417.581 Q2086.55 419.873 2087.91 421.054 Q2089.3 422.211 2093.14 422.929 L2095.97 423.507 Q2101.2 424.503 2103.68 427.026 Q2106.18 429.526 2106.18 433.739 Q2106.18 438.762 2102.8 441.354 Q2099.44 443.947 2092.93 443.947 Q2090.48 443.947 2087.7 443.391 Q2084.95 442.836 2081.99 441.748 L2081.99 436.933 Q2084.83 438.53 2087.56 439.341 Q2090.3 440.151 2092.93 440.151 Q2096.94 440.151 2099.11 438.577 Q2101.29 437.003 2101.29 434.086 Q2101.29 431.54 2099.72 430.104 Q2098.17 428.669 2094.6 427.952 L2091.75 427.396 Q2086.52 426.355 2084.18 424.132 Q2081.85 421.91 2081.85 417.952 Q2081.85 413.368 2085.06 410.73 Q2088.3 408.091 2093.98 408.091 Q2096.41 408.091 2098.93 408.531 Q2101.45 408.97 2104.09 409.85 Z\" fill=\"#000000\" fill-rule=\"evenodd\" fill-opacity=\"1\" /><path clip-path=\"url(#clip800)\" d=\"M2113.28 417.35 L2117.54 417.35 L2117.54 443.276 L2113.28 443.276 L2113.28 417.35 M2113.28 407.257 L2117.54 407.257 L2117.54 412.651 L2113.28 412.651 L2113.28 407.257 Z\" fill=\"#000000\" fill-rule=\"evenodd\" fill-opacity=\"1\" /><path clip-path=\"url(#clip800)\" d=\"M2148 427.628 L2148 443.276 L2143.74 443.276 L2143.74 427.767 Q2143.74 424.086 2142.31 422.257 Q2140.87 420.429 2138 420.429 Q2134.55 420.429 2132.56 422.628 Q2130.57 424.827 2130.57 428.623 L2130.57 443.276 L2126.29 443.276 L2126.29 417.35 L2130.57 417.35 L2130.57 421.378 Q2132.1 419.04 2134.16 417.882 Q2136.24 416.725 2138.95 416.725 Q2143.42 416.725 2145.71 419.503 Q2148 422.257 2148 427.628 Z\" fill=\"#000000\" fill-rule=\"evenodd\" fill-opacity=\"1\" /><path clip-path=\"url(#clip800)\" d=\"M2156.34 407.257 L2160.62 407.257 L2160.62 428.53 L2173.33 417.35 L2178.77 417.35 L2165.02 429.479 L2179.35 443.276 L2173.79 443.276 L2160.62 430.614 L2160.62 443.276 L2156.34 443.276 L2156.34 407.257 Z\" fill=\"#000000\" fill-rule=\"evenodd\" fill-opacity=\"1\" /><path clip-path=\"url(#clip800)\" d=\"M2200.43 439.341 L2208.07 439.341 L2208.07 412.975 L2199.76 414.642 L2199.76 410.382 L2208.03 408.716 L2212.7 408.716 L2212.7 439.341 L2220.34 439.341 L2220.34 443.276 L2200.43 443.276 L2200.43 439.341 Z\" fill=\"#000000\" fill-rule=\"evenodd\" fill-opacity=\"1\" /></svg>\n"
      ]
     },
     "execution_count": 26,
     "metadata": {},
     "output_type": "execute_result"
    }
   ],
   "source": [
    "select_type = 1\n",
    "pdfs = plot(TruncatedNormal(sol[NUMBER_OF_TYPES-1+select_type], sol[NUMBER_OF_TYPES-1+select_type+TOTAL_DISTRIBUTIONS], 0, 1), func = pdf, title = \"PDFs of Types\", label = \"Type 1\")\n",
    "for select_type in 2:NUMBER_OF_TYPES # academic types\n",
    "    plot!(pdfs, TruncatedNormal(sol[NUMBER_OF_TYPES-1+select_type], sol[NUMBER_OF_TYPES-1+select_type+TOTAL_DISTRIBUTIONS], 0, 1), func = pdf, label = string(\"Type \", select_type))\n",
    "end\n",
    "\n",
    "for select_type in NUMBER_OF_TYPES+1:TOTAL_DISTRIBUTIONS # sinks\n",
    "    plot!(pdfs, TruncatedNormal(sol[NUMBER_OF_TYPES-1+select_type], sol[NUMBER_OF_TYPES-1+select_type+TOTAL_DISTRIBUTIONS], 0, 1), func = pdf, label = string(\"Sink \", select_type - NUMBER_OF_TYPES))\n",
    "end\n",
    "xlabel!(pdfs, \"offer value\")\n",
    "ylabel!(pdfs, \"f(offer value)\")\n",
    "pdfs"
   ]
  },
  {
   "cell_type": "code",
   "execution_count": 27,
   "id": "ad3b38a1-a33e-4748-812d-2e21dace597f",
   "metadata": {},
   "outputs": [
    {
     "data": {
      "image/svg+xml": [
       "<?xml version=\"1.0\" encoding=\"utf-8\"?>\n",
       "<svg xmlns=\"http://www.w3.org/2000/svg\" xmlns:xlink=\"http://www.w3.org/1999/xlink\" width=\"600\" height=\"400\" viewBox=\"0 0 2400 1600\">\n",
       "<defs>\n",
       "  <clipPath id=\"clip840\">\n",
       "    <rect x=\"0\" y=\"0\" width=\"2400\" height=\"1600\"/>\n",
       "  </clipPath>\n",
       "</defs>\n",
       "<path clip-path=\"url(#clip840)\" d=\"\n",
       "M0 1600 L2400 1600 L2400 0 L0 0  Z\n",
       "  \" fill=\"#ffffff\" fill-rule=\"evenodd\" fill-opacity=\"1\"/>\n",
       "<defs>\n",
       "  <clipPath id=\"clip841\">\n",
       "    <rect x=\"480\" y=\"0\" width=\"1681\" height=\"1600\"/>\n",
       "  </clipPath>\n",
       "</defs>\n",
       "<path clip-path=\"url(#clip840)\" d=\"\n",
       "M247.459 1423.18 L2352.76 1423.18 L2352.76 123.472 L247.459 123.472  Z\n",
       "  \" fill=\"#ffffff\" fill-rule=\"evenodd\" fill-opacity=\"1\"/>\n",
       "<defs>\n",
       "  <clipPath id=\"clip842\">\n",
       "    <rect x=\"247\" y=\"123\" width=\"2106\" height=\"1301\"/>\n",
       "  </clipPath>\n",
       "</defs>\n",
       "<polyline clip-path=\"url(#clip842)\" style=\"stroke:#000000; stroke-linecap:butt; stroke-linejoin:round; stroke-width:2; stroke-opacity:0.1; fill:none\" points=\"\n",
       "  307.043,1423.18 307.043,123.472 \n",
       "  \"/>\n",
       "<polyline clip-path=\"url(#clip842)\" style=\"stroke:#000000; stroke-linecap:butt; stroke-linejoin:round; stroke-width:2; stroke-opacity:0.1; fill:none\" points=\"\n",
       "  803.575,1423.18 803.575,123.472 \n",
       "  \"/>\n",
       "<polyline clip-path=\"url(#clip842)\" style=\"stroke:#000000; stroke-linecap:butt; stroke-linejoin:round; stroke-width:2; stroke-opacity:0.1; fill:none\" points=\"\n",
       "  1300.11,1423.18 1300.11,123.472 \n",
       "  \"/>\n",
       "<polyline clip-path=\"url(#clip842)\" style=\"stroke:#000000; stroke-linecap:butt; stroke-linejoin:round; stroke-width:2; stroke-opacity:0.1; fill:none\" points=\"\n",
       "  1796.64,1423.18 1796.64,123.472 \n",
       "  \"/>\n",
       "<polyline clip-path=\"url(#clip842)\" style=\"stroke:#000000; stroke-linecap:butt; stroke-linejoin:round; stroke-width:2; stroke-opacity:0.1; fill:none\" points=\"\n",
       "  2293.17,1423.18 2293.17,123.472 \n",
       "  \"/>\n",
       "<polyline clip-path=\"url(#clip840)\" style=\"stroke:#000000; stroke-linecap:butt; stroke-linejoin:round; stroke-width:4; stroke-opacity:1; fill:none\" points=\"\n",
       "  247.459,1423.18 2352.76,1423.18 \n",
       "  \"/>\n",
       "<polyline clip-path=\"url(#clip840)\" style=\"stroke:#000000; stroke-linecap:butt; stroke-linejoin:round; stroke-width:4; stroke-opacity:1; fill:none\" points=\"\n",
       "  307.043,1423.18 307.043,1404.28 \n",
       "  \"/>\n",
       "<polyline clip-path=\"url(#clip840)\" style=\"stroke:#000000; stroke-linecap:butt; stroke-linejoin:round; stroke-width:4; stroke-opacity:1; fill:none\" points=\"\n",
       "  803.575,1423.18 803.575,1404.28 \n",
       "  \"/>\n",
       "<polyline clip-path=\"url(#clip840)\" style=\"stroke:#000000; stroke-linecap:butt; stroke-linejoin:round; stroke-width:4; stroke-opacity:1; fill:none\" points=\"\n",
       "  1300.11,1423.18 1300.11,1404.28 \n",
       "  \"/>\n",
       "<polyline clip-path=\"url(#clip840)\" style=\"stroke:#000000; stroke-linecap:butt; stroke-linejoin:round; stroke-width:4; stroke-opacity:1; fill:none\" points=\"\n",
       "  1796.64,1423.18 1796.64,1404.28 \n",
       "  \"/>\n",
       "<polyline clip-path=\"url(#clip840)\" style=\"stroke:#000000; stroke-linecap:butt; stroke-linejoin:round; stroke-width:4; stroke-opacity:1; fill:none\" points=\"\n",
       "  2293.17,1423.18 2293.17,1404.28 \n",
       "  \"/>\n",
       "<path clip-path=\"url(#clip840)\" d=\"M269.346 1454.1 Q265.735 1454.1 263.906 1457.66 Q262.101 1461.2 262.101 1468.33 Q262.101 1475.44 263.906 1479.01 Q265.735 1482.55 269.346 1482.55 Q272.98 1482.55 274.786 1479.01 Q276.615 1475.44 276.615 1468.33 Q276.615 1461.2 274.786 1457.66 Q272.98 1454.1 269.346 1454.1 M269.346 1450.39 Q275.156 1450.39 278.212 1455 Q281.29 1459.58 281.29 1468.33 Q281.29 1477.06 278.212 1481.67 Q275.156 1486.25 269.346 1486.25 Q263.536 1486.25 260.457 1481.67 Q257.402 1477.06 257.402 1468.33 Q257.402 1459.58 260.457 1455 Q263.536 1450.39 269.346 1450.39 Z\" fill=\"#000000\" fill-rule=\"evenodd\" fill-opacity=\"1\" /><path clip-path=\"url(#clip840)\" d=\"M289.508 1479.7 L294.392 1479.7 L294.392 1485.58 L289.508 1485.58 L289.508 1479.7 Z\" fill=\"#000000\" fill-rule=\"evenodd\" fill-opacity=\"1\" /><path clip-path=\"url(#clip840)\" d=\"M314.577 1454.1 Q310.966 1454.1 309.137 1457.66 Q307.332 1461.2 307.332 1468.33 Q307.332 1475.44 309.137 1479.01 Q310.966 1482.55 314.577 1482.55 Q318.212 1482.55 320.017 1479.01 Q321.846 1475.44 321.846 1468.33 Q321.846 1461.2 320.017 1457.66 Q318.212 1454.1 314.577 1454.1 M314.577 1450.39 Q320.387 1450.39 323.443 1455 Q326.522 1459.58 326.522 1468.33 Q326.522 1477.06 323.443 1481.67 Q320.387 1486.25 314.577 1486.25 Q308.767 1486.25 305.688 1481.67 Q302.633 1477.06 302.633 1468.33 Q302.633 1459.58 305.688 1455 Q308.767 1450.39 314.577 1450.39 Z\" fill=\"#000000\" fill-rule=\"evenodd\" fill-opacity=\"1\" /><path clip-path=\"url(#clip840)\" d=\"M344.739 1454.1 Q341.128 1454.1 339.299 1457.66 Q337.494 1461.2 337.494 1468.33 Q337.494 1475.44 339.299 1479.01 Q341.128 1482.55 344.739 1482.55 Q348.373 1482.55 350.179 1479.01 Q352.008 1475.44 352.008 1468.33 Q352.008 1461.2 350.179 1457.66 Q348.373 1454.1 344.739 1454.1 M344.739 1450.39 Q350.549 1450.39 353.605 1455 Q356.684 1459.58 356.684 1468.33 Q356.684 1477.06 353.605 1481.67 Q350.549 1486.25 344.739 1486.25 Q338.929 1486.25 335.85 1481.67 Q332.795 1477.06 332.795 1468.33 Q332.795 1459.58 335.85 1455 Q338.929 1450.39 344.739 1450.39 Z\" fill=\"#000000\" fill-rule=\"evenodd\" fill-opacity=\"1\" /><path clip-path=\"url(#clip840)\" d=\"M766.376 1454.1 Q762.765 1454.1 760.936 1457.66 Q759.131 1461.2 759.131 1468.33 Q759.131 1475.44 760.936 1479.01 Q762.765 1482.55 766.376 1482.55 Q770.01 1482.55 771.816 1479.01 Q773.645 1475.44 773.645 1468.33 Q773.645 1461.2 771.816 1457.66 Q770.01 1454.1 766.376 1454.1 M766.376 1450.39 Q772.186 1450.39 775.242 1455 Q778.32 1459.58 778.32 1468.33 Q778.32 1477.06 775.242 1481.67 Q772.186 1486.25 766.376 1486.25 Q760.566 1486.25 757.487 1481.67 Q754.432 1477.06 754.432 1468.33 Q754.432 1459.58 757.487 1455 Q760.566 1450.39 766.376 1450.39 Z\" fill=\"#000000\" fill-rule=\"evenodd\" fill-opacity=\"1\" /><path clip-path=\"url(#clip840)\" d=\"M786.538 1479.7 L791.422 1479.7 L791.422 1485.58 L786.538 1485.58 L786.538 1479.7 Z\" fill=\"#000000\" fill-rule=\"evenodd\" fill-opacity=\"1\" /><path clip-path=\"url(#clip840)\" d=\"M805.635 1481.64 L821.954 1481.64 L821.954 1485.58 L800.01 1485.58 L800.01 1481.64 Q802.672 1478.89 807.255 1474.26 Q811.862 1469.61 813.042 1468.27 Q815.288 1465.74 816.167 1464.01 Q817.07 1462.25 817.07 1460.56 Q817.07 1457.8 815.126 1456.07 Q813.205 1454.33 810.103 1454.33 Q807.904 1454.33 805.45 1455.09 Q803.019 1455.86 800.242 1457.41 L800.242 1452.69 Q803.066 1451.55 805.519 1450.97 Q807.973 1450.39 810.01 1450.39 Q815.38 1450.39 818.575 1453.08 Q821.769 1455.77 821.769 1460.26 Q821.769 1462.39 820.959 1464.31 Q820.172 1466.2 818.066 1468.8 Q817.487 1469.47 814.385 1472.69 Q811.283 1475.88 805.635 1481.64 Z\" fill=\"#000000\" fill-rule=\"evenodd\" fill-opacity=\"1\" /><path clip-path=\"url(#clip840)\" d=\"M831.816 1451.02 L850.172 1451.02 L850.172 1454.96 L836.098 1454.96 L836.098 1463.43 Q837.116 1463.08 838.135 1462.92 Q839.153 1462.73 840.172 1462.73 Q845.959 1462.73 849.339 1465.9 Q852.718 1469.08 852.718 1474.49 Q852.718 1480.07 849.246 1483.17 Q845.774 1486.25 839.454 1486.25 Q837.278 1486.25 835.01 1485.88 Q832.765 1485.51 830.357 1484.77 L830.357 1480.07 Q832.441 1481.2 834.663 1481.76 Q836.885 1482.32 839.362 1482.32 Q843.366 1482.32 845.704 1480.21 Q848.042 1478.1 848.042 1474.49 Q848.042 1470.88 845.704 1468.77 Q843.366 1466.67 839.362 1466.67 Q837.487 1466.67 835.612 1467.08 Q833.76 1467.5 831.816 1468.38 L831.816 1451.02 Z\" fill=\"#000000\" fill-rule=\"evenodd\" fill-opacity=\"1\" /><path clip-path=\"url(#clip840)\" d=\"M1262.41 1454.1 Q1258.8 1454.1 1256.97 1457.66 Q1255.17 1461.2 1255.17 1468.33 Q1255.17 1475.44 1256.97 1479.01 Q1258.8 1482.55 1262.41 1482.55 Q1266.04 1482.55 1267.85 1479.01 Q1269.68 1475.44 1269.68 1468.33 Q1269.68 1461.2 1267.85 1457.66 Q1266.04 1454.1 1262.41 1454.1 M1262.41 1450.39 Q1268.22 1450.39 1271.28 1455 Q1274.36 1459.58 1274.36 1468.33 Q1274.36 1477.06 1271.28 1481.67 Q1268.22 1486.25 1262.41 1486.25 Q1256.6 1486.25 1253.52 1481.67 Q1250.47 1477.06 1250.47 1468.33 Q1250.47 1459.58 1253.52 1455 Q1256.6 1450.39 1262.41 1450.39 Z\" fill=\"#000000\" fill-rule=\"evenodd\" fill-opacity=\"1\" /><path clip-path=\"url(#clip840)\" d=\"M1282.57 1479.7 L1287.46 1479.7 L1287.46 1485.58 L1282.57 1485.58 L1282.57 1479.7 Z\" fill=\"#000000\" fill-rule=\"evenodd\" fill-opacity=\"1\" /><path clip-path=\"url(#clip840)\" d=\"M1297.69 1451.02 L1316.04 1451.02 L1316.04 1454.96 L1301.97 1454.96 L1301.97 1463.43 Q1302.99 1463.08 1304.01 1462.92 Q1305.03 1462.73 1306.04 1462.73 Q1311.83 1462.73 1315.21 1465.9 Q1318.59 1469.08 1318.59 1474.49 Q1318.59 1480.07 1315.12 1483.17 Q1311.65 1486.25 1305.33 1486.25 Q1303.15 1486.25 1300.88 1485.88 Q1298.64 1485.51 1296.23 1484.77 L1296.23 1480.07 Q1298.31 1481.2 1300.54 1481.76 Q1302.76 1482.32 1305.23 1482.32 Q1309.24 1482.32 1311.58 1480.21 Q1313.92 1478.1 1313.92 1474.49 Q1313.92 1470.88 1311.58 1468.77 Q1309.24 1466.67 1305.23 1466.67 Q1303.36 1466.67 1301.48 1467.08 Q1299.63 1467.5 1297.69 1468.38 L1297.69 1451.02 Z\" fill=\"#000000\" fill-rule=\"evenodd\" fill-opacity=\"1\" /><path clip-path=\"url(#clip840)\" d=\"M1337.8 1454.1 Q1334.19 1454.1 1332.36 1457.66 Q1330.56 1461.2 1330.56 1468.33 Q1330.56 1475.44 1332.36 1479.01 Q1334.19 1482.55 1337.8 1482.55 Q1341.44 1482.55 1343.24 1479.01 Q1345.07 1475.44 1345.07 1468.33 Q1345.07 1461.2 1343.24 1457.66 Q1341.44 1454.1 1337.8 1454.1 M1337.8 1450.39 Q1343.61 1450.39 1346.67 1455 Q1349.75 1459.58 1349.75 1468.33 Q1349.75 1477.06 1346.67 1481.67 Q1343.61 1486.25 1337.8 1486.25 Q1331.99 1486.25 1328.92 1481.67 Q1325.86 1477.06 1325.86 1468.33 Q1325.86 1459.58 1328.92 1455 Q1331.99 1450.39 1337.8 1450.39 Z\" fill=\"#000000\" fill-rule=\"evenodd\" fill-opacity=\"1\" /><path clip-path=\"url(#clip840)\" d=\"M1759.44 1454.1 Q1755.83 1454.1 1754 1457.66 Q1752.2 1461.2 1752.2 1468.33 Q1752.2 1475.44 1754 1479.01 Q1755.83 1482.55 1759.44 1482.55 Q1763.08 1482.55 1764.88 1479.01 Q1766.71 1475.44 1766.71 1468.33 Q1766.71 1461.2 1764.88 1457.66 Q1763.08 1454.1 1759.44 1454.1 M1759.44 1450.39 Q1765.25 1450.39 1768.31 1455 Q1771.39 1459.58 1771.39 1468.33 Q1771.39 1477.06 1768.31 1481.67 Q1765.25 1486.25 1759.44 1486.25 Q1753.63 1486.25 1750.55 1481.67 Q1747.5 1477.06 1747.5 1468.33 Q1747.5 1459.58 1750.55 1455 Q1753.63 1450.39 1759.44 1450.39 Z\" fill=\"#000000\" fill-rule=\"evenodd\" fill-opacity=\"1\" /><path clip-path=\"url(#clip840)\" d=\"M1779.6 1479.7 L1784.49 1479.7 L1784.49 1485.58 L1779.6 1485.58 L1779.6 1479.7 Z\" fill=\"#000000\" fill-rule=\"evenodd\" fill-opacity=\"1\" /><path clip-path=\"url(#clip840)\" d=\"M1793.49 1451.02 L1815.71 1451.02 L1815.71 1453.01 L1803.17 1485.58 L1798.28 1485.58 L1810.09 1454.96 L1793.49 1454.96 L1793.49 1451.02 Z\" fill=\"#000000\" fill-rule=\"evenodd\" fill-opacity=\"1\" /><path clip-path=\"url(#clip840)\" d=\"M1824.88 1451.02 L1843.24 1451.02 L1843.24 1454.96 L1829.16 1454.96 L1829.16 1463.43 Q1830.18 1463.08 1831.2 1462.92 Q1832.22 1462.73 1833.24 1462.73 Q1839.02 1462.73 1842.4 1465.9 Q1845.78 1469.08 1845.78 1474.49 Q1845.78 1480.07 1842.31 1483.17 Q1838.84 1486.25 1832.52 1486.25 Q1830.34 1486.25 1828.07 1485.88 Q1825.83 1485.51 1823.42 1484.77 L1823.42 1480.07 Q1825.51 1481.2 1827.73 1481.76 Q1829.95 1482.32 1832.43 1482.32 Q1836.43 1482.32 1838.77 1480.21 Q1841.11 1478.1 1841.11 1474.49 Q1841.11 1470.88 1838.77 1468.77 Q1836.43 1466.67 1832.43 1466.67 Q1830.55 1466.67 1828.68 1467.08 Q1826.82 1467.5 1824.88 1468.38 L1824.88 1451.02 Z\" fill=\"#000000\" fill-rule=\"evenodd\" fill-opacity=\"1\" /><path clip-path=\"url(#clip840)\" d=\"M2245.24 1481.64 L2252.88 1481.64 L2252.88 1455.28 L2244.57 1456.95 L2244.57 1452.69 L2252.84 1451.02 L2257.51 1451.02 L2257.51 1481.64 L2265.15 1481.64 L2265.15 1485.58 L2245.24 1485.58 L2245.24 1481.64 Z\" fill=\"#000000\" fill-rule=\"evenodd\" fill-opacity=\"1\" /><path clip-path=\"url(#clip840)\" d=\"M2274.6 1479.7 L2279.48 1479.7 L2279.48 1485.58 L2274.6 1485.58 L2274.6 1479.7 Z\" fill=\"#000000\" fill-rule=\"evenodd\" fill-opacity=\"1\" /><path clip-path=\"url(#clip840)\" d=\"M2299.67 1454.1 Q2296.05 1454.1 2294.23 1457.66 Q2292.42 1461.2 2292.42 1468.33 Q2292.42 1475.44 2294.23 1479.01 Q2296.05 1482.55 2299.67 1482.55 Q2303.3 1482.55 2305.1 1479.01 Q2306.93 1475.44 2306.93 1468.33 Q2306.93 1461.2 2305.1 1457.66 Q2303.3 1454.1 2299.67 1454.1 M2299.67 1450.39 Q2305.48 1450.39 2308.53 1455 Q2311.61 1459.58 2311.61 1468.33 Q2311.61 1477.06 2308.53 1481.67 Q2305.48 1486.25 2299.67 1486.25 Q2293.85 1486.25 2290.78 1481.67 Q2287.72 1477.06 2287.72 1468.33 Q2287.72 1459.58 2290.78 1455 Q2293.85 1450.39 2299.67 1450.39 Z\" fill=\"#000000\" fill-rule=\"evenodd\" fill-opacity=\"1\" /><path clip-path=\"url(#clip840)\" d=\"M2329.83 1454.1 Q2326.22 1454.1 2324.39 1457.66 Q2322.58 1461.2 2322.58 1468.33 Q2322.58 1475.44 2324.39 1479.01 Q2326.22 1482.55 2329.83 1482.55 Q2333.46 1482.55 2335.27 1479.01 Q2337.1 1475.44 2337.1 1468.33 Q2337.1 1461.2 2335.27 1457.66 Q2333.46 1454.1 2329.83 1454.1 M2329.83 1450.39 Q2335.64 1450.39 2338.69 1455 Q2341.77 1459.58 2341.77 1468.33 Q2341.77 1477.06 2338.69 1481.67 Q2335.64 1486.25 2329.83 1486.25 Q2324.02 1486.25 2320.94 1481.67 Q2317.88 1477.06 2317.88 1468.33 Q2317.88 1459.58 2320.94 1455 Q2324.02 1450.39 2329.83 1450.39 Z\" fill=\"#000000\" fill-rule=\"evenodd\" fill-opacity=\"1\" /><path clip-path=\"url(#clip840)\" d=\"M1144.27 1536.5 Q1139.56 1536.5 1136.83 1540.19 Q1134.09 1543.85 1134.09 1550.25 Q1134.09 1556.65 1136.8 1560.34 Q1139.53 1564 1144.27 1564 Q1148.95 1564 1151.69 1560.31 Q1154.43 1556.62 1154.43 1550.25 Q1154.43 1543.92 1151.69 1540.23 Q1148.95 1536.5 1144.27 1536.5 M1144.27 1531.54 Q1151.91 1531.54 1156.27 1536.5 Q1160.63 1541.47 1160.63 1550.25 Q1160.63 1559 1156.27 1564 Q1151.91 1568.97 1144.27 1568.97 Q1136.6 1568.97 1132.24 1564 Q1127.91 1559 1127.91 1550.25 Q1127.91 1541.47 1132.24 1536.5 Q1136.6 1531.54 1144.27 1531.54 Z\" fill=\"#000000\" fill-rule=\"evenodd\" fill-opacity=\"1\" /><path clip-path=\"url(#clip840)\" d=\"M1188.39 1518.52 L1188.39 1523.39 L1182.79 1523.39 Q1179.64 1523.39 1178.39 1524.66 Q1177.19 1525.93 1177.19 1529.24 L1177.19 1532.4 L1186.83 1532.4 L1186.83 1536.95 L1177.19 1536.95 L1177.19 1568.04 L1171.3 1568.04 L1171.3 1536.95 L1165.7 1536.95 L1165.7 1532.4 L1171.3 1532.4 L1171.3 1529.91 Q1171.3 1523.96 1174.07 1521.26 Q1176.84 1518.52 1182.85 1518.52 L1188.39 1518.52 Z\" fill=\"#000000\" fill-rule=\"evenodd\" fill-opacity=\"1\" /><path clip-path=\"url(#clip840)\" d=\"M1211.34 1518.52 L1211.34 1523.39 L1205.74 1523.39 Q1202.58 1523.39 1201.34 1524.66 Q1200.13 1525.93 1200.13 1529.24 L1200.13 1532.4 L1209.78 1532.4 L1209.78 1536.95 L1200.13 1536.95 L1200.13 1568.04 L1194.25 1568.04 L1194.25 1536.95 L1188.64 1536.95 L1188.64 1532.4 L1194.25 1532.4 L1194.25 1529.91 Q1194.25 1523.96 1197.01 1521.26 Q1199.78 1518.52 1205.8 1518.52 L1211.34 1518.52 Z\" fill=\"#000000\" fill-rule=\"evenodd\" fill-opacity=\"1\" /><path clip-path=\"url(#clip840)\" d=\"M1246.73 1548.76 L1246.73 1551.62 L1219.8 1551.62 Q1220.19 1557.67 1223.43 1560.85 Q1226.71 1564 1232.54 1564 Q1235.91 1564 1239.06 1563.17 Q1242.24 1562.35 1245.36 1560.69 L1245.36 1566.23 Q1242.21 1567.57 1238.9 1568.27 Q1235.59 1568.97 1232.19 1568.97 Q1223.66 1568.97 1218.66 1564 Q1213.69 1559.04 1213.69 1550.57 Q1213.69 1541.82 1218.4 1536.69 Q1223.15 1531.54 1231.17 1531.54 Q1238.36 1531.54 1242.53 1536.18 Q1246.73 1540.8 1246.73 1548.76 M1240.87 1547.04 Q1240.81 1542.23 1238.17 1539.37 Q1235.56 1536.5 1231.23 1536.5 Q1226.33 1536.5 1223.37 1539.27 Q1220.44 1542.04 1219.99 1547.07 L1240.87 1547.04 Z\" fill=\"#000000\" fill-rule=\"evenodd\" fill-opacity=\"1\" /><path clip-path=\"url(#clip840)\" d=\"M1277 1537.87 Q1276.01 1537.3 1274.84 1537.04 Q1273.69 1536.76 1272.29 1536.76 Q1267.32 1536.76 1264.65 1540 Q1262.01 1543.22 1262.01 1549.27 L1262.01 1568.04 L1256.12 1568.04 L1256.12 1532.4 L1262.01 1532.4 L1262.01 1537.93 Q1263.85 1534.69 1266.81 1533.13 Q1269.77 1531.54 1274.01 1531.54 Q1274.61 1531.54 1275.34 1531.63 Q1276.08 1531.7 1276.97 1531.85 L1277 1537.87 Z\" fill=\"#000000\" fill-rule=\"evenodd\" fill-opacity=\"1\" /><path clip-path=\"url(#clip840)\" d=\"M1299.66 1532.4 L1305.87 1532.4 L1317.01 1562.31 L1328.15 1532.4 L1334.35 1532.4 L1320.99 1568.04 L1313.03 1568.04 L1299.66 1532.4 Z\" fill=\"#000000\" fill-rule=\"evenodd\" fill-opacity=\"1\" /><path clip-path=\"url(#clip840)\" d=\"M1358.64 1550.12 Q1351.54 1550.12 1348.8 1551.75 Q1346.07 1553.37 1346.07 1557.29 Q1346.07 1560.4 1348.1 1562.25 Q1350.17 1564.07 1353.71 1564.07 Q1358.58 1564.07 1361.5 1560.63 Q1364.46 1557.16 1364.46 1551.43 L1364.46 1550.12 L1358.64 1550.12 M1370.32 1547.71 L1370.32 1568.04 L1364.46 1568.04 L1364.46 1562.63 Q1362.46 1565.88 1359.47 1567.44 Q1356.48 1568.97 1352.15 1568.97 Q1346.67 1568.97 1343.43 1565.91 Q1340.21 1562.82 1340.21 1557.67 Q1340.21 1551.65 1344.22 1548.6 Q1348.26 1545.54 1356.25 1545.54 L1364.46 1545.54 L1364.46 1544.97 Q1364.46 1540.93 1361.79 1538.73 Q1359.15 1536.5 1354.34 1536.5 Q1351.29 1536.5 1348.39 1537.23 Q1345.49 1537.97 1342.82 1539.43 L1342.82 1534.02 Q1346.04 1532.78 1349.06 1532.17 Q1352.08 1531.54 1354.95 1531.54 Q1362.68 1531.54 1366.5 1535.55 Q1370.32 1539.56 1370.32 1547.71 Z\" fill=\"#000000\" fill-rule=\"evenodd\" fill-opacity=\"1\" /><path clip-path=\"url(#clip840)\" d=\"M1382.38 1518.52 L1388.24 1518.52 L1388.24 1568.04 L1382.38 1568.04 L1382.38 1518.52 Z\" fill=\"#000000\" fill-rule=\"evenodd\" fill-opacity=\"1\" /><path clip-path=\"url(#clip840)\" d=\"M1399.89 1553.98 L1399.89 1532.4 L1405.75 1532.4 L1405.75 1553.75 Q1405.75 1558.81 1407.72 1561.36 Q1409.69 1563.87 1413.64 1563.87 Q1418.38 1563.87 1421.12 1560.85 Q1423.89 1557.83 1423.89 1552.61 L1423.89 1532.4 L1429.74 1532.4 L1429.74 1568.04 L1423.89 1568.04 L1423.89 1562.57 Q1421.76 1565.82 1418.92 1567.41 Q1416.12 1568.97 1412.4 1568.97 Q1406.26 1568.97 1403.07 1565.15 Q1399.89 1561.33 1399.89 1553.98 M1414.63 1531.54 L1414.63 1531.54 Z\" fill=\"#000000\" fill-rule=\"evenodd\" fill-opacity=\"1\" /><path clip-path=\"url(#clip840)\" d=\"M1472.3 1548.76 L1472.3 1551.62 L1445.37 1551.62 Q1445.75 1557.67 1449 1560.85 Q1452.28 1564 1458.1 1564 Q1461.48 1564 1464.63 1563.17 Q1467.81 1562.35 1470.93 1560.69 L1470.93 1566.23 Q1467.78 1567.57 1464.47 1568.27 Q1461.16 1568.97 1457.75 1568.97 Q1449.22 1568.97 1444.23 1564 Q1439.26 1559.04 1439.26 1550.57 Q1439.26 1541.82 1443.97 1536.69 Q1448.71 1531.54 1456.74 1531.54 Q1463.93 1531.54 1468.1 1536.18 Q1472.3 1540.8 1472.3 1548.76 M1466.44 1547.04 Q1466.38 1542.23 1463.74 1539.37 Q1461.13 1536.5 1456.8 1536.5 Q1451.9 1536.5 1448.94 1539.27 Q1446.01 1542.04 1445.56 1547.07 L1466.44 1547.04 Z\" fill=\"#000000\" fill-rule=\"evenodd\" fill-opacity=\"1\" /><polyline clip-path=\"url(#clip842)\" style=\"stroke:#000000; stroke-linecap:butt; stroke-linejoin:round; stroke-width:2; stroke-opacity:0.1; fill:none\" points=\"\n",
       "  247.459,1386.4 2352.76,1386.4 \n",
       "  \"/>\n",
       "<polyline clip-path=\"url(#clip842)\" style=\"stroke:#000000; stroke-linecap:butt; stroke-linejoin:round; stroke-width:2; stroke-opacity:0.1; fill:none\" points=\"\n",
       "  247.459,1166.11 2352.76,1166.11 \n",
       "  \"/>\n",
       "<polyline clip-path=\"url(#clip842)\" style=\"stroke:#000000; stroke-linecap:butt; stroke-linejoin:round; stroke-width:2; stroke-opacity:0.1; fill:none\" points=\"\n",
       "  247.459,945.817 2352.76,945.817 \n",
       "  \"/>\n",
       "<polyline clip-path=\"url(#clip842)\" style=\"stroke:#000000; stroke-linecap:butt; stroke-linejoin:round; stroke-width:2; stroke-opacity:0.1; fill:none\" points=\"\n",
       "  247.459,725.527 2352.76,725.527 \n",
       "  \"/>\n",
       "<polyline clip-path=\"url(#clip842)\" style=\"stroke:#000000; stroke-linecap:butt; stroke-linejoin:round; stroke-width:2; stroke-opacity:0.1; fill:none\" points=\"\n",
       "  247.459,505.237 2352.76,505.237 \n",
       "  \"/>\n",
       "<polyline clip-path=\"url(#clip842)\" style=\"stroke:#000000; stroke-linecap:butt; stroke-linejoin:round; stroke-width:2; stroke-opacity:0.1; fill:none\" points=\"\n",
       "  247.459,284.948 2352.76,284.948 \n",
       "  \"/>\n",
       "<polyline clip-path=\"url(#clip840)\" style=\"stroke:#000000; stroke-linecap:butt; stroke-linejoin:round; stroke-width:4; stroke-opacity:1; fill:none\" points=\"\n",
       "  247.459,1423.18 247.459,123.472 \n",
       "  \"/>\n",
       "<polyline clip-path=\"url(#clip840)\" style=\"stroke:#000000; stroke-linecap:butt; stroke-linejoin:round; stroke-width:4; stroke-opacity:1; fill:none\" points=\"\n",
       "  247.459,1386.4 266.356,1386.4 \n",
       "  \"/>\n",
       "<polyline clip-path=\"url(#clip840)\" style=\"stroke:#000000; stroke-linecap:butt; stroke-linejoin:round; stroke-width:4; stroke-opacity:1; fill:none\" points=\"\n",
       "  247.459,1166.11 266.356,1166.11 \n",
       "  \"/>\n",
       "<polyline clip-path=\"url(#clip840)\" style=\"stroke:#000000; stroke-linecap:butt; stroke-linejoin:round; stroke-width:4; stroke-opacity:1; fill:none\" points=\"\n",
       "  247.459,945.817 266.356,945.817 \n",
       "  \"/>\n",
       "<polyline clip-path=\"url(#clip840)\" style=\"stroke:#000000; stroke-linecap:butt; stroke-linejoin:round; stroke-width:4; stroke-opacity:1; fill:none\" points=\"\n",
       "  247.459,725.527 266.356,725.527 \n",
       "  \"/>\n",
       "<polyline clip-path=\"url(#clip840)\" style=\"stroke:#000000; stroke-linecap:butt; stroke-linejoin:round; stroke-width:4; stroke-opacity:1; fill:none\" points=\"\n",
       "  247.459,505.237 266.356,505.237 \n",
       "  \"/>\n",
       "<polyline clip-path=\"url(#clip840)\" style=\"stroke:#000000; stroke-linecap:butt; stroke-linejoin:round; stroke-width:4; stroke-opacity:1; fill:none\" points=\"\n",
       "  247.459,284.948 266.356,284.948 \n",
       "  \"/>\n",
       "<path clip-path=\"url(#clip840)\" d=\"M154.283 1372.19 Q150.672 1372.19 148.843 1375.76 Q147.038 1379.3 147.038 1386.43 Q147.038 1393.54 148.843 1397.1 Q150.672 1400.64 154.283 1400.64 Q157.917 1400.64 159.723 1397.1 Q161.552 1393.54 161.552 1386.43 Q161.552 1379.3 159.723 1375.76 Q157.917 1372.19 154.283 1372.19 M154.283 1368.49 Q160.093 1368.49 163.149 1373.1 Q166.227 1377.68 166.227 1386.43 Q166.227 1395.16 163.149 1399.76 Q160.093 1404.35 154.283 1404.35 Q148.473 1404.35 145.394 1399.76 Q142.339 1395.16 142.339 1386.43 Q142.339 1377.68 145.394 1373.1 Q148.473 1368.49 154.283 1368.49 Z\" fill=\"#000000\" fill-rule=\"evenodd\" fill-opacity=\"1\" /><path clip-path=\"url(#clip840)\" d=\"M174.445 1397.8 L179.329 1397.8 L179.329 1403.68 L174.445 1403.68 L174.445 1397.8 Z\" fill=\"#000000\" fill-rule=\"evenodd\" fill-opacity=\"1\" /><path clip-path=\"url(#clip840)\" d=\"M199.514 1372.19 Q195.903 1372.19 194.075 1375.76 Q192.269 1379.3 192.269 1386.43 Q192.269 1393.54 194.075 1397.1 Q195.903 1400.64 199.514 1400.64 Q203.149 1400.64 204.954 1397.1 Q206.783 1393.54 206.783 1386.43 Q206.783 1379.3 204.954 1375.76 Q203.149 1372.19 199.514 1372.19 M199.514 1368.49 Q205.324 1368.49 208.38 1373.1 Q211.459 1377.68 211.459 1386.43 Q211.459 1395.16 208.38 1399.76 Q205.324 1404.35 199.514 1404.35 Q193.704 1404.35 190.625 1399.76 Q187.57 1395.16 187.57 1386.43 Q187.57 1377.68 190.625 1373.1 Q193.704 1368.49 199.514 1368.49 Z\" fill=\"#000000\" fill-rule=\"evenodd\" fill-opacity=\"1\" /><path clip-path=\"url(#clip840)\" d=\"M149.306 1179.45 L165.626 1179.45 L165.626 1183.39 L143.681 1183.39 L143.681 1179.45 Q146.343 1176.7 150.927 1172.07 Q155.533 1167.41 156.714 1166.07 Q158.959 1163.55 159.839 1161.81 Q160.741 1160.05 160.741 1158.36 Q160.741 1155.61 158.797 1153.87 Q156.876 1152.14 153.774 1152.14 Q151.575 1152.14 149.121 1152.9 Q146.691 1153.66 143.913 1155.21 L143.913 1150.49 Q146.737 1149.36 149.191 1148.78 Q151.644 1148.2 153.681 1148.2 Q159.052 1148.2 162.246 1150.89 Q165.44 1153.57 165.44 1158.06 Q165.44 1160.19 164.63 1162.11 Q163.843 1164.01 161.737 1166.6 Q161.158 1167.28 158.056 1170.49 Q154.954 1173.69 149.306 1179.45 Z\" fill=\"#000000\" fill-rule=\"evenodd\" fill-opacity=\"1\" /><path clip-path=\"url(#clip840)\" d=\"M175.44 1177.51 L180.325 1177.51 L180.325 1183.39 L175.44 1183.39 L175.44 1177.51 Z\" fill=\"#000000\" fill-rule=\"evenodd\" fill-opacity=\"1\" /><path clip-path=\"url(#clip840)\" d=\"M190.556 1148.83 L208.912 1148.83 L208.912 1152.76 L194.838 1152.76 L194.838 1161.23 Q195.857 1160.89 196.875 1160.72 Q197.894 1160.54 198.912 1160.54 Q204.699 1160.54 208.079 1163.71 Q211.459 1166.88 211.459 1172.3 Q211.459 1177.88 207.987 1180.98 Q204.514 1184.06 198.195 1184.06 Q196.019 1184.06 193.75 1183.69 Q191.505 1183.32 189.098 1182.58 L189.098 1177.88 Q191.181 1179.01 193.403 1179.57 Q195.625 1180.12 198.102 1180.12 Q202.107 1180.12 204.445 1178.02 Q206.783 1175.91 206.783 1172.3 Q206.783 1168.69 204.445 1166.58 Q202.107 1164.47 198.102 1164.47 Q196.227 1164.47 194.352 1164.89 Q192.5 1165.31 190.556 1166.19 L190.556 1148.83 Z\" fill=\"#000000\" fill-rule=\"evenodd\" fill-opacity=\"1\" /><path clip-path=\"url(#clip840)\" d=\"M144.329 928.537 L162.686 928.537 L162.686 932.472 L148.612 932.472 L148.612 940.944 Q149.63 940.597 150.649 940.435 Q151.667 940.249 152.686 940.249 Q158.473 940.249 161.852 943.421 Q165.232 946.592 165.232 952.009 Q165.232 957.587 161.76 960.689 Q158.288 963.768 151.968 963.768 Q149.792 963.768 147.524 963.397 Q145.279 963.027 142.871 962.286 L142.871 957.587 Q144.954 958.722 147.177 959.277 Q149.399 959.833 151.876 959.833 Q155.88 959.833 158.218 957.726 Q160.556 955.62 160.556 952.009 Q160.556 948.398 158.218 946.291 Q155.88 944.185 151.876 944.185 Q150.001 944.185 148.126 944.601 Q146.274 945.018 144.329 945.898 L144.329 928.537 Z\" fill=\"#000000\" fill-rule=\"evenodd\" fill-opacity=\"1\" /><path clip-path=\"url(#clip840)\" d=\"M174.445 957.217 L179.329 957.217 L179.329 963.097 L174.445 963.097 L174.445 957.217 Z\" fill=\"#000000\" fill-rule=\"evenodd\" fill-opacity=\"1\" /><path clip-path=\"url(#clip840)\" d=\"M199.514 931.615 Q195.903 931.615 194.075 935.18 Q192.269 938.722 192.269 945.851 Q192.269 952.958 194.075 956.523 Q195.903 960.064 199.514 960.064 Q203.149 960.064 204.954 956.523 Q206.783 952.958 206.783 945.851 Q206.783 938.722 204.954 935.18 Q203.149 931.615 199.514 931.615 M199.514 927.912 Q205.324 927.912 208.38 932.518 Q211.459 937.101 211.459 945.851 Q211.459 954.578 208.38 959.185 Q205.324 963.768 199.514 963.768 Q193.704 963.768 190.625 959.185 Q187.57 954.578 187.57 945.851 Q187.57 937.101 190.625 932.518 Q193.704 927.912 199.514 927.912 Z\" fill=\"#000000\" fill-rule=\"evenodd\" fill-opacity=\"1\" /><path clip-path=\"url(#clip840)\" d=\"M144.098 708.247 L166.32 708.247 L166.32 710.238 L153.774 742.807 L148.89 742.807 L160.695 712.182 L144.098 712.182 L144.098 708.247 Z\" fill=\"#000000\" fill-rule=\"evenodd\" fill-opacity=\"1\" /><path clip-path=\"url(#clip840)\" d=\"M175.44 736.927 L180.325 736.927 L180.325 742.807 L175.44 742.807 L175.44 736.927 Z\" fill=\"#000000\" fill-rule=\"evenodd\" fill-opacity=\"1\" /><path clip-path=\"url(#clip840)\" d=\"M190.556 708.247 L208.912 708.247 L208.912 712.182 L194.838 712.182 L194.838 720.654 Q195.857 720.307 196.875 720.145 Q197.894 719.96 198.912 719.96 Q204.699 719.96 208.079 723.131 Q211.459 726.302 211.459 731.719 Q211.459 737.298 207.987 740.4 Q204.514 743.478 198.195 743.478 Q196.019 743.478 193.75 743.108 Q191.505 742.738 189.098 741.997 L189.098 737.298 Q191.181 738.432 193.403 738.988 Q195.625 739.543 198.102 739.543 Q202.107 739.543 204.445 737.437 Q206.783 735.33 206.783 731.719 Q206.783 728.108 204.445 726.002 Q202.107 723.895 198.102 723.895 Q196.227 723.895 194.352 724.312 Q192.5 724.728 190.556 725.608 L190.556 708.247 Z\" fill=\"#000000\" fill-rule=\"evenodd\" fill-opacity=\"1\" /><path clip-path=\"url(#clip840)\" d=\"M114.931 518.582 L122.57 518.582 L122.57 492.217 L114.26 493.883 L114.26 489.624 L122.524 487.957 L127.2 487.957 L127.2 518.582 L134.839 518.582 L134.839 522.517 L114.931 522.517 L114.931 518.582 Z\" fill=\"#000000\" fill-rule=\"evenodd\" fill-opacity=\"1\" /><path clip-path=\"url(#clip840)\" d=\"M154.283 491.036 Q150.672 491.036 148.843 494.601 Q147.038 498.143 147.038 505.272 Q147.038 512.379 148.843 515.943 Q150.672 519.485 154.283 519.485 Q157.917 519.485 159.723 515.943 Q161.552 512.379 161.552 505.272 Q161.552 498.143 159.723 494.601 Q157.917 491.036 154.283 491.036 M154.283 487.332 Q160.093 487.332 163.149 491.939 Q166.227 496.522 166.227 505.272 Q166.227 513.999 163.149 518.605 Q160.093 523.189 154.283 523.189 Q148.473 523.189 145.394 518.605 Q142.339 513.999 142.339 505.272 Q142.339 496.522 145.394 491.939 Q148.473 487.332 154.283 487.332 Z\" fill=\"#000000\" fill-rule=\"evenodd\" fill-opacity=\"1\" /><path clip-path=\"url(#clip840)\" d=\"M174.445 516.638 L179.329 516.638 L179.329 522.517 L174.445 522.517 L174.445 516.638 Z\" fill=\"#000000\" fill-rule=\"evenodd\" fill-opacity=\"1\" /><path clip-path=\"url(#clip840)\" d=\"M199.514 491.036 Q195.903 491.036 194.075 494.601 Q192.269 498.143 192.269 505.272 Q192.269 512.379 194.075 515.943 Q195.903 519.485 199.514 519.485 Q203.149 519.485 204.954 515.943 Q206.783 512.379 206.783 505.272 Q206.783 498.143 204.954 494.601 Q203.149 491.036 199.514 491.036 M199.514 487.332 Q205.324 487.332 208.38 491.939 Q211.459 496.522 211.459 505.272 Q211.459 513.999 208.38 518.605 Q205.324 523.189 199.514 523.189 Q193.704 523.189 190.625 518.605 Q187.57 513.999 187.57 505.272 Q187.57 496.522 190.625 491.939 Q193.704 487.332 199.514 487.332 Z\" fill=\"#000000\" fill-rule=\"evenodd\" fill-opacity=\"1\" /><path clip-path=\"url(#clip840)\" d=\"M115.927 298.293 L123.566 298.293 L123.566 271.927 L115.256 273.594 L115.256 269.335 L123.519 267.668 L128.195 267.668 L128.195 298.293 L135.834 298.293 L135.834 302.228 L115.927 302.228 L115.927 298.293 Z\" fill=\"#000000\" fill-rule=\"evenodd\" fill-opacity=\"1\" /><path clip-path=\"url(#clip840)\" d=\"M149.306 298.293 L165.626 298.293 L165.626 302.228 L143.681 302.228 L143.681 298.293 Q146.343 295.538 150.927 290.909 Q155.533 286.256 156.714 284.913 Q158.959 282.39 159.839 280.654 Q160.741 278.895 160.741 277.205 Q160.741 274.45 158.797 272.714 Q156.876 270.978 153.774 270.978 Q151.575 270.978 149.121 271.742 Q146.691 272.506 143.913 274.057 L143.913 269.335 Q146.737 268.2 149.191 267.622 Q151.644 267.043 153.681 267.043 Q159.052 267.043 162.246 269.728 Q165.44 272.413 165.44 276.904 Q165.44 279.034 164.63 280.955 Q163.843 282.853 161.737 285.446 Q161.158 286.117 158.056 289.334 Q154.954 292.529 149.306 298.293 Z\" fill=\"#000000\" fill-rule=\"evenodd\" fill-opacity=\"1\" /><path clip-path=\"url(#clip840)\" d=\"M175.44 296.348 L180.325 296.348 L180.325 302.228 L175.44 302.228 L175.44 296.348 Z\" fill=\"#000000\" fill-rule=\"evenodd\" fill-opacity=\"1\" /><path clip-path=\"url(#clip840)\" d=\"M190.556 267.668 L208.912 267.668 L208.912 271.603 L194.838 271.603 L194.838 280.075 Q195.857 279.728 196.875 279.566 Q197.894 279.381 198.912 279.381 Q204.699 279.381 208.079 282.552 Q211.459 285.723 211.459 291.14 Q211.459 296.719 207.987 299.821 Q204.514 302.899 198.195 302.899 Q196.019 302.899 193.75 302.529 Q191.505 302.158 189.098 301.418 L189.098 296.719 Q191.181 297.853 193.403 298.408 Q195.625 298.964 198.102 298.964 Q202.107 298.964 204.445 296.858 Q206.783 294.751 206.783 291.14 Q206.783 287.529 204.445 285.422 Q202.107 283.316 198.102 283.316 Q196.227 283.316 194.352 283.733 Q192.5 284.149 190.556 285.029 L190.556 267.668 Z\" fill=\"#000000\" fill-rule=\"evenodd\" fill-opacity=\"1\" /><path clip-path=\"url(#clip840)\" d=\"M14.479 959.714 L19.3487 959.714 L19.3487 965.316 Q19.3487 968.467 20.6219 969.708 Q21.895 970.918 25.2052 970.918 L28.3562 970.918 L28.3562 961.273 L32.9077 961.273 L32.9077 970.918 L64.0042 970.918 L64.0042 976.806 L32.9077 976.806 L32.9077 982.408 L28.3562 982.408 L28.3562 976.806 L25.8736 976.806 Q19.9216 976.806 17.2162 974.037 Q14.479 971.268 14.479 965.252 L14.479 959.714 Z\" fill=\"#000000\" fill-rule=\"evenodd\" fill-opacity=\"1\" /><path clip-path=\"url(#clip840)\" d=\"M14.5426 940.744 Q21.8632 945.009 29.0246 947.078 Q36.186 949.147 43.5384 949.147 Q50.8908 949.147 58.1159 947.078 Q65.3091 944.977 72.5979 940.744 L72.5979 945.837 Q65.1182 950.611 57.8931 952.998 Q50.668 955.353 43.5384 955.353 Q36.4406 955.353 29.2474 952.998 Q22.0542 950.643 14.5426 945.837 L14.5426 940.744 Z\" fill=\"#000000\" fill-rule=\"evenodd\" fill-opacity=\"1\" /><path clip-path=\"url(#clip840)\" d=\"M32.4621 915.568 Q32.4621 920.278 36.1542 923.016 Q39.8145 925.753 46.212 925.753 Q52.6095 925.753 56.3017 923.047 Q59.9619 920.31 59.9619 915.568 Q59.9619 910.889 56.2698 908.152 Q52.5777 905.414 46.212 905.414 Q39.8781 905.414 36.186 908.152 Q32.4621 910.889 32.4621 915.568 M27.4968 915.568 Q27.4968 907.929 32.4621 903.568 Q37.4273 899.208 46.212 899.208 Q54.9649 899.208 59.9619 903.568 Q64.9272 907.929 64.9272 915.568 Q64.9272 923.238 59.9619 927.599 Q54.9649 931.928 46.212 931.928 Q37.4273 931.928 32.4621 927.599 Q27.4968 923.238 27.4968 915.568 Z\" fill=\"#000000\" fill-rule=\"evenodd\" fill-opacity=\"1\" /><path clip-path=\"url(#clip840)\" d=\"M14.479 871.453 L19.3487 871.453 L19.3487 877.055 Q19.3487 880.206 20.6219 881.448 Q21.895 882.657 25.2052 882.657 L28.3562 882.657 L28.3562 873.013 L32.9077 873.013 L32.9077 882.657 L64.0042 882.657 L64.0042 888.545 L32.9077 888.545 L32.9077 894.147 L28.3562 894.147 L28.3562 888.545 L25.8736 888.545 Q19.9216 888.545 17.2162 885.776 Q14.479 883.007 14.479 876.992 L14.479 871.453 Z\" fill=\"#000000\" fill-rule=\"evenodd\" fill-opacity=\"1\" /><path clip-path=\"url(#clip840)\" d=\"M14.479 848.505 L19.3487 848.505 L19.3487 854.107 Q19.3487 857.258 20.6219 858.499 Q21.895 859.709 25.2052 859.709 L28.3562 859.709 L28.3562 850.065 L32.9077 850.065 L32.9077 859.709 L64.0042 859.709 L64.0042 865.597 L32.9077 865.597 L32.9077 871.199 L28.3562 871.199 L28.3562 865.597 L25.8736 865.597 Q19.9216 865.597 17.2162 862.828 Q14.479 860.059 14.479 854.043 L14.479 848.505 Z\" fill=\"#000000\" fill-rule=\"evenodd\" fill-opacity=\"1\" /><path clip-path=\"url(#clip840)\" d=\"M44.7161 813.112 L47.5806 813.112 L47.5806 840.039 Q53.6281 839.657 56.8109 836.41 Q59.9619 833.132 59.9619 827.307 Q59.9619 823.933 59.1344 820.782 Q58.3069 817.599 56.6518 814.48 L62.1899 814.48 Q63.5267 817.631 64.227 820.941 Q64.9272 824.252 64.9272 827.657 Q64.9272 836.187 59.9619 841.184 Q54.9967 846.15 46.5303 846.15 Q37.7774 846.15 32.6531 841.439 Q27.4968 836.697 27.4968 828.676 Q27.4968 821.483 32.1438 817.313 Q36.7589 813.112 44.7161 813.112 M42.9973 818.968 Q38.1912 819.032 35.3266 821.674 Q32.4621 824.283 32.4621 828.612 Q32.4621 833.514 35.2312 836.474 Q38.0002 839.402 43.0292 839.848 L42.9973 818.968 Z\" fill=\"#000000\" fill-rule=\"evenodd\" fill-opacity=\"1\" /><path clip-path=\"url(#clip840)\" d=\"M33.8307 782.843 Q33.2578 783.829 33.0032 785.007 Q32.7167 786.153 32.7167 787.553 Q32.7167 792.519 35.9632 795.192 Q39.1779 797.834 45.2253 797.834 L64.0042 797.834 L64.0042 803.722 L28.3562 803.722 L28.3562 797.834 L33.8944 797.834 Q30.6479 795.988 29.0883 793.028 Q27.4968 790.068 27.4968 785.835 Q27.4968 785.23 27.5923 784.498 Q27.656 783.766 27.8151 782.875 L33.8307 782.843 Z\" fill=\"#000000\" fill-rule=\"evenodd\" fill-opacity=\"1\" /><path clip-path=\"url(#clip840)\" d=\"M28.3562 760.181 L28.3562 753.974 L58.275 742.834 L28.3562 731.694 L28.3562 725.488 L64.0042 738.856 L64.0042 746.813 L28.3562 760.181 Z\" fill=\"#000000\" fill-rule=\"evenodd\" fill-opacity=\"1\" /><path clip-path=\"url(#clip840)\" d=\"M46.0847 701.203 Q46.0847 708.3 47.7079 711.038 Q49.3312 713.775 53.2461 713.775 Q56.3653 713.775 58.2114 711.738 Q60.0256 709.669 60.0256 706.136 Q60.0256 701.266 56.5881 698.338 Q53.1188 695.378 47.3897 695.378 L46.0847 695.378 L46.0847 701.203 M43.6657 689.521 L64.0042 689.521 L64.0042 695.378 L58.5933 695.378 Q61.8398 697.383 63.3994 700.375 Q64.9272 703.367 64.9272 707.696 Q64.9272 713.17 61.8716 716.417 Q58.7843 719.631 53.6281 719.631 Q47.6125 719.631 44.5569 715.621 Q41.5014 711.579 41.5014 703.59 L41.5014 695.378 L40.9285 695.378 Q36.8862 695.378 34.6901 698.052 Q32.4621 700.693 32.4621 705.499 Q32.4621 708.555 33.1941 711.451 Q33.9262 714.348 35.3903 717.021 L29.9795 717.021 Q28.7381 713.807 28.1334 710.783 Q27.4968 707.759 27.4968 704.895 Q27.4968 697.16 31.5072 693.341 Q35.5176 689.521 43.6657 689.521 Z\" fill=\"#000000\" fill-rule=\"evenodd\" fill-opacity=\"1\" /><path clip-path=\"url(#clip840)\" d=\"M14.479 677.458 L14.479 671.602 L64.0042 671.602 L64.0042 677.458 L14.479 677.458 Z\" fill=\"#000000\" fill-rule=\"evenodd\" fill-opacity=\"1\" /><path clip-path=\"url(#clip840)\" d=\"M49.9359 659.953 L28.3562 659.953 L28.3562 654.096 L49.7131 654.096 Q54.7739 654.096 57.3202 652.123 Q59.8346 650.15 59.8346 646.203 Q59.8346 641.46 56.8109 638.723 Q53.7872 635.954 48.5673 635.954 L28.3562 635.954 L28.3562 630.098 L64.0042 630.098 L64.0042 635.954 L58.5296 635.954 Q61.7762 638.087 63.3676 640.919 Q64.9272 643.72 64.9272 647.444 Q64.9272 653.587 61.1078 656.77 Q57.2883 659.953 49.9359 659.953 M27.4968 645.216 L27.4968 645.216 Z\" fill=\"#000000\" fill-rule=\"evenodd\" fill-opacity=\"1\" /><path clip-path=\"url(#clip840)\" d=\"M44.7161 587.543 L47.5806 587.543 L47.5806 614.47 Q53.6281 614.088 56.8109 610.841 Q59.9619 607.563 59.9619 601.738 Q59.9619 598.365 59.1344 595.214 Q58.3069 592.031 56.6518 588.911 L62.1899 588.911 Q63.5267 592.062 64.227 595.373 Q64.9272 598.683 64.9272 602.088 Q64.9272 610.619 59.9619 615.616 Q54.9967 620.581 46.5303 620.581 Q37.7774 620.581 32.6531 615.87 Q27.4968 611.128 27.4968 603.107 Q27.4968 595.914 32.1438 591.744 Q36.7589 587.543 44.7161 587.543 M42.9973 593.399 Q38.1912 593.463 35.3266 596.105 Q32.4621 598.715 32.4621 603.043 Q32.4621 607.945 35.2312 610.905 Q38.0002 613.833 43.0292 614.279 L42.9973 593.399 Z\" fill=\"#000000\" fill-rule=\"evenodd\" fill-opacity=\"1\" /><path clip-path=\"url(#clip840)\" d=\"M14.5426 578.854 L14.5426 573.761 Q22.0542 568.987 29.2474 566.631 Q36.4406 564.244 43.5384 564.244 Q50.668 564.244 57.8931 566.631 Q65.1182 568.987 72.5979 573.761 L72.5979 578.854 Q65.3091 574.62 58.1159 572.552 Q50.8908 570.451 43.5384 570.451 Q36.186 570.451 29.0246 572.552 Q21.8632 574.62 14.5426 578.854 Z\" fill=\"#000000\" fill-rule=\"evenodd\" fill-opacity=\"1\" /><path clip-path=\"url(#clip840)\" d=\"M1028.72 18.8205 L1028.72 41.5461 L1039.01 41.5461 Q1044.72 41.5461 1047.84 38.5889 Q1050.96 35.6318 1050.96 30.163 Q1050.96 24.7348 1047.84 21.7777 Q1044.72 18.8205 1039.01 18.8205 L1028.72 18.8205 M1020.53 12.096 L1039.01 12.096 Q1049.17 12.096 1054.36 16.714 Q1059.58 21.2916 1059.58 30.163 Q1059.58 39.1155 1054.36 43.6931 Q1049.17 48.2706 1039.01 48.2706 L1028.72 48.2706 L1028.72 72.576 L1020.53 72.576 L1020.53 12.096 Z\" fill=\"#000000\" fill-rule=\"evenodd\" fill-opacity=\"1\" /><path clip-path=\"url(#clip840)\" d=\"M1078.75 18.8205 L1078.75 65.8515 L1088.63 65.8515 Q1101.15 65.8515 1106.94 60.1802 Q1112.77 54.509 1112.77 42.2752 Q1112.77 30.1225 1106.94 24.4918 Q1101.15 18.8205 1088.63 18.8205 L1078.75 18.8205 M1070.56 12.096 L1087.37 12.096 Q1104.95 12.096 1113.18 19.4281 Q1121.4 26.7198 1121.4 42.2752 Q1121.4 57.9117 1113.14 65.2439 Q1104.87 72.576 1087.37 72.576 L1070.56 72.576 L1070.56 12.096 Z\" fill=\"#000000\" fill-rule=\"evenodd\" fill-opacity=\"1\" /><path clip-path=\"url(#clip840)\" d=\"M1134.45 12.096 L1169.2 12.096 L1169.2 18.9825 L1142.63 18.9825 L1142.63 36.8065 L1166.61 36.8065 L1166.61 43.6931 L1142.63 43.6931 L1142.63 72.576 L1134.45 72.576 L1134.45 12.096 Z\" fill=\"#000000\" fill-rule=\"evenodd\" fill-opacity=\"1\" /><path clip-path=\"url(#clip840)\" d=\"M1210.76 28.5427 L1210.76 35.5912 Q1207.6 33.9709 1204.2 33.1607 Q1200.8 32.3505 1197.15 32.3505 Q1191.6 32.3505 1188.81 34.0519 Q1186.05 35.7533 1186.05 39.156 Q1186.05 41.7486 1188.04 43.2475 Q1190.02 44.7058 1196.02 46.0426 L1198.57 46.6097 Q1206.51 48.3111 1209.83 51.4303 Q1213.2 54.509 1213.2 60.0587 Q1213.2 66.3781 1208.17 70.0644 Q1203.19 73.7508 1194.44 73.7508 Q1190.79 73.7508 1186.82 73.0216 Q1182.89 72.3329 1178.52 70.9151 L1178.52 63.2184 Q1182.65 65.3654 1186.66 66.4591 Q1190.67 67.5124 1194.6 67.5124 Q1199.87 67.5124 1202.7 65.73 Q1205.54 63.9071 1205.54 60.6258 Q1205.54 57.5877 1203.47 55.9673 Q1201.45 54.3469 1194.52 52.8481 L1191.93 52.2405 Q1185 50.7821 1181.92 47.7845 Q1178.84 44.7463 1178.84 39.4801 Q1178.84 33.0797 1183.38 29.5959 Q1187.92 26.1121 1196.26 26.1121 Q1200.39 26.1121 1204.04 26.7198 Q1207.69 27.3274 1210.76 28.5427 Z\" fill=\"#000000\" fill-rule=\"evenodd\" fill-opacity=\"1\" /><path clip-path=\"url(#clip840)\" d=\"M1269.02 32.4315 Q1263.02 32.4315 1259.54 37.1306 Q1256.05 41.7891 1256.05 49.9314 Q1256.05 58.0738 1259.5 62.7728 Q1262.98 67.4314 1269.02 67.4314 Q1274.97 67.4314 1278.46 62.7323 Q1281.94 58.0333 1281.94 49.9314 Q1281.94 41.8701 1278.46 37.1711 Q1274.97 32.4315 1269.02 32.4315 M1269.02 26.1121 Q1278.74 26.1121 1284.29 32.4315 Q1289.84 38.7509 1289.84 49.9314 Q1289.84 61.0714 1284.29 67.4314 Q1278.74 73.7508 1269.02 73.7508 Q1259.25 73.7508 1253.7 67.4314 Q1248.19 61.0714 1248.19 49.9314 Q1248.19 38.7509 1253.7 32.4315 Q1259.25 26.1121 1269.02 26.1121 Z\" fill=\"#000000\" fill-rule=\"evenodd\" fill-opacity=\"1\" /><path clip-path=\"url(#clip840)\" d=\"M1325.16 9.54393 L1325.16 15.7418 L1318.03 15.7418 Q1314.02 15.7418 1312.44 17.3622 Q1310.9 18.9825 1310.9 23.1955 L1310.9 27.2059 L1323.18 27.2059 L1323.18 32.9987 L1310.9 32.9987 L1310.9 72.576 L1303.41 72.576 L1303.41 32.9987 L1296.28 32.9987 L1296.28 27.2059 L1303.41 27.2059 L1303.41 24.0462 Q1303.41 16.471 1306.93 13.0277 Q1310.46 9.54393 1318.11 9.54393 L1325.16 9.54393 Z\" fill=\"#000000\" fill-rule=\"evenodd\" fill-opacity=\"1\" /><path clip-path=\"url(#clip840)\" d=\"M1349.71 12.096 L1400.87 12.096 L1400.87 18.9825 L1379.4 18.9825 L1379.4 72.576 L1371.18 72.576 L1371.18 18.9825 L1349.71 18.9825 L1349.71 12.096 Z\" fill=\"#000000\" fill-rule=\"evenodd\" fill-opacity=\"1\" /><path clip-path=\"url(#clip840)\" d=\"M1414.4 76.7889 Q1411.24 84.8907 1408.25 87.3618 Q1405.25 89.8329 1400.23 89.8329 L1394.27 89.8329 L1394.27 83.5945 L1398.65 83.5945 Q1401.72 83.5945 1403.43 82.1361 Q1405.13 80.6778 1407.19 75.2496 L1408.53 71.8468 L1390.18 27.2059 L1398.08 27.2059 L1412.26 62.6918 L1426.43 27.2059 L1434.33 27.2059 L1414.4 76.7889 Z\" fill=\"#000000\" fill-rule=\"evenodd\" fill-opacity=\"1\" /><path clip-path=\"url(#clip840)\" d=\"M1451.83 65.7705 L1451.83 89.8329 L1444.34 89.8329 L1444.34 27.2059 L1451.83 27.2059 L1451.83 34.0924 Q1454.18 30.0415 1457.75 28.0971 Q1461.35 26.1121 1466.34 26.1121 Q1474.6 26.1121 1479.74 32.6746 Q1484.93 39.2371 1484.93 49.9314 Q1484.93 60.6258 1479.74 67.1883 Q1474.6 73.7508 1466.34 73.7508 Q1461.35 73.7508 1457.75 71.8063 Q1454.18 69.8214 1451.83 65.7705 M1477.19 49.9314 Q1477.19 41.7081 1473.79 37.0496 Q1470.43 32.3505 1464.51 32.3505 Q1458.6 32.3505 1455.2 37.0496 Q1451.83 41.7081 1451.83 49.9314 Q1451.83 58.1548 1455.2 62.8538 Q1458.6 67.5124 1464.51 67.5124 Q1470.43 67.5124 1473.79 62.8538 Q1477.19 58.1548 1477.19 49.9314 Z\" fill=\"#000000\" fill-rule=\"evenodd\" fill-opacity=\"1\" /><path clip-path=\"url(#clip840)\" d=\"M1536.09 48.0275 L1536.09 51.6733 L1501.82 51.6733 Q1502.31 59.3701 1506.44 63.421 Q1510.61 67.4314 1518.03 67.4314 Q1522.32 67.4314 1526.33 66.3781 Q1530.38 65.3249 1534.35 63.2184 L1534.35 70.267 Q1530.34 71.9684 1526.13 72.8596 Q1521.91 73.7508 1517.58 73.7508 Q1506.72 73.7508 1500.36 67.4314 Q1494.04 61.1119 1494.04 50.3365 Q1494.04 39.1965 1500.04 32.6746 Q1506.08 26.1121 1516.28 26.1121 Q1525.44 26.1121 1530.75 32.0264 Q1536.09 37.9003 1536.09 48.0275 M1528.64 45.84 Q1528.56 39.7232 1525.2 36.0774 Q1521.87 32.4315 1516.36 32.4315 Q1510.13 32.4315 1506.36 35.9558 Q1502.63 39.4801 1502.07 45.8805 L1528.64 45.84 Z\" fill=\"#000000\" fill-rule=\"evenodd\" fill-opacity=\"1\" /><path clip-path=\"url(#clip840)\" d=\"M1577.25 28.5427 L1577.25 35.5912 Q1574.09 33.9709 1570.69 33.1607 Q1567.28 32.3505 1563.64 32.3505 Q1558.09 32.3505 1555.29 34.0519 Q1552.54 35.7533 1552.54 39.156 Q1552.54 41.7486 1554.52 43.2475 Q1556.51 44.7058 1562.5 46.0426 L1565.06 46.6097 Q1573 48.3111 1576.32 51.4303 Q1579.68 54.509 1579.68 60.0587 Q1579.68 66.3781 1574.66 70.0644 Q1569.67 73.7508 1560.92 73.7508 Q1557.28 73.7508 1553.31 73.0216 Q1549.38 72.3329 1545 70.9151 L1545 63.2184 Q1549.14 65.3654 1553.15 66.4591 Q1557.16 67.5124 1561.09 67.5124 Q1566.35 67.5124 1569.19 65.73 Q1572.02 63.9071 1572.02 60.6258 Q1572.02 57.5877 1569.96 55.9673 Q1567.93 54.3469 1561.01 52.8481 L1558.41 52.2405 Q1551.49 50.7821 1548.41 47.7845 Q1545.33 44.7463 1545.33 39.4801 Q1545.33 33.0797 1549.87 29.5959 Q1554.4 26.1121 1562.75 26.1121 Q1566.88 26.1121 1570.53 26.7198 Q1574.17 27.3274 1577.25 28.5427 Z\" fill=\"#000000\" fill-rule=\"evenodd\" fill-opacity=\"1\" /><polyline clip-path=\"url(#clip842)\" style=\"stroke:#009af9; stroke-linecap:butt; stroke-linejoin:round; stroke-width:4; stroke-opacity:1; fill:none\" points=\"\n",
       "  307.043,1219.76 316.741,1219.77 326.439,1219.8 416.112,1221.1 505.784,1224.19 559.674,1226.86 613.564,1230.12 659.127,1233.29 704.69,1236.82 803.678,1245.6 \n",
       "  894.937,1254.81 992.776,1265.56 1106.13,1278.69 1206.87,1290.59 1295.21,1300.91 1391.52,1311.82 1488.4,1322.21 1595.52,1332.83 1697.44,1341.95 1803.41,1350.34 \n",
       "  1892.62,1356.52 2001.53,1362.99 2103.91,1368.07 2267.93,1374.37 2293.17,1375.16 \n",
       "  \"/>\n",
       "<polyline clip-path=\"url(#clip842)\" style=\"stroke:#e26f46; stroke-linecap:butt; stroke-linejoin:round; stroke-width:4; stroke-opacity:1; fill:none\" points=\"\n",
       "  307.043,1282.97 311.892,1278.16 316.741,1273.21 321.59,1268.13 326.439,1262.91 371.275,1208.78 416.112,1146.9 438.53,1114.93 460.948,1083.63 483.366,1054.13 \n",
       "  505.784,1027.59 519.257,1013.54 532.729,1001.18 546.202,990.734 559.674,982.364 573.147,976.213 586.619,972.389 600.091,970.958 613.564,971.944 624.955,974.653 \n",
       "  636.345,979.044 647.736,985.064 659.127,992.639 670.518,1001.68 681.908,1012.07 693.299,1023.7 704.69,1036.43 729.437,1067.17 754.184,1100.89 778.931,1136.02 \n",
       "  803.678,1171.1 826.493,1202.31 849.307,1231.6 872.122,1258.39 894.937,1282.29 919.396,1304.52 943.856,1323.23 968.316,1338.59 992.776,1350.9 1021.11,1361.86 \n",
       "  1049.45,1369.86 1077.79,1375.54 1106.13,1379.45 1156.5,1383.45 1206.87,1385.24 1251.04,1385.92 1295.21,1386.21 1391.52,1386.38 1488.4,1386.39 1595.52,1386.4 \n",
       "  1697.44,1386.4 1803.41,1386.4 1892.62,1386.4 2001.53,1386.4 2103.91,1386.4 2267.93,1386.4 2293.17,1386.4 \n",
       "  \"/>\n",
       "<polyline clip-path=\"url(#clip842)\" style=\"stroke:#3da44d; stroke-linecap:butt; stroke-linejoin:round; stroke-width:4; stroke-opacity:1; fill:none\" points=\"\n",
       "  307.043,1287.19 311.892,1278.64 316.741,1269.58 321.59,1259.99 326.439,1249.86 337.648,1224.42 348.857,1196.14 360.066,1165.16 371.275,1131.69 393.693,1058.79 \n",
       "  416.112,981.56 427.321,943.075 438.53,905.767 449.739,870.51 460.948,838.184 472.157,809.634 483.366,785.643 494.575,766.887 505.784,753.909 512.521,749.057 \n",
       "  519.257,746.485 525.993,746.221 532.729,748.269 539.465,752.606 546.202,759.186 552.938,767.937 559.674,778.767 573.147,806.19 586.619,840.329 600.091,879.84 \n",
       "  613.564,923.238 636.345,1001.22 659.127,1079.05 670.518,1116.07 681.908,1151.08 693.299,1183.67 704.69,1213.53 717.063,1242.71 729.437,1268.41 741.81,1290.68 \n",
       "  754.184,1309.7 766.558,1325.68 778.931,1338.91 791.305,1349.71 803.678,1358.4 826.493,1369.92 849.307,1377.09 872.122,1381.36 894.937,1383.78 992.776,1386.3 \n",
       "  1106.13,1386.39 1206.87,1386.4 1295.21,1386.4 1391.52,1386.4 1488.4,1386.4 1595.52,1386.4 1697.44,1386.4 1803.41,1386.4 1892.62,1386.4 2001.53,1386.4 \n",
       "  2103.91,1386.4 2267.93,1386.4 2293.17,1386.4 \n",
       "  \"/>\n",
       "<polyline clip-path=\"url(#clip842)\" style=\"stroke:#c271d2; stroke-linecap:butt; stroke-linejoin:round; stroke-width:4; stroke-opacity:1; fill:none\" points=\"\n",
       "  307.043,734.125 309.467,706.867 311.892,679.441 314.316,651.916 316.741,624.365 319.165,596.865 321.59,569.494 324.014,542.332 326.439,515.462 337.648,397.474 \n",
       "  348.857,295.946 354.462,253.858 360.066,218.735 365.671,191.315 371.275,172.183 376.88,161.754 382.484,160.256 388.089,167.722 393.693,183.987 399.298,208.699 \n",
       "  404.903,241.327 410.507,281.182 416.112,327.439 427.321,435.371 438.53,556.98 449.739,683.938 460.948,808.652 472.157,924.954 483.366,1028.49 494.575,1116.82 \n",
       "  505.784,1189.21 512.521,1225.29 519.257,1256.15 525.993,1282.2 532.729,1303.93 546.202,1336.34 559.674,1357.28 573.147,1370.16 586.619,1377.72 600.091,1381.95 \n",
       "  613.564,1384.21 659.127,1386.25 704.69,1386.39 803.678,1386.4 894.937,1386.4 992.776,1386.4 1106.13,1386.4 1206.87,1386.4 1295.21,1386.4 1391.52,1386.4 \n",
       "  1488.4,1386.4 1595.52,1386.4 1697.44,1386.4 1803.41,1386.4 1892.62,1386.4 2001.53,1386.4 2103.91,1386.4 2267.93,1386.4 2293.17,1386.4 \n",
       "  \"/>\n",
       "<path clip-path=\"url(#clip840)\" d=\"\n",
       "M1898.2 425.996 L2282.58 425.996 L2282.58 166.796 L1898.2 166.796  Z\n",
       "  \" fill=\"#ffffff\" fill-rule=\"evenodd\" fill-opacity=\"1\"/>\n",
       "<polyline clip-path=\"url(#clip840)\" style=\"stroke:#000000; stroke-linecap:butt; stroke-linejoin:round; stroke-width:4; stroke-opacity:1; fill:none\" points=\"\n",
       "  1898.2,425.996 2282.58,425.996 2282.58,166.796 1898.2,166.796 1898.2,425.996 \n",
       "  \"/>\n",
       "<polyline clip-path=\"url(#clip840)\" style=\"stroke:#009af9; stroke-linecap:butt; stroke-linejoin:round; stroke-width:4; stroke-opacity:1; fill:none\" points=\"\n",
       "  1921.59,218.636 2061.94,218.636 \n",
       "  \"/>\n",
       "<path clip-path=\"url(#clip840)\" d=\"M2085.33 201.356 L2114.57 201.356 L2114.57 205.291 L2102.3 205.291 L2102.3 235.916 L2097.6 235.916 L2097.6 205.291 L2085.33 205.291 L2085.33 201.356 Z\" fill=\"#000000\" fill-rule=\"evenodd\" fill-opacity=\"1\" /><path clip-path=\"url(#clip840)\" d=\"M2122.3 238.323 Q2120.49 242.953 2118.78 244.365 Q2117.07 245.777 2114.2 245.777 L2110.8 245.777 L2110.8 242.212 L2113.3 242.212 Q2115.05 242.212 2116.03 241.379 Q2117 240.545 2118.18 237.443 L2118.94 235.499 L2108.46 209.99 L2112.97 209.99 L2121.07 230.268 L2129.18 209.99 L2133.69 209.99 L2122.3 238.323 Z\" fill=\"#000000\" fill-rule=\"evenodd\" fill-opacity=\"1\" /><path clip-path=\"url(#clip840)\" d=\"M2143.69 232.027 L2143.69 245.777 L2139.41 245.777 L2139.41 209.99 L2143.69 209.99 L2143.69 213.925 Q2145.03 211.61 2147.07 210.499 Q2149.13 209.365 2151.98 209.365 Q2156.7 209.365 2159.64 213.115 Q2162.6 216.865 2162.6 222.976 Q2162.6 229.087 2159.64 232.837 Q2156.7 236.587 2151.98 236.587 Q2149.13 236.587 2147.07 235.476 Q2145.03 234.342 2143.69 232.027 M2158.18 222.976 Q2158.18 218.277 2156.24 215.615 Q2154.31 212.93 2150.93 212.93 Q2147.55 212.93 2145.61 215.615 Q2143.69 218.277 2143.69 222.976 Q2143.69 227.675 2145.61 230.36 Q2147.55 233.022 2150.93 233.022 Q2154.31 233.022 2156.24 230.36 Q2158.18 227.675 2158.18 222.976 Z\" fill=\"#000000\" fill-rule=\"evenodd\" fill-opacity=\"1\" /><path clip-path=\"url(#clip840)\" d=\"M2191.84 221.888 L2191.84 223.971 L2172.25 223.971 Q2172.53 228.369 2174.89 230.684 Q2177.28 232.976 2181.51 232.976 Q2183.97 232.976 2186.26 232.374 Q2188.57 231.772 2190.84 230.569 L2190.84 234.596 Q2188.55 235.568 2186.14 236.078 Q2183.74 236.587 2181.26 236.587 Q2175.05 236.587 2171.42 232.976 Q2167.81 229.365 2167.81 223.207 Q2167.81 216.842 2171.24 213.115 Q2174.68 209.365 2180.52 209.365 Q2185.75 209.365 2188.78 212.745 Q2191.84 216.101 2191.84 221.888 M2187.58 220.638 Q2187.53 217.143 2185.61 215.059 Q2183.71 212.976 2180.56 212.976 Q2177 212.976 2174.85 214.99 Q2172.72 217.004 2172.39 220.661 L2187.58 220.638 Z\" fill=\"#000000\" fill-rule=\"evenodd\" fill-opacity=\"1\" /><path clip-path=\"url(#clip840)\" d=\"M2215.31 231.981 L2222.95 231.981 L2222.95 205.615 L2214.64 207.282 L2214.64 203.022 L2222.9 201.356 L2227.58 201.356 L2227.58 231.981 L2235.22 231.981 L2235.22 235.916 L2215.31 235.916 L2215.31 231.981 Z\" fill=\"#000000\" fill-rule=\"evenodd\" fill-opacity=\"1\" /><polyline clip-path=\"url(#clip840)\" style=\"stroke:#e26f46; stroke-linecap:butt; stroke-linejoin:round; stroke-width:4; stroke-opacity:1; fill:none\" points=\"\n",
       "  1921.59,270.476 2061.94,270.476 \n",
       "  \"/>\n",
       "<path clip-path=\"url(#clip840)\" d=\"M2085.33 253.196 L2114.57 253.196 L2114.57 257.131 L2102.3 257.131 L2102.3 287.756 L2097.6 287.756 L2097.6 257.131 L2085.33 257.131 L2085.33 253.196 Z\" fill=\"#000000\" fill-rule=\"evenodd\" fill-opacity=\"1\" /><path clip-path=\"url(#clip840)\" d=\"M2122.3 290.163 Q2120.49 294.793 2118.78 296.205 Q2117.07 297.617 2114.2 297.617 L2110.8 297.617 L2110.8 294.052 L2113.3 294.052 Q2115.05 294.052 2116.03 293.219 Q2117 292.385 2118.18 289.283 L2118.94 287.339 L2108.46 261.83 L2112.97 261.83 L2121.07 282.108 L2129.18 261.83 L2133.69 261.83 L2122.3 290.163 Z\" fill=\"#000000\" fill-rule=\"evenodd\" fill-opacity=\"1\" /><path clip-path=\"url(#clip840)\" d=\"M2143.69 283.867 L2143.69 297.617 L2139.41 297.617 L2139.41 261.83 L2143.69 261.83 L2143.69 265.765 Q2145.03 263.45 2147.07 262.339 Q2149.13 261.205 2151.98 261.205 Q2156.7 261.205 2159.64 264.955 Q2162.6 268.705 2162.6 274.816 Q2162.6 280.927 2159.64 284.677 Q2156.7 288.427 2151.98 288.427 Q2149.13 288.427 2147.07 287.316 Q2145.03 286.182 2143.69 283.867 M2158.18 274.816 Q2158.18 270.117 2156.24 267.455 Q2154.31 264.77 2150.93 264.77 Q2147.55 264.77 2145.61 267.455 Q2143.69 270.117 2143.69 274.816 Q2143.69 279.515 2145.61 282.2 Q2147.55 284.862 2150.93 284.862 Q2154.31 284.862 2156.24 282.2 Q2158.18 279.515 2158.18 274.816 Z\" fill=\"#000000\" fill-rule=\"evenodd\" fill-opacity=\"1\" /><path clip-path=\"url(#clip840)\" d=\"M2191.84 273.728 L2191.84 275.811 L2172.25 275.811 Q2172.53 280.209 2174.89 282.524 Q2177.28 284.816 2181.51 284.816 Q2183.97 284.816 2186.26 284.214 Q2188.57 283.612 2190.84 282.409 L2190.84 286.436 Q2188.55 287.408 2186.14 287.918 Q2183.74 288.427 2181.26 288.427 Q2175.05 288.427 2171.42 284.816 Q2167.81 281.205 2167.81 275.047 Q2167.81 268.682 2171.24 264.955 Q2174.68 261.205 2180.52 261.205 Q2185.75 261.205 2188.78 264.585 Q2191.84 267.941 2191.84 273.728 M2187.58 272.478 Q2187.53 268.983 2185.61 266.899 Q2183.71 264.816 2180.56 264.816 Q2177 264.816 2174.85 266.83 Q2172.72 268.844 2172.39 272.501 L2187.58 272.478 Z\" fill=\"#000000\" fill-rule=\"evenodd\" fill-opacity=\"1\" /><path clip-path=\"url(#clip840)\" d=\"M2218.53 283.821 L2234.85 283.821 L2234.85 287.756 L2212.9 287.756 L2212.9 283.821 Q2215.56 281.066 2220.15 276.436 Q2224.75 271.784 2225.93 270.441 Q2228.18 267.918 2229.06 266.182 Q2229.96 264.423 2229.96 262.733 Q2229.96 259.978 2228.02 258.242 Q2226.1 256.506 2222.99 256.506 Q2220.8 256.506 2218.34 257.27 Q2215.91 258.034 2213.13 259.585 L2213.13 254.862 Q2215.96 253.728 2218.41 253.149 Q2220.86 252.571 2222.9 252.571 Q2228.27 252.571 2231.47 255.256 Q2234.66 257.941 2234.66 262.432 Q2234.66 264.561 2233.85 266.483 Q2233.06 268.381 2230.96 270.973 Q2230.38 271.645 2227.28 274.862 Q2224.17 278.057 2218.53 283.821 Z\" fill=\"#000000\" fill-rule=\"evenodd\" fill-opacity=\"1\" /><polyline clip-path=\"url(#clip840)\" style=\"stroke:#3da44d; stroke-linecap:butt; stroke-linejoin:round; stroke-width:4; stroke-opacity:1; fill:none\" points=\"\n",
       "  1921.59,322.316 2061.94,322.316 \n",
       "  \"/>\n",
       "<path clip-path=\"url(#clip840)\" d=\"M2085.33 305.036 L2114.57 305.036 L2114.57 308.971 L2102.3 308.971 L2102.3 339.596 L2097.6 339.596 L2097.6 308.971 L2085.33 308.971 L2085.33 305.036 Z\" fill=\"#000000\" fill-rule=\"evenodd\" fill-opacity=\"1\" /><path clip-path=\"url(#clip840)\" d=\"M2122.3 342.003 Q2120.49 346.633 2118.78 348.045 Q2117.07 349.457 2114.2 349.457 L2110.8 349.457 L2110.8 345.892 L2113.3 345.892 Q2115.05 345.892 2116.03 345.059 Q2117 344.225 2118.18 341.123 L2118.94 339.179 L2108.46 313.67 L2112.97 313.67 L2121.07 333.948 L2129.18 313.67 L2133.69 313.67 L2122.3 342.003 Z\" fill=\"#000000\" fill-rule=\"evenodd\" fill-opacity=\"1\" /><path clip-path=\"url(#clip840)\" d=\"M2143.69 335.707 L2143.69 349.457 L2139.41 349.457 L2139.41 313.67 L2143.69 313.67 L2143.69 317.605 Q2145.03 315.29 2147.07 314.179 Q2149.13 313.045 2151.98 313.045 Q2156.7 313.045 2159.64 316.795 Q2162.6 320.545 2162.6 326.656 Q2162.6 332.767 2159.64 336.517 Q2156.7 340.267 2151.98 340.267 Q2149.13 340.267 2147.07 339.156 Q2145.03 338.022 2143.69 335.707 M2158.18 326.656 Q2158.18 321.957 2156.24 319.295 Q2154.31 316.61 2150.93 316.61 Q2147.55 316.61 2145.61 319.295 Q2143.69 321.957 2143.69 326.656 Q2143.69 331.355 2145.61 334.04 Q2147.55 336.702 2150.93 336.702 Q2154.31 336.702 2156.24 334.04 Q2158.18 331.355 2158.18 326.656 Z\" fill=\"#000000\" fill-rule=\"evenodd\" fill-opacity=\"1\" /><path clip-path=\"url(#clip840)\" d=\"M2191.84 325.568 L2191.84 327.651 L2172.25 327.651 Q2172.53 332.049 2174.89 334.364 Q2177.28 336.656 2181.51 336.656 Q2183.97 336.656 2186.26 336.054 Q2188.57 335.452 2190.84 334.249 L2190.84 338.276 Q2188.55 339.248 2186.14 339.758 Q2183.74 340.267 2181.26 340.267 Q2175.05 340.267 2171.42 336.656 Q2167.81 333.045 2167.81 326.887 Q2167.81 320.522 2171.24 316.795 Q2174.68 313.045 2180.52 313.045 Q2185.75 313.045 2188.78 316.425 Q2191.84 319.781 2191.84 325.568 M2187.58 324.318 Q2187.53 320.823 2185.61 318.739 Q2183.71 316.656 2180.56 316.656 Q2177 316.656 2174.85 318.67 Q2172.72 320.684 2172.39 324.341 L2187.58 324.318 Z\" fill=\"#000000\" fill-rule=\"evenodd\" fill-opacity=\"1\" /><path clip-path=\"url(#clip840)\" d=\"M2228.67 320.962 Q2232.02 321.679 2233.9 323.948 Q2235.79 326.216 2235.79 329.549 Q2235.79 334.665 2232.28 337.466 Q2228.76 340.267 2222.28 340.267 Q2220.1 340.267 2217.79 339.827 Q2215.49 339.411 2213.04 338.554 L2213.04 334.04 Q2214.98 335.174 2217.3 335.753 Q2219.61 336.332 2222.14 336.332 Q2226.54 336.332 2228.83 334.596 Q2231.14 332.86 2231.14 329.549 Q2231.14 326.494 2228.99 324.781 Q2226.86 323.045 2223.04 323.045 L2219.01 323.045 L2219.01 319.202 L2223.23 319.202 Q2226.67 319.202 2228.5 317.837 Q2230.33 316.448 2230.33 313.855 Q2230.33 311.193 2228.43 309.781 Q2226.56 308.346 2223.04 308.346 Q2221.12 308.346 2218.92 308.763 Q2216.72 309.179 2214.08 310.059 L2214.08 305.892 Q2216.74 305.151 2219.06 304.781 Q2221.4 304.411 2223.46 304.411 Q2228.78 304.411 2231.88 306.841 Q2234.98 309.249 2234.98 313.369 Q2234.98 316.239 2233.34 318.23 Q2231.7 320.198 2228.67 320.962 Z\" fill=\"#000000\" fill-rule=\"evenodd\" fill-opacity=\"1\" /><polyline clip-path=\"url(#clip840)\" style=\"stroke:#c271d2; stroke-linecap:butt; stroke-linejoin:round; stroke-width:4; stroke-opacity:1; fill:none\" points=\"\n",
       "  1921.59,374.156 2061.94,374.156 \n",
       "  \"/>\n",
       "<path clip-path=\"url(#clip840)\" d=\"M2107.58 358.01 L2107.58 362.57 Q2104.92 361.297 2102.55 360.672 Q2100.19 360.047 2097.99 360.047 Q2094.18 360.047 2092.09 361.528 Q2090.03 363.01 2090.03 365.741 Q2090.03 368.033 2091.4 369.214 Q2092.79 370.371 2096.63 371.089 L2099.45 371.667 Q2104.68 372.663 2107.16 375.186 Q2109.66 377.686 2109.66 381.899 Q2109.66 386.922 2106.28 389.514 Q2102.93 392.107 2096.42 392.107 Q2093.97 392.107 2091.19 391.551 Q2088.43 390.996 2085.47 389.908 L2085.47 385.093 Q2088.32 386.69 2091.05 387.501 Q2093.78 388.311 2096.42 388.311 Q2100.43 388.311 2102.6 386.737 Q2104.78 385.163 2104.78 382.246 Q2104.78 379.7 2103.2 378.264 Q2101.65 376.829 2098.09 376.112 L2095.24 375.556 Q2090.01 374.515 2087.67 372.292 Q2085.33 370.07 2085.33 366.112 Q2085.33 361.528 2088.55 358.89 Q2091.79 356.251 2097.46 356.251 Q2099.89 356.251 2102.42 356.691 Q2104.94 357.13 2107.58 358.01 Z\" fill=\"#000000\" fill-rule=\"evenodd\" fill-opacity=\"1\" /><path clip-path=\"url(#clip840)\" d=\"M2116.77 365.51 L2121.03 365.51 L2121.03 391.436 L2116.77 391.436 L2116.77 365.51 M2116.77 355.417 L2121.03 355.417 L2121.03 360.811 L2116.77 360.811 L2116.77 355.417 Z\" fill=\"#000000\" fill-rule=\"evenodd\" fill-opacity=\"1\" /><path clip-path=\"url(#clip840)\" d=\"M2151.49 375.788 L2151.49 391.436 L2147.23 391.436 L2147.23 375.927 Q2147.23 372.246 2145.8 370.417 Q2144.36 368.589 2141.49 368.589 Q2138.04 368.589 2136.05 370.788 Q2134.06 372.987 2134.06 376.783 L2134.06 391.436 L2129.78 391.436 L2129.78 365.51 L2134.06 365.51 L2134.06 369.538 Q2135.59 367.2 2137.65 366.042 Q2139.73 364.885 2142.44 364.885 Q2146.91 364.885 2149.2 367.663 Q2151.49 370.417 2151.49 375.788 Z\" fill=\"#000000\" fill-rule=\"evenodd\" fill-opacity=\"1\" /><path clip-path=\"url(#clip840)\" d=\"M2159.82 355.417 L2164.11 355.417 L2164.11 376.69 L2176.81 365.51 L2182.25 365.51 L2168.5 377.639 L2182.83 391.436 L2177.28 391.436 L2164.11 378.774 L2164.11 391.436 L2159.82 391.436 L2159.82 355.417 Z\" fill=\"#000000\" fill-rule=\"evenodd\" fill-opacity=\"1\" /><path clip-path=\"url(#clip840)\" d=\"M2203.92 387.501 L2211.56 387.501 L2211.56 361.135 L2203.25 362.802 L2203.25 358.542 L2211.51 356.876 L2216.19 356.876 L2216.19 387.501 L2223.83 387.501 L2223.83 391.436 L2203.92 391.436 L2203.92 387.501 Z\" fill=\"#000000\" fill-rule=\"evenodd\" fill-opacity=\"1\" /></svg>\n"
      ]
     },
     "execution_count": 27,
     "metadata": {},
     "output_type": "execute_result"
    }
   ],
   "source": [
    "TYPE_TO_DELETE = 4 # change this if you want to remove the pdf of a different academic type; set to zero to not delete any\n",
    "SINK_TO_DELETE = 0 # change this if you want to remove the pdf of a different sink type\n",
    "\n",
    "select_type = 1\n",
    "pdfs = plot(TruncatedNormal(sol[NUMBER_OF_TYPES-1+select_type], sol[NUMBER_OF_TYPES-1+select_type+TOTAL_DISTRIBUTIONS], 0, 1), func = pdf, title = \"PDFs of Types\", label = \"Type 1\")\n",
    "for select_type in 2:NUMBER_OF_TYPES # academic types\n",
    "    if select_type != TYPE_TO_DELETE\n",
    "        plot!(pdfs, TruncatedNormal(sol[NUMBER_OF_TYPES-1+select_type], sol[NUMBER_OF_TYPES-1+select_type+TOTAL_DISTRIBUTIONS], 0, 1), func = pdf, label = string(\"Type \", select_type))\n",
    "    end\n",
    "end\n",
    "\n",
    "for select_type in NUMBER_OF_TYPES+1:TOTAL_DISTRIBUTIONS # sinks\n",
    "    if select_type != SINK_TO_DELETE + NUMBER_OF_TYPES\n",
    "        plot!(pdfs, TruncatedNormal(sol[NUMBER_OF_TYPES-1+select_type], sol[NUMBER_OF_TYPES-1+select_type+TOTAL_DISTRIBUTIONS], 0, 1), func = pdf, label = string(\"Sink \", select_type - NUMBER_OF_TYPES))\n",
    "    end\n",
    "end\n",
    "xlabel!(pdfs, \"offer value\")\n",
    "ylabel!(pdfs, \"f(offer value)\")\n",
    "pdfs"
   ]
  },
  {
   "cell_type": "markdown",
   "id": "ff64a527-d72a-4a9d-a82e-ddc05c829cf1",
   "metadata": {},
   "source": [
    "The actual allocation of departments to types is:"
   ]
  },
  {
   "cell_type": "markdown",
   "id": "f22862e2-a434-4cf4-8f9d-8177b872867c",
   "metadata": {},
   "source": [
    "## References\n",
    "\n",
    "Karrer, B., and M. E. J. Newman (2011): \"Stochastic Blockmodels and community structure in networks,\" Physical Review, 83(1).\n",
    "\n",
    "Peixoto, T. (2014): \"Efficient Monte Carlo and greedy heuristic for the inference of stochastic block models,\" Physical Review, 89(1)."
   ]
  }
 ],
 "metadata": {
  "kernelspec": {
   "display_name": "Julia 1.6.0",
   "language": "julia",
   "name": "julia-1.6"
  },
  "language_info": {
   "file_extension": ".jl",
   "mimetype": "application/julia",
   "name": "julia",
   "version": "1.6.0"
  },
  "widgets": {
   "application/vnd.jupyter.widget-state+json": {
    "state": {},
    "version_major": 2,
    "version_minor": 0
   }
  }
 },
 "nbformat": 4,
 "nbformat_minor": 5
}
