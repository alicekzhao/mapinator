{
 "cells": [
  {
   "cell_type": "code",
   "execution_count": 1,
   "metadata": {},
   "outputs": [],
   "source": [
    "using Distributions, Integrals, Random, Roots, StatsPlots"
   ]
  },
  {
   "cell_type": "code",
   "execution_count": 2,
   "metadata": {},
   "outputs": [
    {
     "data": {
      "text/plain": [
       "pi (generic function with 1 method)"
      ]
     },
     "metadata": {},
     "output_type": "display_data"
    }
   ],
   "source": [
    "# define p_vec as e.g.\n",
    "# [v2/v1 v3/v2 v4/v3 α1 α2 α3 α4 mu1 mu2 mu3 mu4 mus sg1 sg2 sg3 sg4 sgs]\n",
    "\n",
    "function F(x, ρ, μ, σ, K)\n",
    "    return sum([ρ[i] * cdf(truncated(Normal(μ[i], σ[i]), 0, 1), x) for i in 1:K])\n",
    "end\n",
    "\n",
    "function f(x, ρ, μ, σ, K)\n",
    "    return sum([ρ[i] * pdf(truncated(Normal(μ[i], σ[i]), 0, 1), x) for i in 1:K])\n",
    "end\n",
    "\n",
    "function G(Fim1, Fx, αsum)\n",
    "    return (Fim1 - Fx) / αsum\n",
    "end\n",
    "\n",
    "function κ(i, t, v_rel)\n",
    "    return sum([-log(v_rel[j]) for j in t:i-1])\n",
    "end\n",
    "\n",
    "function fi(x, μ, σ)\n",
    "    return pdf(truncated(Normal(μ, σ), 0, 1), x)\n",
    "end\n",
    "\n",
    "function q(i, t, Fx_vec, x_vec, ρ, μ, σ, α, v_rel, k, K)\n",
    "    # Fx_vec = [F(x0)=1, F(x1), F(x2), F(x3), ..., F(xk-1)]\n",
    "    # x_vec = [x0 = 1, x1, x2, x3, ..., xk = 0]\n",
    "    # x_vec[s] = x_{s-1}, so the limits of integration are and must be offset by 1 below\n",
    "    # TODO: can some integrals be cached as a speed-up? can some integrals be computed in parallel?\n",
    "    return sum([(α[t]/sum(α[1:s])) * solve(IntegralProblem{false}((x, p) -> exp(-(G(Fx_vec[s], F(x, ρ, μ, σ, K), sum(α[1:s])) + κ(s, t, v_rel))) * fi(x, μ[i], σ[i]), x_vec[s+1], x_vec[s]), HCubatureJL())[1] for s in t:k])\n",
    "end\n",
    "\n",
    "function Fx(t, α, v_rel)\n",
    "    return 1 - sum([-log(v_rel[j])*sum(α[1:j]) for j in 1:t])\n",
    "end\n",
    "\n",
    "function Q2(ratio, β)\n",
    "    return β * (1 - exp(-ratio)) / ratio\n",
    "end\n",
    "\n",
    "function pi(t, α)\n",
    "    return α[t] / sum(α[1:t])\n",
    "end"
   ]
  },
  {
   "cell_type": "code",
   "execution_count": 3,
   "metadata": {},
   "outputs": [
    {
     "data": {
      "text/plain": [
       "get_outcome_distribution"
      ]
     },
     "metadata": {},
     "output_type": "display_data"
    }
   ],
   "source": [
    "\"\"\"\n",
    "computes the distribution of placement outcomes according to the following specification:\n",
    "\n",
    "    v_rel: vector of relative values v2/v1, v3/v2, v4/v3, ...\n",
    "    α: vector of graduate-department ratio constants α_i\n",
    "    μ: vector of μ parameters for the offer distributions\n",
    "    σ: vector of σ parameters for the offer distributions\n",
    "    ρ: vector of ratios for number of departments per tier\n",
    "    β: match friction for second round\n",
    "    k: number of graduating tiers\n",
    "    K: number of hiring tiers\n",
    "    M: number of placement outcomes to simulate\n",
    "\n",
    "\"\"\"\n",
    "function get_outcome_distribution(v_rel, α, μ, σ, ρ, β, k, K)\n",
    "    Fx_vec = ones(k) # sets F(x0) = 1 by default; Fx_vec = [F(x0)=1, F(x1), F(x2), F(x3), ..., F(xk-1)]\n",
    "    x_vec = ones(k+1) # x_vec = [x0 = 1, x1, x2, x3, ..., xk = 0]\n",
    "    x_vec[k+1] = 0.0\n",
    "    for t in 1:k-1\n",
    "        Fx_vec_candidate = Fx(t, α, v_rel)\n",
    "        if Fx_vec_candidate <= 0.0\n",
    "            Fx_vec[t+1:k] .= 0.0\n",
    "            x_vec[t+1:k] .= 0.0\n",
    "            break\n",
    "        end\n",
    "        Fx_vec[t+1] = Fx_vec_candidate\n",
    "        # there is no simple closed-form for F^{-1}(x) so this numerically computes x1, x2, x3\n",
    "        x_vec[t+1] = find_zero(x -> F(x, ρ, μ, σ, K) - Fx_vec[t+1], 0.5) \n",
    "    end\n",
    "\n",
    "    normalizer = 0.0\n",
    "    q_it = zeros(K, k)\n",
    "    for i in 1:K\n",
    "        for t in 1:k\n",
    "            prob = q(i, t, Fx_vec, x_vec, ρ, μ, σ, α, v_rel, k, K)\n",
    "            q_it[i, t] = prob\n",
    "            normalizer += ρ[i] * prob\n",
    "        end\n",
    "    end\n",
    "\n",
    "    round_2 = zeros(K, k)\n",
    "    D = sum([ρ[i] * (1 - sum([q_it[i, t] for t in 1:k])) for i in 1:K])\n",
    "    S = sum([α[t] * (1 - sum([ρ[i]*q_it[i, t] for i in 1:K])) for t in 1:k])\n",
    "    for i in 1:K\n",
    "        for t in 1:k\n",
    "            prob = (1 - sum([q_it[i, s] for s in 1:k])) * Q2(D/S, β) * α[t] * (1 - sum([ρ[j] * q_it[j, t] for j in 1:K])) / S\n",
    "            round_2[i, t] = prob\n",
    "            normalizer += ρ[i] * prob\n",
    "        end\n",
    "    end\n",
    "\n",
    "    total = zeros(K*k)\n",
    "    counter = 1\n",
    "    for i in 1:K\n",
    "        for t in 1:k\n",
    "            total[counter] = (ρ[i] * (q_it[i, t] + round_2[i, t]) / normalizer)\n",
    "            counter += 1\n",
    "        end\n",
    "    end\n",
    "\n",
    "    return total\n",
    "end"
   ]
  },
  {
   "cell_type": "code",
   "execution_count": 64,
   "metadata": {},
   "outputs": [
    {
     "data": {
      "text/plain": [
       "0.0"
      ]
     },
     "metadata": {},
     "output_type": "display_data"
    }
   ],
   "source": [
    "Random.seed!(0) # for reproducibility\n",
    "\n",
    "num_graduates = 4\n",
    "num_departments = 4\n",
    "\n",
    "v_rel = zeros(num_graduates-1)\n",
    "v_base = range(1, 0.3, num_graduates)\n",
    "for i in 1:num_graduates-1\n",
    "    v_rel[i] = v_base[i+1] / v_base[i]\n",
    "end\n",
    "\n",
    "α = [0.4, 0.3, 0.2, 0.1]#ones(num_graduates) / num_graduates\n",
    "μ = range(0.25, 0.75, num_departments)\n",
    "σ = 0.1 * ones(num_departments)\n",
    "ρ = ones(num_departments) / num_departments\n",
    "β = 0.0"
   ]
  },
  {
   "cell_type": "code",
   "execution_count": 65,
   "metadata": {},
   "outputs": [
    {
     "data": {
      "text/plain": [
       "16-element Vector{Float64}:\n",
       " 0.05593078436066111\n",
       " 0.054714872826141646\n",
       " 0.05239719499055985\n",
       " 0.01756798814531303\n",
       " 0.07565183424393107\n",
       " 0.07395109369226735\n",
       " 0.06587200954561875\n",
       " 0.0014868161754499794\n",
       " 0.11949061331241428\n",
       " 0.10749042434323723\n",
       " 0.04353650182102231\n",
       " 1.1316080827433701e-5\n",
       " 0.23713685399765627\n",
       " 0.08970214955242375\n",
       " 0.005059540558103435\n",
       " 6.354372418347491e-9"
      ]
     },
     "metadata": {},
     "output_type": "display_data"
    }
   ],
   "source": [
    "outcome_distribution = get_outcome_distribution(v_rel, α, μ, σ, ρ, β, num_graduates, num_departments)"
   ]
  },
  {
   "cell_type": "code",
   "execution_count": 71,
   "metadata": {},
   "outputs": [],
   "source": [
    "placements = zeros(num_departments, num_graduates)\n",
    "M = 10000\n",
    "sample = rand(Multinomial(M, outcome_distribution))\n",
    "counter = 1\n",
    "for i in 1:num_departments\n",
    "    for t in 1:num_graduates\n",
    "        placements[i, t] = sample[counter]\n",
    "        counter += 1\n",
    "    end\n",
    "end"
   ]
  },
  {
   "cell_type": "code",
   "execution_count": 72,
   "metadata": {},
   "outputs": [
    {
     "data": {
      "text/plain": [
       "4×4 Matrix{Float64}:\n",
       "  566.0   576.0  576.0  160.0\n",
       "  735.0   725.0  633.0   19.0\n",
       " 1154.0  1080.0  430.0    0.0\n",
       " 2394.0   910.0   42.0    0.0"
      ]
     },
     "metadata": {},
     "output_type": "display_data"
    }
   ],
   "source": [
    "placements"
   ]
  },
  {
   "cell_type": "code",
   "execution_count": 73,
   "metadata": {},
   "outputs": [
    {
     "data": {
      "image/png": "[encoded data removed]",
      "image/svg+xml": [
       "<?xml version=\"1.0\" encoding=\"utf-8\"?>\n",
       "<svg xmlns=\"http://www.w3.org/2000/svg\" xmlns:xlink=\"http://www.w3.org/1999/xlink\" width=\"600\" height=\"400\" viewBox=\"0 0 2400 1600\">\n",
       "<defs>\n",
       "  <clipPath id=\"clip070\">\n",
       "    <rect x=\"0\" y=\"0\" width=\"2400\" height=\"1600\"/>\n",
       "  </clipPath>\n",
       "</defs>\n",
       "<path clip-path=\"url(#clip070)\" d=\"M0 1600 L2400 1600 L2400 0 L0 0  Z\" fill=\"#ffffff\" fill-rule=\"evenodd\" fill-opacity=\"1\"/>\n",
       "<defs>\n",
       "  <clipPath id=\"clip071\">\n",
       "    <rect x=\"480\" y=\"0\" width=\"1681\" height=\"1600\"/>\n",
       "  </clipPath>\n",
       "</defs>\n",
       "<path clip-path=\"url(#clip070)\" d=\"M249.542 1423.18 L2352.76 1423.18 L2352.76 123.472 L249.542 123.472  Z\" fill=\"#ffffff\" fill-rule=\"evenodd\" fill-opacity=\"1\"/>\n",
       "<defs>\n",
       "  <clipPath id=\"clip072\">\n",
       "    <rect x=\"249\" y=\"123\" width=\"2104\" height=\"1301\"/>\n",
       "  </clipPath>\n",
       "</defs>\n",
       "<polyline clip-path=\"url(#clip072)\" style=\"stroke:#000000; stroke-linecap:round; stroke-linejoin:round; stroke-width:2; stroke-opacity:0.1; fill:none\" points=\"309.067,1423.18 309.067,123.472 \"/>\n",
       "<polyline clip-path=\"url(#clip072)\" style=\"stroke:#000000; stroke-linecap:round; stroke-linejoin:round; stroke-width:2; stroke-opacity:0.1; fill:none\" points=\"805.108,1423.18 805.108,123.472 \"/>\n",
       "<polyline clip-path=\"url(#clip072)\" style=\"stroke:#000000; stroke-linecap:round; stroke-linejoin:round; stroke-width:2; stroke-opacity:0.1; fill:none\" points=\"1301.15,1423.18 1301.15,123.472 \"/>\n",
       "<polyline clip-path=\"url(#clip072)\" style=\"stroke:#000000; stroke-linecap:round; stroke-linejoin:round; stroke-width:2; stroke-opacity:0.1; fill:none\" points=\"1797.19,1423.18 1797.19,123.472 \"/>\n",
       "<polyline clip-path=\"url(#clip072)\" style=\"stroke:#000000; stroke-linecap:round; stroke-linejoin:round; stroke-width:2; stroke-opacity:0.1; fill:none\" points=\"2293.23,1423.18 2293.23,123.472 \"/>\n",
       "<polyline clip-path=\"url(#clip070)\" style=\"stroke:#000000; stroke-linecap:round; stroke-linejoin:round; stroke-width:4; stroke-opacity:1; fill:none\" points=\"249.542,1423.18 2352.76,1423.18 \"/>\n",
       "<polyline clip-path=\"url(#clip070)\" style=\"stroke:#000000; stroke-linecap:round; stroke-linejoin:round; stroke-width:4; stroke-opacity:1; fill:none\" points=\"309.067,1423.18 309.067,1404.28 \"/>\n",
       "<polyline clip-path=\"url(#clip070)\" style=\"stroke:#000000; stroke-linecap:round; stroke-linejoin:round; stroke-width:4; stroke-opacity:1; fill:none\" points=\"805.108,1423.18 805.108,1404.28 \"/>\n",
       "<polyline clip-path=\"url(#clip070)\" style=\"stroke:#000000; stroke-linecap:round; stroke-linejoin:round; stroke-width:4; stroke-opacity:1; fill:none\" points=\"1301.15,1423.18 1301.15,1404.28 \"/>\n",
       "<polyline clip-path=\"url(#clip070)\" style=\"stroke:#000000; stroke-linecap:round; stroke-linejoin:round; stroke-width:4; stroke-opacity:1; fill:none\" points=\"1797.19,1423.18 1797.19,1404.28 \"/>\n",
       "<polyline clip-path=\"url(#clip070)\" style=\"stroke:#000000; stroke-linecap:round; stroke-linejoin:round; stroke-width:4; stroke-opacity:1; fill:none\" points=\"2293.23,1423.18 2293.23,1404.28 \"/>\n",
       "<path clip-path=\"url(#clip070)\" d=\"M271.37 1454.1 Q267.759 1454.1 265.931 1457.66 Q264.125 1461.2 264.125 1468.33 Q264.125 1475.44 265.931 1479.01 Q267.759 1482.55 271.37 1482.55 Q275.005 1482.55 276.81 1479.01 Q278.639 1475.44 278.639 1468.33 Q278.639 1461.2 276.81 1457.66 Q275.005 1454.1 271.37 1454.1 M271.37 1450.39 Q277.181 1450.39 280.236 1455 Q283.315 1459.58 283.315 1468.33 Q283.315 1477.06 280.236 1481.67 Q277.181 1486.25 271.37 1486.25 Q265.56 1486.25 262.482 1481.67 Q259.426 1477.06 259.426 1468.33 Q259.426 1459.58 262.482 1455 Q265.56 1450.39 271.37 1450.39 Z\" fill=\"#000000\" fill-rule=\"nonzero\" fill-opacity=\"1\" /><path clip-path=\"url(#clip070)\" d=\"M291.532 1479.7 L296.417 1479.7 L296.417 1485.58 L291.532 1485.58 L291.532 1479.7 Z\" fill=\"#000000\" fill-rule=\"nonzero\" fill-opacity=\"1\" /><path clip-path=\"url(#clip070)\" d=\"M316.602 1454.1 Q312.991 1454.1 311.162 1457.66 Q309.356 1461.2 309.356 1468.33 Q309.356 1475.44 311.162 1479.01 Q312.991 1482.55 316.602 1482.55 Q320.236 1482.55 322.041 1479.01 Q323.87 1475.44 323.87 1468.33 Q323.87 1461.2 322.041 1457.66 Q320.236 1454.1 316.602 1454.1 M316.602 1450.39 Q322.412 1450.39 325.467 1455 Q328.546 1459.58 328.546 1468.33 Q328.546 1477.06 325.467 1481.67 Q322.412 1486.25 316.602 1486.25 Q310.791 1486.25 307.713 1481.67 Q304.657 1477.06 304.657 1468.33 Q304.657 1459.58 307.713 1455 Q310.791 1450.39 316.602 1450.39 Z\" fill=\"#000000\" fill-rule=\"nonzero\" fill-opacity=\"1\" /><path clip-path=\"url(#clip070)\" d=\"M346.764 1454.1 Q343.152 1454.1 341.324 1457.66 Q339.518 1461.2 339.518 1468.33 Q339.518 1475.44 341.324 1479.01 Q343.152 1482.55 346.764 1482.55 Q350.398 1482.55 352.203 1479.01 Q354.032 1475.44 354.032 1468.33 Q354.032 1461.2 352.203 1457.66 Q350.398 1454.1 346.764 1454.1 M346.764 1450.39 Q352.574 1450.39 355.629 1455 Q358.708 1459.58 358.708 1468.33 Q358.708 1477.06 355.629 1481.67 Q352.574 1486.25 346.764 1486.25 Q340.953 1486.25 337.875 1481.67 Q334.819 1477.06 334.819 1468.33 Q334.819 1459.58 337.875 1455 Q340.953 1450.39 346.764 1450.39 Z\" fill=\"#000000\" fill-rule=\"nonzero\" fill-opacity=\"1\" /><path clip-path=\"url(#clip070)\" d=\"M767.909 1454.1 Q764.298 1454.1 762.469 1457.66 Q760.664 1461.2 760.664 1468.33 Q760.664 1475.44 762.469 1479.01 Q764.298 1482.55 767.909 1482.55 Q771.543 1482.55 773.349 1479.01 Q775.178 1475.44 775.178 1468.33 Q775.178 1461.2 773.349 1457.66 Q771.543 1454.1 767.909 1454.1 M767.909 1450.39 Q773.719 1450.39 776.775 1455 Q779.853 1459.58 779.853 1468.33 Q779.853 1477.06 776.775 1481.67 Q773.719 1486.25 767.909 1486.25 Q762.099 1486.25 759.02 1481.67 Q755.965 1477.06 755.965 1468.33 Q755.965 1459.58 759.02 1455 Q762.099 1450.39 767.909 1450.39 Z\" fill=\"#000000\" fill-rule=\"nonzero\" fill-opacity=\"1\" /><path clip-path=\"url(#clip070)\" d=\"M788.071 1479.7 L792.955 1479.7 L792.955 1485.58 L788.071 1485.58 L788.071 1479.7 Z\" fill=\"#000000\" fill-rule=\"nonzero\" fill-opacity=\"1\" /><path clip-path=\"url(#clip070)\" d=\"M807.168 1481.64 L823.487 1481.64 L823.487 1485.58 L801.543 1485.58 L801.543 1481.64 Q804.205 1478.89 808.788 1474.26 Q813.395 1469.61 814.576 1468.27 Q816.821 1465.74 817.7 1464.01 Q818.603 1462.25 818.603 1460.56 Q818.603 1457.8 816.659 1456.07 Q814.738 1454.33 811.636 1454.33 Q809.437 1454.33 806.983 1455.09 Q804.552 1455.86 801.775 1457.41 L801.775 1452.69 Q804.599 1451.55 807.052 1450.97 Q809.506 1450.39 811.543 1450.39 Q816.913 1450.39 820.108 1453.08 Q823.302 1455.77 823.302 1460.26 Q823.302 1462.39 822.492 1464.31 Q821.705 1466.2 819.599 1468.8 Q819.02 1469.47 815.918 1472.69 Q812.816 1475.88 807.168 1481.64 Z\" fill=\"#000000\" fill-rule=\"nonzero\" fill-opacity=\"1\" /><path clip-path=\"url(#clip070)\" d=\"M833.349 1451.02 L851.705 1451.02 L851.705 1454.96 L837.631 1454.96 L837.631 1463.43 Q838.649 1463.08 839.668 1462.92 Q840.686 1462.73 841.705 1462.73 Q847.492 1462.73 850.872 1465.9 Q854.251 1469.08 854.251 1474.49 Q854.251 1480.07 850.779 1483.17 Q847.307 1486.25 840.987 1486.25 Q838.811 1486.25 836.543 1485.88 Q834.298 1485.51 831.89 1484.77 L831.89 1480.07 Q833.974 1481.2 836.196 1481.76 Q838.418 1482.32 840.895 1482.32 Q844.899 1482.32 847.237 1480.21 Q849.575 1478.1 849.575 1474.49 Q849.575 1470.88 847.237 1468.77 Q844.899 1466.67 840.895 1466.67 Q839.02 1466.67 837.145 1467.08 Q835.293 1467.5 833.349 1468.38 L833.349 1451.02 Z\" fill=\"#000000\" fill-rule=\"nonzero\" fill-opacity=\"1\" /><path clip-path=\"url(#clip070)\" d=\"M1263.45 1454.1 Q1259.84 1454.1 1258.01 1457.66 Q1256.21 1461.2 1256.21 1468.33 Q1256.21 1475.44 1258.01 1479.01 Q1259.84 1482.55 1263.45 1482.55 Q1267.09 1482.55 1268.89 1479.01 Q1270.72 1475.44 1270.72 1468.33 Q1270.72 1461.2 1268.89 1457.66 Q1267.09 1454.1 1263.45 1454.1 M1263.45 1450.39 Q1269.26 1450.39 1272.32 1455 Q1275.4 1459.58 1275.4 1468.33 Q1275.4 1477.06 1272.32 1481.67 Q1269.26 1486.25 1263.45 1486.25 Q1257.64 1486.25 1254.56 1481.67 Q1251.51 1477.06 1251.51 1468.33 Q1251.51 1459.58 1254.56 1455 Q1257.64 1450.39 1263.45 1450.39 Z\" fill=\"#000000\" fill-rule=\"nonzero\" fill-opacity=\"1\" /><path clip-path=\"url(#clip070)\" d=\"M1283.61 1479.7 L1288.5 1479.7 L1288.5 1485.58 L1283.61 1485.58 L1283.61 1479.7 Z\" fill=\"#000000\" fill-rule=\"nonzero\" fill-opacity=\"1\" /><path clip-path=\"url(#clip070)\" d=\"M1298.73 1451.02 L1317.09 1451.02 L1317.09 1454.96 L1303.01 1454.96 L1303.01 1463.43 Q1304.03 1463.08 1305.05 1462.92 Q1306.07 1462.73 1307.09 1462.73 Q1312.87 1462.73 1316.25 1465.9 Q1319.63 1469.08 1319.63 1474.49 Q1319.63 1480.07 1316.16 1483.17 Q1312.69 1486.25 1306.37 1486.25 Q1304.19 1486.25 1301.92 1485.88 Q1299.68 1485.51 1297.27 1484.77 L1297.27 1480.07 Q1299.35 1481.2 1301.58 1481.76 Q1303.8 1482.32 1306.28 1482.32 Q1310.28 1482.32 1312.62 1480.21 Q1314.96 1478.1 1314.96 1474.49 Q1314.96 1470.88 1312.62 1468.77 Q1310.28 1466.67 1306.28 1466.67 Q1304.4 1466.67 1302.53 1467.08 Q1300.67 1467.5 1298.73 1468.38 L1298.73 1451.02 Z\" fill=\"#000000\" fill-rule=\"nonzero\" fill-opacity=\"1\" /><path clip-path=\"url(#clip070)\" d=\"M1338.85 1454.1 Q1335.23 1454.1 1333.41 1457.66 Q1331.6 1461.2 1331.6 1468.33 Q1331.6 1475.44 1333.41 1479.01 Q1335.23 1482.55 1338.85 1482.55 Q1342.48 1482.55 1344.29 1479.01 Q1346.11 1475.44 1346.11 1468.33 Q1346.11 1461.2 1344.29 1457.66 Q1342.48 1454.1 1338.85 1454.1 M1338.85 1450.39 Q1344.66 1450.39 1347.71 1455 Q1350.79 1459.58 1350.79 1468.33 Q1350.79 1477.06 1347.71 1481.67 Q1344.66 1486.25 1338.85 1486.25 Q1333.04 1486.25 1329.96 1481.67 Q1326.9 1477.06 1326.9 1468.33 Q1326.9 1459.58 1329.96 1455 Q1333.04 1450.39 1338.85 1450.39 Z\" fill=\"#000000\" fill-rule=\"nonzero\" fill-opacity=\"1\" /><path clip-path=\"url(#clip070)\" d=\"M1759.99 1454.1 Q1756.38 1454.1 1754.55 1457.66 Q1752.75 1461.2 1752.75 1468.33 Q1752.75 1475.44 1754.55 1479.01 Q1756.38 1482.55 1759.99 1482.55 Q1763.63 1482.55 1765.43 1479.01 Q1767.26 1475.44 1767.26 1468.33 Q1767.26 1461.2 1765.43 1457.66 Q1763.63 1454.1 1759.99 1454.1 M1759.99 1450.39 Q1765.8 1450.39 1768.86 1455 Q1771.94 1459.58 1771.94 1468.33 Q1771.94 1477.06 1768.86 1481.67 Q1765.8 1486.25 1759.99 1486.25 Q1754.18 1486.25 1751.1 1481.67 Q1748.05 1477.06 1748.05 1468.33 Q1748.05 1459.58 1751.1 1455 Q1754.18 1450.39 1759.99 1450.39 Z\" fill=\"#000000\" fill-rule=\"nonzero\" fill-opacity=\"1\" /><path clip-path=\"url(#clip070)\" d=\"M1780.15 1479.7 L1785.04 1479.7 L1785.04 1485.58 L1780.15 1485.58 L1780.15 1479.7 Z\" fill=\"#000000\" fill-rule=\"nonzero\" fill-opacity=\"1\" /><path clip-path=\"url(#clip070)\" d=\"M1794.04 1451.02 L1816.26 1451.02 L1816.26 1453.01 L1803.72 1485.58 L1798.83 1485.58 L1810.64 1454.96 L1794.04 1454.96 L1794.04 1451.02 Z\" fill=\"#000000\" fill-rule=\"nonzero\" fill-opacity=\"1\" /><path clip-path=\"url(#clip070)\" d=\"M1825.43 1451.02 L1843.79 1451.02 L1843.79 1454.96 L1829.71 1454.96 L1829.71 1463.43 Q1830.73 1463.08 1831.75 1462.92 Q1832.77 1462.73 1833.79 1462.73 Q1839.57 1462.73 1842.95 1465.9 Q1846.33 1469.08 1846.33 1474.49 Q1846.33 1480.07 1842.86 1483.17 Q1839.39 1486.25 1833.07 1486.25 Q1830.89 1486.25 1828.62 1485.88 Q1826.38 1485.51 1823.97 1484.77 L1823.97 1480.07 Q1826.06 1481.2 1828.28 1481.76 Q1830.5 1482.32 1832.98 1482.32 Q1836.98 1482.32 1839.32 1480.21 Q1841.66 1478.1 1841.66 1474.49 Q1841.66 1470.88 1839.32 1468.77 Q1836.98 1466.67 1832.98 1466.67 Q1831.1 1466.67 1829.23 1467.08 Q1827.38 1467.5 1825.43 1468.38 L1825.43 1451.02 Z\" fill=\"#000000\" fill-rule=\"nonzero\" fill-opacity=\"1\" /><path clip-path=\"url(#clip070)\" d=\"M2245.3 1481.64 L2252.94 1481.64 L2252.94 1455.28 L2244.63 1456.95 L2244.63 1452.69 L2252.9 1451.02 L2257.57 1451.02 L2257.57 1481.64 L2265.21 1481.64 L2265.21 1485.58 L2245.3 1485.58 L2245.3 1481.64 Z\" fill=\"#000000\" fill-rule=\"nonzero\" fill-opacity=\"1\" /><path clip-path=\"url(#clip070)\" d=\"M2274.65 1479.7 L2279.54 1479.7 L2279.54 1485.58 L2274.65 1485.58 L2274.65 1479.7 Z\" fill=\"#000000\" fill-rule=\"nonzero\" fill-opacity=\"1\" /><path clip-path=\"url(#clip070)\" d=\"M2299.72 1454.1 Q2296.11 1454.1 2294.28 1457.66 Q2292.48 1461.2 2292.48 1468.33 Q2292.48 1475.44 2294.28 1479.01 Q2296.11 1482.55 2299.72 1482.55 Q2303.36 1482.55 2305.16 1479.01 Q2306.99 1475.44 2306.99 1468.33 Q2306.99 1461.2 2305.16 1457.66 Q2303.36 1454.1 2299.72 1454.1 M2299.72 1450.39 Q2305.53 1450.39 2308.59 1455 Q2311.67 1459.58 2311.67 1468.33 Q2311.67 1477.06 2308.59 1481.67 Q2305.53 1486.25 2299.72 1486.25 Q2293.91 1486.25 2290.84 1481.67 Q2287.78 1477.06 2287.78 1468.33 Q2287.78 1459.58 2290.84 1455 Q2293.91 1450.39 2299.72 1450.39 Z\" fill=\"#000000\" fill-rule=\"nonzero\" fill-opacity=\"1\" /><path clip-path=\"url(#clip070)\" d=\"M2329.89 1454.1 Q2326.27 1454.1 2324.45 1457.66 Q2322.64 1461.2 2322.64 1468.33 Q2322.64 1475.44 2324.45 1479.01 Q2326.27 1482.55 2329.89 1482.55 Q2333.52 1482.55 2335.33 1479.01 Q2337.15 1475.44 2337.15 1468.33 Q2337.15 1461.2 2335.33 1457.66 Q2333.52 1454.1 2329.89 1454.1 M2329.89 1450.39 Q2335.7 1450.39 2338.75 1455 Q2341.83 1459.58 2341.83 1468.33 Q2341.83 1477.06 2338.75 1481.67 Q2335.7 1486.25 2329.89 1486.25 Q2324.08 1486.25 2321 1481.67 Q2317.94 1477.06 2317.94 1468.33 Q2317.94 1459.58 2321 1455 Q2324.08 1450.39 2329.89 1450.39 Z\" fill=\"#000000\" fill-rule=\"nonzero\" fill-opacity=\"1\" /><path clip-path=\"url(#clip070)\" d=\"M1145.32 1536.5 Q1140.61 1536.5 1137.87 1540.19 Q1135.13 1543.85 1135.13 1550.25 Q1135.13 1556.65 1137.84 1560.34 Q1140.57 1564 1145.32 1564 Q1150 1564 1152.73 1560.31 Q1155.47 1556.62 1155.47 1550.25 Q1155.47 1543.92 1152.73 1540.23 Q1150 1536.5 1145.32 1536.5 M1145.32 1531.54 Q1152.96 1531.54 1157.32 1536.5 Q1161.68 1541.47 1161.68 1550.25 Q1161.68 1559 1157.32 1564 Q1152.96 1568.97 1145.32 1568.97 Q1137.65 1568.97 1133.29 1564 Q1128.96 1559 1128.96 1550.25 Q1128.96 1541.47 1133.29 1536.5 Q1137.65 1531.54 1145.32 1531.54 Z\" fill=\"#000000\" fill-rule=\"nonzero\" fill-opacity=\"1\" /><path clip-path=\"url(#clip070)\" d=\"M1189.43 1518.52 L1189.43 1523.39 L1183.83 1523.39 Q1180.68 1523.39 1179.44 1524.66 Q1178.23 1525.93 1178.23 1529.24 L1178.23 1532.4 L1187.87 1532.4 L1187.87 1536.95 L1178.23 1536.95 L1178.23 1568.04 L1172.34 1568.04 L1172.34 1536.95 L1166.74 1536.95 L1166.74 1532.4 L1172.34 1532.4 L1172.34 1529.91 Q1172.34 1523.96 1175.11 1521.26 Q1177.88 1518.52 1183.89 1518.52 L1189.43 1518.52 Z\" fill=\"#000000\" fill-rule=\"nonzero\" fill-opacity=\"1\" /><path clip-path=\"url(#clip070)\" d=\"M1212.38 1518.52 L1212.38 1523.39 L1206.78 1523.39 Q1203.63 1523.39 1202.39 1524.66 Q1201.18 1525.93 1201.18 1529.24 L1201.18 1532.4 L1210.82 1532.4 L1210.82 1536.95 L1201.18 1536.95 L1201.18 1568.04 L1195.29 1568.04 L1195.29 1536.95 L1189.69 1536.95 L1189.69 1532.4 L1195.29 1532.4 L1195.29 1529.91 Q1195.29 1523.96 1198.06 1521.26 Q1200.83 1518.52 1206.84 1518.52 L1212.38 1518.52 Z\" fill=\"#000000\" fill-rule=\"nonzero\" fill-opacity=\"1\" /><path clip-path=\"url(#clip070)\" d=\"M1247.77 1548.76 L1247.77 1551.62 L1220.85 1551.62 Q1221.23 1557.67 1224.47 1560.85 Q1227.75 1564 1233.58 1564 Q1236.95 1564 1240.1 1563.17 Q1243.28 1562.35 1246.4 1560.69 L1246.4 1566.23 Q1243.25 1567.57 1239.94 1568.27 Q1236.63 1568.97 1233.23 1568.97 Q1224.7 1568.97 1219.7 1564 Q1214.73 1559.04 1214.73 1550.57 Q1214.73 1541.82 1219.45 1536.69 Q1224.19 1531.54 1232.21 1531.54 Q1239.4 1531.54 1243.57 1536.18 Q1247.77 1540.8 1247.77 1548.76 M1241.92 1547.04 Q1241.85 1542.23 1239.21 1539.37 Q1236.6 1536.5 1232.27 1536.5 Q1227.37 1536.5 1224.41 1539.27 Q1221.48 1542.04 1221.04 1547.07 L1241.92 1547.04 Z\" fill=\"#000000\" fill-rule=\"nonzero\" fill-opacity=\"1\" /><path clip-path=\"url(#clip070)\" d=\"M1278.04 1537.87 Q1277.05 1537.3 1275.88 1537.04 Q1274.73 1536.76 1273.33 1536.76 Q1268.37 1536.76 1265.69 1540 Q1263.05 1543.22 1263.05 1549.27 L1263.05 1568.04 L1257.16 1568.04 L1257.16 1532.4 L1263.05 1532.4 L1263.05 1537.93 Q1264.9 1534.69 1267.86 1533.13 Q1270.82 1531.54 1275.05 1531.54 Q1275.65 1531.54 1276.39 1531.63 Q1277.12 1531.7 1278.01 1531.85 L1278.04 1537.87 Z\" fill=\"#000000\" fill-rule=\"nonzero\" fill-opacity=\"1\" /><path clip-path=\"url(#clip070)\" d=\"M1300.7 1532.4 L1306.91 1532.4 L1318.05 1562.31 L1329.19 1532.4 L1335.4 1532.4 L1322.03 1568.04 L1314.07 1568.04 L1300.7 1532.4 Z\" fill=\"#000000\" fill-rule=\"nonzero\" fill-opacity=\"1\" /><path clip-path=\"url(#clip070)\" d=\"M1359.68 1550.12 Q1352.58 1550.12 1349.85 1551.75 Q1347.11 1553.37 1347.11 1557.29 Q1347.11 1560.4 1349.15 1562.25 Q1351.22 1564.07 1354.75 1564.07 Q1359.62 1564.07 1362.55 1560.63 Q1365.51 1557.16 1365.51 1551.43 L1365.51 1550.12 L1359.68 1550.12 M1371.36 1547.71 L1371.36 1568.04 L1365.51 1568.04 L1365.51 1562.63 Q1363.5 1565.88 1360.51 1567.44 Q1357.52 1568.97 1353.19 1568.97 Q1347.71 1568.97 1344.47 1565.91 Q1341.25 1562.82 1341.25 1557.67 Q1341.25 1551.65 1345.26 1548.6 Q1349.31 1545.54 1357.29 1545.54 L1365.51 1545.54 L1365.51 1544.97 Q1365.51 1540.93 1362.83 1538.73 Q1360.19 1536.5 1355.38 1536.5 Q1352.33 1536.5 1349.43 1537.23 Q1346.54 1537.97 1343.86 1539.43 L1343.86 1534.02 Q1347.08 1532.78 1350.1 1532.17 Q1353.12 1531.54 1355.99 1531.54 Q1363.72 1531.54 1367.54 1535.55 Q1371.36 1539.56 1371.36 1547.71 Z\" fill=\"#000000\" fill-rule=\"nonzero\" fill-opacity=\"1\" /><path clip-path=\"url(#clip070)\" d=\"M1383.43 1518.52 L1389.28 1518.52 L1389.28 1568.04 L1383.43 1568.04 L1383.43 1518.52 Z\" fill=\"#000000\" fill-rule=\"nonzero\" fill-opacity=\"1\" /><path clip-path=\"url(#clip070)\" d=\"M1400.93 1553.98 L1400.93 1532.4 L1406.79 1532.4 L1406.79 1553.75 Q1406.79 1558.81 1408.76 1561.36 Q1410.73 1563.87 1414.68 1563.87 Q1419.42 1563.87 1422.16 1560.85 Q1424.93 1557.83 1424.93 1552.61 L1424.93 1532.4 L1430.79 1532.4 L1430.79 1568.04 L1424.93 1568.04 L1424.93 1562.57 Q1422.8 1565.82 1419.96 1567.41 Q1417.16 1568.97 1413.44 1568.97 Q1407.3 1568.97 1404.11 1565.15 Q1400.93 1561.33 1400.93 1553.98 M1415.67 1531.54 L1415.67 1531.54 Z\" fill=\"#000000\" fill-rule=\"nonzero\" fill-opacity=\"1\" /><path clip-path=\"url(#clip070)\" d=\"M1473.34 1548.76 L1473.34 1551.62 L1446.41 1551.62 Q1446.8 1557.67 1450.04 1560.85 Q1453.32 1564 1459.15 1564 Q1462.52 1564 1465.67 1563.17 Q1468.85 1562.35 1471.97 1560.69 L1471.97 1566.23 Q1468.82 1567.57 1465.51 1568.27 Q1462.2 1568.97 1458.8 1568.97 Q1450.27 1568.97 1445.27 1564 Q1440.3 1559.04 1440.3 1550.57 Q1440.3 1541.82 1445.01 1536.69 Q1449.76 1531.54 1457.78 1531.54 Q1464.97 1531.54 1469.14 1536.18 Q1473.34 1540.8 1473.34 1548.76 M1467.48 1547.04 Q1467.42 1542.23 1464.78 1539.37 Q1462.17 1536.5 1457.84 1536.5 Q1452.94 1536.5 1449.98 1539.27 Q1447.05 1542.04 1446.61 1547.07 L1467.48 1547.04 Z\" fill=\"#000000\" fill-rule=\"nonzero\" fill-opacity=\"1\" /><polyline clip-path=\"url(#clip072)\" style=\"stroke:#000000; stroke-linecap:round; stroke-linejoin:round; stroke-width:2; stroke-opacity:0.1; fill:none\" points=\"249.542,1386.4 2352.76,1386.4 \"/>\n",
       "<polyline clip-path=\"url(#clip072)\" style=\"stroke:#000000; stroke-linecap:round; stroke-linejoin:round; stroke-width:2; stroke-opacity:0.1; fill:none\" points=\"249.542,1079.86 2352.76,1079.86 \"/>\n",
       "<polyline clip-path=\"url(#clip072)\" style=\"stroke:#000000; stroke-linecap:round; stroke-linejoin:round; stroke-width:2; stroke-opacity:0.1; fill:none\" points=\"249.542,773.326 2352.76,773.326 \"/>\n",
       "<polyline clip-path=\"url(#clip072)\" style=\"stroke:#000000; stroke-linecap:round; stroke-linejoin:round; stroke-width:2; stroke-opacity:0.1; fill:none\" points=\"249.542,466.791 2352.76,466.791 \"/>\n",
       "<polyline clip-path=\"url(#clip072)\" style=\"stroke:#000000; stroke-linecap:round; stroke-linejoin:round; stroke-width:2; stroke-opacity:0.1; fill:none\" points=\"249.542,160.256 2352.76,160.256 \"/>\n",
       "<polyline clip-path=\"url(#clip070)\" style=\"stroke:#000000; stroke-linecap:round; stroke-linejoin:round; stroke-width:4; stroke-opacity:1; fill:none\" points=\"249.542,1423.18 249.542,123.472 \"/>\n",
       "<polyline clip-path=\"url(#clip070)\" style=\"stroke:#000000; stroke-linecap:round; stroke-linejoin:round; stroke-width:4; stroke-opacity:1; fill:none\" points=\"249.542,1386.4 268.44,1386.4 \"/>\n",
       "<polyline clip-path=\"url(#clip070)\" style=\"stroke:#000000; stroke-linecap:round; stroke-linejoin:round; stroke-width:4; stroke-opacity:1; fill:none\" points=\"249.542,1079.86 268.44,1079.86 \"/>\n",
       "<polyline clip-path=\"url(#clip070)\" style=\"stroke:#000000; stroke-linecap:round; stroke-linejoin:round; stroke-width:4; stroke-opacity:1; fill:none\" points=\"249.542,773.326 268.44,773.326 \"/>\n",
       "<polyline clip-path=\"url(#clip070)\" style=\"stroke:#000000; stroke-linecap:round; stroke-linejoin:round; stroke-width:4; stroke-opacity:1; fill:none\" points=\"249.542,466.791 268.44,466.791 \"/>\n",
       "<polyline clip-path=\"url(#clip070)\" style=\"stroke:#000000; stroke-linecap:round; stroke-linejoin:round; stroke-width:4; stroke-opacity:1; fill:none\" points=\"249.542,160.256 268.44,160.256 \"/>\n",
       "<path clip-path=\"url(#clip070)\" d=\"M126.205 1372.19 Q122.593 1372.19 120.765 1375.76 Q118.959 1379.3 118.959 1386.43 Q118.959 1393.54 120.765 1397.1 Q122.593 1400.64 126.205 1400.64 Q129.839 1400.64 131.644 1397.1 Q133.473 1393.54 133.473 1386.43 Q133.473 1379.3 131.644 1375.76 Q129.839 1372.19 126.205 1372.19 M126.205 1368.49 Q132.015 1368.49 135.07 1373.1 Q138.149 1377.68 138.149 1386.43 Q138.149 1395.16 135.07 1399.76 Q132.015 1404.35 126.205 1404.35 Q120.394 1404.35 117.316 1399.76 Q114.26 1395.16 114.26 1386.43 Q114.26 1377.68 117.316 1373.1 Q120.394 1368.49 126.205 1368.49 Z\" fill=\"#000000\" fill-rule=\"nonzero\" fill-opacity=\"1\" /><path clip-path=\"url(#clip070)\" d=\"M146.366 1397.8 L151.251 1397.8 L151.251 1403.68 L146.366 1403.68 L146.366 1397.8 Z\" fill=\"#000000\" fill-rule=\"nonzero\" fill-opacity=\"1\" /><path clip-path=\"url(#clip070)\" d=\"M171.436 1372.19 Q167.825 1372.19 165.996 1375.76 Q164.19 1379.3 164.19 1386.43 Q164.19 1393.54 165.996 1397.1 Q167.825 1400.64 171.436 1400.64 Q175.07 1400.64 176.876 1397.1 Q178.704 1393.54 178.704 1386.43 Q178.704 1379.3 176.876 1375.76 Q175.07 1372.19 171.436 1372.19 M171.436 1368.49 Q177.246 1368.49 180.301 1373.1 Q183.38 1377.68 183.38 1386.43 Q183.38 1395.16 180.301 1399.76 Q177.246 1404.35 171.436 1404.35 Q165.626 1404.35 162.547 1399.76 Q159.491 1395.16 159.491 1386.43 Q159.491 1377.68 162.547 1373.1 Q165.626 1368.49 171.436 1368.49 Z\" fill=\"#000000\" fill-rule=\"nonzero\" fill-opacity=\"1\" /><path clip-path=\"url(#clip070)\" d=\"M201.598 1372.19 Q197.987 1372.19 196.158 1375.76 Q194.352 1379.3 194.352 1386.43 Q194.352 1393.54 196.158 1397.1 Q197.987 1400.64 201.598 1400.64 Q205.232 1400.64 207.037 1397.1 Q208.866 1393.54 208.866 1386.43 Q208.866 1379.3 207.037 1375.76 Q205.232 1372.19 201.598 1372.19 M201.598 1368.49 Q207.408 1368.49 210.463 1373.1 Q213.542 1377.68 213.542 1386.43 Q213.542 1395.16 210.463 1399.76 Q207.408 1404.35 201.598 1404.35 Q195.787 1404.35 192.709 1399.76 Q189.653 1395.16 189.653 1386.43 Q189.653 1377.68 192.709 1373.1 Q195.787 1368.49 201.598 1368.49 Z\" fill=\"#000000\" fill-rule=\"nonzero\" fill-opacity=\"1\" /><path clip-path=\"url(#clip070)\" d=\"M127.2 1065.66 Q123.589 1065.66 121.76 1069.22 Q119.955 1072.77 119.955 1079.9 Q119.955 1087 121.76 1090.57 Q123.589 1094.11 127.2 1094.11 Q130.834 1094.11 132.64 1090.57 Q134.468 1087 134.468 1079.9 Q134.468 1072.77 132.64 1069.22 Q130.834 1065.66 127.2 1065.66 M127.2 1061.96 Q133.01 1061.96 136.066 1066.56 Q139.144 1071.15 139.144 1079.9 Q139.144 1088.62 136.066 1093.23 Q133.01 1097.81 127.2 1097.81 Q121.39 1097.81 118.311 1093.23 Q115.256 1088.62 115.256 1079.9 Q115.256 1071.15 118.311 1066.56 Q121.39 1061.96 127.2 1061.96 Z\" fill=\"#000000\" fill-rule=\"nonzero\" fill-opacity=\"1\" /><path clip-path=\"url(#clip070)\" d=\"M147.362 1091.26 L152.246 1091.26 L152.246 1097.14 L147.362 1097.14 L147.362 1091.26 Z\" fill=\"#000000\" fill-rule=\"nonzero\" fill-opacity=\"1\" /><path clip-path=\"url(#clip070)\" d=\"M166.459 1093.21 L182.778 1093.21 L182.778 1097.14 L160.834 1097.14 L160.834 1093.21 Q163.496 1090.45 168.079 1085.82 Q172.686 1081.17 173.866 1079.83 Q176.112 1077.3 176.991 1075.57 Q177.894 1073.81 177.894 1072.12 Q177.894 1069.36 175.95 1067.63 Q174.028 1065.89 170.927 1065.89 Q168.727 1065.89 166.274 1066.65 Q163.843 1067.42 161.065 1068.97 L161.065 1064.25 Q163.89 1063.11 166.343 1062.53 Q168.797 1061.96 170.834 1061.96 Q176.204 1061.96 179.399 1064.64 Q182.593 1067.33 182.593 1071.82 Q182.593 1073.95 181.783 1075.87 Q180.996 1077.77 178.889 1080.36 Q178.311 1081.03 175.209 1084.25 Q172.107 1087.44 166.459 1093.21 Z\" fill=\"#000000\" fill-rule=\"nonzero\" fill-opacity=\"1\" /><path clip-path=\"url(#clip070)\" d=\"M192.639 1062.58 L210.996 1062.58 L210.996 1066.52 L196.922 1066.52 L196.922 1074.99 Q197.94 1074.64 198.959 1074.48 Q199.977 1074.29 200.996 1074.29 Q206.783 1074.29 210.162 1077.47 Q213.542 1080.64 213.542 1086.05 Q213.542 1091.63 210.07 1094.73 Q206.598 1097.81 200.278 1097.81 Q198.102 1097.81 195.834 1097.44 Q193.588 1097.07 191.181 1096.33 L191.181 1091.63 Q193.264 1092.77 195.487 1093.32 Q197.709 1093.88 200.186 1093.88 Q204.19 1093.88 206.528 1091.77 Q208.866 1089.66 208.866 1086.05 Q208.866 1082.44 206.528 1080.34 Q204.19 1078.23 200.186 1078.23 Q198.311 1078.23 196.436 1078.65 Q194.584 1079.06 192.639 1079.94 L192.639 1062.58 Z\" fill=\"#000000\" fill-rule=\"nonzero\" fill-opacity=\"1\" /><path clip-path=\"url(#clip070)\" d=\"M126.205 759.125 Q122.593 759.125 120.765 762.689 Q118.959 766.231 118.959 773.361 Q118.959 780.467 120.765 784.032 Q122.593 787.574 126.205 787.574 Q129.839 787.574 131.644 784.032 Q133.473 780.467 133.473 773.361 Q133.473 766.231 131.644 762.689 Q129.839 759.125 126.205 759.125 M126.205 755.421 Q132.015 755.421 135.07 760.027 Q138.149 764.611 138.149 773.361 Q138.149 782.088 135.07 786.694 Q132.015 791.277 126.205 791.277 Q120.394 791.277 117.316 786.694 Q114.26 782.088 114.26 773.361 Q114.26 764.611 117.316 760.027 Q120.394 755.421 126.205 755.421 Z\" fill=\"#000000\" fill-rule=\"nonzero\" fill-opacity=\"1\" /><path clip-path=\"url(#clip070)\" d=\"M146.366 784.726 L151.251 784.726 L151.251 790.606 L146.366 790.606 L146.366 784.726 Z\" fill=\"#000000\" fill-rule=\"nonzero\" fill-opacity=\"1\" /><path clip-path=\"url(#clip070)\" d=\"M161.482 756.046 L179.839 756.046 L179.839 759.981 L165.765 759.981 L165.765 768.453 Q166.783 768.106 167.802 767.944 Q168.82 767.759 169.839 767.759 Q175.626 767.759 179.005 770.93 Q182.385 774.101 182.385 779.518 Q182.385 785.097 178.913 788.199 Q175.44 791.277 169.121 791.277 Q166.945 791.277 164.677 790.907 Q162.431 790.537 160.024 789.796 L160.024 785.097 Q162.107 786.231 164.329 786.787 Q166.552 787.342 169.028 787.342 Q173.033 787.342 175.371 785.236 Q177.709 783.129 177.709 779.518 Q177.709 775.907 175.371 773.801 Q173.033 771.694 169.028 771.694 Q167.153 771.694 165.278 772.111 Q163.427 772.527 161.482 773.407 L161.482 756.046 Z\" fill=\"#000000\" fill-rule=\"nonzero\" fill-opacity=\"1\" /><path clip-path=\"url(#clip070)\" d=\"M201.598 759.125 Q197.987 759.125 196.158 762.689 Q194.352 766.231 194.352 773.361 Q194.352 780.467 196.158 784.032 Q197.987 787.574 201.598 787.574 Q205.232 787.574 207.037 784.032 Q208.866 780.467 208.866 773.361 Q208.866 766.231 207.037 762.689 Q205.232 759.125 201.598 759.125 M201.598 755.421 Q207.408 755.421 210.463 760.027 Q213.542 764.611 213.542 773.361 Q213.542 782.088 210.463 786.694 Q207.408 791.277 201.598 791.277 Q195.787 791.277 192.709 786.694 Q189.653 782.088 189.653 773.361 Q189.653 764.611 192.709 760.027 Q195.787 755.421 201.598 755.421 Z\" fill=\"#000000\" fill-rule=\"nonzero\" fill-opacity=\"1\" /><path clip-path=\"url(#clip070)\" d=\"M127.2 452.59 Q123.589 452.59 121.76 456.155 Q119.955 459.696 119.955 466.826 Q119.955 473.932 121.76 477.497 Q123.589 481.039 127.2 481.039 Q130.834 481.039 132.64 477.497 Q134.468 473.932 134.468 466.826 Q134.468 459.696 132.64 456.155 Q130.834 452.59 127.2 452.59 M127.2 448.886 Q133.01 448.886 136.066 453.493 Q139.144 458.076 139.144 466.826 Q139.144 475.553 136.066 480.159 Q133.01 484.742 127.2 484.742 Q121.39 484.742 118.311 480.159 Q115.256 475.553 115.256 466.826 Q115.256 458.076 118.311 453.493 Q121.39 448.886 127.2 448.886 Z\" fill=\"#000000\" fill-rule=\"nonzero\" fill-opacity=\"1\" /><path clip-path=\"url(#clip070)\" d=\"M147.362 478.192 L152.246 478.192 L152.246 484.071 L147.362 484.071 L147.362 478.192 Z\" fill=\"#000000\" fill-rule=\"nonzero\" fill-opacity=\"1\" /><path clip-path=\"url(#clip070)\" d=\"M161.251 449.511 L183.473 449.511 L183.473 451.502 L170.927 484.071 L166.042 484.071 L177.848 453.446 L161.251 453.446 L161.251 449.511 Z\" fill=\"#000000\" fill-rule=\"nonzero\" fill-opacity=\"1\" /><path clip-path=\"url(#clip070)\" d=\"M192.639 449.511 L210.996 449.511 L210.996 453.446 L196.922 453.446 L196.922 461.918 Q197.94 461.571 198.959 461.409 Q199.977 461.224 200.996 461.224 Q206.783 461.224 210.162 464.395 Q213.542 467.567 213.542 472.983 Q213.542 478.562 210.07 481.664 Q206.598 484.742 200.278 484.742 Q198.102 484.742 195.834 484.372 Q193.588 484.002 191.181 483.261 L191.181 478.562 Q193.264 479.696 195.487 480.252 Q197.709 480.807 200.186 480.807 Q204.19 480.807 206.528 478.701 Q208.866 476.594 208.866 472.983 Q208.866 469.372 206.528 467.266 Q204.19 465.159 200.186 465.159 Q198.311 465.159 196.436 465.576 Q194.584 465.993 192.639 466.872 L192.639 449.511 Z\" fill=\"#000000\" fill-rule=\"nonzero\" fill-opacity=\"1\" /><path clip-path=\"url(#clip070)\" d=\"M117.015 173.601 L124.654 173.601 L124.654 147.236 L116.343 148.902 L116.343 144.643 L124.607 142.976 L129.283 142.976 L129.283 173.601 L136.922 173.601 L136.922 177.536 L117.015 177.536 L117.015 173.601 Z\" fill=\"#000000\" fill-rule=\"nonzero\" fill-opacity=\"1\" /><path clip-path=\"url(#clip070)\" d=\"M146.366 171.657 L151.251 171.657 L151.251 177.536 L146.366 177.536 L146.366 171.657 Z\" fill=\"#000000\" fill-rule=\"nonzero\" fill-opacity=\"1\" /><path clip-path=\"url(#clip070)\" d=\"M171.436 146.055 Q167.825 146.055 165.996 149.62 Q164.19 153.161 164.19 160.291 Q164.19 167.397 165.996 170.962 Q167.825 174.504 171.436 174.504 Q175.07 174.504 176.876 170.962 Q178.704 167.397 178.704 160.291 Q178.704 153.161 176.876 149.62 Q175.07 146.055 171.436 146.055 M171.436 142.351 Q177.246 142.351 180.301 146.958 Q183.38 151.541 183.38 160.291 Q183.38 169.018 180.301 173.624 Q177.246 178.208 171.436 178.208 Q165.626 178.208 162.547 173.624 Q159.491 169.018 159.491 160.291 Q159.491 151.541 162.547 146.958 Q165.626 142.351 171.436 142.351 Z\" fill=\"#000000\" fill-rule=\"nonzero\" fill-opacity=\"1\" /><path clip-path=\"url(#clip070)\" d=\"M201.598 146.055 Q197.987 146.055 196.158 149.62 Q194.352 153.161 194.352 160.291 Q194.352 167.397 196.158 170.962 Q197.987 174.504 201.598 174.504 Q205.232 174.504 207.037 170.962 Q208.866 167.397 208.866 160.291 Q208.866 153.161 207.037 149.62 Q205.232 146.055 201.598 146.055 M201.598 142.351 Q207.408 142.351 210.463 146.958 Q213.542 151.541 213.542 160.291 Q213.542 169.018 210.463 173.624 Q207.408 178.208 201.598 178.208 Q195.787 178.208 192.709 173.624 Q189.653 169.018 189.653 160.291 Q189.653 151.541 192.709 146.958 Q195.787 142.351 201.598 142.351 Z\" fill=\"#000000\" fill-rule=\"nonzero\" fill-opacity=\"1\" /><path clip-path=\"url(#clip070)\" d=\"M16.4842 987.23 L16.4842 959.921 L21.895 959.921 L21.895 980.8 L35.8996 980.8 L35.8996 961.958 L41.3104 961.958 L41.3104 980.8 L64.0042 980.8 L64.0042 987.23 L16.4842 987.23 Z\" fill=\"#000000\" fill-rule=\"nonzero\" fill-opacity=\"1\" /><path clip-path=\"url(#clip070)\" d=\"M14.5426 935.922 Q21.8632 940.187 29.0246 942.256 Q36.186 944.325 43.5384 944.325 Q50.8908 944.325 58.1159 942.256 Q65.3091 940.155 72.5979 935.922 L72.5979 941.015 Q65.1182 945.789 57.8931 948.176 Q50.668 950.531 43.5384 950.531 Q36.4406 950.531 29.2474 948.176 Q22.0542 945.821 14.5426 941.015 L14.5426 935.922 Z\" fill=\"#000000\" fill-rule=\"nonzero\" fill-opacity=\"1\" /><path clip-path=\"url(#clip070)\" d=\"M32.4621 910.746 Q32.4621 915.456 36.1542 918.194 Q39.8145 920.931 46.212 920.931 Q52.6095 920.931 56.3017 918.225 Q59.9619 915.488 59.9619 910.746 Q59.9619 906.067 56.2698 903.33 Q52.5777 900.592 46.212 900.592 Q39.8781 900.592 36.186 903.33 Q32.4621 906.067 32.4621 910.746 M27.4968 910.746 Q27.4968 903.107 32.4621 898.746 Q37.4273 894.386 46.212 894.386 Q54.9649 894.386 59.9619 898.746 Q64.9272 903.107 64.9272 910.746 Q64.9272 918.416 59.9619 922.777 Q54.9649 927.106 46.212 927.106 Q37.4273 927.106 32.4621 922.777 Q27.4968 918.416 27.4968 910.746 Z\" fill=\"#000000\" fill-rule=\"nonzero\" fill-opacity=\"1\" /><path clip-path=\"url(#clip070)\" d=\"M14.479 866.631 L19.3487 866.631 L19.3487 872.233 Q19.3487 875.384 20.6219 876.625 Q21.895 877.835 25.2052 877.835 L28.3562 877.835 L28.3562 868.191 L32.9077 868.191 L32.9077 877.835 L64.0042 877.835 L64.0042 883.723 L32.9077 883.723 L32.9077 889.325 L28.3562 889.325 L28.3562 883.723 L25.8736 883.723 Q19.9216 883.723 17.2162 880.954 Q14.479 878.185 14.479 872.169 L14.479 866.631 Z\" fill=\"#000000\" fill-rule=\"nonzero\" fill-opacity=\"1\" /><path clip-path=\"url(#clip070)\" d=\"M14.479 843.683 L19.3487 843.683 L19.3487 849.285 Q19.3487 852.436 20.6219 853.677 Q21.895 854.887 25.2052 854.887 L28.3562 854.887 L28.3562 845.243 L32.9077 845.243 L32.9077 854.887 L64.0042 854.887 L64.0042 860.775 L32.9077 860.775 L32.9077 866.377 L28.3562 866.377 L28.3562 860.775 L25.8736 860.775 Q19.9216 860.775 17.2162 858.006 Q14.479 855.237 14.479 849.221 L14.479 843.683 Z\" fill=\"#000000\" fill-rule=\"nonzero\" fill-opacity=\"1\" /><path clip-path=\"url(#clip070)\" d=\"M44.7161 808.29 L47.5806 808.29 L47.5806 835.217 Q53.6281 834.835 56.8109 831.588 Q59.9619 828.31 59.9619 822.485 Q59.9619 819.111 59.1344 815.96 Q58.3069 812.777 56.6518 809.658 L62.1899 809.658 Q63.5267 812.809 64.227 816.119 Q64.9272 819.43 64.9272 822.835 Q64.9272 831.365 59.9619 836.362 Q54.9967 841.328 46.5303 841.328 Q37.7774 841.328 32.6531 836.617 Q27.4968 831.875 27.4968 823.854 Q27.4968 816.661 32.1438 812.491 Q36.7589 808.29 44.7161 808.29 M42.9973 814.146 Q38.1912 814.21 35.3266 816.852 Q32.4621 819.461 32.4621 823.79 Q32.4621 828.692 35.2312 831.652 Q38.0002 834.58 43.0292 835.026 L42.9973 814.146 Z\" fill=\"#000000\" fill-rule=\"nonzero\" fill-opacity=\"1\" /><path clip-path=\"url(#clip070)\" d=\"M33.8307 778.021 Q33.2578 779.007 33.0032 780.185 Q32.7167 781.331 32.7167 782.731 Q32.7167 787.697 35.9632 790.37 Q39.1779 793.012 45.2253 793.012 L64.0042 793.012 L64.0042 798.9 L28.3562 798.9 L28.3562 793.012 L33.8944 793.012 Q30.6479 791.166 29.0883 788.206 Q27.4968 785.246 27.4968 781.013 Q27.4968 780.408 27.5923 779.676 Q27.656 778.944 27.8151 778.053 L33.8307 778.021 Z\" fill=\"#000000\" fill-rule=\"nonzero\" fill-opacity=\"1\" /><path clip-path=\"url(#clip070)\" d=\"M28.3562 755.359 L28.3562 749.152 L58.275 738.012 L28.3562 726.872 L28.3562 720.666 L64.0042 734.034 L64.0042 741.991 L28.3562 755.359 Z\" fill=\"#000000\" fill-rule=\"nonzero\" fill-opacity=\"1\" /><path clip-path=\"url(#clip070)\" d=\"M46.0847 696.381 Q46.0847 703.478 47.7079 706.216 Q49.3312 708.953 53.2461 708.953 Q56.3653 708.953 58.2114 706.916 Q60.0256 704.847 60.0256 701.314 Q60.0256 696.444 56.5881 693.516 Q53.1188 690.556 47.3897 690.556 L46.0847 690.556 L46.0847 696.381 M43.6657 684.699 L64.0042 684.699 L64.0042 690.556 L58.5933 690.556 Q61.8398 692.561 63.3994 695.553 Q64.9272 698.545 64.9272 702.874 Q64.9272 708.348 61.8716 711.595 Q58.7843 714.809 53.6281 714.809 Q47.6125 714.809 44.5569 710.799 Q41.5014 706.757 41.5014 698.768 L41.5014 690.556 L40.9285 690.556 Q36.8862 690.556 34.6901 693.229 Q32.4621 695.871 32.4621 700.677 Q32.4621 703.733 33.1941 706.629 Q33.9262 709.526 35.3903 712.199 L29.9795 712.199 Q28.7381 708.985 28.1334 705.961 Q27.4968 702.937 27.4968 700.073 Q27.4968 692.338 31.5072 688.519 Q35.5176 684.699 43.6657 684.699 Z\" fill=\"#000000\" fill-rule=\"nonzero\" fill-opacity=\"1\" /><path clip-path=\"url(#clip070)\" d=\"M14.479 672.636 L14.479 666.78 L64.0042 666.78 L64.0042 672.636 L14.479 672.636 Z\" fill=\"#000000\" fill-rule=\"nonzero\" fill-opacity=\"1\" /><path clip-path=\"url(#clip070)\" d=\"M49.9359 655.131 L28.3562 655.131 L28.3562 649.274 L49.7131 649.274 Q54.7739 649.274 57.3202 647.301 Q59.8346 645.328 59.8346 641.381 Q59.8346 636.638 56.8109 633.901 Q53.7872 631.132 48.5673 631.132 L28.3562 631.132 L28.3562 625.276 L64.0042 625.276 L64.0042 631.132 L58.5296 631.132 Q61.7762 633.265 63.3676 636.097 Q64.9272 638.898 64.9272 642.622 Q64.9272 648.765 61.1078 651.948 Q57.2883 655.131 49.9359 655.131 M27.4968 640.394 L27.4968 640.394 Z\" fill=\"#000000\" fill-rule=\"nonzero\" fill-opacity=\"1\" /><path clip-path=\"url(#clip070)\" d=\"M44.7161 582.721 L47.5806 582.721 L47.5806 609.648 Q53.6281 609.266 56.8109 606.019 Q59.9619 602.741 59.9619 596.916 Q59.9619 593.543 59.1344 590.391 Q58.3069 587.209 56.6518 584.089 L62.1899 584.089 Q63.5267 587.24 64.227 590.551 Q64.9272 593.861 64.9272 597.266 Q64.9272 605.796 59.9619 610.794 Q54.9967 615.759 46.5303 615.759 Q37.7774 615.759 32.6531 611.048 Q27.4968 606.306 27.4968 598.285 Q27.4968 591.092 32.1438 586.922 Q36.7589 582.721 44.7161 582.721 M42.9973 588.577 Q38.1912 588.641 35.3266 591.283 Q32.4621 593.893 32.4621 598.221 Q32.4621 603.123 35.2312 606.083 Q38.0002 609.011 43.0292 609.457 L42.9973 588.577 Z\" fill=\"#000000\" fill-rule=\"nonzero\" fill-opacity=\"1\" /><path clip-path=\"url(#clip070)\" d=\"M14.5426 574.032 L14.5426 568.939 Q22.0542 564.165 29.2474 561.809 Q36.4406 559.422 43.5384 559.422 Q50.668 559.422 57.8931 561.809 Q65.1182 564.165 72.5979 568.939 L72.5979 574.032 Q65.3091 569.798 58.1159 567.73 Q50.8908 565.629 43.5384 565.629 Q36.186 565.629 29.0246 567.73 Q21.8632 569.798 14.5426 574.032 Z\" fill=\"#000000\" fill-rule=\"nonzero\" fill-opacity=\"1\" /><path clip-path=\"url(#clip070)\" d=\"M1064.66 16.7545 L1064.66 25.383 Q1060.53 21.5346 1055.83 19.6307 Q1051.17 17.7268 1045.9 17.7268 Q1035.53 17.7268 1030.02 24.0867 Q1024.51 30.4061 1024.51 42.3968 Q1024.51 54.3469 1030.02 60.7069 Q1035.53 67.0263 1045.9 67.0263 Q1051.17 67.0263 1055.83 65.1223 Q1060.53 63.2184 1064.66 59.3701 L1064.66 67.9175 Q1060.36 70.8341 1055.54 72.2924 Q1050.76 73.7508 1045.42 73.7508 Q1031.68 73.7508 1023.78 65.3654 Q1015.88 56.9395 1015.88 42.3968 Q1015.88 27.8135 1023.78 19.4281 Q1031.68 11.0023 1045.42 11.0023 Q1050.84 11.0023 1055.62 12.4606 Q1060.44 13.8784 1064.66 16.7545 Z\" fill=\"#000000\" fill-rule=\"nonzero\" fill-opacity=\"1\" /><path clip-path=\"url(#clip070)\" d=\"M1085.48 18.8205 L1085.48 65.8515 L1095.36 65.8515 Q1107.88 65.8515 1113.67 60.1802 Q1119.51 54.509 1119.51 42.2752 Q1119.51 30.1225 1113.67 24.4918 Q1107.88 18.8205 1095.36 18.8205 L1085.48 18.8205 M1077.3 12.096 L1094.11 12.096 Q1111.69 12.096 1119.91 19.4281 Q1128.13 26.7198 1128.13 42.2752 Q1128.13 57.9117 1119.87 65.2439 Q1111.61 72.576 1094.11 72.576 L1077.3 72.576 L1077.3 12.096 Z\" fill=\"#000000\" fill-rule=\"nonzero\" fill-opacity=\"1\" /><path clip-path=\"url(#clip070)\" d=\"M1141.18 12.096 L1175.94 12.096 L1175.94 18.9825 L1149.36 18.9825 L1149.36 36.8065 L1173.34 36.8065 L1173.34 43.6931 L1149.36 43.6931 L1149.36 72.576 L1141.18 72.576 L1141.18 12.096 Z\" fill=\"#000000\" fill-rule=\"nonzero\" fill-opacity=\"1\" /><path clip-path=\"url(#clip070)\" d=\"M1217.5 28.5427 L1217.5 35.5912 Q1214.34 33.9709 1210.94 33.1607 Q1207.53 32.3505 1203.89 32.3505 Q1198.34 32.3505 1195.54 34.0519 Q1192.79 35.7533 1192.79 39.156 Q1192.79 41.7486 1194.77 43.2475 Q1196.76 44.7058 1202.75 46.0426 L1205.3 46.6097 Q1213.24 48.3111 1216.57 51.4303 Q1219.93 54.509 1219.93 60.0587 Q1219.93 66.3781 1214.91 70.0644 Q1209.92 73.7508 1201.17 73.7508 Q1197.53 73.7508 1193.56 73.0216 Q1189.63 72.3329 1185.25 70.9151 L1185.25 63.2184 Q1189.38 65.3654 1193.39 66.4591 Q1197.41 67.5124 1201.33 67.5124 Q1206.6 67.5124 1209.44 65.73 Q1212.27 63.9071 1212.27 60.6258 Q1212.27 57.5877 1210.21 55.9673 Q1208.18 54.3469 1201.25 52.8481 L1198.66 52.2405 Q1191.73 50.7821 1188.66 47.7845 Q1185.58 44.7463 1185.58 39.4801 Q1185.58 33.0797 1190.11 29.5959 Q1194.65 26.1121 1203 26.1121 Q1207.13 26.1121 1210.77 26.7198 Q1214.42 27.3274 1217.5 28.5427 Z\" fill=\"#000000\" fill-rule=\"nonzero\" fill-opacity=\"1\" /><path clip-path=\"url(#clip070)\" d=\"M1275.75 32.4315 Q1269.75 32.4315 1266.27 37.1306 Q1262.79 41.7891 1262.79 49.9314 Q1262.79 58.0738 1266.23 62.7728 Q1269.71 67.4314 1275.75 67.4314 Q1281.7 67.4314 1285.19 62.7323 Q1288.67 58.0333 1288.67 49.9314 Q1288.67 41.8701 1285.19 37.1711 Q1281.7 32.4315 1275.75 32.4315 M1275.75 26.1121 Q1285.47 26.1121 1291.02 32.4315 Q1296.57 38.7509 1296.57 49.9314 Q1296.57 61.0714 1291.02 67.4314 Q1285.47 73.7508 1275.75 73.7508 Q1265.99 73.7508 1260.44 67.4314 Q1254.93 61.0714 1254.93 49.9314 Q1254.93 38.7509 1260.44 32.4315 Q1265.99 26.1121 1275.75 26.1121 Z\" fill=\"#000000\" fill-rule=\"nonzero\" fill-opacity=\"1\" /><path clip-path=\"url(#clip070)\" d=\"M1331.9 9.54393 L1331.9 15.7418 L1324.77 15.7418 Q1320.76 15.7418 1319.18 17.3622 Q1317.64 18.9825 1317.64 23.1955 L1317.64 27.2059 L1329.91 27.2059 L1329.91 32.9987 L1317.64 32.9987 L1317.64 72.576 L1310.14 72.576 L1310.14 32.9987 L1303.01 32.9987 L1303.01 27.2059 L1310.14 27.2059 L1310.14 24.0462 Q1310.14 16.471 1313.67 13.0277 Q1317.19 9.54393 1324.85 9.54393 L1331.9 9.54393 Z\" fill=\"#000000\" fill-rule=\"nonzero\" fill-opacity=\"1\" /><path clip-path=\"url(#clip070)\" d=\"M1356.44 12.096 L1407.61 12.096 L1407.61 18.9825 L1386.14 18.9825 L1386.14 72.576 L1377.91 72.576 L1377.91 18.9825 L1356.44 18.9825 L1356.44 12.096 Z\" fill=\"#000000\" fill-rule=\"nonzero\" fill-opacity=\"1\" /><path clip-path=\"url(#clip070)\" d=\"M1421.14 76.7889 Q1417.98 84.8907 1414.98 87.3618 Q1411.98 89.8329 1406.96 89.8329 L1401 89.8329 L1401 83.5945 L1405.38 83.5945 Q1408.46 83.5945 1410.16 82.1361 Q1411.86 80.6778 1413.93 75.2496 L1415.26 71.8468 L1396.91 27.2059 L1404.81 27.2059 L1418.99 62.6918 L1433.17 27.2059 L1441.07 27.2059 L1421.14 76.7889 Z\" fill=\"#000000\" fill-rule=\"nonzero\" fill-opacity=\"1\" /><path clip-path=\"url(#clip070)\" d=\"M1458.57 65.7705 L1458.57 89.8329 L1451.07 89.8329 L1451.07 27.2059 L1458.57 27.2059 L1458.57 34.0924 Q1460.92 30.0415 1464.48 28.0971 Q1468.09 26.1121 1473.07 26.1121 Q1481.33 26.1121 1486.48 32.6746 Q1491.66 39.2371 1491.66 49.9314 Q1491.66 60.6258 1486.48 67.1883 Q1481.33 73.7508 1473.07 73.7508 Q1468.09 73.7508 1464.48 71.8063 Q1460.92 69.8214 1458.57 65.7705 M1483.93 49.9314 Q1483.93 41.7081 1480.52 37.0496 Q1477.16 32.3505 1471.25 32.3505 Q1465.33 32.3505 1461.93 37.0496 Q1458.57 41.7081 1458.57 49.9314 Q1458.57 58.1548 1461.93 62.8538 Q1465.33 67.5124 1471.25 67.5124 Q1477.16 67.5124 1480.52 62.8538 Q1483.93 58.1548 1483.93 49.9314 Z\" fill=\"#000000\" fill-rule=\"nonzero\" fill-opacity=\"1\" /><path clip-path=\"url(#clip070)\" d=\"M1542.83 48.0275 L1542.83 51.6733 L1508.56 51.6733 Q1509.04 59.3701 1513.17 63.421 Q1517.35 67.4314 1524.76 67.4314 Q1529.05 67.4314 1533.06 66.3781 Q1537.11 65.3249 1541.08 63.2184 L1541.08 70.267 Q1537.07 71.9684 1532.86 72.8596 Q1528.65 73.7508 1524.31 73.7508 Q1513.46 73.7508 1507.1 67.4314 Q1500.78 61.1119 1500.78 50.3365 Q1500.78 39.1965 1506.77 32.6746 Q1512.81 26.1121 1523.02 26.1121 Q1532.17 26.1121 1537.48 32.0264 Q1542.83 37.9003 1542.83 48.0275 M1535.37 45.84 Q1535.29 39.7232 1531.93 36.0774 Q1528.61 32.4315 1523.1 32.4315 Q1516.86 32.4315 1513.09 35.9558 Q1509.37 39.4801 1508.8 45.8805 L1535.37 45.84 Z\" fill=\"#000000\" fill-rule=\"nonzero\" fill-opacity=\"1\" /><path clip-path=\"url(#clip070)\" d=\"M1583.98 28.5427 L1583.98 35.5912 Q1580.82 33.9709 1577.42 33.1607 Q1574.02 32.3505 1570.37 32.3505 Q1564.82 32.3505 1562.03 34.0519 Q1559.27 35.7533 1559.27 39.156 Q1559.27 41.7486 1561.26 43.2475 Q1563.24 44.7058 1569.24 46.0426 L1571.79 46.6097 Q1579.73 48.3111 1583.05 51.4303 Q1586.41 54.509 1586.41 60.0587 Q1586.41 66.3781 1581.39 70.0644 Q1576.41 73.7508 1567.66 73.7508 Q1564.01 73.7508 1560.04 73.0216 Q1556.11 72.3329 1551.74 70.9151 L1551.74 63.2184 Q1555.87 65.3654 1559.88 66.4591 Q1563.89 67.5124 1567.82 67.5124 Q1573.09 67.5124 1575.92 65.73 Q1578.76 63.9071 1578.76 60.6258 Q1578.76 57.5877 1576.69 55.9673 Q1574.67 54.3469 1567.74 52.8481 L1565.15 52.2405 Q1558.22 50.7821 1555.14 47.7845 Q1552.06 44.7463 1552.06 39.4801 Q1552.06 33.0797 1556.6 29.5959 Q1561.14 26.1121 1569.48 26.1121 Q1573.61 26.1121 1577.26 26.7198 Q1580.9 27.3274 1583.98 28.5427 Z\" fill=\"#000000\" fill-rule=\"nonzero\" fill-opacity=\"1\" /><polyline clip-path=\"url(#clip072)\" style=\"stroke:#009af9; stroke-linecap:round; stroke-linejoin:round; stroke-width:4; stroke-opacity:1; fill:none\" points=\"309.067,1386.4 312.296,1386.04 315.526,1385.66 318.755,1385.27 321.985,1384.87 351.846,1380.27 381.708,1373.79 411.569,1364.86 441.43,1352.84 459.376,1343.82 477.321,1333.27 495.267,1321.02 513.212,1306.92 528.385,1293.43 543.557,1278.43 558.73,1261.83 573.903,1243.58 590.384,1221.84 606.866,1198.05 623.348,1172.2 639.83,1144.3 655.024,1116.82 670.219,1087.7 685.414,1057.02 700.609,1024.89 716.899,988.98 733.189,951.736 749.48,913.369 765.77,874.108 803.518,781.102 841.266,687.954 858.039,647.392 874.812,607.734 891.584,569.235 908.357,532.129 923.066,500.897 937.774,471.011 952.482,442.569 967.191,415.65 983.227,388.105 999.263,362.486 1015.3,338.814 1031.34,317.084 1047.47,297.153 1063.6,279.105 1079.73,262.871 1095.86,248.363 1113.7,234.214 1131.53,221.91 1149.37,211.296 1167.2,202.214 1184.17,194.85 1201.14,188.595 1218.11,183.321 1235.08,178.907 1270.37,171.998 1305.66,167.44 1335.37,164.902 1365.07,163.199 1437.61,161.141 1504.05,160.52 1565.42,160.335 1627.59,160.277 1697.26,160.261 1760.39,160.257 1832.67,160.256 1899.6,160.256 1965.58,160.256 2029.64,160.256 2095.31,160.256 2167.27,160.256 2271.79,160.256 2293.23,160.256 \"/>\n",
       "<polyline clip-path=\"url(#clip072)\" style=\"stroke:#e26f46; stroke-linecap:round; stroke-linejoin:round; stroke-width:4; stroke-opacity:1; fill:none\" points=\"309.067,1386.4 321.985,1386.39 441.43,1386.13 513.212,1385.37 573.903,1383.58 606.866,1381.71 639.83,1378.79 670.219,1374.8 700.609,1369.07 733.189,1360.39 765.77,1348.29 784.644,1339.35 803.518,1328.79 822.392,1316.4 841.266,1302 858.039,1287.38 874.812,1270.92 891.584,1252.53 908.357,1232.12 923.066,1212.52 937.774,1191.3 952.482,1168.45 967.191,1143.98 983.227,1115.49 999.263,1085.17 1015.3,1053.12 1031.34,1019.46 1047.47,984.129 1063.6,947.492 1079.73,909.757 1095.86,871.144 1131.53,783.864 1167.2,696.246 1184.17,655.258 1201.14,615.116 1218.11,576.087 1235.08,538.418 1252.73,500.927 1270.37,465.348 1288.01,431.85 1305.66,400.559 1320.51,375.994 1335.37,353.082 1350.22,331.831 1365.07,312.23 1383.21,290.497 1401.34,271.103 1419.47,253.941 1437.61,238.879 1454.22,226.8 1470.83,216.238 1487.44,207.068 1504.05,199.162 1534.74,187.457 1565.42,178.874 1596.51,172.664 1627.59,168.344 1697.26,163.113 1760.39,161.265 1832.67,160.529 1899.6,160.329 1965.58,160.274 2029.64,160.26 2095.31,160.257 2167.27,160.256 2271.79,160.256 2293.23,160.256 \"/>\n",
       "<polyline clip-path=\"url(#clip072)\" style=\"stroke:#3da44d; stroke-linecap:round; stroke-linejoin:round; stroke-width:4; stroke-opacity:1; fill:none\" points=\"309.067,1386.4 321.985,1386.4 441.43,1386.4 513.212,1386.39 573.903,1386.39 639.83,1386.38 700.609,1386.33 765.77,1386.14 841.266,1385.4 908.357,1383.39 967.191,1379.13 999.263,1375.03 1031.34,1369.05 1063.6,1360.46 1095.86,1348.53 1113.7,1340.18 1131.53,1330.38 1149.37,1318.97 1167.2,1305.81 1184.17,1291.51 1201.14,1275.36 1218.11,1257.26 1235.08,1237.12 1252.73,1213.93 1270.37,1188.41 1288.01,1160.55 1305.66,1130.38 1320.51,1103.22 1335.37,1074.53 1350.22,1044.38 1365.07,1012.89 1383.21,972.782 1401.34,931.109 1419.47,888.167 1437.61,844.286 1470.83,762.63 1504.05,681.271 1519.4,644.426 1534.74,608.332 1550.08,573.185 1565.42,539.164 1580.96,506.013 1596.51,474.326 1612.05,444.224 1627.59,415.801 1645.01,386.03 1662.42,358.519 1679.84,333.29 1697.26,310.332 1713.04,291.454 1728.82,274.351 1744.61,258.954 1760.39,245.182 1778.46,231.286 1796.53,219.242 1814.6,208.891 1832.67,200.067 1849.4,193.116 1866.13,187.209 1882.87,182.225 1899.6,178.048 1932.59,171.776 1965.58,167.528 1997.61,164.795 2029.64,163.019 2095.31,161.175 2167.27,160.49 2271.79,160.268 2293.23,160.256 \"/>\n",
       "<polyline clip-path=\"url(#clip072)\" style=\"stroke:#c271d2; stroke-linecap:round; stroke-linejoin:round; stroke-width:4; stroke-opacity:1; fill:none\" points=\"309.067,1386.4 321.985,1386.4 441.43,1386.4 513.212,1386.4 573.903,1386.4 639.83,1386.4 700.609,1386.4 765.77,1386.4 841.266,1386.39 908.357,1386.39 967.191,1386.38 1031.34,1386.33 1095.86,1386.14 1167.2,1385.47 1235.08,1383.55 1270.37,1381.5 1305.66,1378.23 1335.37,1374.1 1365.07,1368.25 1383.21,1363.61 1401.34,1358 1419.47,1351.26 1437.61,1343.25 1454.22,1334.64 1470.83,1324.7 1487.44,1313.29 1504.05,1300.29 1519.4,1286.77 1534.74,1271.7 1550.08,1255.01 1565.42,1236.63 1580.96,1216.24 1596.51,1194.04 1612.05,1170.01 1627.59,1144.15 1645.01,1113.06 1662.42,1079.79 1679.84,1044.49 1697.26,1007.3 1713.04,972.152 1728.82,935.795 1744.61,898.427 1760.39,860.265 1796.53,771.13 1832.67,681.942 1849.4,641.448 1866.13,601.842 1882.87,563.38 1899.6,526.292 1916.09,491.272 1932.59,457.953 1949.08,426.47 1965.58,396.928 1981.6,370.169 1997.61,345.343 2013.63,322.459 2029.64,301.504 2046.06,281.983 2062.48,264.385 2078.9,248.63 2095.31,234.62 2113.3,221.145 2131.29,209.481 2149.28,199.468 2167.27,190.942 2193.4,180.875 2219.53,173.133 2245.66,167.281 2271.79,162.934 2277.15,162.197 2282.51,161.507 2287.87,160.861 2293.23,160.256 \"/>\n",
       "</svg>\n"
      ],
      "text/html": [
       "<?xml version=\"1.0\" encoding=\"utf-8\"?>\n",
       "<svg xmlns=\"http://www.w3.org/2000/svg\" xmlns:xlink=\"http://www.w3.org/1999/xlink\" width=\"600\" height=\"400\" viewBox=\"0 0 2400 1600\">\n",
       "<defs>\n",
       "  <clipPath id=\"clip120\">\n",
       "    <rect x=\"0\" y=\"0\" width=\"2400\" height=\"1600\"/>\n",
       "  </clipPath>\n",
       "</defs>\n",
       "<path clip-path=\"url(#clip120)\" d=\"M0 1600 L2400 1600 L2400 0 L0 0  Z\" fill=\"#ffffff\" fill-rule=\"evenodd\" fill-opacity=\"1\"/>\n",
       "<defs>\n",
       "  <clipPath id=\"clip121\">\n",
       "    <rect x=\"480\" y=\"0\" width=\"1681\" height=\"1600\"/>\n",
       "  </clipPath>\n",
       "</defs>\n",
       "<path clip-path=\"url(#clip120)\" d=\"M249.542 1423.18 L2352.76 1423.18 L2352.76 123.472 L249.542 123.472  Z\" fill=\"#ffffff\" fill-rule=\"evenodd\" fill-opacity=\"1\"/>\n",
       "<defs>\n",
       "  <clipPath id=\"clip122\">\n",
       "    <rect x=\"249\" y=\"123\" width=\"2104\" height=\"1301\"/>\n",
       "  </clipPath>\n",
       "</defs>\n",
       "<polyline clip-path=\"url(#clip122)\" style=\"stroke:#000000; stroke-linecap:round; stroke-linejoin:round; stroke-width:2; stroke-opacity:0.1; fill:none\" points=\"309.067,1423.18 309.067,123.472 \"/>\n",
       "<polyline clip-path=\"url(#clip122)\" style=\"stroke:#000000; stroke-linecap:round; stroke-linejoin:round; stroke-width:2; stroke-opacity:0.1; fill:none\" points=\"805.108,1423.18 805.108,123.472 \"/>\n",
       "<polyline clip-path=\"url(#clip122)\" style=\"stroke:#000000; stroke-linecap:round; stroke-linejoin:round; stroke-width:2; stroke-opacity:0.1; fill:none\" points=\"1301.15,1423.18 1301.15,123.472 \"/>\n",
       "<polyline clip-path=\"url(#clip122)\" style=\"stroke:#000000; stroke-linecap:round; stroke-linejoin:round; stroke-width:2; stroke-opacity:0.1; fill:none\" points=\"1797.19,1423.18 1797.19,123.472 \"/>\n",
       "<polyline clip-path=\"url(#clip122)\" style=\"stroke:#000000; stroke-linecap:round; stroke-linejoin:round; stroke-width:2; stroke-opacity:0.1; fill:none\" points=\"2293.23,1423.18 2293.23,123.472 \"/>\n",
       "<polyline clip-path=\"url(#clip120)\" style=\"stroke:#000000; stroke-linecap:round; stroke-linejoin:round; stroke-width:4; stroke-opacity:1; fill:none\" points=\"249.542,1423.18 2352.76,1423.18 \"/>\n",
       "<polyline clip-path=\"url(#clip120)\" style=\"stroke:#000000; stroke-linecap:round; stroke-linejoin:round; stroke-width:4; stroke-opacity:1; fill:none\" points=\"309.067,1423.18 309.067,1404.28 \"/>\n",
       "<polyline clip-path=\"url(#clip120)\" style=\"stroke:#000000; stroke-linecap:round; stroke-linejoin:round; stroke-width:4; stroke-opacity:1; fill:none\" points=\"805.108,1423.18 805.108,1404.28 \"/>\n",
       "<polyline clip-path=\"url(#clip120)\" style=\"stroke:#000000; stroke-linecap:round; stroke-linejoin:round; stroke-width:4; stroke-opacity:1; fill:none\" points=\"1301.15,1423.18 1301.15,1404.28 \"/>\n",
       "<polyline clip-path=\"url(#clip120)\" style=\"stroke:#000000; stroke-linecap:round; stroke-linejoin:round; stroke-width:4; stroke-opacity:1; fill:none\" points=\"1797.19,1423.18 1797.19,1404.28 \"/>\n",
       "<polyline clip-path=\"url(#clip120)\" style=\"stroke:#000000; stroke-linecap:round; stroke-linejoin:round; stroke-width:4; stroke-opacity:1; fill:none\" points=\"2293.23,1423.18 2293.23,1404.28 \"/>\n",
       "<path clip-path=\"url(#clip120)\" d=\"M271.37 1454.1 Q267.759 1454.1 265.931 1457.66 Q264.125 1461.2 264.125 1468.33 Q264.125 1475.44 265.931 1479.01 Q267.759 1482.55 271.37 1482.55 Q275.005 1482.55 276.81 1479.01 Q278.639 1475.44 278.639 1468.33 Q278.639 1461.2 276.81 1457.66 Q275.005 1454.1 271.37 1454.1 M271.37 1450.39 Q277.181 1450.39 280.236 1455 Q283.315 1459.58 283.315 1468.33 Q283.315 1477.06 280.236 1481.67 Q277.181 1486.25 271.37 1486.25 Q265.56 1486.25 262.482 1481.67 Q259.426 1477.06 259.426 1468.33 Q259.426 1459.58 262.482 1455 Q265.56 1450.39 271.37 1450.39 Z\" fill=\"#000000\" fill-rule=\"nonzero\" fill-opacity=\"1\" /><path clip-path=\"url(#clip120)\" d=\"M291.532 1479.7 L296.417 1479.7 L296.417 1485.58 L291.532 1485.58 L291.532 1479.7 Z\" fill=\"#000000\" fill-rule=\"nonzero\" fill-opacity=\"1\" /><path clip-path=\"url(#clip120)\" d=\"M316.602 1454.1 Q312.991 1454.1 311.162 1457.66 Q309.356 1461.2 309.356 1468.33 Q309.356 1475.44 311.162 1479.01 Q312.991 1482.55 316.602 1482.55 Q320.236 1482.55 322.041 1479.01 Q323.87 1475.44 323.87 1468.33 Q323.87 1461.2 322.041 1457.66 Q320.236 1454.1 316.602 1454.1 M316.602 1450.39 Q322.412 1450.39 325.467 1455 Q328.546 1459.58 328.546 1468.33 Q328.546 1477.06 325.467 1481.67 Q322.412 1486.25 316.602 1486.25 Q310.791 1486.25 307.713 1481.67 Q304.657 1477.06 304.657 1468.33 Q304.657 1459.58 307.713 1455 Q310.791 1450.39 316.602 1450.39 Z\" fill=\"#000000\" fill-rule=\"nonzero\" fill-opacity=\"1\" /><path clip-path=\"url(#clip120)\" d=\"M346.764 1454.1 Q343.152 1454.1 341.324 1457.66 Q339.518 1461.2 339.518 1468.33 Q339.518 1475.44 341.324 1479.01 Q343.152 1482.55 346.764 1482.55 Q350.398 1482.55 352.203 1479.01 Q354.032 1475.44 354.032 1468.33 Q354.032 1461.2 352.203 1457.66 Q350.398 1454.1 346.764 1454.1 M346.764 1450.39 Q352.574 1450.39 355.629 1455 Q358.708 1459.58 358.708 1468.33 Q358.708 1477.06 355.629 1481.67 Q352.574 1486.25 346.764 1486.25 Q340.953 1486.25 337.875 1481.67 Q334.819 1477.06 334.819 1468.33 Q334.819 1459.58 337.875 1455 Q340.953 1450.39 346.764 1450.39 Z\" fill=\"#000000\" fill-rule=\"nonzero\" fill-opacity=\"1\" /><path clip-path=\"url(#clip120)\" d=\"M767.909 1454.1 Q764.298 1454.1 762.469 1457.66 Q760.664 1461.2 760.664 1468.33 Q760.664 1475.44 762.469 1479.01 Q764.298 1482.55 767.909 1482.55 Q771.543 1482.55 773.349 1479.01 Q775.178 1475.44 775.178 1468.33 Q775.178 1461.2 773.349 1457.66 Q771.543 1454.1 767.909 1454.1 M767.909 1450.39 Q773.719 1450.39 776.775 1455 Q779.853 1459.58 779.853 1468.33 Q779.853 1477.06 776.775 1481.67 Q773.719 1486.25 767.909 1486.25 Q762.099 1486.25 759.02 1481.67 Q755.965 1477.06 755.965 1468.33 Q755.965 1459.58 759.02 1455 Q762.099 1450.39 767.909 1450.39 Z\" fill=\"#000000\" fill-rule=\"nonzero\" fill-opacity=\"1\" /><path clip-path=\"url(#clip120)\" d=\"M788.071 1479.7 L792.955 1479.7 L792.955 1485.58 L788.071 1485.58 L788.071 1479.7 Z\" fill=\"#000000\" fill-rule=\"nonzero\" fill-opacity=\"1\" /><path clip-path=\"url(#clip120)\" d=\"M807.168 1481.64 L823.487 1481.64 L823.487 1485.58 L801.543 1485.58 L801.543 1481.64 Q804.205 1478.89 808.788 1474.26 Q813.395 1469.61 814.576 1468.27 Q816.821 1465.74 817.7 1464.01 Q818.603 1462.25 818.603 1460.56 Q818.603 1457.8 816.659 1456.07 Q814.738 1454.33 811.636 1454.33 Q809.437 1454.33 806.983 1455.09 Q804.552 1455.86 801.775 1457.41 L801.775 1452.69 Q804.599 1451.55 807.052 1450.97 Q809.506 1450.39 811.543 1450.39 Q816.913 1450.39 820.108 1453.08 Q823.302 1455.77 823.302 1460.26 Q823.302 1462.39 822.492 1464.31 Q821.705 1466.2 819.599 1468.8 Q819.02 1469.47 815.918 1472.69 Q812.816 1475.88 807.168 1481.64 Z\" fill=\"#000000\" fill-rule=\"nonzero\" fill-opacity=\"1\" /><path clip-path=\"url(#clip120)\" d=\"M833.349 1451.02 L851.705 1451.02 L851.705 1454.96 L837.631 1454.96 L837.631 1463.43 Q838.649 1463.08 839.668 1462.92 Q840.686 1462.73 841.705 1462.73 Q847.492 1462.73 850.872 1465.9 Q854.251 1469.08 854.251 1474.49 Q854.251 1480.07 850.779 1483.17 Q847.307 1486.25 840.987 1486.25 Q838.811 1486.25 836.543 1485.88 Q834.298 1485.51 831.89 1484.77 L831.89 1480.07 Q833.974 1481.2 836.196 1481.76 Q838.418 1482.32 840.895 1482.32 Q844.899 1482.32 847.237 1480.21 Q849.575 1478.1 849.575 1474.49 Q849.575 1470.88 847.237 1468.77 Q844.899 1466.67 840.895 1466.67 Q839.02 1466.67 837.145 1467.08 Q835.293 1467.5 833.349 1468.38 L833.349 1451.02 Z\" fill=\"#000000\" fill-rule=\"nonzero\" fill-opacity=\"1\" /><path clip-path=\"url(#clip120)\" d=\"M1263.45 1454.1 Q1259.84 1454.1 1258.01 1457.66 Q1256.21 1461.2 1256.21 1468.33 Q1256.21 1475.44 1258.01 1479.01 Q1259.84 1482.55 1263.45 1482.55 Q1267.09 1482.55 1268.89 1479.01 Q1270.72 1475.44 1270.72 1468.33 Q1270.72 1461.2 1268.89 1457.66 Q1267.09 1454.1 1263.45 1454.1 M1263.45 1450.39 Q1269.26 1450.39 1272.32 1455 Q1275.4 1459.58 1275.4 1468.33 Q1275.4 1477.06 1272.32 1481.67 Q1269.26 1486.25 1263.45 1486.25 Q1257.64 1486.25 1254.56 1481.67 Q1251.51 1477.06 1251.51 1468.33 Q1251.51 1459.58 1254.56 1455 Q1257.64 1450.39 1263.45 1450.39 Z\" fill=\"#000000\" fill-rule=\"nonzero\" fill-opacity=\"1\" /><path clip-path=\"url(#clip120)\" d=\"M1283.61 1479.7 L1288.5 1479.7 L1288.5 1485.58 L1283.61 1485.58 L1283.61 1479.7 Z\" fill=\"#000000\" fill-rule=\"nonzero\" fill-opacity=\"1\" /><path clip-path=\"url(#clip120)\" d=\"M1298.73 1451.02 L1317.09 1451.02 L1317.09 1454.96 L1303.01 1454.96 L1303.01 1463.43 Q1304.03 1463.08 1305.05 1462.92 Q1306.07 1462.73 1307.09 1462.73 Q1312.87 1462.73 1316.25 1465.9 Q1319.63 1469.08 1319.63 1474.49 Q1319.63 1480.07 1316.16 1483.17 Q1312.69 1486.25 1306.37 1486.25 Q1304.19 1486.25 1301.92 1485.88 Q1299.68 1485.51 1297.27 1484.77 L1297.27 1480.07 Q1299.35 1481.2 1301.58 1481.76 Q1303.8 1482.32 1306.28 1482.32 Q1310.28 1482.32 1312.62 1480.21 Q1314.96 1478.1 1314.96 1474.49 Q1314.96 1470.88 1312.62 1468.77 Q1310.28 1466.67 1306.28 1466.67 Q1304.4 1466.67 1302.53 1467.08 Q1300.67 1467.5 1298.73 1468.38 L1298.73 1451.02 Z\" fill=\"#000000\" fill-rule=\"nonzero\" fill-opacity=\"1\" /><path clip-path=\"url(#clip120)\" d=\"M1338.85 1454.1 Q1335.23 1454.1 1333.41 1457.66 Q1331.6 1461.2 1331.6 1468.33 Q1331.6 1475.44 1333.41 1479.01 Q1335.23 1482.55 1338.85 1482.55 Q1342.48 1482.55 1344.29 1479.01 Q1346.11 1475.44 1346.11 1468.33 Q1346.11 1461.2 1344.29 1457.66 Q1342.48 1454.1 1338.85 1454.1 M1338.85 1450.39 Q1344.66 1450.39 1347.71 1455 Q1350.79 1459.58 1350.79 1468.33 Q1350.79 1477.06 1347.71 1481.67 Q1344.66 1486.25 1338.85 1486.25 Q1333.04 1486.25 1329.96 1481.67 Q1326.9 1477.06 1326.9 1468.33 Q1326.9 1459.58 1329.96 1455 Q1333.04 1450.39 1338.85 1450.39 Z\" fill=\"#000000\" fill-rule=\"nonzero\" fill-opacity=\"1\" /><path clip-path=\"url(#clip120)\" d=\"M1759.99 1454.1 Q1756.38 1454.1 1754.55 1457.66 Q1752.75 1461.2 1752.75 1468.33 Q1752.75 1475.44 1754.55 1479.01 Q1756.38 1482.55 1759.99 1482.55 Q1763.63 1482.55 1765.43 1479.01 Q1767.26 1475.44 1767.26 1468.33 Q1767.26 1461.2 1765.43 1457.66 Q1763.63 1454.1 1759.99 1454.1 M1759.99 1450.39 Q1765.8 1450.39 1768.86 1455 Q1771.94 1459.58 1771.94 1468.33 Q1771.94 1477.06 1768.86 1481.67 Q1765.8 1486.25 1759.99 1486.25 Q1754.18 1486.25 1751.1 1481.67 Q1748.05 1477.06 1748.05 1468.33 Q1748.05 1459.58 1751.1 1455 Q1754.18 1450.39 1759.99 1450.39 Z\" fill=\"#000000\" fill-rule=\"nonzero\" fill-opacity=\"1\" /><path clip-path=\"url(#clip120)\" d=\"M1780.15 1479.7 L1785.04 1479.7 L1785.04 1485.58 L1780.15 1485.58 L1780.15 1479.7 Z\" fill=\"#000000\" fill-rule=\"nonzero\" fill-opacity=\"1\" /><path clip-path=\"url(#clip120)\" d=\"M1794.04 1451.02 L1816.26 1451.02 L1816.26 1453.01 L1803.72 1485.58 L1798.83 1485.58 L1810.64 1454.96 L1794.04 1454.96 L1794.04 1451.02 Z\" fill=\"#000000\" fill-rule=\"nonzero\" fill-opacity=\"1\" /><path clip-path=\"url(#clip120)\" d=\"M1825.43 1451.02 L1843.79 1451.02 L1843.79 1454.96 L1829.71 1454.96 L1829.71 1463.43 Q1830.73 1463.08 1831.75 1462.92 Q1832.77 1462.73 1833.79 1462.73 Q1839.57 1462.73 1842.95 1465.9 Q1846.33 1469.08 1846.33 1474.49 Q1846.33 1480.07 1842.86 1483.17 Q1839.39 1486.25 1833.07 1486.25 Q1830.89 1486.25 1828.62 1485.88 Q1826.38 1485.51 1823.97 1484.77 L1823.97 1480.07 Q1826.06 1481.2 1828.28 1481.76 Q1830.5 1482.32 1832.98 1482.32 Q1836.98 1482.32 1839.32 1480.21 Q1841.66 1478.1 1841.66 1474.49 Q1841.66 1470.88 1839.32 1468.77 Q1836.98 1466.67 1832.98 1466.67 Q1831.1 1466.67 1829.23 1467.08 Q1827.38 1467.5 1825.43 1468.38 L1825.43 1451.02 Z\" fill=\"#000000\" fill-rule=\"nonzero\" fill-opacity=\"1\" /><path clip-path=\"url(#clip120)\" d=\"M2245.3 1481.64 L2252.94 1481.64 L2252.94 1455.28 L2244.63 1456.95 L2244.63 1452.69 L2252.9 1451.02 L2257.57 1451.02 L2257.57 1481.64 L2265.21 1481.64 L2265.21 1485.58 L2245.3 1485.58 L2245.3 1481.64 Z\" fill=\"#000000\" fill-rule=\"nonzero\" fill-opacity=\"1\" /><path clip-path=\"url(#clip120)\" d=\"M2274.65 1479.7 L2279.54 1479.7 L2279.54 1485.58 L2274.65 1485.58 L2274.65 1479.7 Z\" fill=\"#000000\" fill-rule=\"nonzero\" fill-opacity=\"1\" /><path clip-path=\"url(#clip120)\" d=\"M2299.72 1454.1 Q2296.11 1454.1 2294.28 1457.66 Q2292.48 1461.2 2292.48 1468.33 Q2292.48 1475.44 2294.28 1479.01 Q2296.11 1482.55 2299.72 1482.55 Q2303.36 1482.55 2305.16 1479.01 Q2306.99 1475.44 2306.99 1468.33 Q2306.99 1461.2 2305.16 1457.66 Q2303.36 1454.1 2299.72 1454.1 M2299.72 1450.39 Q2305.53 1450.39 2308.59 1455 Q2311.67 1459.58 2311.67 1468.33 Q2311.67 1477.06 2308.59 1481.67 Q2305.53 1486.25 2299.72 1486.25 Q2293.91 1486.25 2290.84 1481.67 Q2287.78 1477.06 2287.78 1468.33 Q2287.78 1459.58 2290.84 1455 Q2293.91 1450.39 2299.72 1450.39 Z\" fill=\"#000000\" fill-rule=\"nonzero\" fill-opacity=\"1\" /><path clip-path=\"url(#clip120)\" d=\"M2329.89 1454.1 Q2326.27 1454.1 2324.45 1457.66 Q2322.64 1461.2 2322.64 1468.33 Q2322.64 1475.44 2324.45 1479.01 Q2326.27 1482.55 2329.89 1482.55 Q2333.52 1482.55 2335.33 1479.01 Q2337.15 1475.44 2337.15 1468.33 Q2337.15 1461.2 2335.33 1457.66 Q2333.52 1454.1 2329.89 1454.1 M2329.89 1450.39 Q2335.7 1450.39 2338.75 1455 Q2341.83 1459.58 2341.83 1468.33 Q2341.83 1477.06 2338.75 1481.67 Q2335.7 1486.25 2329.89 1486.25 Q2324.08 1486.25 2321 1481.67 Q2317.94 1477.06 2317.94 1468.33 Q2317.94 1459.58 2321 1455 Q2324.08 1450.39 2329.89 1450.39 Z\" fill=\"#000000\" fill-rule=\"nonzero\" fill-opacity=\"1\" /><path clip-path=\"url(#clip120)\" d=\"M1145.32 1536.5 Q1140.61 1536.5 1137.87 1540.19 Q1135.13 1543.85 1135.13 1550.25 Q1135.13 1556.65 1137.84 1560.34 Q1140.57 1564 1145.32 1564 Q1150 1564 1152.73 1560.31 Q1155.47 1556.62 1155.47 1550.25 Q1155.47 1543.92 1152.73 1540.23 Q1150 1536.5 1145.32 1536.5 M1145.32 1531.54 Q1152.96 1531.54 1157.32 1536.5 Q1161.68 1541.47 1161.68 1550.25 Q1161.68 1559 1157.32 1564 Q1152.96 1568.97 1145.32 1568.97 Q1137.65 1568.97 1133.29 1564 Q1128.96 1559 1128.96 1550.25 Q1128.96 1541.47 1133.29 1536.5 Q1137.65 1531.54 1145.32 1531.54 Z\" fill=\"#000000\" fill-rule=\"nonzero\" fill-opacity=\"1\" /><path clip-path=\"url(#clip120)\" d=\"M1189.43 1518.52 L1189.43 1523.39 L1183.83 1523.39 Q1180.68 1523.39 1179.44 1524.66 Q1178.23 1525.93 1178.23 1529.24 L1178.23 1532.4 L1187.87 1532.4 L1187.87 1536.95 L1178.23 1536.95 L1178.23 1568.04 L1172.34 1568.04 L1172.34 1536.95 L1166.74 1536.95 L1166.74 1532.4 L1172.34 1532.4 L1172.34 1529.91 Q1172.34 1523.96 1175.11 1521.26 Q1177.88 1518.52 1183.89 1518.52 L1189.43 1518.52 Z\" fill=\"#000000\" fill-rule=\"nonzero\" fill-opacity=\"1\" /><path clip-path=\"url(#clip120)\" d=\"M1212.38 1518.52 L1212.38 1523.39 L1206.78 1523.39 Q1203.63 1523.39 1202.39 1524.66 Q1201.18 1525.93 1201.18 1529.24 L1201.18 1532.4 L1210.82 1532.4 L1210.82 1536.95 L1201.18 1536.95 L1201.18 1568.04 L1195.29 1568.04 L1195.29 1536.95 L1189.69 1536.95 L1189.69 1532.4 L1195.29 1532.4 L1195.29 1529.91 Q1195.29 1523.96 1198.06 1521.26 Q1200.83 1518.52 1206.84 1518.52 L1212.38 1518.52 Z\" fill=\"#000000\" fill-rule=\"nonzero\" fill-opacity=\"1\" /><path clip-path=\"url(#clip120)\" d=\"M1247.77 1548.76 L1247.77 1551.62 L1220.85 1551.62 Q1221.23 1557.67 1224.47 1560.85 Q1227.75 1564 1233.58 1564 Q1236.95 1564 1240.1 1563.17 Q1243.28 1562.35 1246.4 1560.69 L1246.4 1566.23 Q1243.25 1567.57 1239.94 1568.27 Q1236.63 1568.97 1233.23 1568.97 Q1224.7 1568.97 1219.7 1564 Q1214.73 1559.04 1214.73 1550.57 Q1214.73 1541.82 1219.45 1536.69 Q1224.19 1531.54 1232.21 1531.54 Q1239.4 1531.54 1243.57 1536.18 Q1247.77 1540.8 1247.77 1548.76 M1241.92 1547.04 Q1241.85 1542.23 1239.21 1539.37 Q1236.6 1536.5 1232.27 1536.5 Q1227.37 1536.5 1224.41 1539.27 Q1221.48 1542.04 1221.04 1547.07 L1241.92 1547.04 Z\" fill=\"#000000\" fill-rule=\"nonzero\" fill-opacity=\"1\" /><path clip-path=\"url(#clip120)\" d=\"M1278.04 1537.87 Q1277.05 1537.3 1275.88 1537.04 Q1274.73 1536.76 1273.33 1536.76 Q1268.37 1536.76 1265.69 1540 Q1263.05 1543.22 1263.05 1549.27 L1263.05 1568.04 L1257.16 1568.04 L1257.16 1532.4 L1263.05 1532.4 L1263.05 1537.93 Q1264.9 1534.69 1267.86 1533.13 Q1270.82 1531.54 1275.05 1531.54 Q1275.65 1531.54 1276.39 1531.63 Q1277.12 1531.7 1278.01 1531.85 L1278.04 1537.87 Z\" fill=\"#000000\" fill-rule=\"nonzero\" fill-opacity=\"1\" /><path clip-path=\"url(#clip120)\" d=\"M1300.7 1532.4 L1306.91 1532.4 L1318.05 1562.31 L1329.19 1532.4 L1335.4 1532.4 L1322.03 1568.04 L1314.07 1568.04 L1300.7 1532.4 Z\" fill=\"#000000\" fill-rule=\"nonzero\" fill-opacity=\"1\" /><path clip-path=\"url(#clip120)\" d=\"M1359.68 1550.12 Q1352.58 1550.12 1349.85 1551.75 Q1347.11 1553.37 1347.11 1557.29 Q1347.11 1560.4 1349.15 1562.25 Q1351.22 1564.07 1354.75 1564.07 Q1359.62 1564.07 1362.55 1560.63 Q1365.51 1557.16 1365.51 1551.43 L1365.51 1550.12 L1359.68 1550.12 M1371.36 1547.71 L1371.36 1568.04 L1365.51 1568.04 L1365.51 1562.63 Q1363.5 1565.88 1360.51 1567.44 Q1357.52 1568.97 1353.19 1568.97 Q1347.71 1568.97 1344.47 1565.91 Q1341.25 1562.82 1341.25 1557.67 Q1341.25 1551.65 1345.26 1548.6 Q1349.31 1545.54 1357.29 1545.54 L1365.51 1545.54 L1365.51 1544.97 Q1365.51 1540.93 1362.83 1538.73 Q1360.19 1536.5 1355.38 1536.5 Q1352.33 1536.5 1349.43 1537.23 Q1346.54 1537.97 1343.86 1539.43 L1343.86 1534.02 Q1347.08 1532.78 1350.1 1532.17 Q1353.12 1531.54 1355.99 1531.54 Q1363.72 1531.54 1367.54 1535.55 Q1371.36 1539.56 1371.36 1547.71 Z\" fill=\"#000000\" fill-rule=\"nonzero\" fill-opacity=\"1\" /><path clip-path=\"url(#clip120)\" d=\"M1383.43 1518.52 L1389.28 1518.52 L1389.28 1568.04 L1383.43 1568.04 L1383.43 1518.52 Z\" fill=\"#000000\" fill-rule=\"nonzero\" fill-opacity=\"1\" /><path clip-path=\"url(#clip120)\" d=\"M1400.93 1553.98 L1400.93 1532.4 L1406.79 1532.4 L1406.79 1553.75 Q1406.79 1558.81 1408.76 1561.36 Q1410.73 1563.87 1414.68 1563.87 Q1419.42 1563.87 1422.16 1560.85 Q1424.93 1557.83 1424.93 1552.61 L1424.93 1532.4 L1430.79 1532.4 L1430.79 1568.04 L1424.93 1568.04 L1424.93 1562.57 Q1422.8 1565.82 1419.96 1567.41 Q1417.16 1568.97 1413.44 1568.97 Q1407.3 1568.97 1404.11 1565.15 Q1400.93 1561.33 1400.93 1553.98 M1415.67 1531.54 L1415.67 1531.54 Z\" fill=\"#000000\" fill-rule=\"nonzero\" fill-opacity=\"1\" /><path clip-path=\"url(#clip120)\" d=\"M1473.34 1548.76 L1473.34 1551.62 L1446.41 1551.62 Q1446.8 1557.67 1450.04 1560.85 Q1453.32 1564 1459.15 1564 Q1462.52 1564 1465.67 1563.17 Q1468.85 1562.35 1471.97 1560.69 L1471.97 1566.23 Q1468.82 1567.57 1465.51 1568.27 Q1462.2 1568.97 1458.8 1568.97 Q1450.27 1568.97 1445.27 1564 Q1440.3 1559.04 1440.3 1550.57 Q1440.3 1541.82 1445.01 1536.69 Q1449.76 1531.54 1457.78 1531.54 Q1464.97 1531.54 1469.14 1536.18 Q1473.34 1540.8 1473.34 1548.76 M1467.48 1547.04 Q1467.42 1542.23 1464.78 1539.37 Q1462.17 1536.5 1457.84 1536.5 Q1452.94 1536.5 1449.98 1539.27 Q1447.05 1542.04 1446.61 1547.07 L1467.48 1547.04 Z\" fill=\"#000000\" fill-rule=\"nonzero\" fill-opacity=\"1\" /><polyline clip-path=\"url(#clip122)\" style=\"stroke:#000000; stroke-linecap:round; stroke-linejoin:round; stroke-width:2; stroke-opacity:0.1; fill:none\" points=\"249.542,1386.4 2352.76,1386.4 \"/>\n",
       "<polyline clip-path=\"url(#clip122)\" style=\"stroke:#000000; stroke-linecap:round; stroke-linejoin:round; stroke-width:2; stroke-opacity:0.1; fill:none\" points=\"249.542,1079.86 2352.76,1079.86 \"/>\n",
       "<polyline clip-path=\"url(#clip122)\" style=\"stroke:#000000; stroke-linecap:round; stroke-linejoin:round; stroke-width:2; stroke-opacity:0.1; fill:none\" points=\"249.542,773.326 2352.76,773.326 \"/>\n",
       "<polyline clip-path=\"url(#clip122)\" style=\"stroke:#000000; stroke-linecap:round; stroke-linejoin:round; stroke-width:2; stroke-opacity:0.1; fill:none\" points=\"249.542,466.791 2352.76,466.791 \"/>\n",
       "<polyline clip-path=\"url(#clip122)\" style=\"stroke:#000000; stroke-linecap:round; stroke-linejoin:round; stroke-width:2; stroke-opacity:0.1; fill:none\" points=\"249.542,160.256 2352.76,160.256 \"/>\n",
       "<polyline clip-path=\"url(#clip120)\" style=\"stroke:#000000; stroke-linecap:round; stroke-linejoin:round; stroke-width:4; stroke-opacity:1; fill:none\" points=\"249.542,1423.18 249.542,123.472 \"/>\n",
       "<polyline clip-path=\"url(#clip120)\" style=\"stroke:#000000; stroke-linecap:round; stroke-linejoin:round; stroke-width:4; stroke-opacity:1; fill:none\" points=\"249.542,1386.4 268.44,1386.4 \"/>\n",
       "<polyline clip-path=\"url(#clip120)\" style=\"stroke:#000000; stroke-linecap:round; stroke-linejoin:round; stroke-width:4; stroke-opacity:1; fill:none\" points=\"249.542,1079.86 268.44,1079.86 \"/>\n",
       "<polyline clip-path=\"url(#clip120)\" style=\"stroke:#000000; stroke-linecap:round; stroke-linejoin:round; stroke-width:4; stroke-opacity:1; fill:none\" points=\"249.542,773.326 268.44,773.326 \"/>\n",
       "<polyline clip-path=\"url(#clip120)\" style=\"stroke:#000000; stroke-linecap:round; stroke-linejoin:round; stroke-width:4; stroke-opacity:1; fill:none\" points=\"249.542,466.791 268.44,466.791 \"/>\n",
       "<polyline clip-path=\"url(#clip120)\" style=\"stroke:#000000; stroke-linecap:round; stroke-linejoin:round; stroke-width:4; stroke-opacity:1; fill:none\" points=\"249.542,160.256 268.44,160.256 \"/>\n",
       "<path clip-path=\"url(#clip120)\" d=\"M126.205 1372.19 Q122.593 1372.19 120.765 1375.76 Q118.959 1379.3 118.959 1386.43 Q118.959 1393.54 120.765 1397.1 Q122.593 1400.64 126.205 1400.64 Q129.839 1400.64 131.644 1397.1 Q133.473 1393.54 133.473 1386.43 Q133.473 1379.3 131.644 1375.76 Q129.839 1372.19 126.205 1372.19 M126.205 1368.49 Q132.015 1368.49 135.07 1373.1 Q138.149 1377.68 138.149 1386.43 Q138.149 1395.16 135.07 1399.76 Q132.015 1404.35 126.205 1404.35 Q120.394 1404.35 117.316 1399.76 Q114.26 1395.16 114.26 1386.43 Q114.26 1377.68 117.316 1373.1 Q120.394 1368.49 126.205 1368.49 Z\" fill=\"#000000\" fill-rule=\"nonzero\" fill-opacity=\"1\" /><path clip-path=\"url(#clip120)\" d=\"M146.366 1397.8 L151.251 1397.8 L151.251 1403.68 L146.366 1403.68 L146.366 1397.8 Z\" fill=\"#000000\" fill-rule=\"nonzero\" fill-opacity=\"1\" /><path clip-path=\"url(#clip120)\" d=\"M171.436 1372.19 Q167.825 1372.19 165.996 1375.76 Q164.19 1379.3 164.19 1386.43 Q164.19 1393.54 165.996 1397.1 Q167.825 1400.64 171.436 1400.64 Q175.07 1400.64 176.876 1397.1 Q178.704 1393.54 178.704 1386.43 Q178.704 1379.3 176.876 1375.76 Q175.07 1372.19 171.436 1372.19 M171.436 1368.49 Q177.246 1368.49 180.301 1373.1 Q183.38 1377.68 183.38 1386.43 Q183.38 1395.16 180.301 1399.76 Q177.246 1404.35 171.436 1404.35 Q165.626 1404.35 162.547 1399.76 Q159.491 1395.16 159.491 1386.43 Q159.491 1377.68 162.547 1373.1 Q165.626 1368.49 171.436 1368.49 Z\" fill=\"#000000\" fill-rule=\"nonzero\" fill-opacity=\"1\" /><path clip-path=\"url(#clip120)\" d=\"M201.598 1372.19 Q197.987 1372.19 196.158 1375.76 Q194.352 1379.3 194.352 1386.43 Q194.352 1393.54 196.158 1397.1 Q197.987 1400.64 201.598 1400.64 Q205.232 1400.64 207.037 1397.1 Q208.866 1393.54 208.866 1386.43 Q208.866 1379.3 207.037 1375.76 Q205.232 1372.19 201.598 1372.19 M201.598 1368.49 Q207.408 1368.49 210.463 1373.1 Q213.542 1377.68 213.542 1386.43 Q213.542 1395.16 210.463 1399.76 Q207.408 1404.35 201.598 1404.35 Q195.787 1404.35 192.709 1399.76 Q189.653 1395.16 189.653 1386.43 Q189.653 1377.68 192.709 1373.1 Q195.787 1368.49 201.598 1368.49 Z\" fill=\"#000000\" fill-rule=\"nonzero\" fill-opacity=\"1\" /><path clip-path=\"url(#clip120)\" d=\"M127.2 1065.66 Q123.589 1065.66 121.76 1069.22 Q119.955 1072.77 119.955 1079.9 Q119.955 1087 121.76 1090.57 Q123.589 1094.11 127.2 1094.11 Q130.834 1094.11 132.64 1090.57 Q134.468 1087 134.468 1079.9 Q134.468 1072.77 132.64 1069.22 Q130.834 1065.66 127.2 1065.66 M127.2 1061.96 Q133.01 1061.96 136.066 1066.56 Q139.144 1071.15 139.144 1079.9 Q139.144 1088.62 136.066 1093.23 Q133.01 1097.81 127.2 1097.81 Q121.39 1097.81 118.311 1093.23 Q115.256 1088.62 115.256 1079.9 Q115.256 1071.15 118.311 1066.56 Q121.39 1061.96 127.2 1061.96 Z\" fill=\"#000000\" fill-rule=\"nonzero\" fill-opacity=\"1\" /><path clip-path=\"url(#clip120)\" d=\"M147.362 1091.26 L152.246 1091.26 L152.246 1097.14 L147.362 1097.14 L147.362 1091.26 Z\" fill=\"#000000\" fill-rule=\"nonzero\" fill-opacity=\"1\" /><path clip-path=\"url(#clip120)\" d=\"M166.459 1093.21 L182.778 1093.21 L182.778 1097.14 L160.834 1097.14 L160.834 1093.21 Q163.496 1090.45 168.079 1085.82 Q172.686 1081.17 173.866 1079.83 Q176.112 1077.3 176.991 1075.57 Q177.894 1073.81 177.894 1072.12 Q177.894 1069.36 175.95 1067.63 Q174.028 1065.89 170.927 1065.89 Q168.727 1065.89 166.274 1066.65 Q163.843 1067.42 161.065 1068.97 L161.065 1064.25 Q163.89 1063.11 166.343 1062.53 Q168.797 1061.96 170.834 1061.96 Q176.204 1061.96 179.399 1064.64 Q182.593 1067.33 182.593 1071.82 Q182.593 1073.95 181.783 1075.87 Q180.996 1077.77 178.889 1080.36 Q178.311 1081.03 175.209 1084.25 Q172.107 1087.44 166.459 1093.21 Z\" fill=\"#000000\" fill-rule=\"nonzero\" fill-opacity=\"1\" /><path clip-path=\"url(#clip120)\" d=\"M192.639 1062.58 L210.996 1062.58 L210.996 1066.52 L196.922 1066.52 L196.922 1074.99 Q197.94 1074.64 198.959 1074.48 Q199.977 1074.29 200.996 1074.29 Q206.783 1074.29 210.162 1077.47 Q213.542 1080.64 213.542 1086.05 Q213.542 1091.63 210.07 1094.73 Q206.598 1097.81 200.278 1097.81 Q198.102 1097.81 195.834 1097.44 Q193.588 1097.07 191.181 1096.33 L191.181 1091.63 Q193.264 1092.77 195.487 1093.32 Q197.709 1093.88 200.186 1093.88 Q204.19 1093.88 206.528 1091.77 Q208.866 1089.66 208.866 1086.05 Q208.866 1082.44 206.528 1080.34 Q204.19 1078.23 200.186 1078.23 Q198.311 1078.23 196.436 1078.65 Q194.584 1079.06 192.639 1079.94 L192.639 1062.58 Z\" fill=\"#000000\" fill-rule=\"nonzero\" fill-opacity=\"1\" /><path clip-path=\"url(#clip120)\" d=\"M126.205 759.125 Q122.593 759.125 120.765 762.689 Q118.959 766.231 118.959 773.361 Q118.959 780.467 120.765 784.032 Q122.593 787.574 126.205 787.574 Q129.839 787.574 131.644 784.032 Q133.473 780.467 133.473 773.361 Q133.473 766.231 131.644 762.689 Q129.839 759.125 126.205 759.125 M126.205 755.421 Q132.015 755.421 135.07 760.027 Q138.149 764.611 138.149 773.361 Q138.149 782.088 135.07 786.694 Q132.015 791.277 126.205 791.277 Q120.394 791.277 117.316 786.694 Q114.26 782.088 114.26 773.361 Q114.26 764.611 117.316 760.027 Q120.394 755.421 126.205 755.421 Z\" fill=\"#000000\" fill-rule=\"nonzero\" fill-opacity=\"1\" /><path clip-path=\"url(#clip120)\" d=\"M146.366 784.726 L151.251 784.726 L151.251 790.606 L146.366 790.606 L146.366 784.726 Z\" fill=\"#000000\" fill-rule=\"nonzero\" fill-opacity=\"1\" /><path clip-path=\"url(#clip120)\" d=\"M161.482 756.046 L179.839 756.046 L179.839 759.981 L165.765 759.981 L165.765 768.453 Q166.783 768.106 167.802 767.944 Q168.82 767.759 169.839 767.759 Q175.626 767.759 179.005 770.93 Q182.385 774.101 182.385 779.518 Q182.385 785.097 178.913 788.199 Q175.44 791.277 169.121 791.277 Q166.945 791.277 164.677 790.907 Q162.431 790.537 160.024 789.796 L160.024 785.097 Q162.107 786.231 164.329 786.787 Q166.552 787.342 169.028 787.342 Q173.033 787.342 175.371 785.236 Q177.709 783.129 177.709 779.518 Q177.709 775.907 175.371 773.801 Q173.033 771.694 169.028 771.694 Q167.153 771.694 165.278 772.111 Q163.427 772.527 161.482 773.407 L161.482 756.046 Z\" fill=\"#000000\" fill-rule=\"nonzero\" fill-opacity=\"1\" /><path clip-path=\"url(#clip120)\" d=\"M201.598 759.125 Q197.987 759.125 196.158 762.689 Q194.352 766.231 194.352 773.361 Q194.352 780.467 196.158 784.032 Q197.987 787.574 201.598 787.574 Q205.232 787.574 207.037 784.032 Q208.866 780.467 208.866 773.361 Q208.866 766.231 207.037 762.689 Q205.232 759.125 201.598 759.125 M201.598 755.421 Q207.408 755.421 210.463 760.027 Q213.542 764.611 213.542 773.361 Q213.542 782.088 210.463 786.694 Q207.408 791.277 201.598 791.277 Q195.787 791.277 192.709 786.694 Q189.653 782.088 189.653 773.361 Q189.653 764.611 192.709 760.027 Q195.787 755.421 201.598 755.421 Z\" fill=\"#000000\" fill-rule=\"nonzero\" fill-opacity=\"1\" /><path clip-path=\"url(#clip120)\" d=\"M127.2 452.59 Q123.589 452.59 121.76 456.155 Q119.955 459.696 119.955 466.826 Q119.955 473.932 121.76 477.497 Q123.589 481.039 127.2 481.039 Q130.834 481.039 132.64 477.497 Q134.468 473.932 134.468 466.826 Q134.468 459.696 132.64 456.155 Q130.834 452.59 127.2 452.59 M127.2 448.886 Q133.01 448.886 136.066 453.493 Q139.144 458.076 139.144 466.826 Q139.144 475.553 136.066 480.159 Q133.01 484.742 127.2 484.742 Q121.39 484.742 118.311 480.159 Q115.256 475.553 115.256 466.826 Q115.256 458.076 118.311 453.493 Q121.39 448.886 127.2 448.886 Z\" fill=\"#000000\" fill-rule=\"nonzero\" fill-opacity=\"1\" /><path clip-path=\"url(#clip120)\" d=\"M147.362 478.192 L152.246 478.192 L152.246 484.071 L147.362 484.071 L147.362 478.192 Z\" fill=\"#000000\" fill-rule=\"nonzero\" fill-opacity=\"1\" /><path clip-path=\"url(#clip120)\" d=\"M161.251 449.511 L183.473 449.511 L183.473 451.502 L170.927 484.071 L166.042 484.071 L177.848 453.446 L161.251 453.446 L161.251 449.511 Z\" fill=\"#000000\" fill-rule=\"nonzero\" fill-opacity=\"1\" /><path clip-path=\"url(#clip120)\" d=\"M192.639 449.511 L210.996 449.511 L210.996 453.446 L196.922 453.446 L196.922 461.918 Q197.94 461.571 198.959 461.409 Q199.977 461.224 200.996 461.224 Q206.783 461.224 210.162 464.395 Q213.542 467.567 213.542 472.983 Q213.542 478.562 210.07 481.664 Q206.598 484.742 200.278 484.742 Q198.102 484.742 195.834 484.372 Q193.588 484.002 191.181 483.261 L191.181 478.562 Q193.264 479.696 195.487 480.252 Q197.709 480.807 200.186 480.807 Q204.19 480.807 206.528 478.701 Q208.866 476.594 208.866 472.983 Q208.866 469.372 206.528 467.266 Q204.19 465.159 200.186 465.159 Q198.311 465.159 196.436 465.576 Q194.584 465.993 192.639 466.872 L192.639 449.511 Z\" fill=\"#000000\" fill-rule=\"nonzero\" fill-opacity=\"1\" /><path clip-path=\"url(#clip120)\" d=\"M117.015 173.601 L124.654 173.601 L124.654 147.236 L116.343 148.902 L116.343 144.643 L124.607 142.976 L129.283 142.976 L129.283 173.601 L136.922 173.601 L136.922 177.536 L117.015 177.536 L117.015 173.601 Z\" fill=\"#000000\" fill-rule=\"nonzero\" fill-opacity=\"1\" /><path clip-path=\"url(#clip120)\" d=\"M146.366 171.657 L151.251 171.657 L151.251 177.536 L146.366 177.536 L146.366 171.657 Z\" fill=\"#000000\" fill-rule=\"nonzero\" fill-opacity=\"1\" /><path clip-path=\"url(#clip120)\" d=\"M171.436 146.055 Q167.825 146.055 165.996 149.62 Q164.19 153.161 164.19 160.291 Q164.19 167.397 165.996 170.962 Q167.825 174.504 171.436 174.504 Q175.07 174.504 176.876 170.962 Q178.704 167.397 178.704 160.291 Q178.704 153.161 176.876 149.62 Q175.07 146.055 171.436 146.055 M171.436 142.351 Q177.246 142.351 180.301 146.958 Q183.38 151.541 183.38 160.291 Q183.38 169.018 180.301 173.624 Q177.246 178.208 171.436 178.208 Q165.626 178.208 162.547 173.624 Q159.491 169.018 159.491 160.291 Q159.491 151.541 162.547 146.958 Q165.626 142.351 171.436 142.351 Z\" fill=\"#000000\" fill-rule=\"nonzero\" fill-opacity=\"1\" /><path clip-path=\"url(#clip120)\" d=\"M201.598 146.055 Q197.987 146.055 196.158 149.62 Q194.352 153.161 194.352 160.291 Q194.352 167.397 196.158 170.962 Q197.987 174.504 201.598 174.504 Q205.232 174.504 207.037 170.962 Q208.866 167.397 208.866 160.291 Q208.866 153.161 207.037 149.62 Q205.232 146.055 201.598 146.055 M201.598 142.351 Q207.408 142.351 210.463 146.958 Q213.542 151.541 213.542 160.291 Q213.542 169.018 210.463 173.624 Q207.408 178.208 201.598 178.208 Q195.787 178.208 192.709 173.624 Q189.653 169.018 189.653 160.291 Q189.653 151.541 192.709 146.958 Q195.787 142.351 201.598 142.351 Z\" fill=\"#000000\" fill-rule=\"nonzero\" fill-opacity=\"1\" /><path clip-path=\"url(#clip120)\" d=\"M16.4842 987.23 L16.4842 959.921 L21.895 959.921 L21.895 980.8 L35.8996 980.8 L35.8996 961.958 L41.3104 961.958 L41.3104 980.8 L64.0042 980.8 L64.0042 987.23 L16.4842 987.23 Z\" fill=\"#000000\" fill-rule=\"nonzero\" fill-opacity=\"1\" /><path clip-path=\"url(#clip120)\" d=\"M14.5426 935.922 Q21.8632 940.187 29.0246 942.256 Q36.186 944.325 43.5384 944.325 Q50.8908 944.325 58.1159 942.256 Q65.3091 940.155 72.5979 935.922 L72.5979 941.015 Q65.1182 945.789 57.8931 948.176 Q50.668 950.531 43.5384 950.531 Q36.4406 950.531 29.2474 948.176 Q22.0542 945.821 14.5426 941.015 L14.5426 935.922 Z\" fill=\"#000000\" fill-rule=\"nonzero\" fill-opacity=\"1\" /><path clip-path=\"url(#clip120)\" d=\"M32.4621 910.746 Q32.4621 915.456 36.1542 918.194 Q39.8145 920.931 46.212 920.931 Q52.6095 920.931 56.3017 918.225 Q59.9619 915.488 59.9619 910.746 Q59.9619 906.067 56.2698 903.33 Q52.5777 900.592 46.212 900.592 Q39.8781 900.592 36.186 903.33 Q32.4621 906.067 32.4621 910.746 M27.4968 910.746 Q27.4968 903.107 32.4621 898.746 Q37.4273 894.386 46.212 894.386 Q54.9649 894.386 59.9619 898.746 Q64.9272 903.107 64.9272 910.746 Q64.9272 918.416 59.9619 922.777 Q54.9649 927.106 46.212 927.106 Q37.4273 927.106 32.4621 922.777 Q27.4968 918.416 27.4968 910.746 Z\" fill=\"#000000\" fill-rule=\"nonzero\" fill-opacity=\"1\" /><path clip-path=\"url(#clip120)\" d=\"M14.479 866.631 L19.3487 866.631 L19.3487 872.233 Q19.3487 875.384 20.6219 876.625 Q21.895 877.835 25.2052 877.835 L28.3562 877.835 L28.3562 868.191 L32.9077 868.191 L32.9077 877.835 L64.0042 877.835 L64.0042 883.723 L32.9077 883.723 L32.9077 889.325 L28.3562 889.325 L28.3562 883.723 L25.8736 883.723 Q19.9216 883.723 17.2162 880.954 Q14.479 878.185 14.479 872.169 L14.479 866.631 Z\" fill=\"#000000\" fill-rule=\"nonzero\" fill-opacity=\"1\" /><path clip-path=\"url(#clip120)\" d=\"M14.479 843.683 L19.3487 843.683 L19.3487 849.285 Q19.3487 852.436 20.6219 853.677 Q21.895 854.887 25.2052 854.887 L28.3562 854.887 L28.3562 845.243 L32.9077 845.243 L32.9077 854.887 L64.0042 854.887 L64.0042 860.775 L32.9077 860.775 L32.9077 866.377 L28.3562 866.377 L28.3562 860.775 L25.8736 860.775 Q19.9216 860.775 17.2162 858.006 Q14.479 855.237 14.479 849.221 L14.479 843.683 Z\" fill=\"#000000\" fill-rule=\"nonzero\" fill-opacity=\"1\" /><path clip-path=\"url(#clip120)\" d=\"M44.7161 808.29 L47.5806 808.29 L47.5806 835.217 Q53.6281 834.835 56.8109 831.588 Q59.9619 828.31 59.9619 822.485 Q59.9619 819.111 59.1344 815.96 Q58.3069 812.777 56.6518 809.658 L62.1899 809.658 Q63.5267 812.809 64.227 816.119 Q64.9272 819.43 64.9272 822.835 Q64.9272 831.365 59.9619 836.362 Q54.9967 841.328 46.5303 841.328 Q37.7774 841.328 32.6531 836.617 Q27.4968 831.875 27.4968 823.854 Q27.4968 816.661 32.1438 812.491 Q36.7589 808.29 44.7161 808.29 M42.9973 814.146 Q38.1912 814.21 35.3266 816.852 Q32.4621 819.461 32.4621 823.79 Q32.4621 828.692 35.2312 831.652 Q38.0002 834.58 43.0292 835.026 L42.9973 814.146 Z\" fill=\"#000000\" fill-rule=\"nonzero\" fill-opacity=\"1\" /><path clip-path=\"url(#clip120)\" d=\"M33.8307 778.021 Q33.2578 779.007 33.0032 780.185 Q32.7167 781.331 32.7167 782.731 Q32.7167 787.697 35.9632 790.37 Q39.1779 793.012 45.2253 793.012 L64.0042 793.012 L64.0042 798.9 L28.3562 798.9 L28.3562 793.012 L33.8944 793.012 Q30.6479 791.166 29.0883 788.206 Q27.4968 785.246 27.4968 781.013 Q27.4968 780.408 27.5923 779.676 Q27.656 778.944 27.8151 778.053 L33.8307 778.021 Z\" fill=\"#000000\" fill-rule=\"nonzero\" fill-opacity=\"1\" /><path clip-path=\"url(#clip120)\" d=\"M28.3562 755.359 L28.3562 749.152 L58.275 738.012 L28.3562 726.872 L28.3562 720.666 L64.0042 734.034 L64.0042 741.991 L28.3562 755.359 Z\" fill=\"#000000\" fill-rule=\"nonzero\" fill-opacity=\"1\" /><path clip-path=\"url(#clip120)\" d=\"M46.0847 696.381 Q46.0847 703.478 47.7079 706.216 Q49.3312 708.953 53.2461 708.953 Q56.3653 708.953 58.2114 706.916 Q60.0256 704.847 60.0256 701.314 Q60.0256 696.444 56.5881 693.516 Q53.1188 690.556 47.3897 690.556 L46.0847 690.556 L46.0847 696.381 M43.6657 684.699 L64.0042 684.699 L64.0042 690.556 L58.5933 690.556 Q61.8398 692.561 63.3994 695.553 Q64.9272 698.545 64.9272 702.874 Q64.9272 708.348 61.8716 711.595 Q58.7843 714.809 53.6281 714.809 Q47.6125 714.809 44.5569 710.799 Q41.5014 706.757 41.5014 698.768 L41.5014 690.556 L40.9285 690.556 Q36.8862 690.556 34.6901 693.229 Q32.4621 695.871 32.4621 700.677 Q32.4621 703.733 33.1941 706.629 Q33.9262 709.526 35.3903 712.199 L29.9795 712.199 Q28.7381 708.985 28.1334 705.961 Q27.4968 702.937 27.4968 700.073 Q27.4968 692.338 31.5072 688.519 Q35.5176 684.699 43.6657 684.699 Z\" fill=\"#000000\" fill-rule=\"nonzero\" fill-opacity=\"1\" /><path clip-path=\"url(#clip120)\" d=\"M14.479 672.636 L14.479 666.78 L64.0042 666.78 L64.0042 672.636 L14.479 672.636 Z\" fill=\"#000000\" fill-rule=\"nonzero\" fill-opacity=\"1\" /><path clip-path=\"url(#clip120)\" d=\"M49.9359 655.131 L28.3562 655.131 L28.3562 649.274 L49.7131 649.274 Q54.7739 649.274 57.3202 647.301 Q59.8346 645.328 59.8346 641.381 Q59.8346 636.638 56.8109 633.901 Q53.7872 631.132 48.5673 631.132 L28.3562 631.132 L28.3562 625.276 L64.0042 625.276 L64.0042 631.132 L58.5296 631.132 Q61.7762 633.265 63.3676 636.097 Q64.9272 638.898 64.9272 642.622 Q64.9272 648.765 61.1078 651.948 Q57.2883 655.131 49.9359 655.131 M27.4968 640.394 L27.4968 640.394 Z\" fill=\"#000000\" fill-rule=\"nonzero\" fill-opacity=\"1\" /><path clip-path=\"url(#clip120)\" d=\"M44.7161 582.721 L47.5806 582.721 L47.5806 609.648 Q53.6281 609.266 56.8109 606.019 Q59.9619 602.741 59.9619 596.916 Q59.9619 593.543 59.1344 590.391 Q58.3069 587.209 56.6518 584.089 L62.1899 584.089 Q63.5267 587.24 64.227 590.551 Q64.9272 593.861 64.9272 597.266 Q64.9272 605.796 59.9619 610.794 Q54.9967 615.759 46.5303 615.759 Q37.7774 615.759 32.6531 611.048 Q27.4968 606.306 27.4968 598.285 Q27.4968 591.092 32.1438 586.922 Q36.7589 582.721 44.7161 582.721 M42.9973 588.577 Q38.1912 588.641 35.3266 591.283 Q32.4621 593.893 32.4621 598.221 Q32.4621 603.123 35.2312 606.083 Q38.0002 609.011 43.0292 609.457 L42.9973 588.577 Z\" fill=\"#000000\" fill-rule=\"nonzero\" fill-opacity=\"1\" /><path clip-path=\"url(#clip120)\" d=\"M14.5426 574.032 L14.5426 568.939 Q22.0542 564.165 29.2474 561.809 Q36.4406 559.422 43.5384 559.422 Q50.668 559.422 57.8931 561.809 Q65.1182 564.165 72.5979 568.939 L72.5979 574.032 Q65.3091 569.798 58.1159 567.73 Q50.8908 565.629 43.5384 565.629 Q36.186 565.629 29.0246 567.73 Q21.8632 569.798 14.5426 574.032 Z\" fill=\"#000000\" fill-rule=\"nonzero\" fill-opacity=\"1\" /><path clip-path=\"url(#clip120)\" d=\"M1064.66 16.7545 L1064.66 25.383 Q1060.53 21.5346 1055.83 19.6307 Q1051.17 17.7268 1045.9 17.7268 Q1035.53 17.7268 1030.02 24.0867 Q1024.51 30.4061 1024.51 42.3968 Q1024.51 54.3469 1030.02 60.7069 Q1035.53 67.0263 1045.9 67.0263 Q1051.17 67.0263 1055.83 65.1223 Q1060.53 63.2184 1064.66 59.3701 L1064.66 67.9175 Q1060.36 70.8341 1055.54 72.2924 Q1050.76 73.7508 1045.42 73.7508 Q1031.68 73.7508 1023.78 65.3654 Q1015.88 56.9395 1015.88 42.3968 Q1015.88 27.8135 1023.78 19.4281 Q1031.68 11.0023 1045.42 11.0023 Q1050.84 11.0023 1055.62 12.4606 Q1060.44 13.8784 1064.66 16.7545 Z\" fill=\"#000000\" fill-rule=\"nonzero\" fill-opacity=\"1\" /><path clip-path=\"url(#clip120)\" d=\"M1085.48 18.8205 L1085.48 65.8515 L1095.36 65.8515 Q1107.88 65.8515 1113.67 60.1802 Q1119.51 54.509 1119.51 42.2752 Q1119.51 30.1225 1113.67 24.4918 Q1107.88 18.8205 1095.36 18.8205 L1085.48 18.8205 M1077.3 12.096 L1094.11 12.096 Q1111.69 12.096 1119.91 19.4281 Q1128.13 26.7198 1128.13 42.2752 Q1128.13 57.9117 1119.87 65.2439 Q1111.61 72.576 1094.11 72.576 L1077.3 72.576 L1077.3 12.096 Z\" fill=\"#000000\" fill-rule=\"nonzero\" fill-opacity=\"1\" /><path clip-path=\"url(#clip120)\" d=\"M1141.18 12.096 L1175.94 12.096 L1175.94 18.9825 L1149.36 18.9825 L1149.36 36.8065 L1173.34 36.8065 L1173.34 43.6931 L1149.36 43.6931 L1149.36 72.576 L1141.18 72.576 L1141.18 12.096 Z\" fill=\"#000000\" fill-rule=\"nonzero\" fill-opacity=\"1\" /><path clip-path=\"url(#clip120)\" d=\"M1217.5 28.5427 L1217.5 35.5912 Q1214.34 33.9709 1210.94 33.1607 Q1207.53 32.3505 1203.89 32.3505 Q1198.34 32.3505 1195.54 34.0519 Q1192.79 35.7533 1192.79 39.156 Q1192.79 41.7486 1194.77 43.2475 Q1196.76 44.7058 1202.75 46.0426 L1205.3 46.6097 Q1213.24 48.3111 1216.57 51.4303 Q1219.93 54.509 1219.93 60.0587 Q1219.93 66.3781 1214.91 70.0644 Q1209.92 73.7508 1201.17 73.7508 Q1197.53 73.7508 1193.56 73.0216 Q1189.63 72.3329 1185.25 70.9151 L1185.25 63.2184 Q1189.38 65.3654 1193.39 66.4591 Q1197.41 67.5124 1201.33 67.5124 Q1206.6 67.5124 1209.44 65.73 Q1212.27 63.9071 1212.27 60.6258 Q1212.27 57.5877 1210.21 55.9673 Q1208.18 54.3469 1201.25 52.8481 L1198.66 52.2405 Q1191.73 50.7821 1188.66 47.7845 Q1185.58 44.7463 1185.58 39.4801 Q1185.58 33.0797 1190.11 29.5959 Q1194.65 26.1121 1203 26.1121 Q1207.13 26.1121 1210.77 26.7198 Q1214.42 27.3274 1217.5 28.5427 Z\" fill=\"#000000\" fill-rule=\"nonzero\" fill-opacity=\"1\" /><path clip-path=\"url(#clip120)\" d=\"M1275.75 32.4315 Q1269.75 32.4315 1266.27 37.1306 Q1262.79 41.7891 1262.79 49.9314 Q1262.79 58.0738 1266.23 62.7728 Q1269.71 67.4314 1275.75 67.4314 Q1281.7 67.4314 1285.19 62.7323 Q1288.67 58.0333 1288.67 49.9314 Q1288.67 41.8701 1285.19 37.1711 Q1281.7 32.4315 1275.75 32.4315 M1275.75 26.1121 Q1285.47 26.1121 1291.02 32.4315 Q1296.57 38.7509 1296.57 49.9314 Q1296.57 61.0714 1291.02 67.4314 Q1285.47 73.7508 1275.75 73.7508 Q1265.99 73.7508 1260.44 67.4314 Q1254.93 61.0714 1254.93 49.9314 Q1254.93 38.7509 1260.44 32.4315 Q1265.99 26.1121 1275.75 26.1121 Z\" fill=\"#000000\" fill-rule=\"nonzero\" fill-opacity=\"1\" /><path clip-path=\"url(#clip120)\" d=\"M1331.9 9.54393 L1331.9 15.7418 L1324.77 15.7418 Q1320.76 15.7418 1319.18 17.3622 Q1317.64 18.9825 1317.64 23.1955 L1317.64 27.2059 L1329.91 27.2059 L1329.91 32.9987 L1317.64 32.9987 L1317.64 72.576 L1310.14 72.576 L1310.14 32.9987 L1303.01 32.9987 L1303.01 27.2059 L1310.14 27.2059 L1310.14 24.0462 Q1310.14 16.471 1313.67 13.0277 Q1317.19 9.54393 1324.85 9.54393 L1331.9 9.54393 Z\" fill=\"#000000\" fill-rule=\"nonzero\" fill-opacity=\"1\" /><path clip-path=\"url(#clip120)\" d=\"M1356.44 12.096 L1407.61 12.096 L1407.61 18.9825 L1386.14 18.9825 L1386.14 72.576 L1377.91 72.576 L1377.91 18.9825 L1356.44 18.9825 L1356.44 12.096 Z\" fill=\"#000000\" fill-rule=\"nonzero\" fill-opacity=\"1\" /><path clip-path=\"url(#clip120)\" d=\"M1421.14 76.7889 Q1417.98 84.8907 1414.98 87.3618 Q1411.98 89.8329 1406.96 89.8329 L1401 89.8329 L1401 83.5945 L1405.38 83.5945 Q1408.46 83.5945 1410.16 82.1361 Q1411.86 80.6778 1413.93 75.2496 L1415.26 71.8468 L1396.91 27.2059 L1404.81 27.2059 L1418.99 62.6918 L1433.17 27.2059 L1441.07 27.2059 L1421.14 76.7889 Z\" fill=\"#000000\" fill-rule=\"nonzero\" fill-opacity=\"1\" /><path clip-path=\"url(#clip120)\" d=\"M1458.57 65.7705 L1458.57 89.8329 L1451.07 89.8329 L1451.07 27.2059 L1458.57 27.2059 L1458.57 34.0924 Q1460.92 30.0415 1464.48 28.0971 Q1468.09 26.1121 1473.07 26.1121 Q1481.33 26.1121 1486.48 32.6746 Q1491.66 39.2371 1491.66 49.9314 Q1491.66 60.6258 1486.48 67.1883 Q1481.33 73.7508 1473.07 73.7508 Q1468.09 73.7508 1464.48 71.8063 Q1460.92 69.8214 1458.57 65.7705 M1483.93 49.9314 Q1483.93 41.7081 1480.52 37.0496 Q1477.16 32.3505 1471.25 32.3505 Q1465.33 32.3505 1461.93 37.0496 Q1458.57 41.7081 1458.57 49.9314 Q1458.57 58.1548 1461.93 62.8538 Q1465.33 67.5124 1471.25 67.5124 Q1477.16 67.5124 1480.52 62.8538 Q1483.93 58.1548 1483.93 49.9314 Z\" fill=\"#000000\" fill-rule=\"nonzero\" fill-opacity=\"1\" /><path clip-path=\"url(#clip120)\" d=\"M1542.83 48.0275 L1542.83 51.6733 L1508.56 51.6733 Q1509.04 59.3701 1513.17 63.421 Q1517.35 67.4314 1524.76 67.4314 Q1529.05 67.4314 1533.06 66.3781 Q1537.11 65.3249 1541.08 63.2184 L1541.08 70.267 Q1537.07 71.9684 1532.86 72.8596 Q1528.65 73.7508 1524.31 73.7508 Q1513.46 73.7508 1507.1 67.4314 Q1500.78 61.1119 1500.78 50.3365 Q1500.78 39.1965 1506.77 32.6746 Q1512.81 26.1121 1523.02 26.1121 Q1532.17 26.1121 1537.48 32.0264 Q1542.83 37.9003 1542.83 48.0275 M1535.37 45.84 Q1535.29 39.7232 1531.93 36.0774 Q1528.61 32.4315 1523.1 32.4315 Q1516.86 32.4315 1513.09 35.9558 Q1509.37 39.4801 1508.8 45.8805 L1535.37 45.84 Z\" fill=\"#000000\" fill-rule=\"nonzero\" fill-opacity=\"1\" /><path clip-path=\"url(#clip120)\" d=\"M1583.98 28.5427 L1583.98 35.5912 Q1580.82 33.9709 1577.42 33.1607 Q1574.02 32.3505 1570.37 32.3505 Q1564.82 32.3505 1562.03 34.0519 Q1559.27 35.7533 1559.27 39.156 Q1559.27 41.7486 1561.26 43.2475 Q1563.24 44.7058 1569.24 46.0426 L1571.79 46.6097 Q1579.73 48.3111 1583.05 51.4303 Q1586.41 54.509 1586.41 60.0587 Q1586.41 66.3781 1581.39 70.0644 Q1576.41 73.7508 1567.66 73.7508 Q1564.01 73.7508 1560.04 73.0216 Q1556.11 72.3329 1551.74 70.9151 L1551.74 63.2184 Q1555.87 65.3654 1559.88 66.4591 Q1563.89 67.5124 1567.82 67.5124 Q1573.09 67.5124 1575.92 65.73 Q1578.76 63.9071 1578.76 60.6258 Q1578.76 57.5877 1576.69 55.9673 Q1574.67 54.3469 1567.74 52.8481 L1565.15 52.2405 Q1558.22 50.7821 1555.14 47.7845 Q1552.06 44.7463 1552.06 39.4801 Q1552.06 33.0797 1556.6 29.5959 Q1561.14 26.1121 1569.48 26.1121 Q1573.61 26.1121 1577.26 26.7198 Q1580.9 27.3274 1583.98 28.5427 Z\" fill=\"#000000\" fill-rule=\"nonzero\" fill-opacity=\"1\" /><polyline clip-path=\"url(#clip122)\" style=\"stroke:#009af9; stroke-linecap:round; stroke-linejoin:round; stroke-width:4; stroke-opacity:1; fill:none\" points=\"309.067,1386.4 312.296,1386.04 315.526,1385.66 318.755,1385.27 321.985,1384.87 351.846,1380.27 381.708,1373.79 411.569,1364.86 441.43,1352.84 459.376,1343.82 477.321,1333.27 495.267,1321.02 513.212,1306.92 528.385,1293.43 543.557,1278.43 558.73,1261.83 573.903,1243.58 590.384,1221.84 606.866,1198.05 623.348,1172.2 639.83,1144.3 655.024,1116.82 670.219,1087.7 685.414,1057.02 700.609,1024.89 716.899,988.98 733.189,951.736 749.48,913.369 765.77,874.108 803.518,781.102 841.266,687.954 858.039,647.392 874.812,607.734 891.584,569.235 908.357,532.129 923.066,500.897 937.774,471.011 952.482,442.569 967.191,415.65 983.227,388.105 999.263,362.486 1015.3,338.814 1031.34,317.084 1047.47,297.153 1063.6,279.105 1079.73,262.871 1095.86,248.363 1113.7,234.214 1131.53,221.91 1149.37,211.296 1167.2,202.214 1184.17,194.85 1201.14,188.595 1218.11,183.321 1235.08,178.907 1270.37,171.998 1305.66,167.44 1335.37,164.902 1365.07,163.199 1437.61,161.141 1504.05,160.52 1565.42,160.335 1627.59,160.277 1697.26,160.261 1760.39,160.257 1832.67,160.256 1899.6,160.256 1965.58,160.256 2029.64,160.256 2095.31,160.256 2167.27,160.256 2271.79,160.256 2293.23,160.256 \"/>\n",
       "<polyline clip-path=\"url(#clip122)\" style=\"stroke:#e26f46; stroke-linecap:round; stroke-linejoin:round; stroke-width:4; stroke-opacity:1; fill:none\" points=\"309.067,1386.4 321.985,1386.39 441.43,1386.13 513.212,1385.37 573.903,1383.58 606.866,1381.71 639.83,1378.79 670.219,1374.8 700.609,1369.07 733.189,1360.39 765.77,1348.29 784.644,1339.35 803.518,1328.79 822.392,1316.4 841.266,1302 858.039,1287.38 874.812,1270.92 891.584,1252.53 908.357,1232.12 923.066,1212.52 937.774,1191.3 952.482,1168.45 967.191,1143.98 983.227,1115.49 999.263,1085.17 1015.3,1053.12 1031.34,1019.46 1047.47,984.129 1063.6,947.492 1079.73,909.757 1095.86,871.144 1131.53,783.864 1167.2,696.246 1184.17,655.258 1201.14,615.116 1218.11,576.087 1235.08,538.418 1252.73,500.927 1270.37,465.348 1288.01,431.85 1305.66,400.559 1320.51,375.994 1335.37,353.082 1350.22,331.831 1365.07,312.23 1383.21,290.497 1401.34,271.103 1419.47,253.941 1437.61,238.879 1454.22,226.8 1470.83,216.238 1487.44,207.068 1504.05,199.162 1534.74,187.457 1565.42,178.874 1596.51,172.664 1627.59,168.344 1697.26,163.113 1760.39,161.265 1832.67,160.529 1899.6,160.329 1965.58,160.274 2029.64,160.26 2095.31,160.257 2167.27,160.256 2271.79,160.256 2293.23,160.256 \"/>\n",
       "<polyline clip-path=\"url(#clip122)\" style=\"stroke:#3da44d; stroke-linecap:round; stroke-linejoin:round; stroke-width:4; stroke-opacity:1; fill:none\" points=\"309.067,1386.4 321.985,1386.4 441.43,1386.4 513.212,1386.39 573.903,1386.39 639.83,1386.38 700.609,1386.33 765.77,1386.14 841.266,1385.4 908.357,1383.39 967.191,1379.13 999.263,1375.03 1031.34,1369.05 1063.6,1360.46 1095.86,1348.53 1113.7,1340.18 1131.53,1330.38 1149.37,1318.97 1167.2,1305.81 1184.17,1291.51 1201.14,1275.36 1218.11,1257.26 1235.08,1237.12 1252.73,1213.93 1270.37,1188.41 1288.01,1160.55 1305.66,1130.38 1320.51,1103.22 1335.37,1074.53 1350.22,1044.38 1365.07,1012.89 1383.21,972.782 1401.34,931.109 1419.47,888.167 1437.61,844.286 1470.83,762.63 1504.05,681.271 1519.4,644.426 1534.74,608.332 1550.08,573.185 1565.42,539.164 1580.96,506.013 1596.51,474.326 1612.05,444.224 1627.59,415.801 1645.01,386.03 1662.42,358.519 1679.84,333.29 1697.26,310.332 1713.04,291.454 1728.82,274.351 1744.61,258.954 1760.39,245.182 1778.46,231.286 1796.53,219.242 1814.6,208.891 1832.67,200.067 1849.4,193.116 1866.13,187.209 1882.87,182.225 1899.6,178.048 1932.59,171.776 1965.58,167.528 1997.61,164.795 2029.64,163.019 2095.31,161.175 2167.27,160.49 2271.79,160.268 2293.23,160.256 \"/>\n",
       "<polyline clip-path=\"url(#clip122)\" style=\"stroke:#c271d2; stroke-linecap:round; stroke-linejoin:round; stroke-width:4; stroke-opacity:1; fill:none\" points=\"309.067,1386.4 321.985,1386.4 441.43,1386.4 513.212,1386.4 573.903,1386.4 639.83,1386.4 700.609,1386.4 765.77,1386.4 841.266,1386.39 908.357,1386.39 967.191,1386.38 1031.34,1386.33 1095.86,1386.14 1167.2,1385.47 1235.08,1383.55 1270.37,1381.5 1305.66,1378.23 1335.37,1374.1 1365.07,1368.25 1383.21,1363.61 1401.34,1358 1419.47,1351.26 1437.61,1343.25 1454.22,1334.64 1470.83,1324.7 1487.44,1313.29 1504.05,1300.29 1519.4,1286.77 1534.74,1271.7 1550.08,1255.01 1565.42,1236.63 1580.96,1216.24 1596.51,1194.04 1612.05,1170.01 1627.59,1144.15 1645.01,1113.06 1662.42,1079.79 1679.84,1044.49 1697.26,1007.3 1713.04,972.152 1728.82,935.795 1744.61,898.427 1760.39,860.265 1796.53,771.13 1832.67,681.942 1849.4,641.448 1866.13,601.842 1882.87,563.38 1899.6,526.292 1916.09,491.272 1932.59,457.953 1949.08,426.47 1965.58,396.928 1981.6,370.169 1997.61,345.343 2013.63,322.459 2029.64,301.504 2046.06,281.983 2062.48,264.385 2078.9,248.63 2095.31,234.62 2113.3,221.145 2131.29,209.481 2149.28,199.468 2167.27,190.942 2193.4,180.875 2219.53,173.133 2245.66,167.281 2271.79,162.934 2277.15,162.197 2282.51,161.507 2287.87,160.861 2293.23,160.256 \"/>\n",
       "</svg>\n"
      ]
     },
     "metadata": {},
     "output_type": "display_data"
    }
   ],
   "source": [
    "select_type = 1\n",
    "cdfs = plot(truncated(Normal(μ[select_type], σ[select_type]), 0, 1), func = cdf, title = \"CDFs of Types\", legend = nothing)\n",
    "for select_type in 2:num_departments # academic types\n",
    "    plot!(cdfs, truncated(Normal(μ[select_type], σ[select_type]), 0, 1), func = cdf)\n",
    "end\n",
    "\n",
    "xlabel!(cdfs, \"offer value\")\n",
    "ylabel!(cdfs, \"F(offer value)\")\n",
    "cdfs"
   ]
  },
  {
   "cell_type": "code",
   "execution_count": 69,
   "metadata": {},
   "outputs": [
    {
     "data": {
      "text/plain": [
       "print_metrics_maximum_likelihood (generic function with 1 method)"
      ]
     },
     "metadata": {},
     "output_type": "display_data"
    }
   ],
   "source": [
    "function print_metrics_maximum_likelihood(v_rel, α, μ, σ, ρ, β, placements, k, K, M)\n",
    "    Fx_vec = ones(k)\n",
    "    x_vec = ones(k+1)\n",
    "    x_vec[k+1] = 0.0\n",
    "    for t in 1:k-1\n",
    "        Fx_vec_candidate = Fx(t, α, v_rel)\n",
    "        if Fx_vec_candidate <= 0.0\n",
    "            Fx_vec[t+1:k] .= 0.0\n",
    "            x_vec[t+1:k] .= 0.0\n",
    "            break\n",
    "        end\n",
    "        Fx_vec[t+1] = Fx_vec_candidate\n",
    "        x_vec[t+1] = find_zero(x -> F(x, ρ, μ, σ, K) - Fx_vec[t+1], 0.5) \n",
    "    end\n",
    "\n",
    "    objective = 0.0\n",
    "    likelihood = 0.0\n",
    "    normalizer = 0.0\n",
    "    \n",
    "    q_it = zeros(K, k)\n",
    "    for i in 1:K, t in 1:k\n",
    "        prob = q(i, t, Fx_vec, x_vec, ρ, μ, σ, α, v_rel, k, K)\n",
    "        q_it[i, t] = prob\n",
    "        normalizer += ρ[i] * prob\n",
    "    end\n",
    "    \n",
    "    # TODO: div by zero and negative floating point in mean\n",
    "    D = sum([ρ[i] * (1 - sum([q_it[i, t] for t in 1:k])) for i in 1:K])\n",
    "    S = sum([α[t] * (1 - sum([ρ[i]*q_it[i, t] for i in 1:K])) for t in 1:k])\n",
    "    round_2 = zeros(K, k)\n",
    "    round_2_hiring = zeros(K, k)\n",
    "\n",
    "    for i in 1:K, t in 1:k\n",
    "        prob = (1 - sum([q_it[i, s] for s in 1:k])) * Q2(D/S, β) * α[t] * (1 - sum([ρ[j] * q_it[j, t] for j in 1:K])) / S\n",
    "        round_2[i, t] = prob\n",
    "        round_2_hiring[i, t] = Q2(D/S, β) * α[t] * (1 - sum([ρ[j] * q_it[j, t] for j in 1:K])) / S\n",
    "        normalizer += ρ[i] * prob\n",
    "    end\n",
    "\n",
    "    round_1_failure = zeros(K)\n",
    "    for i in 1:K\n",
    "        round_1_failure[i] = (1 - sum([q_it[i, s] for s in 1:k]))\n",
    "    end\n",
    "    \n",
    "    exp_placements_round_1 = zeros(K, k)\n",
    "    exp_placements_round_2 = zeros(K, k)\n",
    "    exp_placements = zeros(K, k)\n",
    "    for i in 1:K, t in 1:k \n",
    "        expectation = M * (ρ[i] * (q_it[i, t] + round_2[i, t]) / normalizer)\n",
    "        exp_placements_round_1[i, t] = M * (ρ[i] * q_it[i, t] / normalizer)\n",
    "        exp_placements_round_2[i, t] = M * (ρ[i] * round_2[i, t] / normalizer)\n",
    "        exp_placements[i, t] = expectation\n",
    "        objective += (placements[i, t] - expectation) ^ 2 / expectation\n",
    "        likelihood += placements[i, t] * (log(ρ[i] * (q_it[i, t] + round_2[i, t])))\n",
    "        likelihood -= log(factorial(big(placements[i, t])))\n",
    "    end\n",
    "    likelihood -= M * log(normalizer)\n",
    "\n",
    "    println(\"chi-square objective value = \", objective)\n",
    "    println(\"log-likelihood objective value = \", likelihood)\n",
    "    println(\"likelihood objective value = \", exp(likelihood))\n",
    "    println(\"success sample size (departments) = \", M)\n",
    "    println(\"estimated total samples (departments) = \", M / normalizer)\n",
    "    println(\"estimated unmatched departments = \", (M / normalizer) - M)\n",
    "    println(\"probability of any success: \", normalizer)\n",
    "    println(\"probability of no success: \", 1 - normalizer)\n",
    "    println(\"measure of departments in round 2 = \", D)\n",
    "    println(\"measure of graduates in round 2 = \", S)\n",
    "    println()\n",
    "    println(\"predicted fraction of departments of each tier:\")\n",
    "    display(ρ)\n",
    "    println()\n",
    "    println(\"fractions observed among successful departments in data:\")\n",
    "    display(sum(placements, dims = 2) ./ M)\n",
    "    println()\n",
    "\n",
    "    for i in 1:k\n",
    "        println(\"pi_\", i, \" = \", pi(i, α))\n",
    "    end\n",
    "    println()\n",
    "\n",
    "    offer_targets = zeros(k, k)\n",
    "    for t in 1:k, j in 1:t\n",
    "        offer_targets[t, j] = pi(j, α) * prod([1 - pi(i, α) for i in j+1:t])\n",
    "    end\n",
    "    println(\"Tier selection probabilities for making offers:\")\n",
    "    display(offer_targets)\n",
    "    println()\n",
    "\n",
    "    println(\"Round 1 hiring probabilities:\")\n",
    "    display(q_it)\n",
    "    println()\n",
    "\n",
    "    println(\"Probabilities of failing round 1\")\n",
    "    display(round_1_failure)\n",
    "    println()\n",
    "\n",
    "    println(\"Probabilities of failing round 1 and hiring in round 2:\")\n",
    "    display(round_2)\n",
    "    println()\n",
    "\n",
    "    println(\"Round 2 hiring probabilities:\")\n",
    "    display(round_2_hiring)\n",
    "    println()\n",
    "\n",
    "    for i in 1:k+1\n",
    "        println(\"x_\", i - 1, \" = \", x_vec[i])\n",
    "    end\n",
    "    println()\n",
    "    for i in 1:k\n",
    "        println(\"F(x_\", i - 1, \") = \", Fx_vec[i])\n",
    "    end\n",
    "    println()\n",
    "    for i in 1:k\n",
    "        println(\"α_\", i, \" = \", α[i])\n",
    "        println(\"  Est. graduates: \", α[i] * (M / normalizer - 1))\n",
    "        println(\"  Successful: \", sum(placements[:, i]))\n",
    "        println(\"  Unsuccessful: \", (α[i] * (M / normalizer - 1)) - sum(placements[:, i]))\n",
    "    end\n",
    "    println(\"Total estimated graduates: \", sum(α) * (M / normalizer - 1))\n",
    "    println(\"Total successful graduates: \", M)\n",
    "    println(\"Total estimated unsuccessful graduates: \", (sum(α) * (M / normalizer - 1)) - M)\n",
    "    println(\"β = \", β)\n",
    "    println()\n",
    "    println(\"estimated placement rates, round 1 only:\")\n",
    "    display(exp_placements_round_1)\n",
    "    println()\n",
    "    println(\"estimated placement rates, round 2 only:\")\n",
    "    display(exp_placements_round_2)\n",
    "    println()\n",
    "    println(\"estimated placement rates, cumulative:\")\n",
    "    display(exp_placements)\n",
    "    println()\n",
    "    println(\"actual placement rates:\")\n",
    "    display(placements)\n",
    "    println()\n",
    "    println(\"difference between estimated and actual placement rates:\")\n",
    "    display(exp_placements - placements)\n",
    "    println()\n",
    "    println(\"chi-square p-value\")\n",
    "    println(1 - cdf(Chisq((size(placements)[1] - 1) * (size(placements)[2] - 1)), objective))\n",
    "end"
   ]
  },
  {
   "cell_type": "code",
   "execution_count": 76,
   "metadata": {},
   "outputs": [
    {
     "data": {
      "text/plain": [
       "4-element Vector{Float64}:\n",
       " 0.25\n",
       " 0.25\n",
       " 0.25\n",
       " 0.25"
      ]
     },
     "metadata": {},
     "output_type": "display_data"
    },
    {
     "data": {
      "text/plain": [
       "4×1 Matrix{Float64}:\n",
       " 0.1878\n",
       " 0.2112\n",
       " 0.2664\n",
       " 0.3346"
      ]
     },
     "metadata": {},
     "output_type": "display_data"
    },
    {
     "data": {
      "text/plain": [
       "4×4 Matrix{Float64}:\n",
       " 1.0       0.0       0.0       0.0\n",
       " 0.571429  0.428571  0.0       0.0\n",
       " 0.444444  0.333333  0.222222  0.0\n",
       " 0.4       0.3       0.2       0.1"
      ]
     },
     "metadata": {},
     "output_type": "display_data"
    },
    {
     "data": {
      "text/plain": [
       "4×4 Matrix{Float64}:\n",
       " 0.134619  0.131693  0.126114   0.0422842\n",
       " 0.182086  0.177992  0.158547   0.0035786\n",
       " 0.287601  0.258718  0.104788   2.72366e-5\n",
       " 0.570762  0.215903  0.0121778  1.52943e-8"
      ]
     },
     "metadata": {},
     "output_type": "display_data"
    },
    {
     "data": {
      "text/plain": [
       "4-element Vector{Float64}:\n",
       " 0.5652895317998161\n",
       " 0.4777968734026079\n",
       " 0.34886673883496433\n",
       " 0.20115661934370754"
      ]
     },
     "metadata": {},
     "output_type": "display_data"
    },
    {
     "data": {
      "text/plain": [
       "4×4 Matrix{Float64}:\n",
       " 0.0  0.0  0.0  0.0\n",
       " 0.0  0.0  0.0  0.0\n",
       " 0.0  0.0  0.0  0.0\n",
       " 0.0  0.0  0.0  0.0"
      ]
     },
     "metadata": {},
     "output_type": "display_data"
    },
    {
     "data": {
      "text/plain": [
       "4×4 Matrix{Float64}:\n",
       " 0.0  0.0  0.0  0.0\n",
       " 0.0  0.0  0.0  0.0\n",
       " 0.0  0.0  0.0  0.0\n",
       " 0.0  0.0  0.0  0.0"
      ]
     },
     "metadata": {},
     "output_type": "display_data"
    },
    {
     "data": {
      "text/plain": [
       "4×4 Matrix{Float64}:\n",
       "  559.308   547.149  523.972   175.68\n",
       "  756.518   739.511  658.72     14.8682\n",
       " 1194.91   1074.9    435.365     0.113161\n",
       " 2371.37    897.021   50.5954    6.35437e-5"
      ]
     },
     "metadata": {},
     "output_type": "display_data"
    },
    {
     "data": {
      "text/plain": [
       "4×4 Matrix{Float64}:\n",
       " 0.0  0.0  0.0  0.0\n",
       " 0.0  0.0  0.0  0.0\n",
       " 0.0  0.0  0.0  0.0\n",
       " 0.0  0.0  0.0  0.0"
      ]
     },
     "metadata": {},
     "output_type": "display_data"
    },
    {
     "data": {
      "text/plain": [
       "4×4 Matrix{Float64}:\n",
       "  559.308   547.149  523.972   175.68\n",
       "  756.518   739.511  658.72     14.8682\n",
       " 1194.91   1074.9    435.365     0.113161\n",
       " 2371.37    897.021   50.5954    6.35437e-5"
      ]
     },
     "metadata": {},
     "output_type": "display_data"
    },
    {
     "data": {
      "text/plain": [
       "4×4 Matrix{Float64}:\n",
       "  566.0   576.0  576.0  160.0\n",
       "  735.0   725.0  633.0   19.0\n",
       " 1154.0  1080.0  430.0    0.0\n",
       " 2394.0   910.0   42.0    0.0"
      ]
     },
     "metadata": {},
     "output_type": "display_data"
    },
    {
     "data": {
      "text/plain": [
       "4×4 Matrix{Float64}:\n",
       "  -6.69216  -28.8513   -52.0281   15.6799\n",
       "  21.5183    14.5109    25.7201   -4.13184\n",
       "  40.9061    -5.09576    5.36502   0.113161\n",
       " -22.6315   -12.9785     8.59541   6.35437e-5"
      ]
     },
     "metadata": {},
     "output_type": "display_data"
    },
    {
     "name": "stdout",
     "output_type": "stream",
     "text": [
      "chi-square objective value = 14.68417962168456\n",
      "log-likelihood objective value = -82166.18840570367036959388653689802509163940831357662471514848789191299511771753\n",
      "likelihood objective value = 4.761857336356147731308699814475983716511909335534749365140483596798988074998321e-35685\n",
      "success sample size (departments) = 10000\n",
      "estimated total samples (departments) = 16618.954778839554\n",
      "estimated unmatched departments = 6618.954778839554\n",
      "probability of any success: 0.601722559154726\n",
      "probability of no success: 0.39827744084527394\n",
      "measure of departments in round 2 = 0.39827744084527394\n",
      "measure of graduates in round 2 = 0.8024416920811497\n",
      "\n",
      "predicted fraction of departments of each tier:\n",
      "\n",
      "fractions observed among successful departments in data:\n",
      "\n",
      "pi_1 = 1.0\n",
      "pi_2 = 0.4285714285714286\n",
      "pi_3 = 0.22222222222222227\n",
      "pi_4 = 0.10000000000000002\n",
      "\n",
      "Tier selection probabilities for making offers:\n",
      "\n",
      "Round 1 hiring probabilities:\n",
      "\n",
      "Probabilities of failing round 1\n",
      "\n",
      "Probabilities of failing round 1 and hiring in round 2:\n",
      "\n",
      "Round 2 hiring probabilities:\n",
      "\n",
      "x_0 = 1.0\n",
      "x_1 = 0.7750490745883004\n",
      "x_2 = 0.5931471047743379\n",
      "x_3 = 0.23828122274274324\n",
      "x_4 = 0.0\n",
      "\n",
      "F(x_0) = 1.0\n",
      "F(x_1) = 0.8937187337067978\n",
      "F(x_2) = 0.6396848881242398\n",
      "F(x_3) = 0.12185715771103423\n",
      "\n",
      "α_1 = 0.4\n",
      "  Est. graduates: 6647.181911535822\n",
      "  Successful: 4849.0\n",
      "  Unsuccessful: 1798.181911535822\n",
      "α_2 = 0.3\n",
      "  Est. graduates: 4985.386433651866\n",
      "  Successful: 3291.0\n",
      "  Unsuccessful: 1694.3864336518664\n",
      "α_3 = 0.2\n",
      "  Est. graduates: 3323.590955767911\n",
      "  Successful: 1681.0\n",
      "  Unsuccessful: 1642.590955767911\n",
      "α_4 = 0.1\n",
      "  Est. graduates: 1661.7954778839555\n",
      "  Successful: 179.0\n",
      "  Unsuccessful: 1482.7954778839555\n",
      "Total estimated graduates: 16617.95477883955\n",
      "Total successful graduates: 10000\n",
      "Total estimated unsuccessful graduates: 6617.95477883955\n",
      "β = 0.0\n",
      "\n",
      "estimated placement rates, round 1 only:\n",
      "\n",
      "estimated placement rates, round 2 only:\n",
      "\n",
      "estimated placement rates, cumulative:\n",
      "\n",
      "actual placement rates:\n",
      "\n",
      "difference between estimated and actual placement rates:\n",
      "\n",
      "chi-square p-value\n",
      "0.09998438157626\n",
      "v_2/v_1 = 0.7666666666666667\n",
      "v_3/v_2 = 0.6956521739130435\n",
      "v_4/v_3 = 0.5625\n",
      "v1: 1.0\n",
      "v2: 0.7666666666666667\n",
      "v3: 0.5333333333333333\n",
      "v4: "
     ]
    },
    {
     "name": "stdout",
     "output_type": "stream",
     "text": [
      "0.3\n",
      "mean for type 1: 0.2517637825486672\n",
      "stddev for type 1: 0.09775450595205172\n",
      "\n",
      "mean for type 2: 0.41667344144355745\n",
      "stddev for type 2: 0.09998587651041925\n",
      "\n",
      "mean for type 3: 0.5833265585564426\n",
      "stddev for type 3: 0.09998587651041925\n",
      "\n",
      "mean for type 4: 0.7482362174513327\n",
      "stddev for type 4: 0.09775450595205172\n",
      "\n"
     ]
    }
   ],
   "source": [
    "print_metrics_maximum_likelihood(v_rel, α, μ, σ, ρ, β, placements, num_graduates, num_departments, M)\n",
    "\n",
    "for i in 1:num_graduates-1\n",
    "    println(\"v_\", i + 1, \"/v_\", i, \" = \", v_rel[i])\n",
    "end\n",
    "\n",
    "for i in 1:num_graduates\n",
    "    println(\"v\", i, \": \", v_base[i])\n",
    "end\n",
    "\n",
    "for select_type in 1:num_departments\n",
    "    println(\"mean for type \", select_type, \": \", mean(truncated(Normal(μ[select_type], σ[select_type]), 0, 1)))\n",
    "    println(\"stddev for type \", select_type, \": \", std(truncated(Normal(μ[select_type], σ[select_type]), 0, 1)))\n",
    "    println()\n",
    "end"
   ]
  }
 ],
 "metadata": {
  "kernelspec": {
   "display_name": "Julia 1.9.3",
   "language": "julia",
   "name": "julia-1.9"
  },
  "language_info": {
   "file_extension": ".jl",
   "mimetype": "application/julia",
   "name": "julia",
   "version": "1.9.3"
  }
 },
 "nbformat": 4,
 "nbformat_minor": 2
}
