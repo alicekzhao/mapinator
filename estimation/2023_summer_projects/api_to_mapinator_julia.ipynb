{
 "cells": [
  {
   "cell_type": "code",
   "execution_count": 1,
   "id": "671bda77-3aad-4e9f-a478-a5e92f1cfc44",
   "metadata": {},
   "outputs": [
    {
     "data": {
      "text/plain": [
       "\"SBM API Data Filter (Julia Version)\\nAdapted from James Yuming Yu (5 June 2023)\\n\\nSilas Kwok, 31 July 2023\\n\""
      ]
     },
     "execution_count": 1,
     "metadata": {},
     "output_type": "execute_result"
    }
   ],
   "source": [
    "\"\"\"\n",
    "SBM API Data Filter (Julia Version)\n",
    "Adapted from James Yuming Yu (5 June 2023)\n",
    "\n",
    "Silas Kwok, 31 July 2023\n",
    "\"\"\""
   ]
  },
  {
   "cell_type": "code",
   "execution_count": 2,
   "id": "bcd6d7ef-46ed-4d6c-aba7-d25639b667fb",
   "metadata": {},
   "outputs": [],
   "source": [
    "#Pkg.add(\"ConfigEnv\")\n",
    "#Pkg.add(\"DotEnv\")\n",
    "#Pkg.add(\"HTTP\")\n",
    "#Pkg.add(\"URIs\")\n",
    "#Pkg.add(\"JSON\")\n",
    "#Pkg.add(\"JSON\")\n",
    "#Pkg.add(\"Dates\")\n",
    "#Pkg.add(\"DataStructures\")\n",
    "\n",
    "using Pkg, DotEnv, HTTP, URIs, JSON, Dates, DataStructures"
   ]
  },
  {
   "cell_type": "code",
   "execution_count": 3,
   "id": "9255368c-8e97-447a-9430-01d2ee23cd9e",
   "metadata": {},
   "outputs": [
    {
     "data": {
      "text/plain": [
       "matches (generic function with 1 method)"
      ]
     },
     "execution_count": 3,
     "metadata": {},
     "output_type": "execute_result"
    }
   ],
   "source": [
    "function matches(keywords, phrase)\n",
    "    # checks if any of the keywords are in the phrase\n",
    "    for keyword in keywords\n",
    "        if occursin(keyword, phrase)\n",
    "            return true\n",
    "        end\n",
    "    end\n",
    "    return false\n",
    "end"
   ]
  },
  {
   "cell_type": "code",
   "execution_count": 4,
   "id": "7815c93e-f958-4c34-b28d-fd14010dc761",
   "metadata": {},
   "outputs": [
    {
     "name": "stdout",
     "output_type": "stream",
     "text": [
      "........\n",
      "to_shortname => Economics, Tsinghua University\n",
      "created_at => 2019-07-02 15:40:46\n",
      "to_name => Tsinghua University\n",
      "to_department => Department of Economics, School of Economics and Management\n",
      "to_latitude => 39.999567\n",
      "name => Development; Growth\n",
      "category_id => 1\n",
      "from_shortname => Economics, Univ of Michigan\n",
      "to_oid => 623\n",
      "description => Academic organization (economics department)\n",
      "startdate => 2010-01-01\n",
      "recruiter_type => 1\n",
      "from_oid => 186\n",
      "position_name => Associate Professor\n",
      "rank => 14\n",
      "created_by => 10\n",
      "aid => 2121\n",
      "to_institution_id => 535\n",
      "postype => 2\n",
      "latitude => 42.2738566\n",
      "to_longitude => 116.331991\n",
      "from_institution_id => 4173\n",
      "to_rank => 86\n",
      "longitude => -83.7375824\n",
      "from_department => Department of Economics\n",
      "from_institution_name => University of Michigan\n",
      "........\n"
     ]
    }
   ],
   "source": [
    "mapinator_data = HTTP.get(\"https://support.econjobmarket.org/api/mapinator\", timeout = 120)\n",
    "placements = JSON.parse(String(mapinator_data.body))\n",
    "\n",
    "n = 0\n",
    "for p in placements\n",
    "    if n < 1\n",
    "        println(\"........\")\n",
    "        for(key, value) in p\n",
    "            println(key, \" => \", value)\n",
    "        end\n",
    "        println(\"........\")\n",
    "    end\n",
    "    n += 1\n",
    "end"
   ]
  },
  {
   "cell_type": "code",
   "execution_count": 5,
   "id": "b97d2335-72b2-4087-94d1-e1aab023878a",
   "metadata": {},
   "outputs": [
    {
     "data": {
      "text/plain": [
       "process_data (generic function with 1 method)"
      ]
     },
     "execution_count": 5,
     "metadata": {},
     "output_type": "execute_result"
    }
   ],
   "source": [
    "function process_data(DEBUG_LEVEL)\n",
    "    # STEP 1a: retrieve the placement outcomes\n",
    "    # NOTE: request times out after 120 seconds. If the data takes longer than 120s to download, adjust the timeout.\n",
    "    try\n",
    "        mapinator_data = HTTP.get(\"https://support.econjobmarket.org/api/mapinator\", timeout = 120)\n",
    "        placements = JSON.parse(String(mapinator_data.body))\n",
    "    catch e\n",
    "        error(\"Failed to retrieve data from the API: $e\")\n",
    "    end\n",
    "\n",
    "    # STEP 1b: group placements by applicant ID and eliminate \"oid 893\" positions (Ocean and Crow)\n",
    "    # TODO: are the json fields strictly typed? is there a way to easily compensate if the variable types change?\n",
    "\n",
    "    applicant_outcomes = Dict{Any, Vector}()\n",
    "    applicant_ids = Set{Any}()\n",
    "    num_outcomes_selected = 0\n",
    "\n",
    "    for outcome in placements\n",
    "        push!(applicant_ids, outcome[\"aid\"])\n",
    "        if outcome[\"to_oid\"] != 893\n",
    "            push!(get!(applicant_outcomes, outcome[\"aid\"], Vector()), outcome)\n",
    "            num_outcomes_selected += 1\n",
    "        end\n",
    "    end\n",
    "\n",
    "    if DEBUG_LEVEL > 0\n",
    "        println(\"  \", length(placements), \" total placement outcomes\")\n",
    "        println(\"- \", length(placements) - num_outcomes_selected, \" outcomes at Ocean and Crow\")\n",
    "        println(\"  \", num_outcomes_selected, \" outcomes not at Ocean and Crow\")\n",
    "        println()\n",
    "        println(\"  \", length(applicant_ids), \" total applicants with placements\")\n",
    "        println(\"- \", length(applicant_ids) - length(applicant_outcomes), \" total applicants with exclusively outcomes at Ocean and Crow\")\n",
    "        println(\"  \", length(applicant_outcomes), \" applicants with outcomes not at Ocean and Crow\")\n",
    "        println()\n",
    "    end\n",
    "    # --------------------------------------------------------------------------------------------------------------------------------------------\n",
    "\n",
    "    # STEP 2a: determine the first placement outcome of each individual that occurred after the individual graduated\n",
    "    # we need to know what the first outcome is BEFORE we filter on types of outcomes, as otherwise we will get incorrectly-identified \"first-time positions\"\n",
    "\n",
    "    # STEP 2b: remove postdoc outcomes so applicants with postdoc positions aren't automatically removed from the data\n",
    "    # postdocs are concurrent so the placements are redundant on top of e.g. concurrently-awarded assistant professor positions\n",
    "\n",
    "    postdoc_counter = 0\n",
    "    finalized_applicant_outcomes = Dict{Any, Any}()\n",
    "\n",
    "    for applicant_id in keys(applicant_outcomes)\n",
    "        for outcome in applicant_outcomes[applicant_id]\n",
    "            if outcome[\"position_name\"] != \"Post-Doc\"\n",
    "                if !haskey(finalized_applicant_outcomes, applicant_id)\n",
    "                    # just add the outcome if the applicant doesn't have any yet\n",
    "                    finalized_applicant_outcomes[applicant_id] = outcome\n",
    "                else\n",
    "                    # otherwise, the applicant does have at least one other outcome\n",
    "                    if outcome[\"startdate\"] < finalized_applicant_outcomes[applicant_id][\"startdate\"]\n",
    "                        # take the earliest outcome of the two and ignore the other\n",
    "                        finalized_applicant_outcomes[applicant_id] = outcome\n",
    "                    elseif outcome[\"startdate\"] == finalized_applicant_outcomes[applicant_id][\"startdate\"]\n",
    "                        # sometimes we may have multiple outcomes that started on the same date - follow priority listing\n",
    "                        if outcome[\"position_name\"] in [\"Assistant Professor\"]\n",
    "                            finalized_applicant_outcomes[applicant_id] = outcome\n",
    "                        elseif outcome[\"position_name\"] in [\"Consultant\"] && !(finalized_applicant_outcomes[applicant_id][\"position_name\"] in [\"Assistant Professor\"])\n",
    "                            finalized_applicant_outcomes[applicant_id] = outcome\n",
    "                        elseif outcome[\"position_name\"] in [\"Other Academic\", \"Other Non-Academic\"] && !(finalized_applicant_outcomes[applicant_id][\"position_name\"] in [\"Assistant Professor\", \"Consultant\"])\n",
    "                            finalized_applicant_outcomes[applicant_id] = outcome\n",
    "                        end\n",
    "                    end\n",
    "                end\n",
    "            else\n",
    "                postdoc_counter += 1\n",
    "            end\n",
    "        end\n",
    "    end\n",
    "\n",
    "    if DEBUG_LEVEL > 0\n",
    "        println(\"- \", length(applicant_outcomes) - length(finalized_applicant_outcomes), \" total applicants removed due to only being postdocs (\", \n",
    "            postdoc_counter, \" total postdoc placements detected)\")\n",
    "        println(\"  \", length(finalized_applicant_outcomes), \" total applicants ported to finalized collection\")\n",
    "        println()\n",
    "    end\n",
    "\n",
    "    # --------------------------------------------------------------------------------------------------------------------------------------------\n",
    "\n",
    "# STEP 3: eliminate everything except:\n",
    "    # - Assistant Professor\n",
    "    # - Consultant\n",
    "    # - Other Academic\n",
    "    # - Other Non-Academic\n",
    "    \n",
    "    valid_labels = Set([\"Assistant Professor\", \"Consultant\", \"Other Academic\", \"Other Non-Academic\"])\n",
    "\n",
    "    irrelevant_counter = 0\n",
    "    removed_labels = Set()\n",
    "\n",
    "    for applicant_id in copy(keys(finalized_applicant_outcomes))\n",
    "        outcome = finalized_applicant_outcomes[applicant_id]\n",
    "        if !(outcome[\"position_name\"] in valid_labels)\n",
    "            push!(removed_labels, outcome[\"position_name\"])\n",
    "            delete!(finalized_applicant_outcomes, applicant_id)\n",
    "            irrelevant_counter += 1\n",
    "        end\n",
    "    end\n",
    "    \n",
    "    if DEBUG_LEVEL > 0\n",
    "        println(\"- \", irrelevant_counter, \" irrelevant applicants removed from the following classes of positions:\")\n",
    "        println(removed_labels)\n",
    "        println(\"  \", length(finalized_applicant_outcomes), \" applicants remaining after irrelevant-position applicants removed:\")\n",
    "        maintained_labels = Dict{Any, Int}()\n",
    "        for applicant_id in keys(finalized_applicant_outcomes)\n",
    "            outcome = finalized_applicant_outcomes[applicant_id]\n",
    "            position_name = outcome[\"position_name\"]\n",
    "            if haskey(maintained_labels, position_name)\n",
    "                maintained_labels[position_name] += 1\n",
    "            else\n",
    "                maintained_labels[position_name] = 1\n",
    "            end\n",
    "        end\n",
    "    end\n",
    "\n",
    "    println(maintained_labels, \" \", sum(values(maintained_labels)), \" total\")\n",
    "    println()\n",
    "\n",
    "    \n",
    "    # --------------------------------------------------------------------------------------------------------------------------------------------\n",
    "\n",
    "    # STEP 4: filter-by-year\n",
    "\n",
    "    sorted_by_year = Dict{Any, Dict}()\n",
    "    removed_year_placed = 0\n",
    "\n",
    "    for applicant_id in copy(keys(finalized_applicant_outcomes))\n",
    "        outcome = finalized_applicant_outcomes[applicant_id]\n",
    "        # remove all 2022+ entries\n",
    "        if matches([\"2022\", \"2023\", \"2024\", \"2025\", \"2026\"], outcome[\"startdate\"])\n",
    "            removed_year_placed += 1\n",
    "            delete!(finalized_applicant_outcomes, applicant_id)\n",
    "        else\n",
    "            push!(get!(sorted_by_year, parse(Int, split(outcome[\"startdate\"], \"-\")[1]), Dict()), applicant_id => outcome)\n",
    "        end\n",
    "    end\n",
    "\n",
    "\n",
    "    if DEBUG_LEVEL > 0\n",
    "        println(\"- \", removed_year_placed, \" applicants removed due to placement in 2022/2023/2024\")\n",
    "        println(\"  \", length(finalized_applicant_outcomes), \" applicants remaining after year corrections\")\n",
    "        println()\n",
    "    end\n",
    "\n",
    "    result = Dict{Any, Any}()\n",
    "\n",
    "    for key in sort(collect(keys(sorted_by_year)))\n",
    "        println(\"Year \", key, \" has \", length(sorted_by_year[key]), \" placement outcomes\")\n",
    "        result[key] = sorted_by_year[key]\n",
    "    end\n",
    "\n",
    "    println()\n",
    "\n",
    "    # --------------------------------------------------------------------------------------------------------------------------------------------\n",
    "\n",
    "    # STEP 5: save to disk\n",
    "\n",
    "    total_check = sum(length(value) for value in values(sorted_by_year))\n",
    "    println(\"Total \" * \"$total_check\" * \" applicants in JSON file (compare to\" * \" $(length(finalized_applicant_outcomes)) \" \n",
    "        * \"applicants in finalized_applicant_outcomes: \" * \"$(length(finalized_applicant_outcomes) == total_check ? \"SUCCESS\" : \"FAIL\")\" * \")\")\n",
    "\n",
    "    json_str = JSON.json(Dict(result), 4)  \n",
    "    open(\"to_from_by_year_api.json\", \"w\") do f\n",
    "        write(f, json_str)\n",
    "    end\n",
    "    \n",
    "    # --------------------------------------------------------------------------------------------------------------------------------------------\n",
    "end"
   ]
  },
  {
   "cell_type": "code",
   "execution_count": 6,
   "id": "ab90f4ff-04bf-40f7-9a37-aba95fae38f3",
   "metadata": {},
   "outputs": [
    {
     "data": {
      "text/plain": [
       "main (generic function with 1 method)"
      ]
     },
     "execution_count": 6,
     "metadata": {},
     "output_type": "execute_result"
    }
   ],
   "source": [
    "function main(args)\n",
    "    # DEBUG LEVEL 0: no debug\n",
    "    # DEBUG LEVEL 1: basic counter printouts\n",
    "    DEBUG_LEVEL = 1\n",
    "    if length(args) > 1 && isnumeric(parse(Int, args[2])) && parse(Int, args[2]) in 0:1\n",
    "        DEBUG_LEVEL = parse(Int, args[2])\n",
    "    end\n",
    "\n",
    "    process_data(DEBUG_LEVEL)\n",
    "end"
   ]
  },
  {
   "cell_type": "code",
   "execution_count": 7,
   "id": "deebb291-33ca-46d4-901a-358ff9db69f1",
   "metadata": {},
   "outputs": [
    {
     "name": "stdout",
     "output_type": "stream",
     "text": [
      "  25521 total placement outcomes\n",
      "- 4331 outcomes at Ocean and Crow\n",
      "  21190 outcomes not at Ocean and Crow\n",
      "\n",
      "  18377 total applicants with placements\n",
      "- 3007 total applicants with exclusively outcomes at Ocean and Crow\n",
      "  15370 applicants with outcomes not at Ocean and Crow\n",
      "\n",
      "- 1737 total applicants removed due to only being postdocs (3335 total postdoc placements detected)\n",
      "  13633 total applicants ported to finalized collection\n",
      "\n",
      "- 1767 irrelevant applicants removed from the following classes of positions:\n",
      "Set(Any[\"Tenured Professor\", \"Untenured Professor\", \"Associate Professor\", \"Assistant, Associate or Full Professor\", \"Full Professor\", \"Professor Any Level\", \"Temporary Lecturer\", \"Visiting Professor/Lecturer/Instructor\", \"Assistant or Associate Professor\", \"Lecturer\"])\n",
      "  11866 applicants remaining after irrelevant-position applicants removed:\n",
      "Dict{Any, Int64}(\"Other Non-Academic\" => 2449, \"Consultant\" => 524, \"Other Academic\" => 1242, \"Assistant Professor\" => 7651) 11866 total\n",
      "\n",
      "- 1271 applicants removed due to placement in 2022/2023/2024\n",
      "  10595 applicants remaining after year corrections\n",
      "\n",
      "Year 2003 has 29 placement outcomes\n",
      "Year 2004 has 26 placement outcomes\n",
      "Year 2005 has 181 placement outcomes\n",
      "Year 2006 has 28 placement outcomes\n",
      "Year 2007 has 166 placement outcomes\n",
      "Year 2008 has 125 placement outcomes\n",
      "Year 2009 has 259 placement outcomes\n",
      "Year 2010 has 307 placement outcomes\n",
      "Year 2011 has 371 placement outcomes\n",
      "Year 2012 has 423 placement outcomes\n",
      "Year 2013 has 457 placement outcomes\n",
      "Year 2014 has 498 placement outcomes\n",
      "Year 2015 has 728 placement outcomes\n",
      "Year 2016 has 1443 placement outcomes\n",
      "Year 2017 has 1003 placement outcomes\n",
      "Year 2018 has 1061 placement outcomes\n",
      "Year 2019 has 1274 placement outcomes\n",
      "Year 2020 has 1228 placement outcomes\n",
      "Year 2021 has 988 placement outcomes\n",
      "\n",
      "Total 10595 applicants in JSON file (compare to 10595 applicants in finalized_applicant_outcomes: SUCCESS)\n"
     ]
    },
    {
     "data": {
      "text/plain": [
       "11998999"
      ]
     },
     "execution_count": 7,
     "metadata": {},
     "output_type": "execute_result"
    }
   ],
   "source": [
    "main(ARGS)\n"
   ]
  }
 ],
 "metadata": {
  "kernelspec": {
   "display_name": "Julia 1.8.3",
   "language": "julia",
   "name": "julia-1.8"
  },
  "language_info": {
   "file_extension": ".jl",
   "mimetype": "application/julia",
   "name": "julia",
   "version": "1.8.3"
  }
 },
 "nbformat": 4,
 "nbformat_minor": 5
}
